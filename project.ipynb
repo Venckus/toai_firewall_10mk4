{
 "metadata": {
  "language_info": {
   "codemirror_mode": {
    "name": "ipython",
    "version": 3
   },
   "file_extension": ".py",
   "mimetype": "text/x-python",
   "name": "python",
   "nbconvert_exporter": "python",
   "pygments_lexer": "ipython3",
   "version": "3.6.12-final"
  },
  "orig_nbformat": 2,
  "kernelspec": {
   "name": "python361264bitfc9e9ecad33e492fbe0dd8971c42f827",
   "display_name": "Python 3.6.12 64-bit"
  }
 },
 "nbformat": 4,
 "nbformat_minor": 2,
 "cells": [
  {
   "source": [
    "# Imports"
   ],
   "cell_type": "markdown",
   "metadata": {}
  },
  {
   "cell_type": "code",
   "execution_count": 13,
   "metadata": {
    "tags": []
   },
   "outputs": [
    {
     "output_type": "stream",
     "name": "stdout",
     "text": "CPU times: user 594 ms, sys: 139 ms, total: 733 ms\nWall time: 2.43 s\n"
    }
   ],
   "source": [
    "# %%time\n",
    "from os import listdir\n",
    "from os.path import isfile, join\n",
    "# from pprint import pprint \n",
    "import pandas as pd\n",
    "# import json"
   ]
  },
  {
   "source": [
    "# Read all files in `data` directory"
   ],
   "cell_type": "markdown",
   "metadata": {}
  },
  {
   "cell_type": "code",
   "execution_count": 24,
   "metadata": {
    "tags": []
   },
   "outputs": [
    {
     "output_type": "stream",
     "name": "stdout",
     "text": "[&#39;access.log.11&#39;, &#39;access.log.4&#39;, &#39;access.log.9&#39;, &#39;access.log.6&#39;, &#39;access.log.14&#39;, &#39;access.log.7&#39;, &#39;access.log.13&#39;, &#39;access.log&#39;, &#39;access.log.10&#39;, &#39;access.log.1&#39;, &#39;access.log.3&#39;, &#39;access.log.2&#39;, &#39;access.log.12&#39;, &#39;access.log.5&#39;, &#39;access.log.8&#39;]\n"
    }
   ],
   "source": [
    "# read all data files\n",
    "\n",
    "mypath = 'data'\n",
    "data_files = [f for f in listdir(mypath) if isfile(join(mypath, f))]\n",
    "print(data_files)"
   ]
  },
  {
   "source": [
    "## Add all files data into one Pandas dataframe"
   ],
   "cell_type": "markdown",
   "metadata": {}
  },
  {
   "cell_type": "code",
   "execution_count": 26,
   "metadata": {
    "tags": []
   },
   "outputs": [],
   "source": [
    "li = []\n",
    "for file in data_files:\n",
    "    tmp = pd.read_csv(f'{mypath}/{file}', sep='\\s+', header=None)\n",
    "    li.append(tmp)\n",
    "df = pd.concat(li, axis=0, ignore_index=True)"
   ]
  },
  {
   "source": [
    "# Explore and prepare data"
   ],
   "cell_type": "markdown",
   "metadata": {}
  },
  {
   "cell_type": "code",
   "execution_count": 27,
   "metadata": {},
   "outputs": [
    {
     "output_type": "execute_result",
     "data": {
      "text/plain": "                 0  1  2                      3       4  \\\n0    68.183.188.21  -  -  [15/Sep/2020:06:32:49  +0200]   \n1    68.183.188.21  -  -  [15/Sep/2020:06:32:50  +0200]   \n2   37.151.167.200  -  -  [15/Sep/2020:06:48:08  +0200]   \n3     45.141.84.72  -  -  [15/Sep/2020:06:49:30  +0200]   \n4  172.104.108.109  -  -  [15/Sep/2020:07:10:35  +0200]   \n\n                                                   5    6    7  8  \\\n0                 5\\xF8kk\\x1A!\\x91UB\\x94Q\\xA9:\\xC2wl  400  182  -   \n1                               \\x08\\x86w&lt;W\\xA00\\x5C  400  182  -   \n2                                     GET / HTTP/1.1  200  612  -   \n3  \\x03\\x00\\x00/*\\xE0\\x00\\x00\\x00\\x00\\x00Cookie: ...  400  182  -   \n4                                     GET / HTTP/1.1  200  396  -   \n\n                                                   9  \n0                                                  -  \n1                                                  -  \n2  Mozilla/5.0 (Macintosh; Intel Mac OS X 10_11_6...  \n3                                                  -  \n4                                        Mozilla/5.0  ",
      "text/html": "<div>\n<style scoped>\n    .dataframe tbody tr th:only-of-type {\n        vertical-align: middle;\n    }\n\n    .dataframe tbody tr th {\n        vertical-align: top;\n    }\n\n    .dataframe thead th {\n        text-align: right;\n    }\n</style>\n<table border=\"1\" class=\"dataframe\">\n  <thead>\n    <tr style=\"text-align: right;\">\n      <th></th>\n      <th>0</th>\n      <th>1</th>\n      <th>2</th>\n      <th>3</th>\n      <th>4</th>\n      <th>5</th>\n      <th>6</th>\n      <th>7</th>\n      <th>8</th>\n      <th>9</th>\n    </tr>\n  </thead>\n  <tbody>\n    <tr>\n      <th>0</th>\n      <td>68.183.188.21</td>\n      <td>-</td>\n      <td>-</td>\n      <td>[15/Sep/2020:06:32:49</td>\n      <td>+0200]</td>\n      <td>5\\xF8kk\\x1A!\\x91UB\\x94Q\\xA9:\\xC2wl</td>\n      <td>400</td>\n      <td>182</td>\n      <td>-</td>\n      <td>-</td>\n    </tr>\n    <tr>\n      <th>1</th>\n      <td>68.183.188.21</td>\n      <td>-</td>\n      <td>-</td>\n      <td>[15/Sep/2020:06:32:50</td>\n      <td>+0200]</td>\n      <td>\\x08\\x86w&lt;W\\xA00\\x5C</td>\n      <td>400</td>\n      <td>182</td>\n      <td>-</td>\n      <td>-</td>\n    </tr>\n    <tr>\n      <th>2</th>\n      <td>37.151.167.200</td>\n      <td>-</td>\n      <td>-</td>\n      <td>[15/Sep/2020:06:48:08</td>\n      <td>+0200]</td>\n      <td>GET / HTTP/1.1</td>\n      <td>200</td>\n      <td>612</td>\n      <td>-</td>\n      <td>Mozilla/5.0 (Macintosh; Intel Mac OS X 10_11_6...</td>\n    </tr>\n    <tr>\n      <th>3</th>\n      <td>45.141.84.72</td>\n      <td>-</td>\n      <td>-</td>\n      <td>[15/Sep/2020:06:49:30</td>\n      <td>+0200]</td>\n      <td>\\x03\\x00\\x00/*\\xE0\\x00\\x00\\x00\\x00\\x00Cookie: ...</td>\n      <td>400</td>\n      <td>182</td>\n      <td>-</td>\n      <td>-</td>\n    </tr>\n    <tr>\n      <th>4</th>\n      <td>172.104.108.109</td>\n      <td>-</td>\n      <td>-</td>\n      <td>[15/Sep/2020:07:10:35</td>\n      <td>+0200]</td>\n      <td>GET / HTTP/1.1</td>\n      <td>200</td>\n      <td>396</td>\n      <td>-</td>\n      <td>Mozilla/5.0</td>\n    </tr>\n  </tbody>\n</table>\n</div>"
     },
     "metadata": {},
     "execution_count": 27
    }
   ],
   "source": [
    "df.head()"
   ]
  },
  {
   "cell_type": "code",
   "execution_count": 28,
   "metadata": {},
   "outputs": [
    {
     "output_type": "execute_result",
     "data": {
      "text/plain": "(2900, 10)"
     },
     "metadata": {},
     "execution_count": 28
    }
   ],
   "source": [
    "df.shape"
   ]
  },
  {
   "source": [
    "### remove columns holding useless data '-'"
   ],
   "cell_type": "markdown",
   "metadata": {}
  },
  {
   "cell_type": "code",
   "execution_count": 29,
   "metadata": {},
   "outputs": [
    {
     "output_type": "execute_result",
     "data": {
      "text/plain": "count     2900\nunique       1\ntop          -\nfreq      2900\nName: 1, dtype: object"
     },
     "metadata": {},
     "execution_count": 29
    }
   ],
   "source": [
    "df[1].describe()"
   ]
  },
  {
   "cell_type": "code",
   "execution_count": 31,
   "metadata": {},
   "outputs": [
    {
     "output_type": "error",
     "ename": "IndexError",
     "evalue": "index 8 is out of bounds for axis 0 with size 6",
     "traceback": [
      "\u001b[0;31m---------------------------------------------------------------------------\u001b[0m",
      "\u001b[0;31mIndexError\u001b[0m                                Traceback (most recent call last)",
      "\u001b[0;32m&lt;ipython-input-31-5df0ffef6e72&gt;\u001b[0m in \u001b[0;36m&lt;module&gt;\u001b[0;34m\u001b[0m\n\u001b[1;32m      1\u001b[0m \u001b[0mrm_colls\u001b[0m \u001b[0;34m=\u001b[0m\u001b[0;34m[\u001b[0m\u001b[0;36m1\u001b[0m\u001b[0;34m,\u001b[0m\u001b[0;36m2\u001b[0m\u001b[0;34m,\u001b[0m\u001b[0;36m4\u001b[0m\u001b[0;34m,\u001b[0m\u001b[0;36m8\u001b[0m\u001b[0;34m]\u001b[0m\u001b[0;34m\u001b[0m\u001b[0;34m\u001b[0m\u001b[0m\n\u001b[0;32m----&gt; 2\u001b[0;31m \u001b[0mdf\u001b[0m\u001b[0;34m.\u001b[0m\u001b[0mdrop\u001b[0m\u001b[0;34m(\u001b[0m\u001b[0mdf\u001b[0m\u001b[0;34m.\u001b[0m\u001b[0mcolumns\u001b[0m\u001b[0;34m[\u001b[0m\u001b[0mrm_colls\u001b[0m\u001b[0;34m]\u001b[0m\u001b[0;34m,\u001b[0m \u001b[0maxis\u001b[0m\u001b[0;34m=\u001b[0m\u001b[0;36m1\u001b[0m\u001b[0;34m,\u001b[0m \u001b[0minplace\u001b[0m\u001b[0;34m=\u001b[0m\u001b[0;32mTrue\u001b[0m\u001b[0;34m)\u001b[0m\u001b[0;34m\u001b[0m\u001b[0;34m\u001b[0m\u001b[0m\n\u001b[0m",
      "\u001b[0;32m~/.local/lib/python3.6/site-packages/pandas/core/indexes/base.py\u001b[0m in \u001b[0;36m__getitem__\u001b[0;34m(self, key)\u001b[0m\n\u001b[1;32m   4105\u001b[0m             \u001b[0mkey\u001b[0m \u001b[0;34m=\u001b[0m \u001b[0mnp\u001b[0m\u001b[0;34m.\u001b[0m\u001b[0masarray\u001b[0m\u001b[0;34m(\u001b[0m\u001b[0mkey\u001b[0m\u001b[0;34m,\u001b[0m \u001b[0mdtype\u001b[0m\u001b[0;34m=\u001b[0m\u001b[0mbool\u001b[0m\u001b[0;34m)\u001b[0m\u001b[0;34m\u001b[0m\u001b[0;34m\u001b[0m\u001b[0m\n\u001b[1;32m   4106\u001b[0m \u001b[0;34m\u001b[0m\u001b[0m\n\u001b[0;32m-&gt; 4107\u001b[0;31m         \u001b[0mresult\u001b[0m \u001b[0;34m=\u001b[0m \u001b[0mgetitem\u001b[0m\u001b[0;34m(\u001b[0m\u001b[0mkey\u001b[0m\u001b[0;34m)\u001b[0m\u001b[0;34m\u001b[0m\u001b[0;34m\u001b[0m\u001b[0m\n\u001b[0m\u001b[1;32m   4108\u001b[0m         \u001b[0;32mif\u001b[0m \u001b[0;32mnot\u001b[0m \u001b[0mis_scalar\u001b[0m\u001b[0;34m(\u001b[0m\u001b[0mresult\u001b[0m\u001b[0;34m)\u001b[0m\u001b[0;34m:\u001b[0m\u001b[0;34m\u001b[0m\u001b[0;34m\u001b[0m\u001b[0m\n\u001b[1;32m   4109\u001b[0m             \u001b[0;32mif\u001b[0m \u001b[0mnp\u001b[0m\u001b[0;34m.\u001b[0m\u001b[0mndim\u001b[0m\u001b[0;34m(\u001b[0m\u001b[0mresult\u001b[0m\u001b[0;34m)\u001b[0m \u001b[0;34m&gt;\u001b[0m \u001b[0;36m1\u001b[0m\u001b[0;34m:\u001b[0m\u001b[0;34m\u001b[0m\u001b[0;34m\u001b[0m\u001b[0m\n",
      "\u001b[0;31mIndexError\u001b[0m: index 8 is out of bounds for axis 0 with size 6"
     ]
    }
   ],
   "source": [
    "rm_colls =[1,2,4,8]\n",
    "df.drop(df.columns[rm_colls], axis=1, inplace=True)"
   ]
  },
  {
   "source": [
    "Give names to columns"
   ],
   "cell_type": "markdown",
   "metadata": {}
  },
  {
   "cell_type": "code",
   "execution_count": 38,
   "metadata": {},
   "outputs": [],
   "source": [
    "columns = {0:'IP',3:'date',5:'request',6:'code',7:'body_bytes',9:'browser'}\n",
    "df.rename(columns=columns,inplace=True)"
   ]
  },
  {
   "source": [
    "remove '[' from date_time column"
   ],
   "cell_type": "markdown",
   "metadata": {}
  },
  {
   "cell_type": "code",
   "execution_count": 33,
   "metadata": {},
   "outputs": [],
   "source": [
    "df['date'] = df['date'].str[1:]"
   ]
  },
  {
   "cell_type": "code",
   "execution_count": 39,
   "metadata": {},
   "outputs": [
    {
     "output_type": "execute_result",
     "data": {
      "text/plain": "                IP                  date  \\\n0    68.183.188.21  15/Sep/2020:06:32:49   \n1    68.183.188.21  15/Sep/2020:06:32:50   \n2   37.151.167.200  15/Sep/2020:06:48:08   \n3     45.141.84.72  15/Sep/2020:06:49:30   \n4  172.104.108.109  15/Sep/2020:07:10:35   \n\n                                             request  code  unkown  \\\n0                 5\\xF8kk\\x1A!\\x91UB\\x94Q\\xA9:\\xC2wl   400     182   \n1                               \\x08\\x86w&lt;W\\xA00\\x5C   400     182   \n2                                     GET / HTTP/1.1   200     612   \n3  \\x03\\x00\\x00/*\\xE0\\x00\\x00\\x00\\x00\\x00Cookie: ...   400     182   \n4                                     GET / HTTP/1.1   200     396   \n\n                                             browser  \n0                                                  -  \n1                                                  -  \n2  Mozilla/5.0 (Macintosh; Intel Mac OS X 10_11_6...  \n3                                                  -  \n4                                        Mozilla/5.0  ",
      "text/html": "<div>\n<style scoped>\n    .dataframe tbody tr th:only-of-type {\n        vertical-align: middle;\n    }\n\n    .dataframe tbody tr th {\n        vertical-align: top;\n    }\n\n    .dataframe thead th {\n        text-align: right;\n    }\n</style>\n<table border=\"1\" class=\"dataframe\">\n  <thead>\n    <tr style=\"text-align: right;\">\n      <th></th>\n      <th>IP</th>\n      <th>date</th>\n      <th>request</th>\n      <th>code</th>\n      <th>unkown</th>\n      <th>browser</th>\n    </tr>\n  </thead>\n  <tbody>\n    <tr>\n      <th>0</th>\n      <td>68.183.188.21</td>\n      <td>15/Sep/2020:06:32:49</td>\n      <td>5\\xF8kk\\x1A!\\x91UB\\x94Q\\xA9:\\xC2wl</td>\n      <td>400</td>\n      <td>182</td>\n      <td>-</td>\n    </tr>\n    <tr>\n      <th>1</th>\n      <td>68.183.188.21</td>\n      <td>15/Sep/2020:06:32:50</td>\n      <td>\\x08\\x86w&lt;W\\xA00\\x5C</td>\n      <td>400</td>\n      <td>182</td>\n      <td>-</td>\n    </tr>\n    <tr>\n      <th>2</th>\n      <td>37.151.167.200</td>\n      <td>15/Sep/2020:06:48:08</td>\n      <td>GET / HTTP/1.1</td>\n      <td>200</td>\n      <td>612</td>\n      <td>Mozilla/5.0 (Macintosh; Intel Mac OS X 10_11_6...</td>\n    </tr>\n    <tr>\n      <th>3</th>\n      <td>45.141.84.72</td>\n      <td>15/Sep/2020:06:49:30</td>\n      <td>\\x03\\x00\\x00/*\\xE0\\x00\\x00\\x00\\x00\\x00Cookie: ...</td>\n      <td>400</td>\n      <td>182</td>\n      <td>-</td>\n    </tr>\n    <tr>\n      <th>4</th>\n      <td>172.104.108.109</td>\n      <td>15/Sep/2020:07:10:35</td>\n      <td>GET / HTTP/1.1</td>\n      <td>200</td>\n      <td>396</td>\n      <td>Mozilla/5.0</td>\n    </tr>\n  </tbody>\n</table>\n</div>"
     },
     "metadata": {},
     "execution_count": 39
    }
   ],
   "source": [
    "df.head()"
   ]
  },
  {
   "source": [
    "# (2) Data labeling"
   ],
   "cell_type": "markdown",
   "metadata": {}
  },
  {
   "source": [
    "The source of access logs server is where the Python Flask application runs."
   ],
   "cell_type": "markdown",
   "metadata": {}
  },
  {
   "source": [
    "## (2.1) Function used to filter malicious requests using keywords "
   ],
   "cell_type": "markdown",
   "metadata": {}
  },
  {
   "cell_type": "code",
   "execution_count": 83,
   "metadata": {},
   "outputs": [],
   "source": [
    "def find_bad(tmp_df, phrase):\n",
    "    'Find rows by keyword phrase using regex'\n",
    "    new_df = tmp_df[tmp_df.requests.str.contains(phrase, regex=True, na=False)]\n",
    "    return new_df"
   ]
  },
  {
   "cell_type": "code",
   "execution_count": 97,
   "metadata": {},
   "outputs": [],
   "source": [
    "def build_phrase(list):\n",
    "    tmp = ''\n",
    "    for word in list:\n",
    "        if tmp == '': tmp = f'{word}'\n",
    "        else: tmp = f'{tmp}|{word}'\n",
    "    return tmp"
   ]
  },
  {
   "source": [
    "### (2.1.1) all bad requests"
   ],
   "cell_type": "markdown",
   "metadata": {}
  },
  {
   "cell_type": "code",
   "execution_count": 103,
   "metadata": {},
   "outputs": [
    {
     "output_type": "execute_result",
     "data": {
      "text/plain": "&#39;php|wp|cgi|shell|ls+|cd\\\\+|rm\\\\+|\\\\-rf|wget\\\\+|cmod\\\\+|chown\\\\+|\\\\?index=|example.com|ZINFO|fig&#39;"
     },
     "metadata": {},
     "execution_count": 103
    }
   ],
   "source": [
    "bad_requests_phrase = build_phrase([\n",
    "    'php', 'wp', 'cgi', 'shell',\n",
    "    'ls+', 'cd\\+', 'rm\\+', '\\-rf', 'wget\\+', 'cmod\\+', 'chown\\+',\n",
    "    '\\?index=','example.com', 'ZINFO', 'fig'\n",
    "])\n",
    "bad_requests_phrase"
   ]
  },
  {
   "cell_type": "code",
   "execution_count": 104,
   "metadata": {},
   "outputs": [],
   "source": [
    "bad_requests = df[df.request.str.contains(bad_requests_phrase, regex=True, na=False)]"
   ]
  },
  {
   "source": [
    "How many bad requests found in overall dataset?"
   ],
   "cell_type": "markdown",
   "metadata": {}
  },
  {
   "cell_type": "code",
   "execution_count": 105,
   "metadata": {},
   "outputs": [
    {
     "output_type": "execute_result",
     "data": {
      "text/plain": "(1110, 6)"
     },
     "metadata": {},
     "execution_count": 105
    }
   ],
   "source": [
    "bad_requests.shape"
   ]
  },
  {
   "source": [
    "TODO - do we have overlaping results because of few keywords in one request? filter out dublicated rows"
   ],
   "cell_type": "markdown",
   "metadata": {}
  },
  {
   "source": [
    "## (2.2) Tests on filtering bad requests"
   ],
   "cell_type": "markdown",
   "metadata": {}
  },
  {
   "source": [
    "### (2.2.1) Find malitious requests accessing *.php files"
   ],
   "cell_type": "markdown",
   "metadata": {}
  },
  {
   "cell_type": "code",
   "execution_count": 49,
   "metadata": {},
   "outputs": [],
   "source": [
    "# php_requests = df.loc[df.request.str.contains('^.php')]\n",
    "# df.request.str.contains('^.php^')\n",
    "bad_php = df[df.request.str.contains('php', regex=True, na=False)]"
   ]
  },
  {
   "cell_type": "code",
   "execution_count": 50,
   "metadata": {},
   "outputs": [
    {
     "output_type": "execute_result",
     "data": {
      "text/plain": "(1033, 6)"
     },
     "metadata": {},
     "execution_count": 50
    }
   ],
   "source": [
    "bad_php.shape"
   ]
  },
  {
   "source": [
    "### (2.2.2) Find malitiuos requests trying to execute shell commands"
   ],
   "cell_type": "markdown",
   "metadata": {}
  },
  {
   "cell_type": "code",
   "execution_count": 79,
   "metadata": {},
   "outputs": [],
   "source": [
    "bad_shell = df[df.request.str.contains('shell|cd\\+|rm\\+|\\-rf|wget\\+|chmod\\+|chown\\+|ls\\+', regex=True, na=False)]"
   ]
  },
  {
   "cell_type": "code",
   "execution_count": 80,
   "metadata": {},
   "outputs": [
    {
     "output_type": "execute_result",
     "data": {
      "text/plain": "(34, 6)"
     },
     "metadata": {},
     "execution_count": 80
    }
   ],
   "source": [
    "bad_shell.shape"
   ]
  },
  {
   "source": [
    "### (2.2.3) Find malitious requests of CGI"
   ],
   "cell_type": "markdown",
   "metadata": {}
  },
  {
   "cell_type": "code",
   "execution_count": 63,
   "metadata": {},
   "outputs": [],
   "source": [
    "bad_cgi = df[df.request.str.contains('cgi', regex=True, na=False)]"
   ]
  },
  {
   "cell_type": "code",
   "execution_count": 106,
   "metadata": {},
   "outputs": [
    {
     "output_type": "execute_result",
     "data": {
      "text/plain": "(34, 6)"
     },
     "metadata": {},
     "execution_count": 106
    }
   ],
   "source": [
    "bad_cgi.shape"
   ]
  },
  {
   "source": [
    "### (2.2.4) Other malitious"
   ],
   "cell_type": "markdown",
   "metadata": {}
  },
  {
   "cell_type": "code",
   "execution_count": 88,
   "metadata": {},
   "outputs": [],
   "source": [
    "bad_other = df[df.request.str.contains('\\?index=|example\\.com|ZINFO|fig', regex=True, na=False)]"
   ]
  },
  {
   "cell_type": "code",
   "execution_count": 89,
   "metadata": {},
   "outputs": [
    {
     "output_type": "execute_result",
     "data": {
      "text/plain": "(69, 6)"
     },
     "metadata": {},
     "execution_count": 89
    }
   ],
   "source": [
    "bad_other.shape"
   ]
  },
  {
   "source": [
    "## (2.3) Good requests"
   ],
   "cell_type": "markdown",
   "metadata": {}
  },
  {
   "cell_type": "code",
   "execution_count": 113,
   "metadata": {},
   "outputs": [],
   "source": [
    "good_requests = bad_requests.merge(df, how='outer', indicator=True).loc[lambda x : x['_merge']=='right_only']"
   ]
  },
  {
   "cell_type": "code",
   "execution_count": 114,
   "metadata": {},
   "outputs": [
    {
     "output_type": "execute_result",
     "data": {
      "text/plain": "(1790, 7)"
     },
     "metadata": {},
     "execution_count": 114
    }
   ],
   "source": [
    "good_requests.shape"
   ]
  },
  {
   "cell_type": "code",
   "execution_count": 115,
   "metadata": {},
   "outputs": [
    {
     "output_type": "execute_result",
     "data": {
      "text/plain": "                   IP                  date  \\\n1118    68.183.188.21  15/Sep/2020:06:32:49   \n1119    68.183.188.21  15/Sep/2020:06:32:50   \n1120   37.151.167.200  15/Sep/2020:06:48:08   \n1121     45.141.84.72  15/Sep/2020:06:49:30   \n1122  172.104.108.109  15/Sep/2020:07:10:35   \n\n                                                request  code  unkown  \\\n1118                 5\\xF8kk\\x1A!\\x91UB\\x94Q\\xA9:\\xC2wl   400     182   \n1119                               \\x08\\x86w&lt;W\\xA00\\x5C   400     182   \n1120                                     GET / HTTP/1.1   200     612   \n1121  \\x03\\x00\\x00/*\\xE0\\x00\\x00\\x00\\x00\\x00Cookie: ...   400     182   \n1122                                     GET / HTTP/1.1   200     396   \n\n                                                browser      _merge  \n1118                                                  -  right_only  \n1119                                                  -  right_only  \n1120  Mozilla/5.0 (Macintosh; Intel Mac OS X 10_11_6...  right_only  \n1121                                                  -  right_only  \n1122                                        Mozilla/5.0  right_only  ",
      "text/html": "<div>\n<style scoped>\n    .dataframe tbody tr th:only-of-type {\n        vertical-align: middle;\n    }\n\n    .dataframe tbody tr th {\n        vertical-align: top;\n    }\n\n    .dataframe thead th {\n        text-align: right;\n    }\n</style>\n<table border=\"1\" class=\"dataframe\">\n  <thead>\n    <tr style=\"text-align: right;\">\n      <th></th>\n      <th>IP</th>\n      <th>date</th>\n      <th>request</th>\n      <th>code</th>\n      <th>unkown</th>\n      <th>browser</th>\n      <th>_merge</th>\n    </tr>\n  </thead>\n  <tbody>\n    <tr>\n      <th>1118</th>\n      <td>68.183.188.21</td>\n      <td>15/Sep/2020:06:32:49</td>\n      <td>5\\xF8kk\\x1A!\\x91UB\\x94Q\\xA9:\\xC2wl</td>\n      <td>400</td>\n      <td>182</td>\n      <td>-</td>\n      <td>right_only</td>\n    </tr>\n    <tr>\n      <th>1119</th>\n      <td>68.183.188.21</td>\n      <td>15/Sep/2020:06:32:50</td>\n      <td>\\x08\\x86w&lt;W\\xA00\\x5C</td>\n      <td>400</td>\n      <td>182</td>\n      <td>-</td>\n      <td>right_only</td>\n    </tr>\n    <tr>\n      <th>1120</th>\n      <td>37.151.167.200</td>\n      <td>15/Sep/2020:06:48:08</td>\n      <td>GET / HTTP/1.1</td>\n      <td>200</td>\n      <td>612</td>\n      <td>Mozilla/5.0 (Macintosh; Intel Mac OS X 10_11_6...</td>\n      <td>right_only</td>\n    </tr>\n    <tr>\n      <th>1121</th>\n      <td>45.141.84.72</td>\n      <td>15/Sep/2020:06:49:30</td>\n      <td>\\x03\\x00\\x00/*\\xE0\\x00\\x00\\x00\\x00\\x00Cookie: ...</td>\n      <td>400</td>\n      <td>182</td>\n      <td>-</td>\n      <td>right_only</td>\n    </tr>\n    <tr>\n      <th>1122</th>\n      <td>172.104.108.109</td>\n      <td>15/Sep/2020:07:10:35</td>\n      <td>GET / HTTP/1.1</td>\n      <td>200</td>\n      <td>396</td>\n      <td>Mozilla/5.0</td>\n      <td>right_only</td>\n    </tr>\n  </tbody>\n</table>\n</div>"
     },
     "metadata": {},
     "execution_count": 115
    }
   ],
   "source": [
    "good_requests.head()"
   ]
  },
  {
   "source": [
    "# (3) Model"
   ],
   "cell_type": "markdown",
   "metadata": {}
  },
  {
   "source": [
    "## (3.1) Splitting the date (training / validation)"
   ],
   "cell_type": "markdown",
   "metadata": {}
  }
 ]
}