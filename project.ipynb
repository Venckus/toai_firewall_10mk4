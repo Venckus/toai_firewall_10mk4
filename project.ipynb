{
  "nbformat": 4,
  "nbformat_minor": 0,
  "metadata": {
    "language_info": {
      "codemirror_mode": {
        "name": "ipython",
        "version": 3
      },
      "file_extension": ".py",
      "mimetype": "text/x-python",
      "name": "python",
      "nbconvert_exporter": "python",
      "pygments_lexer": "ipython3",
      "version": "3.6.12-final"
    },
    "orig_nbformat": 2,
    "kernelspec": {
      "name": "python361264bitfc9e9ecad33e492fbe0dd8971c42f827",
      "display_name": "Python 3.6.12 64-bit"
    },
    "colab": {
      "name": "project.ipynb",
      "provenance": [],
      "include_colab_link": true
    }
  },
  "cells": [
    {
      "cell_type": "markdown",
      "metadata": {
        "id": "view-in-github",
        "colab_type": "text"
      },
      "source": [
        "<a href=\"https://colab.research.google.com/github/Venckus/toai_firewall_10mk4/blob/master/project.ipynb\" target=\"_parent\"><img src=\"https://colab.research.google.com/assets/colab-badge.svg\" alt=\"Open In Colab\"/></a>"
      ]
    },
    {
      "cell_type": "markdown",
      "metadata": {
        "id": "PCCoKRp1-UXp"
      },
      "source": [
        "# Imports"
      ]
    },
    {
      "cell_type": "code",
      "metadata": {
        "tags": [],
        "id": "c8swEdgi-UXr"
      },
      "source": [
        "# %%time\n",
        "from os import listdir\n",
        "from os.path import isfile, join\n",
        "import numpy as np\n",
        "import pandas as pd"
      ],
      "execution_count": 1,
      "outputs": []
    },
    {
      "cell_type": "code",
      "metadata": {
        "id": "1eAQx2xJbl0g"
      },
      "source": [
        "# fastai imports\n",
        "%load_ext autoreload\n",
        "%autoreload 2\n",
        "%matplotlib inline"
      ],
      "execution_count": 2,
      "outputs": []
    },
    {
      "cell_type": "code",
      "metadata": {
        "id": "msuwNlG9cLeL"
      },
      "source": [
        "# fastai imports (not needed here?)\n",
        "# from fastai.imports import *\n",
        "# from fastai.tabular import *"
      ],
      "execution_count": null,
      "outputs": []
    },
    {
      "cell_type": "code",
      "metadata": {
        "id": "qqZM0navqdWw"
      },
      "source": [
        "from sklearn.feature_extraction.text import TfidfVectorizer\n",
        "from sklearn.model_selection import train_test_split\n",
        "from sklearn.linear_model import LogisticRegression\n",
        "from sklearn import metrics"
      ],
      "execution_count": 3,
      "outputs": []
    },
    {
      "cell_type": "code",
      "metadata": {
        "id": "YJd5M7kljwZf",
        "outputId": "42c1089b-3f63-46ec-946e-cf0b7c65f53d",
        "colab": {
          "base_uri": "https://localhost:8080/",
          "height": 34
        }
      },
      "source": [
        "# google drive\n",
        "from google.colab import drive\n",
        "drive.mount('/content/drive')"
      ],
      "execution_count": 4,
      "outputs": [
        {
          "output_type": "stream",
          "text": [
            "Mounted at /content/drive\n"
          ],
          "name": "stdout"
        }
      ]
    },
    {
      "cell_type": "code",
      "metadata": {
        "id": "JK-zPCEXj6ZP"
      },
      "source": [
        "# install formatter\n",
        "pip install nb_black"
      ],
      "execution_count": null,
      "outputs": []
    },
    {
      "cell_type": "markdown",
      "metadata": {
        "id": "lb8I7tQp-UXz"
      },
      "source": [
        "# Read all files in `data` directory"
      ]
    },
    {
      "cell_type": "code",
      "metadata": {
        "id": "3SBZDEUAHeLk",
        "outputId": "bcb6b669-f89a-43fe-f1ab-b54e6d19a503",
        "colab": {
          "base_uri": "https://localhost:8080/",
          "height": 34
        }
      },
      "source": [
        "!pwd"
      ],
      "execution_count": 5,
      "outputs": [
        {
          "output_type": "stream",
          "text": [
            "/content\n"
          ],
          "name": "stdout"
        }
      ]
    },
    {
      "cell_type": "code",
      "metadata": {
        "id": "9t9BQSi_i_k-",
        "outputId": "ae00ca32-61c5-4a31-8be2-9d9530b9d4a6",
        "colab": {
          "base_uri": "https://localhost:8080/",
          "height": 119
        }
      },
      "source": [
        "!ls -la 'drive/My Drive/Colab Notebooks/AIacademy/class-C/project/'"
      ],
      "execution_count": 6,
      "outputs": [
        {
          "output_type": "stream",
          "text": [
            "total 41\n",
            "drwx------ 2 root root  4096 Oct  4 18:31 data\n",
            "-rw------- 1 root root     8 Oct  4 18:31 .gitignore\n",
            "-rw------- 1 root root 35052 Oct 11 13:59 project.ipynb\n",
            "-rw------- 1 root root   784 Oct  4 18:31 read_data.py\n",
            "-rw------- 1 root root   128 Oct  4 18:31 readme.md\n"
          ],
          "name": "stdout"
        }
      ]
    },
    {
      "cell_type": "code",
      "metadata": {
        "tags": [],
        "id": "ZOAQDlm_-UX0",
        "outputId": "0027411c-6d02-4f61-fece-67d6a221bcf6",
        "colab": {
          "base_uri": "https://localhost:8080/",
          "height": 54
        }
      },
      "source": [
        "# read all data files\n",
        "mypath = 'drive/My Drive/Colab Notebooks/AIacademy/class-C/project/data'\n",
        "data_files = [f for f in listdir(mypath) if isfile(join(mypath, f))]\n",
        "print(data_files)"
      ],
      "execution_count": 7,
      "outputs": [
        {
          "output_type": "stream",
          "text": [
            "['access.log.7', 'access.log.2', 'access.log.12', 'access.log.9', 'access.log', 'access.log.14', 'access.log.3', 'access.log.8', 'access.log.6', 'access.log.11', 'access.log.10', 'access.log.13', 'access.log.4', 'access.log.1', 'access.log.5']\n"
          ],
          "name": "stdout"
        }
      ]
    },
    {
      "cell_type": "markdown",
      "metadata": {
        "id": "WQ43-a1g-UX5"
      },
      "source": [
        "## Add all files data into one Pandas dataframe"
      ]
    },
    {
      "cell_type": "code",
      "metadata": {
        "tags": [],
        "id": "rxLCCGoN-UX6",
        "outputId": "eaeaa559-9fdf-4a74-c6b9-435d336bd73f",
        "colab": {
          "base_uri": "https://localhost:8080/",
          "height": 51
        }
      },
      "source": [
        "%%time\n",
        "li = []\n",
        "for file in data_files:\n",
        "    tmp = pd.read_csv(f'{mypath}/{file}', sep='\\s+', header=None)\n",
        "    li.append(tmp)\n",
        "df = pd.concat(li, axis=0, ignore_index=True)"
      ],
      "execution_count": 8,
      "outputs": [
        {
          "output_type": "stream",
          "text": [
            "CPU times: user 70.4 ms, sys: 2.93 ms, total: 73.3 ms\n",
            "Wall time: 3.32 s\n"
          ],
          "name": "stdout"
        }
      ]
    },
    {
      "cell_type": "markdown",
      "metadata": {
        "id": "7yDRZZCP-UX_"
      },
      "source": [
        "# Explore and prepare data"
      ]
    },
    {
      "cell_type": "code",
      "metadata": {
        "id": "ZxH-B_0y-UYA",
        "outputId": "66de05e2-84fa-46b0-fe50-0c9324582f5e",
        "colab": {
          "base_uri": "https://localhost:8080/",
          "height": 209
        }
      },
      "source": [
        "df.head()"
      ],
      "execution_count": null,
      "outputs": [
        {
          "output_type": "execute_result",
          "data": {
            "text/html": [
              "<div>\n",
              "<style scoped>\n",
              "    .dataframe tbody tr th:only-of-type {\n",
              "        vertical-align: middle;\n",
              "    }\n",
              "\n",
              "    .dataframe tbody tr th {\n",
              "        vertical-align: top;\n",
              "    }\n",
              "\n",
              "    .dataframe thead th {\n",
              "        text-align: right;\n",
              "    }\n",
              "</style>\n",
              "<table border=\"1\" class=\"dataframe\">\n",
              "  <thead>\n",
              "    <tr style=\"text-align: right;\">\n",
              "      <th></th>\n",
              "      <th>0</th>\n",
              "      <th>1</th>\n",
              "      <th>2</th>\n",
              "      <th>3</th>\n",
              "      <th>4</th>\n",
              "      <th>5</th>\n",
              "      <th>6</th>\n",
              "      <th>7</th>\n",
              "      <th>8</th>\n",
              "      <th>9</th>\n",
              "    </tr>\n",
              "  </thead>\n",
              "  <tbody>\n",
              "    <tr>\n",
              "      <th>0</th>\n",
              "      <td>45.146.164.186</td>\n",
              "      <td>-</td>\n",
              "      <td>-</td>\n",
              "      <td>[19/Sep/2020:06:38:27</td>\n",
              "      <td>+0200]</td>\n",
              "      <td>POST /api/jsonws/invoke HTTP/1.1</td>\n",
              "      <td>404</td>\n",
              "      <td>209</td>\n",
              "      <td>-</td>\n",
              "      <td>Mozilla/5.0 (Windows NT 10.0; Win64; x64) Appl...</td>\n",
              "    </tr>\n",
              "    <tr>\n",
              "      <th>1</th>\n",
              "      <td>184.105.247.194</td>\n",
              "      <td>-</td>\n",
              "      <td>-</td>\n",
              "      <td>[19/Sep/2020:06:48:34</td>\n",
              "      <td>+0200]</td>\n",
              "      <td>GET / HTTP/1.1</td>\n",
              "      <td>200</td>\n",
              "      <td>13</td>\n",
              "      <td>-</td>\n",
              "      <td>-</td>\n",
              "    </tr>\n",
              "    <tr>\n",
              "      <th>2</th>\n",
              "      <td>45.146.164.179</td>\n",
              "      <td>-</td>\n",
              "      <td>-</td>\n",
              "      <td>[19/Sep/2020:06:57:20</td>\n",
              "      <td>+0200]</td>\n",
              "      <td>\\x03\\x00\\x00/*\\xE0\\x00\\x00\\x00\\x00\\x00Cookie: ...</td>\n",
              "      <td>400</td>\n",
              "      <td>182</td>\n",
              "      <td>-</td>\n",
              "      <td>-</td>\n",
              "    </tr>\n",
              "    <tr>\n",
              "      <th>3</th>\n",
              "      <td>172.104.108.109</td>\n",
              "      <td>-</td>\n",
              "      <td>-</td>\n",
              "      <td>[19/Sep/2020:07:17:08</td>\n",
              "      <td>+0200]</td>\n",
              "      <td>GET / HTTP/1.1</td>\n",
              "      <td>200</td>\n",
              "      <td>396</td>\n",
              "      <td>-</td>\n",
              "      <td>Mozilla/5.0</td>\n",
              "    </tr>\n",
              "    <tr>\n",
              "      <th>4</th>\n",
              "      <td>199.244.88.132</td>\n",
              "      <td>-</td>\n",
              "      <td>-</td>\n",
              "      <td>[19/Sep/2020:07:39:56</td>\n",
              "      <td>+0200]</td>\n",
              "      <td>GET / HTTP/1.1</td>\n",
              "      <td>200</td>\n",
              "      <td>13</td>\n",
              "      <td>-</td>\n",
              "      <td>Mozilla/5.0 (Macintosh; Intel Mac OS X 10_9_3)...</td>\n",
              "    </tr>\n",
              "  </tbody>\n",
              "</table>\n",
              "</div>"
            ],
            "text/plain": [
              "                 0  1  ...  8                                                  9\n",
              "0   45.146.164.186  -  ...  -  Mozilla/5.0 (Windows NT 10.0; Win64; x64) Appl...\n",
              "1  184.105.247.194  -  ...  -                                                  -\n",
              "2   45.146.164.179  -  ...  -                                                  -\n",
              "3  172.104.108.109  -  ...  -                                        Mozilla/5.0\n",
              "4   199.244.88.132  -  ...  -  Mozilla/5.0 (Macintosh; Intel Mac OS X 10_9_3)...\n",
              "\n",
              "[5 rows x 10 columns]"
            ]
          },
          "metadata": {
            "tags": []
          },
          "execution_count": 17
        }
      ]
    },
    {
      "cell_type": "code",
      "metadata": {
        "id": "-1QjJUmz-UYF",
        "outputId": "4dd73d44-ea27-4c2f-b700-824327487fa2",
        "colab": {
          "base_uri": "https://localhost:8080/",
          "height": 34
        }
      },
      "source": [
        "df.shape"
      ],
      "execution_count": null,
      "outputs": [
        {
          "output_type": "execute_result",
          "data": {
            "text/plain": [
              "(2900, 10)"
            ]
          },
          "metadata": {
            "tags": []
          },
          "execution_count": 18
        }
      ]
    },
    {
      "cell_type": "markdown",
      "metadata": {
        "id": "CefCW2za-UYL"
      },
      "source": [
        "### remove columns holding useless data '-' and rows with request = nan"
      ]
    },
    {
      "cell_type": "code",
      "metadata": {
        "id": "3RUCHZqe-UYN"
      },
      "source": [
        "df[1].describe()"
      ],
      "execution_count": null,
      "outputs": []
    },
    {
      "cell_type": "code",
      "metadata": {
        "id": "QKuEsTuh-UYT"
      },
      "source": [
        "rm_colls =[1,2,4,8]\n",
        "df.drop(df.columns[rm_colls], axis=1, inplace=True)"
      ],
      "execution_count": 9,
      "outputs": []
    },
    {
      "cell_type": "markdown",
      "metadata": {
        "id": "UFLObtJj-UYY"
      },
      "source": [
        "Give names to columns"
      ]
    },
    {
      "cell_type": "code",
      "metadata": {
        "id": "RzBMWccR-UYZ"
      },
      "source": [
        "columns = {0:'IP',3:'date',5:'request',6:'code',7:'body_bytes',9:'browser'}\n",
        "df.rename(columns=columns,inplace=True)"
      ],
      "execution_count": 10,
      "outputs": []
    },
    {
      "cell_type": "markdown",
      "metadata": {
        "id": "7rbeBAN84Vfy"
      },
      "source": [
        "remove rows with `request` = nan"
      ]
    },
    {
      "cell_type": "code",
      "metadata": {
        "id": "LhWROxZy4UxA"
      },
      "source": [
        "df = df[df['request'].notna()]"
      ],
      "execution_count": 11,
      "outputs": []
    },
    {
      "cell_type": "markdown",
      "metadata": {
        "id": "a7Smkfc8-UYc"
      },
      "source": [
        "remove '[' from date_time column"
      ]
    },
    {
      "cell_type": "code",
      "metadata": {
        "id": "QBjcnxLT-UYd"
      },
      "source": [
        "df['date'] = df['date'].str[1:]"
      ],
      "execution_count": 12,
      "outputs": []
    },
    {
      "cell_type": "code",
      "metadata": {
        "id": "dlGmULXO-UYi",
        "outputId": "25757669-e2d8-434e-f08b-c4030fea5fbe",
        "colab": {
          "base_uri": "https://localhost:8080/",
          "height": 209
        }
      },
      "source": [
        "df.head()"
      ],
      "execution_count": 13,
      "outputs": [
        {
          "output_type": "execute_result",
          "data": {
            "text/html": [
              "<div>\n",
              "<style scoped>\n",
              "    .dataframe tbody tr th:only-of-type {\n",
              "        vertical-align: middle;\n",
              "    }\n",
              "\n",
              "    .dataframe tbody tr th {\n",
              "        vertical-align: top;\n",
              "    }\n",
              "\n",
              "    .dataframe thead th {\n",
              "        text-align: right;\n",
              "    }\n",
              "</style>\n",
              "<table border=\"1\" class=\"dataframe\">\n",
              "  <thead>\n",
              "    <tr style=\"text-align: right;\">\n",
              "      <th></th>\n",
              "      <th>IP</th>\n",
              "      <th>date</th>\n",
              "      <th>request</th>\n",
              "      <th>code</th>\n",
              "      <th>body_bytes</th>\n",
              "      <th>browser</th>\n",
              "    </tr>\n",
              "  </thead>\n",
              "  <tbody>\n",
              "    <tr>\n",
              "      <th>0</th>\n",
              "      <td>45.146.164.186</td>\n",
              "      <td>19/Sep/2020:06:38:27</td>\n",
              "      <td>POST /api/jsonws/invoke HTTP/1.1</td>\n",
              "      <td>404</td>\n",
              "      <td>209</td>\n",
              "      <td>Mozilla/5.0 (Windows NT 10.0; Win64; x64) Appl...</td>\n",
              "    </tr>\n",
              "    <tr>\n",
              "      <th>1</th>\n",
              "      <td>184.105.247.194</td>\n",
              "      <td>19/Sep/2020:06:48:34</td>\n",
              "      <td>GET / HTTP/1.1</td>\n",
              "      <td>200</td>\n",
              "      <td>13</td>\n",
              "      <td>-</td>\n",
              "    </tr>\n",
              "    <tr>\n",
              "      <th>2</th>\n",
              "      <td>45.146.164.179</td>\n",
              "      <td>19/Sep/2020:06:57:20</td>\n",
              "      <td>\\x03\\x00\\x00/*\\xE0\\x00\\x00\\x00\\x00\\x00Cookie: ...</td>\n",
              "      <td>400</td>\n",
              "      <td>182</td>\n",
              "      <td>-</td>\n",
              "    </tr>\n",
              "    <tr>\n",
              "      <th>3</th>\n",
              "      <td>172.104.108.109</td>\n",
              "      <td>19/Sep/2020:07:17:08</td>\n",
              "      <td>GET / HTTP/1.1</td>\n",
              "      <td>200</td>\n",
              "      <td>396</td>\n",
              "      <td>Mozilla/5.0</td>\n",
              "    </tr>\n",
              "    <tr>\n",
              "      <th>4</th>\n",
              "      <td>199.244.88.132</td>\n",
              "      <td>19/Sep/2020:07:39:56</td>\n",
              "      <td>GET / HTTP/1.1</td>\n",
              "      <td>200</td>\n",
              "      <td>13</td>\n",
              "      <td>Mozilla/5.0 (Macintosh; Intel Mac OS X 10_9_3)...</td>\n",
              "    </tr>\n",
              "  </tbody>\n",
              "</table>\n",
              "</div>"
            ],
            "text/plain": [
              "                IP  ...                                            browser\n",
              "0   45.146.164.186  ...  Mozilla/5.0 (Windows NT 10.0; Win64; x64) Appl...\n",
              "1  184.105.247.194  ...                                                  -\n",
              "2   45.146.164.179  ...                                                  -\n",
              "3  172.104.108.109  ...                                        Mozilla/5.0\n",
              "4   199.244.88.132  ...  Mozilla/5.0 (Macintosh; Intel Mac OS X 10_9_3)...\n",
              "\n",
              "[5 rows x 6 columns]"
            ]
          },
          "metadata": {
            "tags": []
          },
          "execution_count": 13
        }
      ]
    },
    {
      "cell_type": "markdown",
      "metadata": {
        "id": "K9YU2SnQ-UYn"
      },
      "source": [
        "# (2) Data labeling"
      ]
    },
    {
      "cell_type": "markdown",
      "metadata": {
        "id": "jsbmSidm-UYn"
      },
      "source": [
        "The source of access logs server is where the Python Flask application runs."
      ]
    },
    {
      "cell_type": "markdown",
      "metadata": {
        "id": "uIXQ4pxc-UYo"
      },
      "source": [
        "## (2.1) Functions used to filter malicious requests using keywords "
      ]
    },
    {
      "cell_type": "code",
      "metadata": {
        "id": "xfgmrKT1-UYp"
      },
      "source": [
        "def find_bad(tmp_df, phrase):\n",
        "    'Find rows by keyword phrase using regex'\n",
        "    new_df = tmp_df[tmp_df.requests.str.contains(phrase, regex=True, na=False)]\n",
        "    return new_df"
      ],
      "execution_count": 14,
      "outputs": []
    },
    {
      "cell_type": "code",
      "metadata": {
        "id": "h9znRKE7-UYs"
      },
      "source": [
        "def build_phrase(list):\n",
        "    tmp = ''\n",
        "    for word in list:\n",
        "        if tmp == '': tmp = f'{word}'\n",
        "        else: tmp = f'{tmp}|{word}'\n",
        "    return tmp"
      ],
      "execution_count": 15,
      "outputs": []
    },
    {
      "cell_type": "markdown",
      "metadata": {
        "id": "ooyyWJwK-UYw"
      },
      "source": [
        "### (2.1.1) all bad requests"
      ]
    },
    {
      "cell_type": "code",
      "metadata": {
        "id": "hChcFTtE-UYx",
        "outputId": "c6254501-efae-48ba-f535-d12c695ce9d8",
        "colab": {
          "base_uri": "https://localhost:8080/",
          "height": 35
        }
      },
      "source": [
        "bad_requests_phrase = build_phrase([\n",
        "    'php', 'wp', 'cgi', 'shell',\n",
        "    'ls+', 'cd\\+', 'rm\\+', '\\-rf', 'wget\\+', 'cmod\\+', 'chown\\+',\n",
        "    '\\?index=','example.com', 'ZINFO', 'fig'\n",
        "])\n",
        "bad_requests_phrase"
      ],
      "execution_count": 17,
      "outputs": [
        {
          "output_type": "execute_result",
          "data": {
            "application/vnd.google.colaboratory.intrinsic+json": {
              "type": "string"
            },
            "text/plain": [
              "'php|wp|cgi|shell|ls+|cd\\\\+|rm\\\\+|\\\\-rf|wget\\\\+|cmod\\\\+|chown\\\\+|\\\\?index=|example.com|ZINFO|fig'"
            ]
          },
          "metadata": {
            "tags": []
          },
          "execution_count": 17
        }
      ]
    },
    {
      "cell_type": "code",
      "metadata": {
        "id": "2Eh-B5hq-UY1"
      },
      "source": [
        "bad_requests = df[df.request.str.contains(bad_requests_phrase, regex=True, na=False)]"
      ],
      "execution_count": 18,
      "outputs": []
    },
    {
      "cell_type": "markdown",
      "metadata": {
        "id": "HOZEKtfy-UY5"
      },
      "source": [
        "How many bad requests found in overall dataset?"
      ]
    },
    {
      "cell_type": "code",
      "metadata": {
        "id": "Jf7rNRB0-UY6",
        "outputId": "647aa24b-0835-4ad3-cb93-cf1490633285",
        "colab": {
          "base_uri": "https://localhost:8080/",
          "height": 34
        }
      },
      "source": [
        "bad_requests.shape"
      ],
      "execution_count": 19,
      "outputs": [
        {
          "output_type": "execute_result",
          "data": {
            "text/plain": [
              "(1110, 6)"
            ]
          },
          "metadata": {
            "tags": []
          },
          "execution_count": 19
        }
      ]
    },
    {
      "cell_type": "markdown",
      "metadata": {
        "id": "E0J-6eZ8-UY-"
      },
      "source": [
        "TODO - do we have overlaping results because of few keywords in one request? filter out dublicated rows"
      ]
    },
    {
      "cell_type": "markdown",
      "metadata": {
        "id": "tAqb8Y7y-UY_"
      },
      "source": [
        "## (2.2) Tests on filtering bad requests"
      ]
    },
    {
      "cell_type": "markdown",
      "metadata": {
        "id": "XoW09Z8y-UZA"
      },
      "source": [
        "### (2.2.1) Find malitious requests accessing *.php files"
      ]
    },
    {
      "cell_type": "code",
      "metadata": {
        "id": "j46G5JdM-UZB"
      },
      "source": [
        "# php_requests = df.loc[df.request.str.contains('^.php')]\n",
        "# df.request.str.contains('^.php^')\n",
        "bad_php = df[df.request.str.contains('php', regex=True, na=False)]"
      ],
      "execution_count": null,
      "outputs": []
    },
    {
      "cell_type": "code",
      "metadata": {
        "id": "Cq-Oi1nj-UZF",
        "outputId": "af9769bd-6f7d-4078-a574-77c5c3ce5535"
      },
      "source": [
        "bad_php.shape"
      ],
      "execution_count": null,
      "outputs": [
        {
          "output_type": "execute_result",
          "data": {
            "text/plain": [
              "(1033, 6)"
            ]
          },
          "metadata": {
            "tags": []
          },
          "execution_count": 50
        }
      ]
    },
    {
      "cell_type": "markdown",
      "metadata": {
        "id": "x2SnUWI_-UZJ"
      },
      "source": [
        "### (2.2.2) Find malitiuos requests trying to execute shell commands"
      ]
    },
    {
      "cell_type": "code",
      "metadata": {
        "id": "fCbFjc29-UZK"
      },
      "source": [
        "bad_shell = df[df.request.str.contains('shell|cd\\+|rm\\+|\\-rf|wget\\+|chmod\\+|chown\\+|ls\\+', regex=True, na=False)]"
      ],
      "execution_count": null,
      "outputs": []
    },
    {
      "cell_type": "code",
      "metadata": {
        "id": "e0goe1X7-UZN",
        "outputId": "3be9f7c3-7ccf-42d2-f7c3-ed46c8a8e05c"
      },
      "source": [
        "bad_shell.shape"
      ],
      "execution_count": null,
      "outputs": [
        {
          "output_type": "execute_result",
          "data": {
            "text/plain": [
              "(34, 6)"
            ]
          },
          "metadata": {
            "tags": []
          },
          "execution_count": 80
        }
      ]
    },
    {
      "cell_type": "markdown",
      "metadata": {
        "id": "Z62kILNL-UZR"
      },
      "source": [
        "### (2.2.3) Find malitious requests of CGI"
      ]
    },
    {
      "cell_type": "code",
      "metadata": {
        "id": "yspTztkG-UZS"
      },
      "source": [
        "bad_cgi = df[df.request.str.contains('cgi', regex=True, na=False)]"
      ],
      "execution_count": null,
      "outputs": []
    },
    {
      "cell_type": "code",
      "metadata": {
        "id": "usRfWmpP-UZW",
        "outputId": "3dfdf06b-adf2-4fab-99e7-e80ad2bc33c7"
      },
      "source": [
        "bad_cgi.shape"
      ],
      "execution_count": null,
      "outputs": [
        {
          "output_type": "execute_result",
          "data": {
            "text/plain": [
              "(34, 6)"
            ]
          },
          "metadata": {
            "tags": []
          },
          "execution_count": 106
        }
      ]
    },
    {
      "cell_type": "markdown",
      "metadata": {
        "id": "-Y03W9Uq-UZb"
      },
      "source": [
        "### (2.2.4) Other malitious"
      ]
    },
    {
      "cell_type": "code",
      "metadata": {
        "id": "vaVnINw_-UZc"
      },
      "source": [
        "bad_other = df[df.request.str.contains('\\?index=|example\\.com|ZINFO|fig', regex=True, na=False)]"
      ],
      "execution_count": null,
      "outputs": []
    },
    {
      "cell_type": "code",
      "metadata": {
        "id": "PruBDaGX-UZh",
        "outputId": "d4fcf917-0108-4639-b384-52440b4cebf1"
      },
      "source": [
        "bad_other.shape"
      ],
      "execution_count": null,
      "outputs": [
        {
          "output_type": "execute_result",
          "data": {
            "text/plain": [
              "(69, 6)"
            ]
          },
          "metadata": {
            "tags": []
          },
          "execution_count": 89
        }
      ]
    },
    {
      "cell_type": "markdown",
      "metadata": {
        "id": "yhgw0SoK-UZl"
      },
      "source": [
        "## (2.3) Good requests"
      ]
    },
    {
      "cell_type": "code",
      "metadata": {
        "id": "UpsG-f_E-UZm"
      },
      "source": [
        "%%time\n",
        "good_requests = bad_requests.merge(df, how='outer', indicator=True).loc[lambda x : x['_merge']=='right_only']"
      ],
      "execution_count": 20,
      "outputs": []
    },
    {
      "cell_type": "code",
      "metadata": {
        "id": "98wC5iqZ-UZp",
        "outputId": "7942c077-7801-4fd7-b657-f1fb81b0df72",
        "colab": {
          "base_uri": "https://localhost:8080/",
          "height": 34
        }
      },
      "source": [
        "good_requests.shape"
      ],
      "execution_count": null,
      "outputs": [
        {
          "output_type": "execute_result",
          "data": {
            "text/plain": [
              "(1754, 7)"
            ]
          },
          "metadata": {
            "tags": []
          },
          "execution_count": 74
        }
      ]
    },
    {
      "cell_type": "code",
      "metadata": {
        "id": "r7TJ8Jc5-UZt",
        "outputId": "1c0a2713-c7d3-4660-e928-0e5acab2897b",
        "colab": {
          "base_uri": "https://localhost:8080/",
          "height": 209
        }
      },
      "source": [
        "good_requests.tail()"
      ],
      "execution_count": null,
      "outputs": [
        {
          "output_type": "execute_result",
          "data": {
            "text/html": [
              "<div>\n",
              "<style scoped>\n",
              "    .dataframe tbody tr th:only-of-type {\n",
              "        vertical-align: middle;\n",
              "    }\n",
              "\n",
              "    .dataframe tbody tr th {\n",
              "        vertical-align: top;\n",
              "    }\n",
              "\n",
              "    .dataframe thead th {\n",
              "        text-align: right;\n",
              "    }\n",
              "</style>\n",
              "<table border=\"1\" class=\"dataframe\">\n",
              "  <thead>\n",
              "    <tr style=\"text-align: right;\">\n",
              "      <th></th>\n",
              "      <th>IP</th>\n",
              "      <th>date</th>\n",
              "      <th>request</th>\n",
              "      <th>code</th>\n",
              "      <th>body_bytes</th>\n",
              "      <th>browser</th>\n",
              "      <th>_merge</th>\n",
              "    </tr>\n",
              "  </thead>\n",
              "  <tbody>\n",
              "    <tr>\n",
              "      <th>2867</th>\n",
              "      <td>74.120.14.50</td>\n",
              "      <td>22/Sep/2020:05:54:53</td>\n",
              "      <td>GET / HTTP/1.1</td>\n",
              "      <td>200</td>\n",
              "      <td>13</td>\n",
              "      <td>Mozilla/5.0 (compatible; CensysInspect/1.1; +h...</td>\n",
              "      <td>right_only</td>\n",
              "    </tr>\n",
              "    <tr>\n",
              "      <th>2868</th>\n",
              "      <td>91.193.5.58</td>\n",
              "      <td>22/Sep/2020:06:10:15</td>\n",
              "      <td>GET / HTTP/1.1</td>\n",
              "      <td>400</td>\n",
              "      <td>182</td>\n",
              "      <td>-</td>\n",
              "      <td>right_only</td>\n",
              "    </tr>\n",
              "    <tr>\n",
              "      <th>2869</th>\n",
              "      <td>148.72.132.87</td>\n",
              "      <td>22/Sep/2020:06:11:42</td>\n",
              "      <td>GET / HTTP/1.1</td>\n",
              "      <td>200</td>\n",
              "      <td>13</td>\n",
              "      <td>libwww-perl/6.46</td>\n",
              "      <td>right_only</td>\n",
              "    </tr>\n",
              "    <tr>\n",
              "      <th>2870</th>\n",
              "      <td>167.248.133.35</td>\n",
              "      <td>22/Sep/2020:06:22:54</td>\n",
              "      <td>GET / HTTP/1.1</td>\n",
              "      <td>200</td>\n",
              "      <td>612</td>\n",
              "      <td>-</td>\n",
              "      <td>right_only</td>\n",
              "    </tr>\n",
              "    <tr>\n",
              "      <th>2871</th>\n",
              "      <td>167.248.133.35</td>\n",
              "      <td>22/Sep/2020:06:22:54</td>\n",
              "      <td>GET / HTTP/1.1</td>\n",
              "      <td>200</td>\n",
              "      <td>396</td>\n",
              "      <td>Mozilla/5.0 (compatible; CensysInspect/1.1; +h...</td>\n",
              "      <td>right_only</td>\n",
              "    </tr>\n",
              "  </tbody>\n",
              "</table>\n",
              "</div>"
            ],
            "text/plain": [
              "                  IP  ...      _merge\n",
              "2867    74.120.14.50  ...  right_only\n",
              "2868     91.193.5.58  ...  right_only\n",
              "2869   148.72.132.87  ...  right_only\n",
              "2870  167.248.133.35  ...  right_only\n",
              "2871  167.248.133.35  ...  right_only\n",
              "\n",
              "[5 rows x 7 columns]"
            ]
          },
          "metadata": {
            "tags": []
          },
          "execution_count": 75
        }
      ]
    },
    {
      "cell_type": "markdown",
      "metadata": {
        "id": "sWSVdA3x-UZx"
      },
      "source": [
        "# (3) Model"
      ]
    },
    {
      "cell_type": "markdown",
      "metadata": {
        "id": "gzLcipNS-UZy"
      },
      "source": [
        "## (3.1) Splitting the date (training / validation)"
      ]
    },
    {
      "cell_type": "code",
      "metadata": {
        "id": "uTjhzLr2sG_e"
      },
      "source": [
        "yBad = [1 for i in range(0, len(bad_requests))]  #labels, 1 for malicious and 0 for clean\n",
        "yGood = [0 for i in range(0, len(good_requests))]"
      ],
      "execution_count": 21,
      "outputs": []
    },
    {
      "cell_type": "code",
      "metadata": {
        "id": "ppXHrhiZvrDl"
      },
      "source": [
        "df['is_safe'] = df.request.isin(good_requests.request).astype(int) # should it be bool?"
      ],
      "execution_count": 22,
      "outputs": []
    },
    {
      "cell_type": "code",
      "metadata": {
        "id": "KUcYB6qN0a7p",
        "outputId": "3ddb1e29-2a9b-4292-e4f2-e94429b2a5f2",
        "colab": {
          "base_uri": "https://localhost:8080/",
          "height": 369
        }
      },
      "source": [
        "df.tail(10)\n",
        "# df['is_safe'].dtypes"
      ],
      "execution_count": null,
      "outputs": [
        {
          "output_type": "execute_result",
          "data": {
            "text/html": [
              "<div>\n",
              "<style scoped>\n",
              "    .dataframe tbody tr th:only-of-type {\n",
              "        vertical-align: middle;\n",
              "    }\n",
              "\n",
              "    .dataframe tbody tr th {\n",
              "        vertical-align: top;\n",
              "    }\n",
              "\n",
              "    .dataframe thead th {\n",
              "        text-align: right;\n",
              "    }\n",
              "</style>\n",
              "<table border=\"1\" class=\"dataframe\">\n",
              "  <thead>\n",
              "    <tr style=\"text-align: right;\">\n",
              "      <th></th>\n",
              "      <th>IP</th>\n",
              "      <th>date</th>\n",
              "      <th>request</th>\n",
              "      <th>code</th>\n",
              "      <th>body_bytes</th>\n",
              "      <th>browser</th>\n",
              "      <th>is_safe</th>\n",
              "    </tr>\n",
              "  </thead>\n",
              "  <tbody>\n",
              "    <tr>\n",
              "      <th>2890</th>\n",
              "      <td>45.168.58.218</td>\n",
              "      <td>22/Sep/2020:05:16:19</td>\n",
              "      <td>GET / HTTP/1.1</td>\n",
              "      <td>200</td>\n",
              "      <td>612</td>\n",
              "      <td>Mozilla/5.0 (Windows NT 6.1; WOW64) AppleWebKi...</td>\n",
              "      <td>1</td>\n",
              "    </tr>\n",
              "    <tr>\n",
              "      <th>2891</th>\n",
              "      <td>45.146.164.186</td>\n",
              "      <td>22/Sep/2020:05:20:36</td>\n",
              "      <td>GET /?a=fetch&amp;content=&lt;php&gt;die(@md5(HelloThink...</td>\n",
              "      <td>200</td>\n",
              "      <td>396</td>\n",
              "      <td>Mozilla/5.0 (Windows NT 10.0; Win64; x64) Appl...</td>\n",
              "      <td>0</td>\n",
              "    </tr>\n",
              "    <tr>\n",
              "      <th>2892</th>\n",
              "      <td>45.146.164.186</td>\n",
              "      <td>22/Sep/2020:05:22:59</td>\n",
              "      <td>GET /index.php?s=/Index/\\x5Cthink\\x5Capp/invok...</td>\n",
              "      <td>404</td>\n",
              "      <td>209</td>\n",
              "      <td>Mozilla/5.0 (Windows NT 10.0; Win64; x64) Appl...</td>\n",
              "      <td>0</td>\n",
              "    </tr>\n",
              "    <tr>\n",
              "      <th>2893</th>\n",
              "      <td>128.14.134.170</td>\n",
              "      <td>22/Sep/2020:05:47:36</td>\n",
              "      <td>GET /Telerik.Web.UI.WebResource.axd?type=rau H...</td>\n",
              "      <td>404</td>\n",
              "      <td>209</td>\n",
              "      <td>Mozilla/5.0 (Windows NT 10.0; Win64; x64) Appl...</td>\n",
              "      <td>1</td>\n",
              "    </tr>\n",
              "    <tr>\n",
              "      <th>2894</th>\n",
              "      <td>74.120.14.50</td>\n",
              "      <td>22/Sep/2020:05:54:52</td>\n",
              "      <td>GET / HTTP/1.1</td>\n",
              "      <td>200</td>\n",
              "      <td>13</td>\n",
              "      <td>-</td>\n",
              "      <td>1</td>\n",
              "    </tr>\n",
              "    <tr>\n",
              "      <th>2895</th>\n",
              "      <td>74.120.14.50</td>\n",
              "      <td>22/Sep/2020:05:54:53</td>\n",
              "      <td>GET / HTTP/1.1</td>\n",
              "      <td>200</td>\n",
              "      <td>13</td>\n",
              "      <td>Mozilla/5.0 (compatible; CensysInspect/1.1; +h...</td>\n",
              "      <td>1</td>\n",
              "    </tr>\n",
              "    <tr>\n",
              "      <th>2896</th>\n",
              "      <td>91.193.5.58</td>\n",
              "      <td>22/Sep/2020:06:10:15</td>\n",
              "      <td>GET / HTTP/1.1</td>\n",
              "      <td>400</td>\n",
              "      <td>182</td>\n",
              "      <td>-</td>\n",
              "      <td>1</td>\n",
              "    </tr>\n",
              "    <tr>\n",
              "      <th>2897</th>\n",
              "      <td>148.72.132.87</td>\n",
              "      <td>22/Sep/2020:06:11:42</td>\n",
              "      <td>GET / HTTP/1.1</td>\n",
              "      <td>200</td>\n",
              "      <td>13</td>\n",
              "      <td>libwww-perl/6.46</td>\n",
              "      <td>1</td>\n",
              "    </tr>\n",
              "    <tr>\n",
              "      <th>2898</th>\n",
              "      <td>167.248.133.35</td>\n",
              "      <td>22/Sep/2020:06:22:54</td>\n",
              "      <td>GET / HTTP/1.1</td>\n",
              "      <td>200</td>\n",
              "      <td>612</td>\n",
              "      <td>-</td>\n",
              "      <td>1</td>\n",
              "    </tr>\n",
              "    <tr>\n",
              "      <th>2899</th>\n",
              "      <td>167.248.133.35</td>\n",
              "      <td>22/Sep/2020:06:22:54</td>\n",
              "      <td>GET / HTTP/1.1</td>\n",
              "      <td>200</td>\n",
              "      <td>396</td>\n",
              "      <td>Mozilla/5.0 (compatible; CensysInspect/1.1; +h...</td>\n",
              "      <td>1</td>\n",
              "    </tr>\n",
              "  </tbody>\n",
              "</table>\n",
              "</div>"
            ],
            "text/plain": [
              "                  IP  ... is_safe\n",
              "2890   45.168.58.218  ...       1\n",
              "2891  45.146.164.186  ...       0\n",
              "2892  45.146.164.186  ...       0\n",
              "2893  128.14.134.170  ...       1\n",
              "2894    74.120.14.50  ...       1\n",
              "2895    74.120.14.50  ...       1\n",
              "2896     91.193.5.58  ...       1\n",
              "2897   148.72.132.87  ...       1\n",
              "2898  167.248.133.35  ...       1\n",
              "2899  167.248.133.35  ...       1\n",
              "\n",
              "[10 rows x 7 columns]"
            ]
          },
          "metadata": {
            "tags": []
          },
          "execution_count": 78
        }
      ]
    },
    {
      "cell_type": "code",
      "metadata": {
        "id": "hITwjdoj21W8"
      },
      "source": [
        "queries = df['request'].to_list()"
      ],
      "execution_count": 23,
      "outputs": []
    },
    {
      "cell_type": "code",
      "metadata": {
        "id": "92_RIl6gsFfY"
      },
      "source": [
        "vectorizer = TfidfVectorizer(min_df = 0.0, analyzer=\"char\", sublinear_tf=True, ngram_range=(1,3)) #converting data to vectors\n",
        "X = vectorizer.fit_transform(queries)"
      ],
      "execution_count": 24,
      "outputs": []
    },
    {
      "cell_type": "code",
      "metadata": {
        "id": "g2ui7jGb6VeP"
      },
      "source": [
        "y = df['is_safe'].to_list()"
      ],
      "execution_count": 25,
      "outputs": []
    },
    {
      "cell_type": "code",
      "metadata": {
        "id": "h61KyJDt5kPq"
      },
      "source": [
        "X_train, X_test, y_train, y_test = train_test_split(X, y, test_size=0.2, random_state=42)"
      ],
      "execution_count": 26,
      "outputs": []
    },
    {
      "cell_type": "code",
      "metadata": {
        "id": "XHwmuuWB6lb2"
      },
      "source": [
        "lgs = LogisticRegression(class_weight={1: 2 * len(good_requests) / len(bad_requests), 0: 1.0})"
      ],
      "execution_count": 27,
      "outputs": []
    },
    {
      "cell_type": "code",
      "metadata": {
        "id": "ukpIxjUn6ylP",
        "outputId": "4c394a22-4fbe-4e46-af86-4d05cfffe7b4",
        "colab": {
          "base_uri": "https://localhost:8080/",
          "height": 136
        }
      },
      "source": [
        "%%time\n",
        "lgs.fit(X_train, y_train)"
      ],
      "execution_count": 28,
      "outputs": [
        {
          "output_type": "stream",
          "text": [
            "CPU times: user 76.9 ms, sys: 2.39 ms, total: 79.3 ms\n",
            "Wall time: 83.1 ms\n"
          ],
          "name": "stdout"
        },
        {
          "output_type": "execute_result",
          "data": {
            "text/plain": [
              "LogisticRegression(C=1.0, class_weight={0: 1.0, 1: 3.1603603603603605},\n",
              "                   dual=False, fit_intercept=True, intercept_scaling=1,\n",
              "                   l1_ratio=None, max_iter=100, multi_class='auto', n_jobs=None,\n",
              "                   penalty='l2', random_state=None, solver='lbfgs', tol=0.0001,\n",
              "                   verbose=0, warm_start=False)"
            ]
          },
          "metadata": {
            "tags": []
          },
          "execution_count": 28
        }
      ]
    },
    {
      "cell_type": "markdown",
      "metadata": {
        "id": "Z_zjX8Dy68K_"
      },
      "source": [
        "# Evaluation"
      ]
    },
    {
      "cell_type": "code",
      "metadata": {
        "id": "IbqjRyBK6-Kk"
      },
      "source": [
        "predicted = lgs.predict(X_test)"
      ],
      "execution_count": 29,
      "outputs": []
    },
    {
      "cell_type": "code",
      "metadata": {
        "id": "CILiWKkC7EFR"
      },
      "source": [
        "fpr, tpr, _ = metrics.roc_curve(y_test, (lgs.predict_proba(X_test)[:, 1]))\n",
        "auc = metrics.auc(fpr, tpr)"
      ],
      "execution_count": 30,
      "outputs": []
    },
    {
      "cell_type": "code",
      "metadata": {
        "id": "25U6jk9E7KYk",
        "outputId": "65df78c6-c4b5-4021-e127-d11464d48625",
        "colab": {
          "base_uri": "https://localhost:8080/",
          "height": 68
        }
      },
      "source": [
        "print(len(df.IP))\n",
        "print(len(bad_requests))\n",
        "print(\"Baseline Constant negative: %.6f\" % (len(df.IP) / (len(df.IP) + len(bad_requests))))"
      ],
      "execution_count": 31,
      "outputs": [
        {
          "output_type": "stream",
          "text": [
            "2864\n",
            "1110\n",
            "Baseline Constant negative: 0.720684\n"
          ],
          "name": "stdout"
        }
      ]
    },
    {
      "cell_type": "code",
      "metadata": {
        "id": "NYlr4DAM7nD1",
        "outputId": "ae335f76-82f3-4c21-e666-153aaa9100b8",
        "colab": {
          "base_uri": "https://localhost:8080/",
          "height": 102
        }
      },
      "source": [
        "print(\"Accuracy: %f\" % lgs.score(X_test, y_test))  #checking the accuracy\n",
        "print(\"Precision: %f\" % metrics.precision_score(y_test, predicted))\n",
        "print(\"Recall: %f\" % metrics.recall_score(y_test, predicted))\n",
        "print(\"F1-Score: %f\" % metrics.f1_score(y_test, predicted))\n",
        "print(\"AUC: %f\" % auc)"
      ],
      "execution_count": 32,
      "outputs": [
        {
          "output_type": "stream",
          "text": [
            "Accuracy: 0.989529\n",
            "Precision: 0.985836\n",
            "Recall: 0.997135\n",
            "F1-Score: 0.991453\n",
            "AUC: 0.999859\n"
          ],
          "name": "stdout"
        }
      ]
    },
    {
      "cell_type": "code",
      "metadata": {
        "id": "_H12iSDDAO-J",
        "outputId": "ed6fd58a-235a-4cb0-b5b2-c385882f46a0",
        "colab": {
          "base_uri": "https://localhost:8080/",
          "height": 476
        }
      },
      "source": [
        "predicted"
      ],
      "execution_count": 38,
      "outputs": [
        {
          "output_type": "execute_result",
          "data": {
            "text/plain": [
              "array([1, 1, 0, 1, 1, 1, 1, 1, 1, 0, 1, 0, 1, 1, 1, 0, 0, 0, 0, 1, 1, 0,\n",
              "       1, 0, 0, 0, 1, 1, 1, 0, 1, 1, 0, 0, 1, 0, 1, 1, 0, 0, 0, 1, 1, 1,\n",
              "       1, 0, 0, 1, 0, 0, 1, 1, 1, 1, 1, 1, 0, 1, 1, 1, 1, 1, 0, 0, 0, 1,\n",
              "       1, 1, 0, 0, 0, 1, 0, 1, 1, 0, 1, 1, 0, 1, 1, 1, 0, 0, 1, 0, 1, 0,\n",
              "       1, 1, 1, 1, 1, 1, 0, 1, 1, 0, 1, 0, 0, 0, 1, 1, 0, 1, 1, 0, 0, 1,\n",
              "       1, 0, 1, 1, 0, 0, 1, 1, 1, 1, 0, 1, 0, 1, 1, 0, 1, 0, 1, 1, 1, 1,\n",
              "       1, 1, 1, 1, 1, 0, 1, 0, 1, 1, 1, 1, 1, 0, 1, 0, 1, 1, 1, 0, 1, 1,\n",
              "       0, 1, 1, 1, 0, 1, 1, 1, 1, 1, 1, 1, 1, 1, 1, 0, 0, 0, 1, 1, 0, 1,\n",
              "       1, 0, 0, 1, 0, 0, 1, 1, 1, 1, 1, 0, 0, 1, 1, 1, 0, 1, 1, 0, 1, 1,\n",
              "       0, 1, 1, 1, 0, 0, 1, 0, 1, 0, 1, 1, 1, 0, 1, 0, 1, 1, 0, 1, 1, 1,\n",
              "       1, 1, 1, 1, 1, 1, 0, 1, 1, 1, 1, 1, 1, 1, 1, 0, 0, 1, 1, 1, 1, 1,\n",
              "       1, 1, 1, 0, 0, 1, 1, 1, 1, 1, 0, 1, 0, 0, 1, 1, 1, 1, 1, 1, 1, 1,\n",
              "       1, 0, 1, 1, 0, 0, 1, 1, 0, 1, 1, 1, 1, 1, 0, 1, 0, 1, 1, 1, 1, 1,\n",
              "       0, 1, 0, 0, 1, 1, 0, 1, 0, 0, 1, 0, 1, 1, 1, 0, 1, 0, 1, 1, 0, 1,\n",
              "       0, 1, 1, 1, 0, 0, 0, 0, 1, 0, 0, 1, 1, 0, 1, 1, 0, 1, 0, 0, 0, 0,\n",
              "       1, 0, 1, 0, 0, 1, 1, 0, 1, 0, 1, 0, 0, 1, 0, 0, 1, 1, 1, 0, 1, 1,\n",
              "       0, 1, 0, 1, 1, 1, 1, 1, 1, 0, 1, 1, 0, 0, 0, 1, 1, 0, 0, 1, 0, 0,\n",
              "       0, 0, 1, 0, 0, 0, 0, 1, 0, 1, 0, 1, 1, 0, 0, 1, 0, 1, 1, 1, 0, 0,\n",
              "       0, 1, 0, 0, 1, 0, 0, 1, 1, 0, 1, 1, 1, 1, 1, 0, 1, 1, 0, 1, 1, 1,\n",
              "       0, 1, 1, 0, 1, 1, 0, 1, 0, 1, 0, 0, 0, 1, 0, 0, 0, 0, 1, 0, 0, 1,\n",
              "       0, 0, 1, 0, 0, 1, 1, 1, 1, 1, 1, 1, 1, 0, 0, 1, 1, 1, 1, 1, 1, 1,\n",
              "       0, 1, 0, 1, 0, 0, 1, 1, 0, 0, 0, 0, 1, 1, 0, 0, 1, 1, 0, 1, 1, 1,\n",
              "       1, 0, 1, 0, 0, 0, 0, 1, 1, 1, 0, 1, 1, 1, 1, 1, 0, 1, 0, 1, 1, 0,\n",
              "       1, 1, 1, 0, 1, 1, 1, 0, 1, 0, 0, 0, 1, 1, 1, 1, 1, 1, 1, 1, 0, 0,\n",
              "       0, 0, 1, 1, 0, 0, 0, 1, 1, 1, 0, 0, 1, 1, 0, 1, 1, 0, 1, 0, 1, 0,\n",
              "       1, 1, 1, 1, 1, 1, 1, 1, 0, 1, 1, 1, 0, 0, 0, 1, 0, 1, 0, 1, 0, 1,\n",
              "       1])"
            ]
          },
          "metadata": {
            "tags": []
          },
          "execution_count": 38
        }
      ]
    }
  ]
}